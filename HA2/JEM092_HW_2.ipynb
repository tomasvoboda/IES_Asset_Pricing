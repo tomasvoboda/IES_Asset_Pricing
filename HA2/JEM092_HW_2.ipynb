{
 "cells": [
  {
   "cell_type": "markdown",
   "metadata": {},
   "source": [
    "# IES FSS CUNI\n",
    "# JEM092 Asset Pricing - Homework 2\n",
    "### Summer Semester 2023/2024\n",
    "\n",
    "### General instructions:\n",
    "* You should complete the Homework 2 using R-language.\n",
    "* Homework should be uploaded into **\"SIS->Study group roster->Asset Pricing lecture\"** as a zip file containing:\n",
    "    + Jupyter notebook and the html version of it \n",
    "    \n",
    "    or\n",
    "    \n",
    "    + .pdf file and commented R-script\n",
    "    \n",
    "* Jupyter notebook or the.pdf file  **should have a standard structure as any article in a refereed economic journal (introduction, data description, empirical methodology, results, conclusions, appendix with additional results)**. \n",
    "    + the length of your paper is less important; it can vary between 5-10 pages. Be concise (no lengthy essays, please), although, be sure to include all important things as we cannot second-guess your work. \n",
    "    + the content of the paper is decisive; it is important to demonstrate that you understand the concepts covered during semester and you are able to apply them     \n",
    "    \n",
    "* Name of the uploaded file should be:\n",
    "    + \"HW_Student1surname_Student2surname.zip\"\n",
    "* **Only one member of each group should submit the solution.**\n",
    "    \n",
    "    \n",
    "* Inter-group discussion in solving the assignment is encouraged. However, each group is supposed to write their own answers in their own words. \n",
    "* Note that not only numerical results (40%) but also verbal comments (40% points) and appearance (20% points) are parts of the evaluation.\n",
    "* Not including code or sending only code will result in a **50% penalty** . \n",
    "\n",
    "Homework is subject to late penalties \n",
    "* 20% for the first day\n",
    "* 50% for the second and later day.\n",
    "\n",
    "#### Deadline\n",
    "* **14.05.2024 23:59** \n",
    "\n",
    "### Set-up\n",
    "In Homework 1, you were asked to download various data commonly used in empirical asset pricing:\n",
    "* daily adjusted close price and volume data from www.finance.yahoo.com\n",
    "* Market Capitalization and Book Value per Share data from www.macrotrends.net\n",
    "* Sample period: 01.01.2010 - 31.12.2023 \n",
    "\n",
    "* If you are able to download the required data, you will also be using them in Homework 2. \n",
    "* In case you cannot download the data, you can use data stored in the SIS, i.e., file \"Asset_Pricing_2023_2024_seminar_data_sp500.RData\". In this case, you should select firms that were assigned to your group in Homework 1. \n",
    "\n",
    "## Empirical Problem\n",
    "In the homework, you will demonstrate theoretical knowledge and empirical skills you have gained so far. Using financial market data, you will \n",
    "* sort stocks into various portfolios, \n",
    "* examine time-series properties of the formed portfolios, \n",
    "* examine cross-sectional variation in portfolios and comment on the importance of the sorting variables,  \n",
    "* use the Fama-MacBeth regressions and Fama-French-Carhart-Pastor-Stambaugh factor model to assess the performance of the sorting variables\n",
    "\n",
    "In the portfolio analysis, you will use 3 sorting variables to create various portfolios. These variables are the following:\n",
    "* Beta\n",
    "* Size\n",
    "* Book-to-Market ratio"
   ]
  },
  {
   "cell_type": "markdown",
   "metadata": {
    "jp-MarkdownHeadingCollapsed": true,
    "tags": []
   },
   "source": [
    "Besides the firm-level data, you will need some of the factors often used in empirical asset pricing literature. The Fama-French 3 factors, Momentum, and Short-term reversal can be downloaded from the Kenneth French web (https://mba.tuck.dartmouth.edu/pages/faculty/ken.french/data_library.html) - file with FF three factors also contain risk-free rate. The liquidity factor (LIQ) can be downloaded from the web of Ľuboš Pástor (https://faculty.chicagobooth.edu/lubos-pastor/data)\n",
    "\n",
    "### Univariate portfolio analysis\n",
    "Your analysis will start with univariate portfolio sort. For each sort variable using monthly rebalancing, sort the stocks into the quintiles, i.e., make 5 portfolios and create equally weighted and value-weighted portfolios. \n",
    "\n",
    "In each month, to obtain estimates of Beta, use the last 12 months of daily data. Further, for Beta estimation, use data from Kenneth French library, i.e., Mkt-RF, as market risk premium.  \n",
    "\n",
    "For each sort variable and each quintile, report the average values of the sorting variable (similar to Lecture 9 Beta, slide 18). Further, for each sort variable, each quintile and difference “5-1“ portfolio report time-series averages with corresponding Newey-West t-stats of one-month-ahead excess return and Fama-French-Carhart-Pastor-Stambaugh alpha, i.e. $r_{p, t}=\\alpha_p + \\beta_{MKT, p} MKT_t + \\beta_{SMB, p} SMB_t + \\beta_{HML, p} HML_t + \\beta_{MOM, p} MOM_t + \\beta_{LIQ, p} LIQ_t + \\epsilon_{p, t}$ with corresponding Newey-West t-stats. \n",
    "\n",
    "\n",
    "#### Fama-MacBeth regression\n",
    "The second step in your analysis will be Fama-MacBeth regression which allows you to  control for all sort variables used in your previous analysis. Examine the effect of the Size independently and aslo using the Beta and Book-to-Market ratios. Comment also on the economic importance of the Beta, Size and Book-to-Market variables.   \n",
    "\n",
    "**In the verbal part of the homework, comment on the important findings and contrast your results to the results we were discussing during lectures.**"
   ]
  }
 ],
 "metadata": {
  "kernelspec": {
   "display_name": "R",
   "language": "R",
   "name": "ir"
  },
  "language_info": {
   "codemirror_mode": "r",
   "file_extension": ".r",
   "mimetype": "text/x-r-source",
   "name": "R",
   "pygments_lexer": "r",
   "version": "4.3.3"
  }
 },
 "nbformat": 4,
 "nbformat_minor": 4
}
