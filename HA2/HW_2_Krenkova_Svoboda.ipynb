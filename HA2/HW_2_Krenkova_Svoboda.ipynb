{
 "cells": [
  {
   "cell_type": "markdown",
   "id": "5c3dd209-a885-4c5f-8da7-dc1b3fcaa164",
   "metadata": {},
   "source": [
    "# JEM092 - Asset Pricing HW1 - Pavlína Křenková & Tomáš Svoboda"
   ]
  },
  {
   "cell_type": "code",
   "execution_count": 2,
   "id": "410b6dd0-17eb-47c2-8452-b9fe40a9488a",
   "metadata": {
    "vscode": {
     "languageId": "r"
    }
   },
   "outputs": [],
   "source": [
    "# libraries\n",
    "shhh = suppressPackageStartupMessages\n",
    "shhh(library(quantmod))\n",
    "shhh(library(sandwich))\n",
    "shhh(library(xts))\n",
    "shhh(library(lubridate))"
   ]
  },
  {
   "cell_type": "markdown",
   "id": "3d3d472b-7bac-490c-9b4a-c8f8b8e636ac",
   "metadata": {},
   "source": [
    "# 1. Introduction"
   ]
  },
  {
   "cell_type": "markdown",
   "id": "8da0ea6b",
   "metadata": {},
   "source": [
    "This analysis aims to find an effect of three sorting variables (size, beta, book-to-market) on company's future returns. We begin with downloading all the necesarry data and adjust them to the appropriate formats. All 250 stock are then divided into 5 portfolios based on the all sorting variables and the average returns are calculated employing both equally and value-weighted methods. The main goal of this analysis is to confirm standard theoretical assumptions about the effect direction of the sorting variables on stock returns and to show is any of them can be used for predictions. "
   ]
  },
  {
   "cell_type": "markdown",
   "id": "04ec488b",
   "metadata": {},
   "source": [
    "# 2. Data"
   ]
  },
  {
   "cell_type": "markdown",
   "id": "c8e84b93",
   "metadata": {},
   "source": [
    "We begin with loading all the necessary data for the analysis. First of all, data for monthly FF3 factors, daily FF5 factors, Momentum, and Sort-term reversal are downloaded from the respective website (https://mba.tuck.dartmouth.edu/pages/faculty/ken.french/data_library.html) and set into the notebook. Reading of the files is done individually for each dataset due to their unique composition. Downloading and setting of the dataset for liquidity from the website (https://faculty.chicagobooth.edu/lubos-pastor/data) is then proceed analogically. Finally, we loaded also the datasets for price-volumes, book values and market capitalizations prepared during HA1.   "
   ]
  },
  {
   "cell_type": "markdown",
   "id": "74393f57",
   "metadata": {},
   "source": [
    "### a) Upload the data"
   ]
  },
  {
   "cell_type": "markdown",
   "id": "6e7e35ea",
   "metadata": {},
   "source": [
    "Download the dataset from the website"
   ]
  },
  {
   "cell_type": "code",
   "execution_count": 3,
   "id": "e894a16b",
   "metadata": {
    "vscode": {
     "languageId": "r"
    }
   },
   "outputs": [],
   "source": [
    "rm(list = ls()) ; par(mfrow = c(1,1))\n",
    "\n",
    "# Monthly FF3 factors\n",
    "download.file(\n",
    "    \"http://mba.tuck.dartmouth.edu/pages/faculty/ken.french/ftp/F-F_Research_Data_Factors_TXT.zip\",\n",
    "    destfile = \"F-F_Research_Data_Factors.zip\"\n",
    ")\n",
    "# Daily FF5 factors\n",
    "download.file(\n",
    "    'http://mba.tuck.dartmouth.edu/pages/faculty/ken.french/ftp/F-F_Research_Data_5_Factors_2x3_daily_TXT.zip',\n",
    "    destfile = 'F-F_Research_Data_5_Factors_2x3_daily_TXT.zip'\n",
    ")\n",
    "# Momentum\n",
    "download.file(\n",
    "    \"http://mba.tuck.dartmouth.edu/pages/faculty/ken.french/ftp/F-F_Momentum_Factor_TXT.zip\",\n",
    "    destfile = \"F-F_Momentum_Factor.zip\"\n",
    ")\n",
    "# ST Reversal\n",
    "download.file(\n",
    "    \"http://mba.tuck.dartmouth.edu/pages/faculty/ken.french/ftp/F-F_ST_Reversal_Factor_TXT.zip\",\n",
    "    destfile = \"F-F_ST_Reversal_Factor.zip\"\n",
    ")\n",
    "\n",
    "unzip(\"F-F_Research_Data_Factors.zip\")\n",
    "unzip('F-F_Research_Data_5_Factors_2x3_daily_TXT.zip')\n",
    "unzip(\"F-F_Momentum_Factor.zip\")\n",
    "unzip(\"F-F_ST_Reversal_Factor.zip\")\n"
   ]
  },
  {
   "cell_type": "markdown",
   "id": "e7df96bf",
   "metadata": {},
   "source": [
    "Monthly FF3 factors"
   ]
  },
  {
   "cell_type": "code",
   "execution_count": 4,
   "id": "e55aff65",
   "metadata": {
    "vscode": {
     "languageId": "r"
    }
   },
   "outputs": [],
   "source": [
    "# Monthly 3 factors\n",
    "FF3factors <- read.delim(\n",
    "    'F-F_Research_Data_Factors.txt',\n",
    "    col.names = c('t', 'mkt.rf', 'smb', 'hml', 'rf'), \n",
    "    sep = '',\n",
    "    nrows = 1170,\n",
    "    header = FALSE,\n",
    "    skip = 4,\n",
    "    stringsAsFactors = FALSE\n",
    ")\n",
    "# Set date as index\n",
    "FF3factors$t <- as.Date(as.yearmon(as.character(FF3factors$t), format = \"%Y%m\"), frac = 1)\n",
    "FF3factors_xts <- xts(FF3factors[, -1], order.by = FF3factors$t)"
   ]
  },
  {
   "cell_type": "markdown",
   "id": "9e038bb7",
   "metadata": {},
   "source": [
    "Daily FF5 factors"
   ]
  },
  {
   "cell_type": "code",
   "execution_count": 5,
   "id": "af7aeb10",
   "metadata": {
    "vscode": {
     "languageId": "r"
    }
   },
   "outputs": [],
   "source": [
    "# Daily 5 factors data -> used for calculating daily excess returns \n",
    "FF5_factors <- read.delim(\n",
    "    'F-F_Research_Data_5_Factors_2x3_daily.txt',\n",
    "    col.names = c('t', 'mkt_rf', 'smb', 'hml', 'rmw', 'cma', 'rf'),\n",
    "    sep = '',\n",
    "    nrows = 25438,\n",
    "    header = FALSE,\n",
    "    skip = 5,\n",
    "    stringsAsFactors = FALSE\n",
    ")\n",
    "FF5_factors$t <- as.Date(as.character(FF5_factors$t), format='%Y%m%d')\n",
    "FF5_factors_xts <- as.xts(FF5_factors[, 2:7], order.by = FF5_factors$t)"
   ]
  },
  {
   "cell_type": "markdown",
   "id": "6576609a",
   "metadata": {},
   "source": [
    "Momentum"
   ]
  },
  {
   "cell_type": "code",
   "execution_count": 6,
   "id": "631c2956",
   "metadata": {
    "vscode": {
     "languageId": "r"
    }
   },
   "outputs": [
    {
     "name": "stderr",
     "output_type": "stream",
     "text": [
      "Warning message in read.table(file = file, header = header, sep = sep, quote = quote, :\n",
      "\"header and 'col.names' are of different lengths\"\n"
     ]
    }
   ],
   "source": [
    "# Momentum\n",
    "FFmom <- read.delim(\n",
    "    'F-F_Momentum_Factor.txt',\n",
    "    col.names = c('t', 'mom'), \n",
    "    sep = '',\n",
    "    nrows = 1164,\n",
    "    header = TRUE,\n",
    "    skip = 13,\n",
    "    stringsAsFactors = FALSE\n",
    ")\n",
    "# Set date as index\n",
    "FFmom$t <- as.Date(as.yearmon(as.character(FFmom$t), format = \"%Y%m\"), frac = 1)\n",
    "FFmom_xts <- xts(FFmom[, -1], order.by = FFmom$t)\n",
    "colnames(FFmom_xts) <- \"mom\""
   ]
  },
  {
   "cell_type": "markdown",
   "id": "fe7c3d2a",
   "metadata": {},
   "source": [
    "Short-term reversal"
   ]
  },
  {
   "cell_type": "code",
   "execution_count": 7,
   "id": "10d195e4",
   "metadata": {
    "vscode": {
     "languageId": "r"
    }
   },
   "outputs": [
    {
     "name": "stderr",
     "output_type": "stream",
     "text": [
      "Warning message in read.table(file = file, header = header, sep = sep, quote = quote, :\n",
      "\"header and 'col.names' are of different lengths\"\n"
     ]
    }
   ],
   "source": [
    "# Load Short-term reversal\n",
    "FFstrev <- read.delim(\n",
    "    'F-F_ST_Reversal_Factor.txt',\n",
    "    col.names = c('t', 'ST_Rev'), \n",
    "    sep = '',\n",
    "    nrows = 1175,\n",
    "    header = TRUE,\n",
    "    skip = 12,\n",
    "    stringsAsFactors = FALSE\n",
    ")\n",
    "# Set date as index\n",
    "FFstrev$t <- as.Date(as.yearmon(as.character(FFstrev$t), format = \"%Y%m\"), frac = 1)\n",
    "FFstrev_xts <- xts(FFstrev[, -1], order.by = FFstrev$t)\n",
    "colnames(FFstrev_xts) <- \"strev\""
   ]
  },
  {
   "cell_type": "markdown",
   "id": "75bf882b",
   "metadata": {},
   "source": [
    "Liquidity factor"
   ]
  },
  {
   "cell_type": "code",
   "execution_count": 8,
   "id": "81cf5fd2",
   "metadata": {
    "vscode": {
     "languageId": "r"
    }
   },
   "outputs": [
    {
     "name": "stderr",
     "output_type": "stream",
     "text": [
      "Warning message in read.table(file = file, header = header, sep = sep, quote = quote, :\n",
      "\"header and 'col.names' are of different lengths\"\n"
     ]
    },
    {
     "data": {
      "text/plain": [
       "              Agg.Liq. Innov.Liq..eq8. Traded.Liq..LIQ_V.\n",
       "2023-07-31  0.03158360      0.05313238        -0.03521294\n",
       "2023-08-31 -0.02219315     -0.01384346        -0.04206628\n",
       "2023-09-30 -0.06412711     -0.03281943        -0.04053745\n",
       "2023-10-31  0.16340711      0.17621454         0.00078403\n",
       "2023-11-30  0.01836070     -0.10736516         0.05513213\n",
       "2023-12-31 -0.09925067     -0.12738569         0.03728561"
      ]
     },
     "metadata": {},
     "output_type": "display_data"
    }
   ],
   "source": [
    "# Load Short-term reversal\n",
    "liq_factor <- read.delim(\n",
    "    'liquidity_factor.txt',\n",
    "    col.names = c('Month', 'Agg Liq.', 'Innov Liq (eq8)', 'Traded Liq (LIQ_V)'), \n",
    "    sep = '',\n",
    "    header = TRUE,\n",
    "    skip = 10,\n",
    "    stringsAsFactors = FALSE\n",
    ")\n",
    "# Set date as index\n",
    "liq_factor$Month <- as.Date(as.yearmon(as.character(liq_factor$Month), format = \"%Y%m\"), frac = 1)\n",
    "liq_factor_xts <- xts(liq_factor[, -1], order.by = liq_factor$Month)\n",
    "\n",
    "tail(liq_factor_xts)"
   ]
  },
  {
   "cell_type": "markdown",
   "id": "396db56e",
   "metadata": {},
   "source": [
    "Price-volume, book value, market capitalization from HA1"
   ]
  },
  {
   "cell_type": "code",
   "execution_count": 9,
   "id": "222b9932",
   "metadata": {
    "vscode": {
     "languageId": "r"
    }
   },
   "outputs": [],
   "source": [
    "price_volume_xts <- readRDS(\"price_volume_xts.rds\")\n",
    "book_value_xts <- readRDS(\"book_value_xts.rds\")\n",
    "market_cap_xts <- readRDS(\"market_cap_xts.rds\") # Lists of xts objects"
   ]
  },
  {
   "cell_type": "markdown",
   "id": "04f11764",
   "metadata": {},
   "source": [
    "### b) Data adjustments"
   ]
  },
  {
   "cell_type": "markdown",
   "id": "67ed5c6f",
   "metadata": {},
   "source": [
    "Unifying time intervals for all datasets to 1.1.2010 - 31.12.2023"
   ]
  },
  {
   "cell_type": "code",
   "execution_count": 10,
   "id": "f77d6fc3",
   "metadata": {
    "vscode": {
     "languageId": "r"
    }
   },
   "outputs": [],
   "source": [
    "start_date <- as.Date(\"2010-01-01\")\n",
    "end_date <- as.Date(\"2023-12-31\")\n",
    "\n",
    "adjust_sample_period <- function(xts_series) {\n",
    "    lapply(xts_series, function(stock){\n",
    "        stock[paste(start_date, \"/\", end_date, sep = \"\")]\n",
    "    })\n",
    "}\n",
    "\n",
    "price_volume <- adjust_sample_period(price_volume_xts)\n",
    "book_value <- adjust_sample_period(book_value_xts)\n",
    "market_cap <- adjust_sample_period(market_cap_xts)\n",
    "\n",
    "three_factors <- adjust_sample_period(FF3factors_xts)\n",
    "five_factors <- adjust_sample_period(FF5_factors_xts)\n",
    "momentum_factor <- adjust_sample_period(FFmom_xts)\n",
    "strev_factor <- adjust_sample_period(FFstrev_xts)\n",
    "\n",
    "liquidity_factor <- adjust_sample_period(liq_factor_xts)"
   ]
  },
  {
   "cell_type": "markdown",
   "id": "a63db527",
   "metadata": {},
   "source": [
    "Converting all variables from lists to xts data frames with the same format. Moreover, book-to-market ratio is calculated according to the formula $$book.to.market_{i,t} = \\frac{book.value.per.share_{i,t}}{stock.price_{i,t}}$$ where i and t means company and time interval, respectively."
   ]
  },
  {
   "cell_type": "code",
   "execution_count": 11,
   "metadata": {
    "vscode": {
     "languageId": "r"
    }
   },
   "outputs": [],
   "source": [
    "# Extract the values\n",
    "price_list <- lapply(price_volume, function(x) x[,1])\n",
    "volume_list <- lapply(price_volume, function(x) x[,2])\n",
    "book_to_market_list <- lapply(book_value, function(x) x[,2]/x[,1]) # Book to market ratio calculation\n",
    "\n",
    "# Convert lists to dataframes\n",
    "prices <- do.call('cbind', price_list)\n",
    "volumes <- do.call('cbind', volume_list)\n",
    "book_to_market <- do.call('cbind', book_to_market_list)\n",
    "nominals <- do.call('cbind', market_cap)\n",
    "\n",
    "three_fact <- do.call('cbind', three_factors)\n",
    "five_fact <- do.call('cbind', five_factors)\n",
    "momentum <- momentum_factor$mom\n",
    "strev <- strev_factor$strev\n",
    "liquidity <- liquidity_factor$Traded.Liq..LIQ_V. # Traded liquidity factor (LIQ_V)\n",
    "\n",
    "# Set column names\n",
    "colnames(prices) <- paste(names(price_list), 'prices', sep='.')\n",
    "colnames(volumes) <- paste(names(volume_list), 'volumes', sep='.')\n",
    "colnames(book_to_market) <- paste(names(book_to_market_list), 'book_to_market', sep='.')\n",
    "colnames(nominals) <- paste(names(market_cap), 'nominals', sep='.')\n",
    "\n",
    "colnames(liquidity) <- \"liquidity\""
   ]
  },
  {
   "cell_type": "markdown",
   "id": "8fda481c",
   "metadata": {},
   "source": [
    "### c) Monthly returns, volatilities and market capitalizations  "
   ]
  },
  {
   "cell_type": "markdown",
   "id": "85858261",
   "metadata": {},
   "source": [
    "In this section, daily and monthly returns were calculated using the stock prices. We also calculated the excess returns that will be used further in the analysis. The excess returns both monthly and daily are calculated as $$excess.returns_{i,t} = returns_{i,t} - risk.free.rate_{t}$$ Furthermore, we also calculated monthly volatilities (out of daily data), monthly nominals/market capitalizations (out of monthly data), and monthly book-to-market ratios (out of monthly data). "
   ]
  },
  {
   "cell_type": "code",
   "execution_count": 12,
   "id": "6ee9d1ec",
   "metadata": {
    "vscode": {
     "languageId": "r"
    }
   },
   "outputs": [],
   "source": [
    "# Monthly & daily returns\n",
    "daily_returns <- lapply(prices, function(x) suppressWarnings(dailyReturn(x)))\n",
    "monthly_returns <- lapply(prices, function(x) suppressWarnings(monthlyReturn(x)))\n",
    "daily_returns <- do.call('cbind', daily_returns)\n",
    "monthly_returns <- do.call('cbind', monthly_returns)\n",
    "colnames(daily_returns) <- paste(names(price_list), 'dreturns', sep='.')\n",
    "colnames(monthly_returns) <- paste(names(price_list), 'mreturns', sep='.')\n",
    "index(monthly_returns) <- as.Date(as.yearmon(index(monthly_returns), format = \"Q%q/%y\"), frac = 1)\n",
    "\n",
    "# Excess returns\n",
    "for (i in 1:ncol(monthly_returns)) {\n",
    "    daily_returns[, i] <- daily_returns[, i] - five_fact[, \"rf\"]\n",
    "    monthly_returns[, i] <- monthly_returns[, i] - three_fact[, \"rf\"]\n",
    "}\n",
    "\n",
    "\n",
    "# Monthly volatilities\n",
    "monthly_volatilities <- as.xts(aggregate(daily_returns, as.yearmon(time(daily_returns)), sd)) # Extract time index from daily_returns, convert it to 'yearmon' format, then aggregate/group daily returns with month times, then calculates sd within each month, then convert to xts object\n",
    "index(monthly_volatilities) <- as.Date(as.yearmon(index(monthly_volatilities), format = \"Q%q/%y\"), frac = 1)\n",
    "colnames(monthly_volatilities) <- paste(names(price_list), 'mvolatilities', sep='.')\n",
    "\n",
    "# Monthly nominals\n",
    "monthly_nominals <- as.xts(aggregate(nominals, as.yearmon(time(nominals)), sum))\n",
    "index(monthly_nominals) <- as.Date(as.yearmon(index(monthly_nominals), format = \"Q%q/%y\"), frac = 1)\n",
    "colnames(monthly_nominals) <- paste(names(price_list), 'mnominals', sep='.')\n",
    "\n",
    "# Monthly book_to_market (convert quarterly to monthly)\n",
    "monthly_book_to_market <- na.locf(book_to_market, na.rm=FALSE) # Fill NAs with last observation (best available assumption)\n",
    "monthly_book_to_market <- na.locf(monthly_book_to_market, fromLast=TRUE) # Fill also the first 2 NAs for values starting in March to prevent NAs\n",
    "index(monthly_book_to_market) <- as.Date(as.yearmon(index(monthly_book_to_market), format = \"Q%q/%y\"), frac = 1)\n",
    "dup_indices <- which(index(monthly_book_to_market) == as.Date(\"2018-09-30\")) # Index \"2018-09-30\" appears twice => remove the second one\n",
    "monthly_book_to_market <- monthly_book_to_market[-dup_indices[2], ] # Remove the second index"
   ]
  },
  {
   "cell_type": "markdown",
   "id": "47ceb489",
   "metadata": {},
   "source": [
    "### d) Sizes\n",
    "\n",
    "We proceed with computing stock sizes using the formula: $$size_{i,t} = ln(market.cap_{i,t})$$\n",
    "Sizes (monthly_sizes) are then used in the remaining analysis instead of simple market capitalizations (monthly_nominals)"
   ]
  },
  {
   "cell_type": "code",
   "execution_count": 13,
   "id": "1976dfe0",
   "metadata": {
    "vscode": {
     "languageId": "r"
    }
   },
   "outputs": [],
   "source": [
    "monthly_sizes <- log(monthly_nominals)\n",
    "colnames(monthly_sizes) <- paste(names(price_list), 'msizes', sep='.')\n",
    "\n",
    "# Replace -Inf and Inf in `monthly_sizes` with NAs.\n",
    "monthly_sizes <- as.xts(apply(monthly_sizes, 2, function(x) ifelse(is.finite(x), x, NA)))"
   ]
  },
  {
   "cell_type": "markdown",
   "id": "803c6d3a",
   "metadata": {},
   "source": [
    "### e) Beta\n",
    "\n",
    "We proceed with estimating betas using the following regression equation:\n",
    "\n",
    "$r_{i,t} = \\alpha_i + \\beta_i MKT_t + \\epsilon_{i,t}$\n",
    "\n",
    "- $i$ denotes stocks\n",
    "- $t$ denotes time\n",
    "- $r$ is the excess stock return\n",
    "- $MKT$ is the excess market return\n",
    "- $\\alpha$ is the intercept\n",
    "- $\\beta$ is the slope coefficient\n",
    "- $\\epsilon$ is the error term"
   ]
  },
  {
   "cell_type": "code",
   "execution_count": 14,
   "id": "b4618798",
   "metadata": {
    "vscode": {
     "languageId": "r"
    }
   },
   "outputs": [],
   "source": [
    "n_months_betas = 12 # Last 12 months\n",
    "\n",
    "# Initialize an xts object for storing betas.\n",
    "monthly_betas <- as.xts(\n",
    "    matrix(\n",
    "        nrow = nrow(monthly_returns),\n",
    "        ncol = ncol(monthly_returns)\n",
    "    ),\n",
    "    order.by = index(monthly_returns)\n",
    ")\n",
    "names(monthly_betas) <- paste(names(price_list), 'mbetas', sep='.')\n",
    "\n",
    "# Iterate over rows and compute betas.\n",
    "for (i in 1:nrow(monthly_betas)) {\n",
    "    end_day <- index(monthly_betas[i]) # Date of respective i-th row\n",
    "    start_day <- end_day %m-% months(n_months_betas) # Start date 12 months before end date\n",
    "    dates <- paste0(start_day, '/', end_day) # => 12 months windows\n",
    "\n",
    "    returns <- daily_returns[dates] # Filtering the data in a specific time window\n",
    "    market_returns <- five_fact[dates]\n",
    "\n",
    "    # Estimate betas for each stock.\n",
    "    for (j in 1:ncol(monthly_betas)) {\n",
    "        stock_returns <- returns[, j]\n",
    "        # Merge excess returns and market excess returns.\n",
    "        model_data <- cbind(stock_returns, market_returns[, \"mkt_rf\"])\n",
    "        model_data <- na.omit(model_data)\n",
    "\n",
    "        # Don't estimate betas if the number of observations is lower than n_months_betas * 15.\n",
    "        if (nrow(model_data) < n_months_betas * 15) {\n",
    "            next\n",
    "        }\n",
    "\n",
    "        model_betas <- lm(model_data[, 1] ~ model_data[, 2])\n",
    "        # Save the given beta to `monthly_betas`.\n",
    "        monthly_betas[i, j] <- model_betas$coefficients[[2]]\n",
    "    }\n",
    "}"
   ]
  },
  {
   "cell_type": "markdown",
   "id": "3a96e28f",
   "metadata": {},
   "source": [
    "### f) Overview \n",
    "\n",
    "Finally, all factors are merged into one dataframe the resulting datasets from the sections above are presented"
   ]
  },
  {
   "cell_type": "code",
   "execution_count": 15,
   "id": "80a303c1",
   "metadata": {
    "vscode": {
     "languageId": "r"
    }
   },
   "outputs": [],
   "source": [
    "factors <- cbind(three_fact, momentum, strev, liquidity)"
   ]
  },
  {
   "cell_type": "code",
   "execution_count": 16,
   "id": "2ed20b4a",
   "metadata": {
    "vscode": {
     "languageId": "r"
    }
   },
   "outputs": [
    {
     "data": {
      "text/plain": [
       "           UDR.mreturns CPB.mreturns MTB.mreturns\n",
       "2010-01-31 -0.028893357 -0.022438759   0.10058214\n",
       "2010-02-28  0.079691093  0.006644808   0.05950287\n",
       "2010-03-31  0.039999893  0.058855367   0.01518418\n",
       "2010-04-30  0.152766732  0.004427361   0.09040268\n",
       "2010-05-31 -0.009015349 -0.011394121  -0.09486931"
      ]
     },
     "metadata": {},
     "output_type": "display_data"
    },
    {
     "data": {
      "text/plain": [
       "           UDR.mvolatilities CPB.mvolatilities MTB.mvolatilities\n",
       "2010-01-31        0.01656583       0.009732334        0.02461843\n",
       "2010-02-28        0.01975318       0.011155031        0.01989432\n",
       "2010-03-31        0.01102678       0.007085745        0.01227059\n",
       "2010-04-30        0.02366237       0.005880367        0.02009457\n",
       "2010-05-31        0.03144443       0.012626875        0.02886656"
      ]
     },
     "metadata": {},
     "output_type": "display_data"
    },
    {
     "data": {
      "text/plain": [
       "           UDR.mbetas  CPB.mbetas MTB.mbetas\n",
       "2011-09-30 0.01108075 0.004154014 0.01003054\n",
       "2011-10-31 0.01166690 0.003854462 0.01043471\n",
       "2011-11-30 0.01136438 0.003913114 0.01079158\n",
       "2011-12-31 0.01130378 0.003958241 0.01085015\n",
       "2012-01-31 0.01123826 0.003947312 0.01094114"
      ]
     },
     "metadata": {},
     "output_type": "display_data"
    },
    {
     "data": {
      "text/plain": [
       "           UDR.mnominals CPB.mnominals MTB.mnominals\n",
       "2010-01-31         46.58        214.98        164.96\n",
       "2010-02-28         47.10        214.49        166.65\n",
       "2010-03-31         62.52        270.62        217.82\n",
       "2010-04-30         66.23        253.27        211.25\n",
       "2010-05-31         65.74        241.72        200.58"
      ]
     },
     "metadata": {},
     "output_type": "display_data"
    },
    {
     "data": {
      "text/plain": [
       "           UDR.msizes CPB.msizes MTB.msizes\n",
       "2010-01-31   3.841171   5.370545   5.105703\n",
       "2010-02-28   3.852273   5.368263   5.115896\n",
       "2010-03-31   4.135487   5.600716   5.383669\n",
       "2010-04-30   4.193134   5.534456   5.353042\n",
       "2010-05-31   4.185708   5.487780   5.301213"
      ]
     },
     "metadata": {},
     "output_type": "display_data"
    },
    {
     "data": {
      "text/plain": [
       "           UDR.book_to_market CPB.book_to_market MTB.book_to_market\n",
       "2010-01-31           0.813197          0.1397601           1.248315\n",
       "2010-02-28           0.813197          0.1397601           1.248315\n",
       "2010-03-31           0.813197          0.1397601           1.248315\n",
       "2010-04-30           0.813197          0.1369400           1.248315\n",
       "2010-05-31           0.813197          0.1369400           1.248315"
      ]
     },
     "metadata": {},
     "output_type": "display_data"
    },
    {
     "data": {
      "text/plain": [
       "           mkt.rf  smb   hml   rf   mom strev   liquidity\n",
       "2010-01-31  -3.36 0.40  0.43 0.00 -5.40  3.64 -0.01105698\n",
       "2010-02-28   3.40 1.19  3.23 0.00  3.74  1.63 -0.00755895\n",
       "2010-03-31   6.31 1.48  2.21 0.01  3.76  0.80 -0.06257515\n",
       "2010-04-30   2.00 4.87  2.89 0.01  3.16 -1.86  0.01020015\n",
       "2010-05-31  -7.89 0.09 -2.44 0.01 -0.25  0.52 -0.02806075"
      ]
     },
     "metadata": {},
     "output_type": "display_data"
    }
   ],
   "source": [
    "monthly_returns[1:5, 1:3]\n",
    "monthly_volatilities[1:5, 1:3]\n",
    "monthly_betas[21:25, 1:3]\n",
    "monthly_nominals[1:5, 1:3]\n",
    "monthly_sizes[1:5, 1:3]\n",
    "monthly_book_to_market[1:5, 1:3]\n",
    "\n",
    "factors[1:5]"
   ]
  },
  {
   "cell_type": "markdown",
   "id": "fe7495bf",
   "metadata": {},
   "source": [
    "# 3. Methodology"
   ]
  },
  {
   "cell_type": "markdown",
   "id": "f4b3fdff",
   "metadata": {},
   "source": [
    "In this section, several portfolios sorted by three variables (beta, size, book-to-market ratio) were created while averaging the final returns using the equal-weighted and value-weighted mathod. \n",
    "\n",
    "These portfolios were than used for calculating the next-month average returns using a simple average, CAPM model, and the FF model. FInally, the Fama-MacBeth regression is performed to analyze an effect of size to the future returns. "
   ]
  },
  {
   "cell_type": "markdown",
   "id": "035db0ae",
   "metadata": {},
   "source": [
    "## a) Univariate portfolio sort"
   ]
  },
  {
   "cell_type": "markdown",
   "id": "95435cba",
   "metadata": {},
   "source": [
    "Function 'portfolio_returns' is expected to align all the explored companies based on their market capitalization using the monthly rebalancing. These stocks are then divided into 5 portfolios plus one additional difference portfolio constructed as a difference between the first and last portfolio. In this way, companies contained in these portfolios differ in their size on average. Returns for every month and every portfolio are then averaged using either equal weights or weights based on companies market capitalization. Weighting method can be set as an argument either to \"VW\" for value-weighted method or \"EW\" for the equal-weighted method."
   ]
  },
  {
   "cell_type": "code",
   "execution_count": 17,
   "id": "59ad6993",
   "metadata": {
    "vscode": {
     "languageId": "r"
    }
   },
   "outputs": [],
   "source": [
    "portfolio_returns <- function(monthly_sort_variable, type, num_portfolios=5, monthly_ret=monthly_returns, monthly_nom=monthly_nominals) {\n",
    "    n_portfolios <- num_portfolios # number of portfolios\n",
    "    diff_portfolio <- paste(n_portfolios, '- 1') # \"5 - 1\" portfolio\n",
    "\n",
    "    # Initialize an xts object for storing portfolio returns.\n",
    "    portfolio_ret <- as.xts( \n",
    "        matrix(\n",
    "            nrow = nrow(monthly_sort_variable) - 1,\n",
    "            ncol = n_portfolios + 1 # Last one for Diff portfolio\n",
    "        ),\n",
    "        order.by = index(monthly_sort_variable[2:nrow(monthly_sort_variable)]) # Order indexes\n",
    "    )\n",
    "    names(portfolio_ret) <- c(1:n_portfolios, diff_portfolio) # Add column names\n",
    "\n",
    "    # Iterate over rows, find breakpoints and compute month returns within the given nominal bounds.\n",
    "    for (i in 1:nrow(portfolio_ret)) { # For every month\n",
    "        current_month <- index(portfolio_ret[i])\n",
    "        next_month <- as.Date(as.yearmon(current_month %m+% months(1)), frac = 1)\n",
    "\n",
    "        if (!next_month %in% index(monthly_ret)) {\n",
    "            next\n",
    "        }\n",
    "        if (type == \"VW\") {\n",
    "            if (!next_month %in% index(monthly_nom)) {\n",
    "                next\n",
    "            }        \n",
    "        }\n",
    "\n",
    "        # Avoid look-ahead bias by sorting the returns after the month used to compute breakpoints ends.\n",
    "        month_returns <- monthly_ret[next_month] # Returns in next month\n",
    "        month_market_caps <- monthly_nom[next_month] # Market caps in next month\n",
    "\n",
    "        # Replace NA market caps with 0s so that such observations have no weights.\n",
    "        month_market_caps[is.na(month_market_caps)] <- 0\n",
    "        month_sort_variable <- monthly_sort_variable[current_month] # Sort variable for the respective month\n",
    "\n",
    "        # Breakpoints        \n",
    "        breakpoints <- quantile(month_sort_variable, 0:n_portfolios/n_portfolios, na.rm = TRUE) # Find market cap breakpoints for the respective month\n",
    "        breakpoints[1] <- breakpoints[1] - 1 # Adjust min\n",
    "        breakpoints[length(breakpoints)] <- breakpoints[length(breakpoints)] + 1 # Adjust max\n",
    "        not_na <- !is.na(month_sort_variable) # Which stocks dont have NAs in market caps\n",
    "\n",
    "        for (j in 1:n_portfolios) { # For every portfolio\n",
    "            filter <- (breakpoints[[j]] <= month_sort_variable) & (month_sort_variable < breakpoints[[j + 1]]) & not_na # Find stocks that have market cap between the breakpoints and are not NA \n",
    "            if (type == \"VW\") {\n",
    "                portfolio_ret[i, j] <- weighted.mean(t(month_returns[, filter]), t(month_market_caps[, filter]), na.rm = TRUE) # Calculate the mean return of the stocks in a respective portfolio\n",
    "            } else if (type == \"EW\") {\n",
    "                portfolio_ret[i, j] <- mean(month_returns[, filter], na.rm = TRUE)\n",
    "            } else {\n",
    "                stop(\"Incorrect portfolio-weighting method\")\n",
    "            }\n",
    "        }\n",
    "        portfolio_ret[i, diff_portfolio] <- portfolio_ret[i, n_portfolios] - portfolio_ret[i, 1] # Define the Diff column (= last - first portfolio)\n",
    "    }\n",
    "\n",
    "    return (portfolio_ret)\n",
    "}"
   ]
  },
  {
   "cell_type": "markdown",
   "id": "ed18b186",
   "metadata": {},
   "source": [
    "#### (i) Equally-weighted portfolio"
   ]
  },
  {
   "cell_type": "code",
   "execution_count": 18,
   "id": "fc651d79",
   "metadata": {
    "vscode": {
     "languageId": "r"
    }
   },
   "outputs": [
    {
     "name": "stdout",
     "output_type": "stream",
     "text": [
      "[1] \"EW: Betas\"\n"
     ]
    },
    {
     "data": {
      "text/plain": [
       "                    1           2            3             4           5\n",
       "2011-10-31 0.01544986 0.007763864 -0.008118379 -0.0013459011 -0.01203951\n",
       "2011-11-30 0.03758664 0.014571626  0.002093008  0.0008615447 -0.02436879\n",
       "2011-12-31 0.01021286 0.048883148  0.075896088  0.0913579764  0.12026834\n",
       "2012-01-31 0.02142837 0.042682026  0.042585039  0.0516161762  0.05212398\n",
       "2012-02-29 0.04094933 0.038632089  0.027795531  0.0430094112  0.01306961\n",
       "2012-03-31 0.02016014 0.005281395  0.012759866 -0.0197271411 -0.02514970\n",
       "                 5 - 1\n",
       "2011-10-31 -0.02748937\n",
       "2011-11-30 -0.06195544\n",
       "2011-12-31  0.11005547\n",
       "2012-01-31  0.03069560\n",
       "2012-02-29 -0.02787971\n",
       "2012-03-31 -0.04530984"
      ]
     },
     "metadata": {},
     "output_type": "display_data"
    },
    {
     "name": "stdout",
     "output_type": "stream",
     "text": [
      "[1] \"EW: Size\"\n"
     ]
    },
    {
     "data": {
      "text/plain": [
       "                     1           2           3           4            5\n",
       "2010-02-28  0.07703300  0.05561677  0.05949845  0.05274118  0.050600256\n",
       "2010-03-31  0.04185189  0.03076809  0.04019638  0.02875165  0.008814152\n",
       "2010-04-30 -0.06043563 -0.06760921 -0.06931802 -0.07911023 -0.102290039\n",
       "2010-05-31 -0.05959897 -0.05328542 -0.05374921 -0.05078681 -0.063712570\n",
       "2010-06-30  0.05505042  0.07075867  0.05380908  0.05114000  0.064362055\n",
       "2010-07-31 -0.06408788 -0.04626697 -0.04015706 -0.04430756 -0.064432475\n",
       "                   5 - 1\n",
       "2010-02-28 -0.0264327447\n",
       "2010-03-31 -0.0330377419\n",
       "2010-04-30 -0.0418544140\n",
       "2010-05-31 -0.0041136025\n",
       "2010-06-30  0.0093116305\n",
       "2010-07-31 -0.0003445956"
      ]
     },
     "metadata": {},
     "output_type": "display_data"
    },
    {
     "name": "stdout",
     "output_type": "stream",
     "text": [
      "[1] \"EW: Book-to-Market\"\n"
     ]
    },
    {
     "data": {
      "text/plain": [
       "                     1           2           3           4           5\n",
       "2010-02-28  0.06842814  0.04814306  0.05553151  0.06038915  0.06177105\n",
       "2010-03-31  0.01762683  0.02379054  0.02701314  0.05052288  0.02776845\n",
       "2010-04-30 -0.06662108 -0.07926554 -0.08017189 -0.07248483 -0.07967147\n",
       "2010-05-31 -0.05215395 -0.05740655 -0.07266388 -0.05944958 -0.04094185\n",
       "2010-06-30  0.06625483  0.05559293  0.05402006  0.04611421  0.06354305\n",
       "2010-07-31 -0.03757711 -0.05090537 -0.07030621 -0.05379222 -0.04464189\n",
       "                  5 - 1\n",
       "2010-02-28 -0.006657086\n",
       "2010-03-31  0.010141620\n",
       "2010-04-30 -0.013050388\n",
       "2010-05-31  0.011212097\n",
       "2010-06-30 -0.002711776\n",
       "2010-07-31 -0.007064777"
      ]
     },
     "metadata": {},
     "output_type": "display_data"
    }
   ],
   "source": [
    "# Mean returns for each month per equally-weighted portfolio\n",
    "EW_portfolio_returns_betas <- portfolio_returns(monthly_betas, type=\"EW\")\n",
    "EW_portfolio_returns_size <- portfolio_returns(monthly_sizes, type=\"EW\")\n",
    "EW_portfolio_returns_book_to_market <- portfolio_returns(monthly_book_to_market, type=\"EW\")\n",
    "\n",
    "print(\"EW: Betas\")\n",
    "EW_portfolio_returns_betas[21:26,]\n",
    "print(\"EW: Size\")\n",
    "EW_portfolio_returns_size[1:6,]\n",
    "print(\"EW: Book-to-Market\")\n",
    "EW_portfolio_returns_book_to_market[1:6,]"
   ]
  },
  {
   "cell_type": "markdown",
   "id": "7e0fdf0e",
   "metadata": {},
   "source": [
    "#### (ii) Value-weighted portfolio"
   ]
  },
  {
   "cell_type": "code",
   "execution_count": 19,
   "id": "45019878",
   "metadata": {
    "vscode": {
     "languageId": "r"
    }
   },
   "outputs": [
    {
     "name": "stdout",
     "output_type": "stream",
     "text": [
      "[1] \"VW: Betas\"\n"
     ]
    },
    {
     "data": {
      "text/plain": [
       "                       1             2            3           4           5\n",
       "2011-10-31  0.0170229935 -0.0076970381 -0.001116119 -0.01969016 -0.02303189\n",
       "2011-11-30  0.0420173728  0.0185941818  0.029297515 -0.04604255 -0.04355001\n",
       "2011-12-31  0.0296184106  0.0579788793  0.065799009  0.09162488  0.12781670\n",
       "2012-01-31  0.0532867835  0.0732001014  0.032562230  0.04574516  0.06171436\n",
       "2012-02-29  0.0573363945  0.0323779411  0.034457292  0.03354901  0.00254337\n",
       "2012-03-31 -0.0006029864  0.0008682739  0.002433666 -0.01548847 -0.03489524\n",
       "                  5 - 1\n",
       "2011-10-31 -0.040054883\n",
       "2011-11-30 -0.085567378\n",
       "2011-12-31  0.098198286\n",
       "2012-01-31  0.008427574\n",
       "2012-02-29 -0.054793025\n",
       "2012-03-31 -0.034292255"
      ]
     },
     "metadata": {},
     "output_type": "display_data"
    },
    {
     "name": "stdout",
     "output_type": "stream",
     "text": [
      "[1] \"VW: Size\"\n"
     ]
    },
    {
     "data": {
      "text/plain": [
       "                     1           2           3           4           5\n",
       "2010-02-28  0.07663648  0.05924961  0.06122816  0.05599392  0.05603798\n",
       "2010-03-31  0.04494215  0.03352383  0.04271117  0.03220183  0.01339041\n",
       "2010-04-30 -0.05216451 -0.06441340 -0.06767518 -0.07747537 -0.10499117\n",
       "2010-05-31 -0.06453471 -0.05236156 -0.05253849 -0.05010297 -0.06119919\n",
       "2010-06-30  0.06169450  0.07515980  0.05919784  0.05410926  0.05877881\n",
       "2010-07-31 -0.06458714 -0.04415801 -0.03554519 -0.03982683 -0.06956371\n",
       "                  5 - 1\n",
       "2010-02-28 -0.020598497\n",
       "2010-03-31 -0.031551736\n",
       "2010-04-30 -0.052826667\n",
       "2010-05-31  0.003335522\n",
       "2010-06-30 -0.002915691\n",
       "2010-07-31 -0.004976566"
      ]
     },
     "metadata": {},
     "output_type": "display_data"
    },
    {
     "name": "stdout",
     "output_type": "stream",
     "text": [
      "[1] \"VW: Book-to-Market\"\n"
     ]
    },
    {
     "data": {
      "text/plain": [
       "                     1            2           3           4           5\n",
       "2010-02-28  0.05889617  0.044680077  0.04686059  0.05924369  0.07697548\n",
       "2010-03-31  0.03717130  0.009962324  0.01267681  0.01911219  0.02288306\n",
       "2010-04-30 -0.08504183 -0.107806772 -0.08113236 -0.08730215 -0.10463081\n",
       "2010-05-31 -0.05962666 -0.051415897 -0.07132990 -0.05416487 -0.06190217\n",
       "2010-06-30  0.06602405  0.068970251  0.03826860  0.05298948  0.05634993\n",
       "2010-07-31 -0.06102793 -0.053081858 -0.04848281 -0.05254358 -0.08624413\n",
       "                  5 - 1\n",
       "2010-02-28  0.018079309\n",
       "2010-03-31 -0.014288244\n",
       "2010-04-30 -0.019588981\n",
       "2010-05-31 -0.002275505\n",
       "2010-06-30 -0.009674116\n",
       "2010-07-31 -0.025216200"
      ]
     },
     "metadata": {},
     "output_type": "display_data"
    }
   ],
   "source": [
    "# Mean returns for each month per value-weighted portfolio\n",
    "VW_portfolio_returns_betas <- portfolio_returns(monthly_betas, type=\"VW\")\n",
    "VW_portfolio_returns_size <- portfolio_returns(monthly_sizes, type=\"VW\")\n",
    "VW_portfolio_returns_book_to_market <- portfolio_returns(monthly_book_to_market, type=\"VW\")\n",
    "\n",
    "print(\"VW: Betas\")\n",
    "VW_portfolio_returns_betas[21:26,]\n",
    "print(\"VW: Size\")\n",
    "VW_portfolio_returns_size[1:6,]\n",
    "print(\"VW: Book-to-Market\")\n",
    "VW_portfolio_returns_book_to_market[1:6,]"
   ]
  },
  {
   "cell_type": "markdown",
   "id": "ca42e812",
   "metadata": {},
   "source": [
    "## b) Average values"
   ]
  },
  {
   "cell_type": "markdown",
   "id": "e8fa1d5e",
   "metadata": {},
   "source": [
    "Average values of each sorting variable are calculated and presented in this section using all 5 portfolios. Function 'portfolio_results' accepts previously calculated portfolio returns and reveals a table with average returns within each portfolio and respective t-statistics. Average returns are estimated by regressing mean returns of each portfolio with respect to the intercept, capm-alpha is estimated using the standard CAPM model regression, and finally, the first coefficient of the factor model gives us the last factor-alpha estimate. NeweyWest method is then emplyed for t-statistics calculations. All three average values estimates are then collected into one table for each weighted method. "
   ]
  },
  {
   "cell_type": "code",
   "execution_count": 20,
   "id": "2fd22528",
   "metadata": {
    "vscode": {
     "languageId": "r"
    }
   },
   "outputs": [],
   "source": [
    "# Compute overall average returns within portfolio, their standard errors and other stats.\n",
    "portfolio_results <- function(portfolio_returns, num_portfolios=5, fact=factors) {\n",
    "    n_portfolios <- num_portfolios # number of portfolios\n",
    "    diff_portfolio <- paste(n_portfolios, '- 1') # \"5 - 1\" portfolio\n",
    "    factors_aligned <- fact[-1,] # Remove the first row of factors to meet portfolio_returns dimensions (for index correction in lm)\n",
    "    \n",
    "    portfolio_res <- as.data.frame(\n",
    "        matrix(nrow = 6, ncol = n_portfolios + 1),\n",
    "        row.names = c(\n",
    "            'average return',\n",
    "            'average return t-stat',\n",
    "            'CAPM alpha',\n",
    "            'CAPM alpha t-stat',\n",
    "            'FF alpha',\n",
    "            'FF alpha t-stat'\n",
    "        )\n",
    "    )\n",
    "    names(portfolio_res) <- c(1:n_portfolios, diff_portfolio)\n",
    "\n",
    "    for (i in 1:ncol(portfolio_res)) {\n",
    "        model <- lm(na.omit(portfolio_returns[, i]) ~ 1)\n",
    "        portfolio_res[1, i] <- model$coefficients[[1]]\n",
    "        portfolio_res[2, i] <- model$coefficients[[1]] / sqrt(NeweyWest(model, lag = 6)[[1]])\n",
    "        is_not_na_filter = rowSums(is.na(portfolio_returns)) == 0\n",
    "        index(portfolio_returns) <- index(factors_aligned) # index correction of portfolio_returns (lm returns different indexing)\n",
    "        model_capm <- lm(\n",
    "            portfolio_returns[is_not_na_filter, i] ~ (\n",
    "                1\n",
    "                + fact[index(portfolio_returns[is_not_na_filter])]$mkt.rf\n",
    "            )\n",
    "        )\n",
    "        portfolio_res[3, i] <- model_capm$coefficients[[1]]\n",
    "        portfolio_res[4, i] <- model_capm$coefficients[[1]] / sqrt(NeweyWest(model_capm, lag = 6)[[1]])\n",
    "\n",
    "        # OLS with respect to factors\n",
    "        model_factors <- lm(\n",
    "            portfolio_returns[is_not_na_filter, i] ~ ( # regress on all filters\n",
    "                1\n",
    "                + fact[index(portfolio_returns[is_not_na_filter])]$mkt.rf\n",
    "                + fact[index(portfolio_returns[is_not_na_filter])]$smb\n",
    "                + fact[index(portfolio_returns[is_not_na_filter])]$hml\n",
    "                + fact[index(portfolio_returns[is_not_na_filter])]$mom\n",
    "                + fact[index(portfolio_returns[is_not_na_filter])]$strev\n",
    "                + fact[index(portfolio_returns[is_not_na_filter])]$liquidity\n",
    "            )\n",
    "        )\n",
    "        portfolio_res[5, i] <- model_factors$coefficients[[1]]\n",
    "        portfolio_res[6, i] <- model_factors$coefficients[[1]] / sqrt(NeweyWest(model_factors, lag = 6)[[1]])\n",
    "    }\n",
    "    \n",
    "    return (portfolio_res)\n",
    "}"
   ]
  },
  {
   "cell_type": "markdown",
   "id": "fc0288bd",
   "metadata": {},
   "source": [
    "#### (i) Equally-weighted portfolio"
   ]
  },
  {
   "cell_type": "code",
   "execution_count": 21,
   "id": "f8e01577",
   "metadata": {
    "vscode": {
     "languageId": "r"
    }
   },
   "outputs": [],
   "source": [
    "# Overall average returns within equally-weighted portfolios, their standard errors and other stats.\n",
    "EW_portfolio_results_betas <- portfolio_results(EW_portfolio_returns_betas)\n",
    "EW_portfolio_results_size <- portfolio_results(EW_portfolio_returns_size)\n",
    "EW_portfolio_results_book_to_market <- portfolio_results(EW_portfolio_returns_book_to_market)"
   ]
  },
  {
   "cell_type": "markdown",
   "id": "d9814f80",
   "metadata": {},
   "source": [
    "#### (ii) Value-weighted portfolio"
   ]
  },
  {
   "cell_type": "code",
   "execution_count": 22,
   "id": "c7e3f6d3",
   "metadata": {
    "vscode": {
     "languageId": "r"
    }
   },
   "outputs": [],
   "source": [
    "# Overall average returns within value-weighted portfolios, their standard errors and other stats.\n",
    "VW_portfolio_results_betas <- portfolio_results(VW_portfolio_returns_betas)\n",
    "VW_portfolio_results_size <- portfolio_results(VW_portfolio_returns_size)\n",
    "VW_portfolio_results_book_to_market <- portfolio_results(VW_portfolio_returns_book_to_market)"
   ]
  },
  {
   "cell_type": "markdown",
   "id": "29e91678",
   "metadata": {},
   "source": [
    "## c) Fama-MacBeth regression"
   ]
  },
  {
   "cell_type": "markdown",
   "id": "b5afa653",
   "metadata": {},
   "source": [
    "In the last section of our analysis, Fama-MacBeth regression model is employed to estimate the effect of the stock size on its future returns. Firstly, the regression is estimating using the size as the only independent variable. Secondly, beta and book-to-market ratio sorting variables are added as well as the control independent variable. This regression is based on the Fama-MacBeth theory.  "
   ]
  },
  {
   "cell_type": "markdown",
   "id": "61b952d3",
   "metadata": {},
   "source": [
    "#### (i) Effect of size independently"
   ]
  },
  {
   "cell_type": "code",
   "execution_count": 23,
   "id": "9d9e035e",
   "metadata": {
    "vscode": {
     "languageId": "r"
    }
   },
   "outputs": [],
   "source": [
    "fama_macbeth_indep <- function(monthly_size=monthly_sizes, monthly_ret=monthly_returns) {\n",
    "    # Initialize an xts object for storing regression results.\n",
    "    fm_cs_results_indep <- as.xts(\n",
    "        matrix(\n",
    "            nrow = nrow(monthly_size) - 1,\n",
    "            ncol = 5\n",
    "        ),\n",
    "        order.by = index(monthly_size[2:nrow(monthly_size)])\n",
    "    )\n",
    "    names(fm_cs_results_indep) <- c('Intercept', 'Size', 'R^2', 'Adjusted R^2', 'N')\n",
    "\n",
    "    # Iterate over rows and perform cross-sectional regressions.\n",
    "    for (i in 1:nrow(fm_cs_results_indep)) { # For each month\n",
    "        current_month <- index(fm_cs_results_indep[i])\n",
    "        next_month <- as.Date(as.yearmon(current_month %m+% months(1)), frac = 1)\n",
    "\n",
    "        if (!next_month %in% index(monthly_ret)) {\n",
    "            next\n",
    "        }\n",
    "\n",
    "        # Avoid look-ahead bias by selecting the returns from the next month.\n",
    "        month_returns <- monthly_ret[next_month]\n",
    "        month_sizes <- monthly_size[current_month]\n",
    "\n",
    "        # Save regression coefficients and other statistics.\n",
    "        model <- lm(t(month_returns) ~ 1 + t(month_sizes))\n",
    "        fm_cs_results_indep[i, 1] <- model$coefficients[[1]]\n",
    "        fm_cs_results_indep[i, 2] <- model$coefficients[[2]]\n",
    "        fm_cs_results_indep[i, 3] <- summary(model)$r.squared\n",
    "        fm_cs_results_indep[i, 4] <- summary(model)$adj.r.squared\n",
    "        fm_cs_results_indep[i, 5] <- nobs(model)\n",
    "    }\n",
    "\n",
    "    # Compute time series means, standard errors.\n",
    "    fm_results_indep <- as.data.frame(matrix(nrow = 2, ncol = 2))\n",
    "    names(fm_results_indep) <- c('Intercept', 'Size')\n",
    "\n",
    "    for (i in 1:ncol(fm_results_indep)) {\n",
    "        model <- lm(na.omit(fm_cs_results_indep[, i]) ~ 1)\n",
    "        fm_results_indep[1, i] <- model$coefficients[[1]]\n",
    "        fm_results_indep[2, i] <- model$coefficients[[1]] / sqrt(NeweyWest(model, lag = 6)[[1]])\n",
    "    }\n",
    "\n",
    "    return (list(cs_results=fm_cs_results_indep, ts_results=fm_results_indep))\n",
    "}"
   ]
  },
  {
   "cell_type": "code",
   "execution_count": 24,
   "id": "0ef0fcda",
   "metadata": {
    "vscode": {
     "languageId": "r"
    }
   },
   "outputs": [],
   "source": [
    "# Independent Size effect\n",
    "results_indep <- fama_macbeth_indep()\n",
    "\n",
    "fm_cs_indep <- results_indep$cs_results \n",
    "fm_indep <- results_indep$ts_results"
   ]
  },
  {
   "cell_type": "markdown",
   "id": "477d64fb",
   "metadata": {},
   "source": [
    "#### (ii) Effect of size with Beta and Book-to-Market ratios controls"
   ]
  },
  {
   "cell_type": "code",
   "execution_count": 25,
   "id": "9eb2789d",
   "metadata": {
    "vscode": {
     "languageId": "r"
    }
   },
   "outputs": [],
   "source": [
    "fama_macbeth_dep <- function(monthly_ret=monthly_returns, monthly_size=monthly_sizes, monthly_book=monthly_book_to_market, monthly_beta=monthly_betas) {\n",
    "    # Correct indexing\n",
    "    index(monthly_book) <- index(monthly_size)\n",
    "    index(monthly_beta) <- index(monthly_size)\n",
    "    # Remove missing values\n",
    "    monthly_ret <- monthly_ret[(13:nrow(monthly_ret)),]\n",
    "    monthly_size <- monthly_size[(13:nrow(monthly_size)),]\n",
    "    monthly_book <- monthly_book[(13:nrow(monthly_book)),]\n",
    "    monthly_beta <- monthly_beta[(13:nrow(monthly_beta)),]\n",
    "    \n",
    "    # Initialize an xts object for storing regression results.\n",
    "    fm_cs_results_dep <- as.xts(\n",
    "        matrix(\n",
    "            nrow = nrow(monthly_size) - 1,\n",
    "            ncol = 7\n",
    "        ),\n",
    "        order.by = index(monthly_size[2:nrow(monthly_size)])\n",
    "    )\n",
    "    names(fm_cs_results_dep) <- c('Intercept', 'Size', 'Book_to_market', 'Beta', 'R^2', 'Adjusted R^2', 'N')\n",
    "\n",
    "    # Iterate over rows and perform cross-sectional regressions.\n",
    "    for (i in 1:nrow(fm_cs_results_dep)) { # For each month\n",
    "        current_month <- index(fm_cs_results_dep[i])\n",
    "        next_month <- as.Date(as.yearmon(current_month %m+% months(1)), frac = 1)\n",
    "\n",
    "        if (!next_month %in% index(monthly_ret)) {\n",
    "            next\n",
    "        }\n",
    "\n",
    "        # Avoid look-ahead bias by selecting the returns from the next month.\n",
    "        month_returns <- monthly_ret[next_month]\n",
    "        month_sizes <- monthly_size[current_month]\n",
    "        month_book_to_market <- monthly_book[current_month]\n",
    "        month_betas <- monthly_beta[i]\n",
    "        \n",
    "        # Save regression coefficients and other statistics.\n",
    "        model <- lm(t(month_returns) ~ 1 + t(month_sizes) + t(month_book_to_market) + t(month_betas))\n",
    "        fm_cs_results_dep[i, 1] <- model$coefficients[[1]]\n",
    "        fm_cs_results_dep[i, 2] <- model$coefficients[[2]]\n",
    "        fm_cs_results_dep[i, 3] <- model$coefficients[[3]]\n",
    "        fm_cs_results_dep[i, 4] <- model$coefficients[[4]]\n",
    "        fm_cs_results_dep[i, 5] <- summary(model)$r.squared\n",
    "        fm_cs_results_dep[i, 6] <- summary(model)$adj.r.squared\n",
    "        fm_cs_results_dep[i, 7] <- nobs(model)\n",
    "    }\n",
    "\n",
    "    # Compute time series means, standard errors.\n",
    "    fm_results_dep <- as.data.frame(matrix(nrow = 2, ncol = 4))\n",
    "    names(fm_results_dep) <- c('Intercept', 'Size', 'Book_to_market', 'Beta')\n",
    "\n",
    "    for (i in 1:ncol(fm_results_dep)) {\n",
    "        model <- lm(na.omit(fm_cs_results_dep[, i]) ~ 1)\n",
    "        fm_results_dep[1, i] <- model$coefficients[[1]]\n",
    "        fm_results_dep[2, i] <- model$coefficients[[1]] / sqrt(NeweyWest(model, lag = 6)[[1]])\n",
    "    }\n",
    "\n",
    "    return (list(cs_results=fm_cs_results_dep, ts_results=fm_results_dep))\n",
    "}"
   ]
  },
  {
   "cell_type": "code",
   "execution_count": 26,
   "id": "c7b3a2e7",
   "metadata": {
    "vscode": {
     "languageId": "r"
    }
   },
   "outputs": [],
   "source": [
    "# Dependent Size effect\n",
    "results_dep <- fama_macbeth_dep()\n",
    "\n",
    "fm_cs_dep <- results_dep$cs_results \n",
    "fm_dep <- results_dep$ts_results"
   ]
  },
  {
   "cell_type": "markdown",
   "id": "f7841695",
   "metadata": {},
   "source": [
    "## 4. Results"
   ]
  },
  {
   "cell_type": "markdown",
   "id": "9698cc19",
   "metadata": {},
   "source": [
    "### a) Average values"
   ]
  },
  {
   "cell_type": "markdown",
   "id": "b2358d55",
   "metadata": {},
   "source": [
    "#### (i) Beta"
   ]
  },
  {
   "cell_type": "code",
   "execution_count": 27,
   "id": "5aae8c82",
   "metadata": {
    "vscode": {
     "languageId": "r"
    }
   },
   "outputs": [
    {
     "name": "stdout",
     "output_type": "stream",
     "text": [
      "[1] \"Equally-weighted portfolio\"\n",
      "[1] \"EW: Betas\"\n"
     ]
    },
    {
     "data": {
      "text/html": [
       "<table class=\"dataframe\">\n",
       "<caption>A data.frame: 6 × 6</caption>\n",
       "<thead>\n",
       "\t<tr><th></th><th scope=col>1</th><th scope=col>2</th><th scope=col>3</th><th scope=col>4</th><th scope=col>5</th><th scope=col>5 - 1</th></tr>\n",
       "\t<tr><th></th><th scope=col>&lt;dbl&gt;</th><th scope=col>&lt;dbl&gt;</th><th scope=col>&lt;dbl&gt;</th><th scope=col>&lt;dbl&gt;</th><th scope=col>&lt;dbl&gt;</th><th scope=col>&lt;dbl&gt;</th></tr>\n",
       "</thead>\n",
       "<tbody>\n",
       "\t<tr><th scope=row>average return</th><td>-0.06377180</td><td>-0.06052285</td><td>-0.06141061</td><td>-0.05899512</td><td>-0.05699457</td><td>0.006777229</td></tr>\n",
       "\t<tr><th scope=row>average return t-stat</th><td>-1.51869041</td><td>-1.67469814</td><td>-1.96432656</td><td>-1.99633931</td><td>-2.13892704</td><td>1.436404507</td></tr>\n",
       "\t<tr><th scope=row>CAPM alpha</th><td>-0.06410271</td><td>-0.06053159</td><td>-0.06122202</td><td>-0.05861997</td><td>-0.05638835</td><td>0.007714359</td></tr>\n",
       "\t<tr><th scope=row>CAPM alpha t-stat</th><td>-1.40999664</td><td>-1.61085834</td><td>-1.85645638</td><td>-1.88384563</td><td>-2.00929480</td><td>1.450344729</td></tr>\n",
       "\t<tr><th scope=row>FF alpha</th><td>-0.06255644</td><td>-0.05888060</td><td>-0.05968839</td><td>-0.05698713</td><td>-0.05511059</td><td>0.007445851</td></tr>\n",
       "\t<tr><th scope=row>FF alpha t-stat</th><td>-1.91372269</td><td>-2.01891553</td><td>-2.18697776</td><td>-2.15732151</td><td>-2.20902128</td><td>1.355443148</td></tr>\n",
       "</tbody>\n",
       "</table>\n"
      ],
      "text/latex": [
       "A data.frame: 6 × 6\n",
       "\\begin{tabular}{r|llllll}\n",
       "  & 1 & 2 & 3 & 4 & 5 & 5 - 1\\\\\n",
       "  & <dbl> & <dbl> & <dbl> & <dbl> & <dbl> & <dbl>\\\\\n",
       "\\hline\n",
       "\taverage return & -0.06377180 & -0.06052285 & -0.06141061 & -0.05899512 & -0.05699457 & 0.006777229\\\\\n",
       "\taverage return t-stat & -1.51869041 & -1.67469814 & -1.96432656 & -1.99633931 & -2.13892704 & 1.436404507\\\\\n",
       "\tCAPM alpha & -0.06410271 & -0.06053159 & -0.06122202 & -0.05861997 & -0.05638835 & 0.007714359\\\\\n",
       "\tCAPM alpha t-stat & -1.40999664 & -1.61085834 & -1.85645638 & -1.88384563 & -2.00929480 & 1.450344729\\\\\n",
       "\tFF alpha & -0.06255644 & -0.05888060 & -0.05968839 & -0.05698713 & -0.05511059 & 0.007445851\\\\\n",
       "\tFF alpha t-stat & -1.91372269 & -2.01891553 & -2.18697776 & -2.15732151 & -2.20902128 & 1.355443148\\\\\n",
       "\\end{tabular}\n"
      ],
      "text/markdown": [
       "\n",
       "A data.frame: 6 × 6\n",
       "\n",
       "| <!--/--> | 1 &lt;dbl&gt; | 2 &lt;dbl&gt; | 3 &lt;dbl&gt; | 4 &lt;dbl&gt; | 5 &lt;dbl&gt; | 5 - 1 &lt;dbl&gt; |\n",
       "|---|---|---|---|---|---|---|\n",
       "| average return | -0.06377180 | -0.06052285 | -0.06141061 | -0.05899512 | -0.05699457 | 0.006777229 |\n",
       "| average return t-stat | -1.51869041 | -1.67469814 | -1.96432656 | -1.99633931 | -2.13892704 | 1.436404507 |\n",
       "| CAPM alpha | -0.06410271 | -0.06053159 | -0.06122202 | -0.05861997 | -0.05638835 | 0.007714359 |\n",
       "| CAPM alpha t-stat | -1.40999664 | -1.61085834 | -1.85645638 | -1.88384563 | -2.00929480 | 1.450344729 |\n",
       "| FF alpha | -0.06255644 | -0.05888060 | -0.05968839 | -0.05698713 | -0.05511059 | 0.007445851 |\n",
       "| FF alpha t-stat | -1.91372269 | -2.01891553 | -2.18697776 | -2.15732151 | -2.20902128 | 1.355443148 |\n",
       "\n"
      ],
      "text/plain": [
       "                      1           2           3           4          \n",
       "average return        -0.06377180 -0.06052285 -0.06141061 -0.05899512\n",
       "average return t-stat -1.51869041 -1.67469814 -1.96432656 -1.99633931\n",
       "CAPM alpha            -0.06410271 -0.06053159 -0.06122202 -0.05861997\n",
       "CAPM alpha t-stat     -1.40999664 -1.61085834 -1.85645638 -1.88384563\n",
       "FF alpha              -0.06255644 -0.05888060 -0.05968839 -0.05698713\n",
       "FF alpha t-stat       -1.91372269 -2.01891553 -2.18697776 -2.15732151\n",
       "                      5           5 - 1      \n",
       "average return        -0.05699457 0.006777229\n",
       "average return t-stat -2.13892704 1.436404507\n",
       "CAPM alpha            -0.05638835 0.007714359\n",
       "CAPM alpha t-stat     -2.00929480 1.450344729\n",
       "FF alpha              -0.05511059 0.007445851\n",
       "FF alpha t-stat       -2.20902128 1.355443148"
      ]
     },
     "metadata": {},
     "output_type": "display_data"
    },
    {
     "name": "stdout",
     "output_type": "stream",
     "text": [
      "[1] \"Value-weighted portfolio\"\n",
      "[1] \"VW: Betas\"\n"
     ]
    },
    {
     "data": {
      "text/html": [
       "<table class=\"dataframe\">\n",
       "<caption>A data.frame: 6 × 6</caption>\n",
       "<thead>\n",
       "\t<tr><th></th><th scope=col>1</th><th scope=col>2</th><th scope=col>3</th><th scope=col>4</th><th scope=col>5</th><th scope=col>5 - 1</th></tr>\n",
       "\t<tr><th></th><th scope=col>&lt;dbl&gt;</th><th scope=col>&lt;dbl&gt;</th><th scope=col>&lt;dbl&gt;</th><th scope=col>&lt;dbl&gt;</th><th scope=col>&lt;dbl&gt;</th><th scope=col>&lt;dbl&gt;</th></tr>\n",
       "</thead>\n",
       "<tbody>\n",
       "\t<tr><th scope=row>average return</th><td>-0.06204732</td><td>-0.05988855</td><td>-0.06145291</td><td>-0.06004279</td><td>-0.05626927</td><td>0.005778046</td></tr>\n",
       "\t<tr><th scope=row>average return t-stat</th><td>-1.38372566</td><td>-1.65190810</td><td>-1.94482778</td><td>-2.03209850</td><td>-2.05673076</td><td>1.132946243</td></tr>\n",
       "\t<tr><th scope=row>CAPM alpha</th><td>-0.06207436</td><td>-0.05971612</td><td>-0.06183813</td><td>-0.05933391</td><td>-0.05592101</td><td>0.006153351</td></tr>\n",
       "\t<tr><th scope=row>CAPM alpha t-stat</th><td>-1.31258105</td><td>-1.60352415</td><td>-1.91683738</td><td>-1.90231745</td><td>-1.95522007</td><td>1.107815996</td></tr>\n",
       "\t<tr><th scope=row>FF alpha</th><td>-0.06025231</td><td>-0.05796250</td><td>-0.06019648</td><td>-0.05799401</td><td>-0.05284523</td><td>0.007407077</td></tr>\n",
       "\t<tr><th scope=row>FF alpha t-stat</th><td>-1.78263983</td><td>-1.97336803</td><td>-2.26951365</td><td>-2.23615044</td><td>-2.08741986</td><td>1.281027643</td></tr>\n",
       "</tbody>\n",
       "</table>\n"
      ],
      "text/latex": [
       "A data.frame: 6 × 6\n",
       "\\begin{tabular}{r|llllll}\n",
       "  & 1 & 2 & 3 & 4 & 5 & 5 - 1\\\\\n",
       "  & <dbl> & <dbl> & <dbl> & <dbl> & <dbl> & <dbl>\\\\\n",
       "\\hline\n",
       "\taverage return & -0.06204732 & -0.05988855 & -0.06145291 & -0.06004279 & -0.05626927 & 0.005778046\\\\\n",
       "\taverage return t-stat & -1.38372566 & -1.65190810 & -1.94482778 & -2.03209850 & -2.05673076 & 1.132946243\\\\\n",
       "\tCAPM alpha & -0.06207436 & -0.05971612 & -0.06183813 & -0.05933391 & -0.05592101 & 0.006153351\\\\\n",
       "\tCAPM alpha t-stat & -1.31258105 & -1.60352415 & -1.91683738 & -1.90231745 & -1.95522007 & 1.107815996\\\\\n",
       "\tFF alpha & -0.06025231 & -0.05796250 & -0.06019648 & -0.05799401 & -0.05284523 & 0.007407077\\\\\n",
       "\tFF alpha t-stat & -1.78263983 & -1.97336803 & -2.26951365 & -2.23615044 & -2.08741986 & 1.281027643\\\\\n",
       "\\end{tabular}\n"
      ],
      "text/markdown": [
       "\n",
       "A data.frame: 6 × 6\n",
       "\n",
       "| <!--/--> | 1 &lt;dbl&gt; | 2 &lt;dbl&gt; | 3 &lt;dbl&gt; | 4 &lt;dbl&gt; | 5 &lt;dbl&gt; | 5 - 1 &lt;dbl&gt; |\n",
       "|---|---|---|---|---|---|---|\n",
       "| average return | -0.06204732 | -0.05988855 | -0.06145291 | -0.06004279 | -0.05626927 | 0.005778046 |\n",
       "| average return t-stat | -1.38372566 | -1.65190810 | -1.94482778 | -2.03209850 | -2.05673076 | 1.132946243 |\n",
       "| CAPM alpha | -0.06207436 | -0.05971612 | -0.06183813 | -0.05933391 | -0.05592101 | 0.006153351 |\n",
       "| CAPM alpha t-stat | -1.31258105 | -1.60352415 | -1.91683738 | -1.90231745 | -1.95522007 | 1.107815996 |\n",
       "| FF alpha | -0.06025231 | -0.05796250 | -0.06019648 | -0.05799401 | -0.05284523 | 0.007407077 |\n",
       "| FF alpha t-stat | -1.78263983 | -1.97336803 | -2.26951365 | -2.23615044 | -2.08741986 | 1.281027643 |\n",
       "\n"
      ],
      "text/plain": [
       "                      1           2           3           4          \n",
       "average return        -0.06204732 -0.05988855 -0.06145291 -0.06004279\n",
       "average return t-stat -1.38372566 -1.65190810 -1.94482778 -2.03209850\n",
       "CAPM alpha            -0.06207436 -0.05971612 -0.06183813 -0.05933391\n",
       "CAPM alpha t-stat     -1.31258105 -1.60352415 -1.91683738 -1.90231745\n",
       "FF alpha              -0.06025231 -0.05796250 -0.06019648 -0.05799401\n",
       "FF alpha t-stat       -1.78263983 -1.97336803 -2.26951365 -2.23615044\n",
       "                      5           5 - 1      \n",
       "average return        -0.05626927 0.005778046\n",
       "average return t-stat -2.05673076 1.132946243\n",
       "CAPM alpha            -0.05592101 0.006153351\n",
       "CAPM alpha t-stat     -1.95522007 1.107815996\n",
       "FF alpha              -0.05284523 0.007407077\n",
       "FF alpha t-stat       -2.08741986 1.281027643"
      ]
     },
     "metadata": {},
     "output_type": "display_data"
    }
   ],
   "source": [
    "print(\"Equally-weighted portfolio\")\n",
    "print(\"EW: Betas\")\n",
    "EW_portfolio_results_betas\n",
    "\n",
    "print(\"Value-weighted portfolio\")\n",
    "print(\"VW: Betas\")\n",
    "VW_portfolio_results_betas"
   ]
  },
  {
   "cell_type": "markdown",
   "id": "43d3e4fd",
   "metadata": {},
   "source": [
    "Beta coefficient captures the riskiness of a stock. In orther words, beta measures how an individual stock reacts if the overall market, e.g., increases by 1%. We can observe a sligh increasing trend of an average coefficient (getting a little bit less negative) for higher portfolios, which would confirm that stocks with higher beta coefficients (riskier) should have also higher average returns. However, most of our t-statistic do not overstep the +-2.0 level and thus do not seem to be statistically significant. \n",
    "\n",
    "Concenring the 5-1 portfolio with the t-statistic being not significant, we cannot certainly find a long and short positions on the portfolios. Although the alpha coefficient are very similar across all methods and weighting scheme, the FF model controlling for several market factors reveals the largest t-statistics that are almost behind the significance level - This suggests that our results could be significant once correclty correcting for all market factors. We can also see that coefficient estimated by the equally-weighted scheme tend to be \"more negative\" signalizing that larger firms affecting the total average less in this scheme could have higher returns (they are underestimated in the equal-weighted scheme). \n",
    "\n",
    "In conclusion, we cannot directly confirm the riskiness-return relationship known from theory, however, we probably could controlling better for market factors.  "
   ]
  },
  {
   "cell_type": "markdown",
   "id": "359353c8",
   "metadata": {},
   "source": [
    "#### (ii) Size"
   ]
  },
  {
   "cell_type": "code",
   "execution_count": 28,
   "id": "61bfa5ac",
   "metadata": {
    "vscode": {
     "languageId": "r"
    }
   },
   "outputs": [
    {
     "name": "stdout",
     "output_type": "stream",
     "text": [
      "[1] \"Equally-weighted portfolio\"\n",
      "[1] \"EW: Size\"\n"
     ]
    },
    {
     "data": {
      "text/html": [
       "<table class=\"dataframe\">\n",
       "<caption>A data.frame: 6 × 6</caption>\n",
       "<thead>\n",
       "\t<tr><th></th><th scope=col>1</th><th scope=col>2</th><th scope=col>3</th><th scope=col>4</th><th scope=col>5</th><th scope=col>5 - 1</th></tr>\n",
       "\t<tr><th></th><th scope=col>&lt;dbl&gt;</th><th scope=col>&lt;dbl&gt;</th><th scope=col>&lt;dbl&gt;</th><th scope=col>&lt;dbl&gt;</th><th scope=col>&lt;dbl&gt;</th><th scope=col>&lt;dbl&gt;</th></tr>\n",
       "</thead>\n",
       "<tbody>\n",
       "\t<tr><th scope=row>average return</th><td>-0.04970802</td><td>-0.05766072</td><td>-0.05837361</td><td>-0.06049427</td><td>-0.06068055</td><td>-0.01097253</td></tr>\n",
       "\t<tr><th scope=row>average return t-stat</th><td>-1.75778952</td><td>-1.89563405</td><td>-1.92469916</td><td>-2.03035576</td><td>-1.96403606</td><td>-6.16006663</td></tr>\n",
       "\t<tr><th scope=row>CAPM alpha</th><td>-0.04885616</td><td>-0.05748662</td><td>-0.05790278</td><td>-0.05999811</td><td>-0.06040633</td><td>-0.01155016</td></tr>\n",
       "\t<tr><th scope=row>CAPM alpha t-stat</th><td>-1.57962996</td><td>-1.78437972</td><td>-1.75846761</td><td>-1.86482382</td><td>-1.84557181</td><td>-5.49064573</td></tr>\n",
       "\t<tr><th scope=row>FF alpha</th><td>-0.04772586</td><td>-0.05594056</td><td>-0.05616774</td><td>-0.05859045</td><td>-0.05851768</td><td>-0.01079182</td></tr>\n",
       "\t<tr><th scope=row>FF alpha t-stat</th><td>-1.79737518</td><td>-2.06508515</td><td>-2.05329291</td><td>-2.17393914</td><td>-2.15727982</td><td>-4.58075234</td></tr>\n",
       "</tbody>\n",
       "</table>\n"
      ],
      "text/latex": [
       "A data.frame: 6 × 6\n",
       "\\begin{tabular}{r|llllll}\n",
       "  & 1 & 2 & 3 & 4 & 5 & 5 - 1\\\\\n",
       "  & <dbl> & <dbl> & <dbl> & <dbl> & <dbl> & <dbl>\\\\\n",
       "\\hline\n",
       "\taverage return & -0.04970802 & -0.05766072 & -0.05837361 & -0.06049427 & -0.06068055 & -0.01097253\\\\\n",
       "\taverage return t-stat & -1.75778952 & -1.89563405 & -1.92469916 & -2.03035576 & -1.96403606 & -6.16006663\\\\\n",
       "\tCAPM alpha & -0.04885616 & -0.05748662 & -0.05790278 & -0.05999811 & -0.06040633 & -0.01155016\\\\\n",
       "\tCAPM alpha t-stat & -1.57962996 & -1.78437972 & -1.75846761 & -1.86482382 & -1.84557181 & -5.49064573\\\\\n",
       "\tFF alpha & -0.04772586 & -0.05594056 & -0.05616774 & -0.05859045 & -0.05851768 & -0.01079182\\\\\n",
       "\tFF alpha t-stat & -1.79737518 & -2.06508515 & -2.05329291 & -2.17393914 & -2.15727982 & -4.58075234\\\\\n",
       "\\end{tabular}\n"
      ],
      "text/markdown": [
       "\n",
       "A data.frame: 6 × 6\n",
       "\n",
       "| <!--/--> | 1 &lt;dbl&gt; | 2 &lt;dbl&gt; | 3 &lt;dbl&gt; | 4 &lt;dbl&gt; | 5 &lt;dbl&gt; | 5 - 1 &lt;dbl&gt; |\n",
       "|---|---|---|---|---|---|---|\n",
       "| average return | -0.04970802 | -0.05766072 | -0.05837361 | -0.06049427 | -0.06068055 | -0.01097253 |\n",
       "| average return t-stat | -1.75778952 | -1.89563405 | -1.92469916 | -2.03035576 | -1.96403606 | -6.16006663 |\n",
       "| CAPM alpha | -0.04885616 | -0.05748662 | -0.05790278 | -0.05999811 | -0.06040633 | -0.01155016 |\n",
       "| CAPM alpha t-stat | -1.57962996 | -1.78437972 | -1.75846761 | -1.86482382 | -1.84557181 | -5.49064573 |\n",
       "| FF alpha | -0.04772586 | -0.05594056 | -0.05616774 | -0.05859045 | -0.05851768 | -0.01079182 |\n",
       "| FF alpha t-stat | -1.79737518 | -2.06508515 | -2.05329291 | -2.17393914 | -2.15727982 | -4.58075234 |\n",
       "\n"
      ],
      "text/plain": [
       "                      1           2           3           4          \n",
       "average return        -0.04970802 -0.05766072 -0.05837361 -0.06049427\n",
       "average return t-stat -1.75778952 -1.89563405 -1.92469916 -2.03035576\n",
       "CAPM alpha            -0.04885616 -0.05748662 -0.05790278 -0.05999811\n",
       "CAPM alpha t-stat     -1.57962996 -1.78437972 -1.75846761 -1.86482382\n",
       "FF alpha              -0.04772586 -0.05594056 -0.05616774 -0.05859045\n",
       "FF alpha t-stat       -1.79737518 -2.06508515 -2.05329291 -2.17393914\n",
       "                      5           5 - 1      \n",
       "average return        -0.06068055 -0.01097253\n",
       "average return t-stat -1.96403606 -6.16006663\n",
       "CAPM alpha            -0.06040633 -0.01155016\n",
       "CAPM alpha t-stat     -1.84557181 -5.49064573\n",
       "FF alpha              -0.05851768 -0.01079182\n",
       "FF alpha t-stat       -2.15727982 -4.58075234"
      ]
     },
     "metadata": {},
     "output_type": "display_data"
    },
    {
     "name": "stdout",
     "output_type": "stream",
     "text": [
      "[1] \"Value-weighted portfolio\"\n",
      "[1] \"VW: Size\"\n"
     ]
    },
    {
     "data": {
      "text/html": [
       "<table class=\"dataframe\">\n",
       "<caption>A data.frame: 6 × 6</caption>\n",
       "<thead>\n",
       "\t<tr><th></th><th scope=col>1</th><th scope=col>2</th><th scope=col>3</th><th scope=col>4</th><th scope=col>5</th><th scope=col>5 - 1</th></tr>\n",
       "\t<tr><th></th><th scope=col>&lt;dbl&gt;</th><th scope=col>&lt;dbl&gt;</th><th scope=col>&lt;dbl&gt;</th><th scope=col>&lt;dbl&gt;</th><th scope=col>&lt;dbl&gt;</th><th scope=col>&lt;dbl&gt;</th></tr>\n",
       "</thead>\n",
       "<tbody>\n",
       "\t<tr><th scope=row>average return</th><td>-0.04886994</td><td>-0.05523114</td><td>-0.05594754</td><td>-0.05861174</td><td>-0.05730864</td><td>-0.008438698</td></tr>\n",
       "\t<tr><th scope=row>average return t-stat</th><td>-1.69252316</td><td>-1.81296433</td><td>-1.83831627</td><td>-1.94488497</td><td>-1.86299477</td><td>-3.537890743</td></tr>\n",
       "\t<tr><th scope=row>CAPM alpha</th><td>-0.04803289</td><td>-0.05497732</td><td>-0.05537032</td><td>-0.05805747</td><td>-0.05690813</td><td>-0.008875243</td></tr>\n",
       "\t<tr><th scope=row>CAPM alpha t-stat</th><td>-1.53673395</td><td>-1.70539304</td><td>-1.67766527</td><td>-1.78707057</td><td>-1.76532060</td><td>-3.362262369</td></tr>\n",
       "\t<tr><th scope=row>FF alpha</th><td>-0.04660500</td><td>-0.05338942</td><td>-0.05358991</td><td>-0.05658790</td><td>-0.05484845</td><td>-0.008243454</td></tr>\n",
       "\t<tr><th scope=row>FF alpha t-stat</th><td>-1.75416765</td><td>-1.97284107</td><td>-1.96478883</td><td>-2.09966167</td><td>-2.03101372</td><td>-2.918352958</td></tr>\n",
       "</tbody>\n",
       "</table>\n"
      ],
      "text/latex": [
       "A data.frame: 6 × 6\n",
       "\\begin{tabular}{r|llllll}\n",
       "  & 1 & 2 & 3 & 4 & 5 & 5 - 1\\\\\n",
       "  & <dbl> & <dbl> & <dbl> & <dbl> & <dbl> & <dbl>\\\\\n",
       "\\hline\n",
       "\taverage return & -0.04886994 & -0.05523114 & -0.05594754 & -0.05861174 & -0.05730864 & -0.008438698\\\\\n",
       "\taverage return t-stat & -1.69252316 & -1.81296433 & -1.83831627 & -1.94488497 & -1.86299477 & -3.537890743\\\\\n",
       "\tCAPM alpha & -0.04803289 & -0.05497732 & -0.05537032 & -0.05805747 & -0.05690813 & -0.008875243\\\\\n",
       "\tCAPM alpha t-stat & -1.53673395 & -1.70539304 & -1.67766527 & -1.78707057 & -1.76532060 & -3.362262369\\\\\n",
       "\tFF alpha & -0.04660500 & -0.05338942 & -0.05358991 & -0.05658790 & -0.05484845 & -0.008243454\\\\\n",
       "\tFF alpha t-stat & -1.75416765 & -1.97284107 & -1.96478883 & -2.09966167 & -2.03101372 & -2.918352958\\\\\n",
       "\\end{tabular}\n"
      ],
      "text/markdown": [
       "\n",
       "A data.frame: 6 × 6\n",
       "\n",
       "| <!--/--> | 1 &lt;dbl&gt; | 2 &lt;dbl&gt; | 3 &lt;dbl&gt; | 4 &lt;dbl&gt; | 5 &lt;dbl&gt; | 5 - 1 &lt;dbl&gt; |\n",
       "|---|---|---|---|---|---|---|\n",
       "| average return | -0.04886994 | -0.05523114 | -0.05594754 | -0.05861174 | -0.05730864 | -0.008438698 |\n",
       "| average return t-stat | -1.69252316 | -1.81296433 | -1.83831627 | -1.94488497 | -1.86299477 | -3.537890743 |\n",
       "| CAPM alpha | -0.04803289 | -0.05497732 | -0.05537032 | -0.05805747 | -0.05690813 | -0.008875243 |\n",
       "| CAPM alpha t-stat | -1.53673395 | -1.70539304 | -1.67766527 | -1.78707057 | -1.76532060 | -3.362262369 |\n",
       "| FF alpha | -0.04660500 | -0.05338942 | -0.05358991 | -0.05658790 | -0.05484845 | -0.008243454 |\n",
       "| FF alpha t-stat | -1.75416765 | -1.97284107 | -1.96478883 | -2.09966167 | -2.03101372 | -2.918352958 |\n",
       "\n"
      ],
      "text/plain": [
       "                      1           2           3           4          \n",
       "average return        -0.04886994 -0.05523114 -0.05594754 -0.05861174\n",
       "average return t-stat -1.69252316 -1.81296433 -1.83831627 -1.94488497\n",
       "CAPM alpha            -0.04803289 -0.05497732 -0.05537032 -0.05805747\n",
       "CAPM alpha t-stat     -1.53673395 -1.70539304 -1.67766527 -1.78707057\n",
       "FF alpha              -0.04660500 -0.05338942 -0.05358991 -0.05658790\n",
       "FF alpha t-stat       -1.75416765 -1.97284107 -1.96478883 -2.09966167\n",
       "                      5           5 - 1       \n",
       "average return        -0.05730864 -0.008438698\n",
       "average return t-stat -1.86299477 -3.537890743\n",
       "CAPM alpha            -0.05690813 -0.008875243\n",
       "CAPM alpha t-stat     -1.76532060 -3.362262369\n",
       "FF alpha              -0.05484845 -0.008243454\n",
       "FF alpha t-stat       -2.03101372 -2.918352958"
      ]
     },
     "metadata": {},
     "output_type": "display_data"
    }
   ],
   "source": [
    "print(\"Equally-weighted portfolio\")\n",
    "print(\"EW: Size\")\n",
    "EW_portfolio_results_size\n",
    "\n",
    "print(\"Value-weighted portfolio\")\n",
    "print(\"VW: Size\")\n",
    "VW_portfolio_results_size"
   ]
  },
  {
   "cell_type": "markdown",
   "id": "745837d4",
   "metadata": {},
   "source": [
    "We can see the decreasing average alpha coefficient for the size-sorted portfolios. In other words, larger firms concentrated in portfolio 4 and 5 tend to have lower average returns than the smaller firms in portfolios 1 and 2. This observation supports a theoretical assumption of smaller companies being riskier (e.g. due to their higher probability of default and lower stability in market environment) and thus having higher returns to compensate investor for this riskiness. Same as before, the t-statistic are not significant for the simple average and CAPM model alpha and only slightly significant for the FF model. \n",
    "\n",
    "Since value-weighted portfolio seems to have a little bit \"less negative\" average returns once again, there could be a small skewness due to underestimating of positive returns of larger companies. Since t-statistic on 5-1 portfolio is significant in this case, we can conclude that an investor should have a long position on portfolio 1 and short position on 5.  "
   ]
  },
  {
   "cell_type": "markdown",
   "id": "bd87a013",
   "metadata": {},
   "source": [
    "#### (iii) Book-to-market ratio"
   ]
  },
  {
   "cell_type": "code",
   "execution_count": 29,
   "id": "4dd7339d",
   "metadata": {
    "vscode": {
     "languageId": "r"
    }
   },
   "outputs": [
    {
     "name": "stdout",
     "output_type": "stream",
     "text": [
      "[1] \"Equally-weighted portfolio\"\n",
      "[1] \"EW: Book to Market\"\n"
     ]
    },
    {
     "data": {
      "text/html": [
       "<table class=\"dataframe\">\n",
       "<caption>A data.frame: 6 × 6</caption>\n",
       "<thead>\n",
       "\t<tr><th></th><th scope=col>1</th><th scope=col>2</th><th scope=col>3</th><th scope=col>4</th><th scope=col>5</th><th scope=col>5 - 1</th></tr>\n",
       "\t<tr><th></th><th scope=col>&lt;dbl&gt;</th><th scope=col>&lt;dbl&gt;</th><th scope=col>&lt;dbl&gt;</th><th scope=col>&lt;dbl&gt;</th><th scope=col>&lt;dbl&gt;</th><th scope=col>&lt;dbl&gt;</th></tr>\n",
       "</thead>\n",
       "<tbody>\n",
       "\t<tr><th scope=row>average return</th><td>-0.05364340</td><td>-0.05803746</td><td>-0.05777019</td><td>-0.05998162</td><td>-0.05776707</td><td>-0.004123672</td></tr>\n",
       "\t<tr><th scope=row>average return t-stat</th><td>-1.81429372</td><td>-1.95222884</td><td>-1.92196083</td><td>-1.91019918</td><td>-2.07196804</td><td>-1.477755728</td></tr>\n",
       "\t<tr><th scope=row>CAPM alpha</th><td>-0.05331438</td><td>-0.05780123</td><td>-0.05729727</td><td>-0.05955687</td><td>-0.05701852</td><td>-0.003704138</td></tr>\n",
       "\t<tr><th scope=row>CAPM alpha t-stat</th><td>-1.70535600</td><td>-1.86371009</td><td>-1.78321959</td><td>-1.71326651</td><td>-1.87533594</td><td>-1.254041413</td></tr>\n",
       "\t<tr><th scope=row>FF alpha</th><td>-0.05193733</td><td>-0.05612682</td><td>-0.05566016</td><td>-0.05801988</td><td>-0.05555621</td><td>-0.003618878</td></tr>\n",
       "\t<tr><th scope=row>FF alpha t-stat</th><td>-1.90698647</td><td>-2.08074219</td><td>-2.06078410</td><td>-2.10233648</td><td>-2.17113318</td><td>-1.188614054</td></tr>\n",
       "</tbody>\n",
       "</table>\n"
      ],
      "text/latex": [
       "A data.frame: 6 × 6\n",
       "\\begin{tabular}{r|llllll}\n",
       "  & 1 & 2 & 3 & 4 & 5 & 5 - 1\\\\\n",
       "  & <dbl> & <dbl> & <dbl> & <dbl> & <dbl> & <dbl>\\\\\n",
       "\\hline\n",
       "\taverage return & -0.05364340 & -0.05803746 & -0.05777019 & -0.05998162 & -0.05776707 & -0.004123672\\\\\n",
       "\taverage return t-stat & -1.81429372 & -1.95222884 & -1.92196083 & -1.91019918 & -2.07196804 & -1.477755728\\\\\n",
       "\tCAPM alpha & -0.05331438 & -0.05780123 & -0.05729727 & -0.05955687 & -0.05701852 & -0.003704138\\\\\n",
       "\tCAPM alpha t-stat & -1.70535600 & -1.86371009 & -1.78321959 & -1.71326651 & -1.87533594 & -1.254041413\\\\\n",
       "\tFF alpha & -0.05193733 & -0.05612682 & -0.05566016 & -0.05801988 & -0.05555621 & -0.003618878\\\\\n",
       "\tFF alpha t-stat & -1.90698647 & -2.08074219 & -2.06078410 & -2.10233648 & -2.17113318 & -1.188614054\\\\\n",
       "\\end{tabular}\n"
      ],
      "text/markdown": [
       "\n",
       "A data.frame: 6 × 6\n",
       "\n",
       "| <!--/--> | 1 &lt;dbl&gt; | 2 &lt;dbl&gt; | 3 &lt;dbl&gt; | 4 &lt;dbl&gt; | 5 &lt;dbl&gt; | 5 - 1 &lt;dbl&gt; |\n",
       "|---|---|---|---|---|---|---|\n",
       "| average return | -0.05364340 | -0.05803746 | -0.05777019 | -0.05998162 | -0.05776707 | -0.004123672 |\n",
       "| average return t-stat | -1.81429372 | -1.95222884 | -1.92196083 | -1.91019918 | -2.07196804 | -1.477755728 |\n",
       "| CAPM alpha | -0.05331438 | -0.05780123 | -0.05729727 | -0.05955687 | -0.05701852 | -0.003704138 |\n",
       "| CAPM alpha t-stat | -1.70535600 | -1.86371009 | -1.78321959 | -1.71326651 | -1.87533594 | -1.254041413 |\n",
       "| FF alpha | -0.05193733 | -0.05612682 | -0.05566016 | -0.05801988 | -0.05555621 | -0.003618878 |\n",
       "| FF alpha t-stat | -1.90698647 | -2.08074219 | -2.06078410 | -2.10233648 | -2.17113318 | -1.188614054 |\n",
       "\n"
      ],
      "text/plain": [
       "                      1           2           3           4          \n",
       "average return        -0.05364340 -0.05803746 -0.05777019 -0.05998162\n",
       "average return t-stat -1.81429372 -1.95222884 -1.92196083 -1.91019918\n",
       "CAPM alpha            -0.05331438 -0.05780123 -0.05729727 -0.05955687\n",
       "CAPM alpha t-stat     -1.70535600 -1.86371009 -1.78321959 -1.71326651\n",
       "FF alpha              -0.05193733 -0.05612682 -0.05566016 -0.05801988\n",
       "FF alpha t-stat       -1.90698647 -2.08074219 -2.06078410 -2.10233648\n",
       "                      5           5 - 1       \n",
       "average return        -0.05776707 -0.004123672\n",
       "average return t-stat -2.07196804 -1.477755728\n",
       "CAPM alpha            -0.05701852 -0.003704138\n",
       "CAPM alpha t-stat     -1.87533594 -1.254041413\n",
       "FF alpha              -0.05555621 -0.003618878\n",
       "FF alpha t-stat       -2.17113318 -1.188614054"
      ]
     },
     "metadata": {},
     "output_type": "display_data"
    },
    {
     "name": "stdout",
     "output_type": "stream",
     "text": [
      "[1] \"Value-weighted portfolio\"\n",
      "[1] \"VW: Book to Market\"\n"
     ]
    },
    {
     "data": {
      "text/html": [
       "<table class=\"dataframe\">\n",
       "<caption>A data.frame: 6 × 6</caption>\n",
       "<thead>\n",
       "\t<tr><th></th><th scope=col>1</th><th scope=col>2</th><th scope=col>3</th><th scope=col>4</th><th scope=col>5</th><th scope=col>5 - 1</th></tr>\n",
       "\t<tr><th></th><th scope=col>&lt;dbl&gt;</th><th scope=col>&lt;dbl&gt;</th><th scope=col>&lt;dbl&gt;</th><th scope=col>&lt;dbl&gt;</th><th scope=col>&lt;dbl&gt;</th><th scope=col>&lt;dbl&gt;</th></tr>\n",
       "</thead>\n",
       "<tbody>\n",
       "\t<tr><th scope=row>average return</th><td>-0.05328468</td><td>-0.05799912</td><td>-0.05840982</td><td>-0.06041282</td><td>-0.06007420</td><td>-0.006789522</td></tr>\n",
       "\t<tr><th scope=row>average return t-stat</th><td>-1.78108284</td><td>-1.85719511</td><td>-1.77304584</td><td>-1.92877728</td><td>-2.22017318</td><td>-1.687851494</td></tr>\n",
       "\t<tr><th scope=row>CAPM alpha</th><td>-0.05315330</td><td>-0.05756443</td><td>-0.05794356</td><td>-0.05959824</td><td>-0.05925900</td><td>-0.006105701</td></tr>\n",
       "\t<tr><th scope=row>CAPM alpha t-stat</th><td>-1.72921462</td><td>-1.76414661</td><td>-1.63667789</td><td>-1.73480509</td><td>-2.04983754</td><td>-1.391294236</td></tr>\n",
       "\t<tr><th scope=row>FF alpha</th><td>-0.05121654</td><td>-0.05579415</td><td>-0.05596943</td><td>-0.05772971</td><td>-0.05775947</td><td>-0.006542932</td></tr>\n",
       "\t<tr><th scope=row>FF alpha t-stat</th><td>-1.92208352</td><td>-2.02274944</td><td>-1.96914090</td><td>-2.10333189</td><td>-2.32058667</td><td>-1.527890430</td></tr>\n",
       "</tbody>\n",
       "</table>\n"
      ],
      "text/latex": [
       "A data.frame: 6 × 6\n",
       "\\begin{tabular}{r|llllll}\n",
       "  & 1 & 2 & 3 & 4 & 5 & 5 - 1\\\\\n",
       "  & <dbl> & <dbl> & <dbl> & <dbl> & <dbl> & <dbl>\\\\\n",
       "\\hline\n",
       "\taverage return & -0.05328468 & -0.05799912 & -0.05840982 & -0.06041282 & -0.06007420 & -0.006789522\\\\\n",
       "\taverage return t-stat & -1.78108284 & -1.85719511 & -1.77304584 & -1.92877728 & -2.22017318 & -1.687851494\\\\\n",
       "\tCAPM alpha & -0.05315330 & -0.05756443 & -0.05794356 & -0.05959824 & -0.05925900 & -0.006105701\\\\\n",
       "\tCAPM alpha t-stat & -1.72921462 & -1.76414661 & -1.63667789 & -1.73480509 & -2.04983754 & -1.391294236\\\\\n",
       "\tFF alpha & -0.05121654 & -0.05579415 & -0.05596943 & -0.05772971 & -0.05775947 & -0.006542932\\\\\n",
       "\tFF alpha t-stat & -1.92208352 & -2.02274944 & -1.96914090 & -2.10333189 & -2.32058667 & -1.527890430\\\\\n",
       "\\end{tabular}\n"
      ],
      "text/markdown": [
       "\n",
       "A data.frame: 6 × 6\n",
       "\n",
       "| <!--/--> | 1 &lt;dbl&gt; | 2 &lt;dbl&gt; | 3 &lt;dbl&gt; | 4 &lt;dbl&gt; | 5 &lt;dbl&gt; | 5 - 1 &lt;dbl&gt; |\n",
       "|---|---|---|---|---|---|---|\n",
       "| average return | -0.05328468 | -0.05799912 | -0.05840982 | -0.06041282 | -0.06007420 | -0.006789522 |\n",
       "| average return t-stat | -1.78108284 | -1.85719511 | -1.77304584 | -1.92877728 | -2.22017318 | -1.687851494 |\n",
       "| CAPM alpha | -0.05315330 | -0.05756443 | -0.05794356 | -0.05959824 | -0.05925900 | -0.006105701 |\n",
       "| CAPM alpha t-stat | -1.72921462 | -1.76414661 | -1.63667789 | -1.73480509 | -2.04983754 | -1.391294236 |\n",
       "| FF alpha | -0.05121654 | -0.05579415 | -0.05596943 | -0.05772971 | -0.05775947 | -0.006542932 |\n",
       "| FF alpha t-stat | -1.92208352 | -2.02274944 | -1.96914090 | -2.10333189 | -2.32058667 | -1.527890430 |\n",
       "\n"
      ],
      "text/plain": [
       "                      1           2           3           4          \n",
       "average return        -0.05328468 -0.05799912 -0.05840982 -0.06041282\n",
       "average return t-stat -1.78108284 -1.85719511 -1.77304584 -1.92877728\n",
       "CAPM alpha            -0.05315330 -0.05756443 -0.05794356 -0.05959824\n",
       "CAPM alpha t-stat     -1.72921462 -1.76414661 -1.63667789 -1.73480509\n",
       "FF alpha              -0.05121654 -0.05579415 -0.05596943 -0.05772971\n",
       "FF alpha t-stat       -1.92208352 -2.02274944 -1.96914090 -2.10333189\n",
       "                      5           5 - 1       \n",
       "average return        -0.06007420 -0.006789522\n",
       "average return t-stat -2.22017318 -1.687851494\n",
       "CAPM alpha            -0.05925900 -0.006105701\n",
       "CAPM alpha t-stat     -2.04983754 -1.391294236\n",
       "FF alpha              -0.05775947 -0.006542932\n",
       "FF alpha t-stat       -2.32058667 -1.527890430"
      ]
     },
     "metadata": {},
     "output_type": "display_data"
    }
   ],
   "source": [
    "print(\"Equally-weighted portfolio\")\n",
    "print(\"EW: Book to Market\")\n",
    "EW_portfolio_results_book_to_market\n",
    "\n",
    "print(\"Value-weighted portfolio\")\n",
    "print(\"VW: Book to Market\")\n",
    "VW_portfolio_results_book_to_market"
   ]
  },
  {
   "cell_type": "markdown",
   "id": "4c0d5e68",
   "metadata": {},
   "source": [
    "With the average returns coefficients having slightly decreasing size for companies with higher book-to-market ratio. This could suggest that the \"growth stocks\" have a bit higher returns than the \"value stocks\" that goes hand by hand with a theoretical assumption. The t-statistics are once again significant only in some cases, mainly for the FF-model controlling for market factors. Since neither of the t-statistic on the 5-1 portfolio is significant, we cannot say anything about the long and short position. The coefficients are once again \"less negative\" using the value-weighted scheme, however, this difference is very small in this case.   "
   ]
  },
  {
   "cell_type": "markdown",
   "id": "ac002927",
   "metadata": {},
   "source": [
    "### b) Fama-MacBeth regression"
   ]
  },
  {
   "cell_type": "markdown",
   "id": "4333830f",
   "metadata": {},
   "source": [
    "#### (i) Effect of size independently"
   ]
  },
  {
   "cell_type": "code",
   "execution_count": 30,
   "id": "c965aafe",
   "metadata": {
    "vscode": {
     "languageId": "r"
    }
   },
   "outputs": [
    {
     "name": "stdout",
     "output_type": "stream",
     "text": [
      "[1] \"Independent size effect\"\n"
     ]
    },
    {
     "data": {
      "text/plain": [
       "             Intercept         Size          R^2 Adjusted R^2   N\n",
       "2010-02-28  0.08537439 -0.005167857 0.0103693027  0.006121961 235\n",
       "2010-03-31  0.07199080 -0.007870397 0.0200350250  0.015829167 235\n",
       "2010-04-30 -0.02202517 -0.010164942 0.0392331228  0.035091886 234\n",
       "2010-05-31 -0.04748911 -0.001683906 0.0011192495 -0.003186271 234\n",
       "2010-06-30  0.04969456  0.001772287 0.0009148128 -0.003373106 235\n",
       "2010-07-31 -0.04037301 -0.002215755 0.0015456333 -0.002685106 238"
      ]
     },
     "metadata": {},
     "output_type": "display_data"
    },
    {
     "data": {
      "text/html": [
       "<table class=\"dataframe\">\n",
       "<caption>A data.frame: 2 × 2</caption>\n",
       "<thead>\n",
       "\t<tr><th></th><th scope=col>Intercept</th><th scope=col>Size</th></tr>\n",
       "\t<tr><th></th><th scope=col>&lt;dbl&gt;</th><th scope=col>&lt;dbl&gt;</th></tr>\n",
       "</thead>\n",
       "<tbody>\n",
       "\t<tr><th scope=row>1</th><td>-0.03829303</td><td>-0.00323626</td></tr>\n",
       "\t<tr><th scope=row>2</th><td>-1.41018457</td><td>-6.15458626</td></tr>\n",
       "</tbody>\n",
       "</table>\n"
      ],
      "text/latex": [
       "A data.frame: 2 × 2\n",
       "\\begin{tabular}{r|ll}\n",
       "  & Intercept & Size\\\\\n",
       "  & <dbl> & <dbl>\\\\\n",
       "\\hline\n",
       "\t1 & -0.03829303 & -0.00323626\\\\\n",
       "\t2 & -1.41018457 & -6.15458626\\\\\n",
       "\\end{tabular}\n"
      ],
      "text/markdown": [
       "\n",
       "A data.frame: 2 × 2\n",
       "\n",
       "| <!--/--> | Intercept &lt;dbl&gt; | Size &lt;dbl&gt; |\n",
       "|---|---|---|\n",
       "| 1 | -0.03829303 | -0.00323626 |\n",
       "| 2 | -1.41018457 | -6.15458626 |\n",
       "\n"
      ],
      "text/plain": [
       "  Intercept   Size       \n",
       "1 -0.03829303 -0.00323626\n",
       "2 -1.41018457 -6.15458626"
      ]
     },
     "metadata": {},
     "output_type": "display_data"
    }
   ],
   "source": [
    "print(\"Independent size effect\")\n",
    "head(fm_cs_indep)\n",
    "head(fm_indep)"
   ]
  },
  {
   "cell_type": "markdown",
   "id": "dd40fd93",
   "metadata": {},
   "source": [
    "The Fama-MacBeth regression results found a statistically significant negative affect of size on portfolio average returns. Therefore, we can conclude that larger firms have on average slightly lower one-month-advance returns that these with lower size. This finding corresponds also to the previous finding above with the size being the sorting variable. Theoretically, investing in smaller firms should be rewarded by higher returns since this investment is riskier in terms of, for example, higher probability of company's default, higher fluctuation due to the market conditions. In the iinvesting point of view, size as a relevant factor for company's future returns could be theoretically used for predictions and investment strategy. "
   ]
  },
  {
   "cell_type": "markdown",
   "id": "90cbd15d",
   "metadata": {},
   "source": [
    "#### (ii) Effect of size with Beta and Book-to-Market ratios controls"
   ]
  },
  {
   "cell_type": "code",
   "execution_count": 31,
   "id": "f87afb71",
   "metadata": {
    "vscode": {
     "languageId": "r"
    }
   },
   "outputs": [
    {
     "name": "stdout",
     "output_type": "stream",
     "text": [
      "[1] \"Dependent size effect\"\n"
     ]
    },
    {
     "data": {
      "text/plain": [
       "             Intercept         Size Book_to_market       Beta        R^2\n",
       "2011-02-28  0.11113845 -0.015989660   -0.017170245  -0.706583 0.13729002\n",
       "2011-03-31  0.08177565 -0.003668668   -0.009477152  -1.932728 0.03355343\n",
       "2011-04-30  0.08731898 -0.005650246   -0.014586434  -4.863351 0.12386782\n",
       "2011-05-31  0.02351362 -0.001817961   -0.012888975  -1.666071 0.04050094\n",
       "2011-06-30 -0.03098609  0.003023331    0.001967405  -2.115652 0.02077328\n",
       "2011-07-31  0.13579248 -0.010157504   -0.012560894 -13.098052 0.33812838\n",
       "           Adjusted R^2   N\n",
       "2011-02-28  0.126134283 236\n",
       "2011-03-31  0.021002181 235\n",
       "2011-04-30  0.112538523 236\n",
       "2011-05-31  0.028146878 237\n",
       "2011-06-30  0.008219094 238\n",
       "2011-07-31  0.329678959 239"
      ]
     },
     "metadata": {},
     "output_type": "display_data"
    },
    {
     "data": {
      "text/html": [
       "<table class=\"dataframe\">\n",
       "<caption>A data.frame: 2 × 4</caption>\n",
       "<thead>\n",
       "\t<tr><th></th><th scope=col>Intercept</th><th scope=col>Size</th><th scope=col>Book_to_market</th><th scope=col>Beta</th></tr>\n",
       "\t<tr><th></th><th scope=col>&lt;dbl&gt;</th><th scope=col>&lt;dbl&gt;</th><th scope=col>&lt;dbl&gt;</th><th scope=col>&lt;dbl&gt;</th></tr>\n",
       "</thead>\n",
       "<tbody>\n",
       "\t<tr><th scope=row>1</th><td>-0.05192624</td><td>-0.002689226</td><td>-0.004633392</td><td>0.6522987</td></tr>\n",
       "\t<tr><th scope=row>2</th><td>-1.69106467</td><td>-6.350258873</td><td>-2.016458064</td><td>1.3329654</td></tr>\n",
       "</tbody>\n",
       "</table>\n"
      ],
      "text/latex": [
       "A data.frame: 2 × 4\n",
       "\\begin{tabular}{r|llll}\n",
       "  & Intercept & Size & Book\\_to\\_market & Beta\\\\\n",
       "  & <dbl> & <dbl> & <dbl> & <dbl>\\\\\n",
       "\\hline\n",
       "\t1 & -0.05192624 & -0.002689226 & -0.004633392 & 0.6522987\\\\\n",
       "\t2 & -1.69106467 & -6.350258873 & -2.016458064 & 1.3329654\\\\\n",
       "\\end{tabular}\n"
      ],
      "text/markdown": [
       "\n",
       "A data.frame: 2 × 4\n",
       "\n",
       "| <!--/--> | Intercept &lt;dbl&gt; | Size &lt;dbl&gt; | Book_to_market &lt;dbl&gt; | Beta &lt;dbl&gt; |\n",
       "|---|---|---|---|---|\n",
       "| 1 | -0.05192624 | -0.002689226 | -0.004633392 | 0.6522987 |\n",
       "| 2 | -1.69106467 | -6.350258873 | -2.016458064 | 1.3329654 |\n",
       "\n"
      ],
      "text/plain": [
       "  Intercept   Size         Book_to_market Beta     \n",
       "1 -0.05192624 -0.002689226 -0.004633392   0.6522987\n",
       "2 -1.69106467 -6.350258873 -2.016458064   1.3329654"
      ]
     },
     "metadata": {},
     "output_type": "display_data"
    }
   ],
   "source": [
    "print(\"Dependent size effect\")\n",
    "head(fm_cs_dep)\n",
    "head(fm_dep)"
   ]
  },
  {
   "cell_type": "markdown",
   "id": "4b4d2ea3",
   "metadata": {},
   "source": [
    "Incorporating book-to-market ratio and riskiness (beta) to the Fama-Macbeth regression as control variables did not change the coefficient significance. Since all the sorting variable have a significant effect on future returns going in an expected direction, we can once again conclude that the larger companies tend to have smaller average returns. The effect being slightly 'less negative' that in the previous case shows that this could be overestimated without controlling for other market factors."
   ]
  },
  {
   "cell_type": "markdown",
   "id": "5e4d482d",
   "metadata": {},
   "source": [
    "## 5. Conclusion"
   ]
  },
  {
   "cell_type": "markdown",
   "id": "d89fe1b7",
   "metadata": {},
   "source": [
    "In this analysis, 250 stocks were divided into 5 portfolios based on three sorting variables (beta coefficient, size, book-to-market ratio) and their average returns calculated using the equally and value-weighted methods. The average returns measured by all sorting variables as well as Fama-MacBeth regression were utilized to estimate an effect of sorting variables on company's future stock returns.\n",
    "\n",
    "We found a statistically significant effect of size on company's future returns as predicted by standard theory suggesting that smaller companies reward investors by higher average returns mainly due to their higher riskiness. On the other hand, calculating the average values by employing standard average, CAPM model, and FF model did not reveal or only slighlty significan estimates. In conclusion, we attemted to confirm the theoretical assumption of size and book-to-market ratio going opposite the direction of average returns as well as riskiness (beta) going in the same direction. "
   ]
  }
 ],
 "metadata": {
  "kernelspec": {
   "display_name": "R",
   "language": "R",
   "name": "ir"
  },
  "language_info": {
   "codemirror_mode": "r",
   "file_extension": ".r",
   "mimetype": "text/x-r-source",
   "name": "R",
   "pygments_lexer": "r",
   "version": "4.3.2"
  }
 },
 "nbformat": 4,
 "nbformat_minor": 5
}
