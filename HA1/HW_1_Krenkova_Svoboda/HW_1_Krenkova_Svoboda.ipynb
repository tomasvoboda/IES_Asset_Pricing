{
 "cells": [
  {
   "cell_type": "markdown",
   "id": "5c3dd209-a885-4c5f-8da7-dc1b3fcaa164",
   "metadata": {},
   "source": [
    "# JEM092 - Asset Pricing HW1 - Pavlína Křenková & Tomáš Svoboda"
   ]
  },
  {
   "cell_type": "code",
   "execution_count": 4,
   "id": "410b6dd0-17eb-47c2-8452-b9fe40a9488a",
   "metadata": {
    "vscode": {
     "languageId": "r"
    }
   },
   "outputs": [
    {
     "name": "stderr",
     "output_type": "stream",
     "text": [
      "Warning message:\n",
      "\"package 'rvest' was built under R version 4.3.3\"\n"
     ]
    }
   ],
   "source": [
    "# libraries\n",
    "shhh = suppressPackageStartupMessages #load quietly\n",
    "shhh(library(quantmod))\n",
    "shhh(library(dplyr))\n",
    "shhh(library(httr))\n",
    "shhh(library(rvest))\n",
    "shhh(library(xts))\n",
    "shhh(library(stringr))\n",
    "shhh(library(jsonlite))"
   ]
  },
  {
   "cell_type": "markdown",
   "id": "3d3d472b-7bac-490c-9b4a-c8f8b8e636ac",
   "metadata": {},
   "source": [
    "## Task 1: Downloading the data"
   ]
  },
  {
   "cell_type": "code",
   "execution_count": 19,
   "id": "93278047-e9a3-46d9-9866-677cd264757c",
   "metadata": {
    "vscode": {
     "languageId": "r"
    }
   },
   "outputs": [],
   "source": [
    "# Load the tickers\n",
    "zip_path = \"data_HW1.zip\"\n",
    "csv_file = \"98698413_data_download.csv\" # Pavlina's student number\n",
    "temp = tempfile() # temporary file path for unzipping\n",
    "unzip(zip_path, files = csv_file, exdir = temp) # unzip into the temp directory\n",
    "csv_path = file.path(temp, csv_file)\n",
    "tickers = read.csv(csv_path)\n",
    "unlink(temp, recursive = TRUE) # just a clean-up: delete temp directory"
   ]
  },
  {
   "cell_type": "code",
   "execution_count": 4,
   "id": "37278dc4-a673-408d-8ca3-cbe197898c8b",
   "metadata": {
    "vscode": {
     "languageId": "r"
    }
   },
   "outputs": [
    {
     "data": {
      "text/html": [
       "<table class=\"dataframe\">\n",
       "<caption>A data.frame: 6 × 2</caption>\n",
       "<thead>\n",
       "\t<tr><th></th><th scope=col>X</th><th scope=col>x</th></tr>\n",
       "\t<tr><th></th><th scope=col>&lt;int&gt;</th><th scope=col>&lt;chr&gt;</th></tr>\n",
       "</thead>\n",
       "<tbody>\n",
       "\t<tr><th scope=row>1</th><td>1</td><td>UDR </td></tr>\n",
       "\t<tr><th scope=row>2</th><td>2</td><td>CPB </td></tr>\n",
       "\t<tr><th scope=row>3</th><td>3</td><td>MTB </td></tr>\n",
       "\t<tr><th scope=row>4</th><td>4</td><td>BMY </td></tr>\n",
       "\t<tr><th scope=row>5</th><td>5</td><td>EFX </td></tr>\n",
       "\t<tr><th scope=row>6</th><td>6</td><td>CHRW</td></tr>\n",
       "</tbody>\n",
       "</table>\n"
      ],
      "text/latex": [
       "A data.frame: 6 × 2\n",
       "\\begin{tabular}{r|ll}\n",
       "  & X & x\\\\\n",
       "  & <int> & <chr>\\\\\n",
       "\\hline\n",
       "\t1 & 1 & UDR \\\\\n",
       "\t2 & 2 & CPB \\\\\n",
       "\t3 & 3 & MTB \\\\\n",
       "\t4 & 4 & BMY \\\\\n",
       "\t5 & 5 & EFX \\\\\n",
       "\t6 & 6 & CHRW\\\\\n",
       "\\end{tabular}\n"
      ],
      "text/markdown": [
       "\n",
       "A data.frame: 6 × 2\n",
       "\n",
       "| <!--/--> | X &lt;int&gt; | x &lt;chr&gt; |\n",
       "|---|---|---|\n",
       "| 1 | 1 | UDR  |\n",
       "| 2 | 2 | CPB  |\n",
       "| 3 | 3 | MTB  |\n",
       "| 4 | 4 | BMY  |\n",
       "| 5 | 5 | EFX  |\n",
       "| 6 | 6 | CHRW |\n",
       "\n"
      ],
      "text/plain": [
       "  X x   \n",
       "1 1 UDR \n",
       "2 2 CPB \n",
       "3 3 MTB \n",
       "4 4 BMY \n",
       "5 5 EFX \n",
       "6 6 CHRW"
      ]
     },
     "metadata": {},
     "output_type": "display_data"
    },
    {
     "data": {
      "text/plain": [
       "       X               x            \n",
       " Min.   :  1.00   Length:250        \n",
       " 1st Qu.: 63.25   Class :character  \n",
       " Median :125.50   Mode  :character  \n",
       " Mean   :125.50                     \n",
       " 3rd Qu.:187.75                     \n",
       " Max.   :250.00                     "
      ]
     },
     "metadata": {},
     "output_type": "display_data"
    }
   ],
   "source": [
    "head(tickers)\n",
    "summary(tickers)"
   ]
  },
  {
   "cell_type": "markdown",
   "id": "51e00749-1ec2-4d01-86ea-fd0cf1a48855",
   "metadata": {},
   "source": [
    "### (1) Adjusted closing prices and volume"
   ]
  },
  {
   "cell_type": "markdown",
   "id": "da8f4e83-db0a-4df1-83aa-4eccb6dbd82c",
   "metadata": {},
   "source": [
    "To get the closing prices and volume from yahoo we iterate over the list of stocks and use the *getSymbols* function from quantmod package. The result is a list *`price_volume_xts`* of xts objects, one for each firm."
   ]
  },
  {
   "cell_type": "code",
   "execution_count": 20,
   "id": "b56d64c4-b48f-4f16-84e5-d692c45dbd88",
   "metadata": {
    "vscode": {
     "languageId": "r"
    }
   },
   "outputs": [
    {
     "data": {
      "text/plain": [
       "           UDR.Open UDR.High UDR.Low UDR.Close UDR.Volume UDR.Adjusted\n",
       "2010-01-04    16.56    16.71   16.14     16.21    1835200     9.739023\n",
       "2010-01-05    16.20    16.30   16.01     16.19    1665600     9.727007\n",
       "2010-01-06    16.22    16.42   15.96     16.08    1889000     9.660916\n",
       "2010-01-07    16.04    16.42   15.82     16.20    1792000     9.733016\n",
       "2010-01-08    16.04    16.18   15.77     15.88    1099800     9.540758\n",
       "2010-01-11    16.09    16.25   15.96     15.99    1531200     9.606846"
      ]
     },
     "metadata": {},
     "output_type": "display_data"
    },
    {
     "data": {
      "text/plain": [
       "           UDR.Open UDR.High UDR.Low UDR.Close UDR.Volume UDR.Adjusted\n",
       "2024-02-21    35.85    36.33   35.66     36.30    2890100     35.89002\n",
       "2024-02-22    36.45    36.45   36.10     36.15    2666600     35.74172\n",
       "2024-02-23    36.13    36.21   35.84     35.85    1708000     35.44510\n",
       "2024-02-26    35.70    35.88   34.96     35.02    1782200     34.62448\n",
       "2024-02-27    35.33    35.66   34.90     35.08    3058000     34.68380\n",
       "2024-02-28    34.76    35.83   34.76     35.41    2436100     35.01007"
      ]
     },
     "metadata": {},
     "output_type": "display_data"
    }
   ],
   "source": [
    "start_date = as.Date(\"2010-01-01\")\n",
    "end_date = as.Date(\"2024-02-29\") # it is exclusive of this day\n",
    "\n",
    "tickers_data = list() # store in a list, we will have 250 elements - xts objects\n",
    "\n",
    "for(ticker in tickers$x) {\n",
    "  symb = getSymbols(ticker, src = \"yahoo\", from = start_date, to = end_date, auto.assign = FALSE) # get the data\n",
    "  \n",
    "  tickers_data[[ticker]] = symb # store in the list under name of the stock\n",
    "}\n",
    "head(tickers_data$UDR) # example\n",
    "tail(tickers_data$UDR) # example"
   ]
  },
  {
   "cell_type": "markdown",
   "id": "f940cde1-4fa6-4502-83b0-398ef71371a5",
   "metadata": {},
   "source": [
    "Although we restrict the download for 2010-01-01 and later, our sample starts 3 days later, data for before was not available."
   ]
  },
  {
   "cell_type": "code",
   "execution_count": 21,
   "id": "1eca72bd-5c44-4ba9-b562-c33f616c3acb",
   "metadata": {
    "vscode": {
     "languageId": "r"
    }
   },
   "outputs": [
    {
     "data": {
      "text/html": [
       "<style>\n",
       ".dl-inline {width: auto; margin:0; padding: 0}\n",
       ".dl-inline>dt, .dl-inline>dd {float: none; width: auto; display: inline-block}\n",
       ".dl-inline>dt::after {content: \":\\0020\"; padding-right: .5ex}\n",
       ".dl-inline>dt:not(:first-of-type) {padding-left: .5ex}\n",
       "</style><dl class=dl-inline><dt>XYL</dt><dd>3113</dd><dt>MPC</dt><dd>3190</dd><dt>HII</dt><dd>3256</dd><dt>HCA</dt><dd>3264</dd><dt>KMI</dt><dd>3282</dd><dt>TRGP</dt><dd>3328</dd><dt>GM</dt><dd>3340</dd><dt>NXPI</dt><dd>3413</dd><dt>TSLA</dt><dd>3440</dd><dt>CBOE</dt><dd>3450</dd><dt>GNRC</dt><dd>3535</dd><dt>UDR</dt><dd>3562</dd><dt>CPB</dt><dd>3562</dd><dt>MTB</dt><dd>3562</dd><dt>BMY</dt><dd>3562</dd><dt>EFX</dt><dd>3562</dd><dt>CHRW</dt><dd>3562</dd><dt>TYL</dt><dd>3562</dd><dt>TEL</dt><dd>3562</dd><dt>PGR</dt><dd>3562</dd><dt>DXCM</dt><dd>3562</dd><dt>ROK</dt><dd>3562</dd><dt>PPG</dt><dd>3562</dd><dt>CMS</dt><dd>3562</dd><dt>RHI</dt><dd>3562</dd><dt>VFC</dt><dd>3562</dd><dt>TER</dt><dd>3562</dd><dt>BLDR</dt><dd>3562</dd><dt>EMR</dt><dd>3562</dd><dt>EMN</dt><dd>3562</dd><dt>PWR</dt><dd>3562</dd><dt>FIS</dt><dd>3562</dd><dt>BSX</dt><dd>3562</dd><dt>BLK</dt><dd>3562</dd><dt>GE</dt><dd>3562</dd><dt>PNR</dt><dd>3562</dd><dt>ODFL</dt><dd>3562</dd><dt>PH</dt><dd>3562</dd><dt>GLW</dt><dd>3562</dd><dt>CB</dt><dd>3562</dd><dt>OMC</dt><dd>3562</dd><dt>FFIV</dt><dd>3562</dd><dt>ROST</dt><dd>3562</dd><dt>AVB</dt><dd>3562</dd><dt>DIS</dt><dd>3562</dd><dt>BKR</dt><dd>3562</dd><dt>FDS</dt><dd>3562</dd><dt>IT</dt><dd>3562</dd><dt>STLD</dt><dd>3562</dd><dt>DGX</dt><dd>3562</dd><dt>BRO</dt><dd>3562</dd><dt>ED</dt><dd>3562</dd><dt>EIX</dt><dd>3562</dd><dt>A</dt><dd>3562</dd><dt>TPR</dt><dd>3562</dd><dt>SJM</dt><dd>3562</dd><dt>BKNG</dt><dd>3562</dd><dt>IEX</dt><dd>3562</dd><dt>ETN</dt><dd>3562</dd><dt>KLAC</dt><dd>3562</dd><dt>ON</dt><dd>3562</dd><dt>XRAY</dt><dd>3562</dd><dt>MSI</dt><dd>3562</dd><dt>AMAT</dt><dd>3562</dd><dt>NDAQ</dt><dd>3562</dd><dt>LDOS</dt><dd>3562</dd><dt>CMCSA</dt><dd>3562</dd><dt>CAG</dt><dd>3562</dd><dt>YUM</dt><dd>3562</dd><dt>CRL</dt><dd>3562</dd><dt>EXPE</dt><dd>3562</dd><dt>GWW</dt><dd>3562</dd><dt>MOS</dt><dd>3562</dd><dt>TSCO</dt><dd>3562</dd><dt>LEN</dt><dd>3562</dd><dt>FSLR</dt><dd>3562</dd><dt>STE</dt><dd>3562</dd><dt>MSCI</dt><dd>3562</dd><dt>COST</dt><dd>3562</dd><dt>AZO</dt><dd>3562</dd><dt>KO</dt><dd>3562</dd><dt>DHR</dt><dd>3562</dd><dt>DTE</dt><dd>3562</dd><dt>CAT</dt><dd>3562</dd><dt>TRMB</dt><dd>3562</dd><dt>LLY</dt><dd>3562</dd><dt>CL</dt><dd>3562</dd><dt>CINF</dt><dd>3562</dd><dt>IVZ</dt><dd>3562</dd><dt>DG</dt><dd>3562</dd><dt>ETR</dt><dd>3562</dd><dt>APH</dt><dd>3562</dd><dt>ADM</dt><dd>3562</dd><dt>K</dt><dd>3562</dd><dt>CMI</dt><dd>3562</dd><dt>ILMN</dt><dd>3562</dd><dt>LULU</dt><dd>3562</dd><dt>AEE</dt><dd>3562</dd><dt>HPQ</dt><dd>3562</dd><dt>HUM</dt><dd>3562</dd><dt>JKHY</dt><dd>3562</dd><dt>BXP</dt><dd>3562</dd><dt>HST</dt><dd>3562</dd><dt>MRK</dt><dd>3562</dd><dt>SO</dt><dd>3562</dd><dt>BK</dt><dd>3562</dd><dt>WTW</dt><dd>3562</dd><dt>J</dt><dd>3562</dd><dt>SNA</dt><dd>3562</dd><dt>CNC</dt><dd>3562</dd><dt>MCHP</dt><dd>3562</dd><dt>AWK</dt><dd>3562</dd><dt>WMT</dt><dd>3562</dd><dt>ORLY</dt><dd>3562</dd><dt>NTAP</dt><dd>3562</dd><dt>CCI</dt><dd>3562</dd><dt>DVN</dt><dd>3562</dd><dt>DLR</dt><dd>3562</dd><dt>MCK</dt><dd>3562</dd><dt>WRB</dt><dd>3562</dd><dt>STZ</dt><dd>3562</dd><dt>NSC</dt><dd>3562</dd><dt>FTNT</dt><dd>3562</dd><dt>PRU</dt><dd>3562</dd><dt>ES</dt><dd>3562</dd><dt>FCX</dt><dd>3562</dd><dt>DOC</dt><dd>3562</dd><dt>EXPD</dt><dd>3562</dd><dt>USB</dt><dd>3562</dd><dt>AOS</dt><dd>3562</dd><dt>VTRS</dt><dd>3562</dd><dt>CAH</dt><dd>3562</dd><dt>FI</dt><dd>3562</dd><dt>UNH</dt><dd>3562</dd><dt>TFX</dt><dd>3562</dd><dt>PSA</dt><dd>3562</dd><dt>SHW</dt><dd>3562</dd><dt>DPZ</dt><dd>3562</dd><dt>CNP</dt><dd>3562</dd><dt>COP</dt><dd>3562</dd><dt>LOW</dt><dd>3562</dd><dt>FMC</dt><dd>3562</dd><dt>TDG</dt><dd>3562</dd><dt>BALL</dt><dd>3562</dd><dt>HES</dt><dd>3562</dd><dt>BAC</dt><dd>3562</dd><dt>HD</dt><dd>3562</dd><dt>ALGN</dt><dd>3562</dd><dt>COO</dt><dd>3562</dd><dt>KIM</dt><dd>3562</dd><dt>WDC</dt><dd>3562</dd><dt>ORCL</dt><dd>3562</dd><dt>AMT</dt><dd>3562</dd><dt>LYV</dt><dd>3562</dd><dt>ACGL</dt><dd>3562</dd><dt>HAL</dt><dd>3562</dd><dt>APD</dt><dd>3562</dd><dt>AAPL</dt><dd>3562</dd><dt>HON</dt><dd>3562</dd><dt>MSFT</dt><dd>3562</dd><dt>INCY</dt><dd>3562</dd><dt>LNT</dt><dd>3562</dd><dt>VTR</dt><dd>3562</dd><dt>PCG</dt><dd>3562</dd><dt>CSCO</dt><dd>3562</dd><dt>TTWO</dt><dd>3562</dd><dt>TMO</dt><dd>3562</dd><dt>NVR</dt><dd>3562</dd><dt>GILD</dt><dd>3562</dd><dt>CI</dt><dd>3562</dd><dt>BA</dt><dd>3562</dd><dt>DOV</dt><dd>3562</dd><dt>RCL</dt><dd>3562</dd><dt>GD</dt><dd>3562</dd><dt>VLO</dt><dd>3562</dd><dt>ISRG</dt><dd>3562</dd><dt>COF</dt><dd>3562</dd><dt>ATO</dt><dd>3562</dd><dt>LH</dt><dd>3562</dd><dt>NEE</dt><dd>3562</dd><dt>ROL</dt><dd>3562</dd><dt>F</dt><dd>3562</dd><dt>ESS</dt><dd>3562</dd><dt>CTRA</dt><dd>3562</dd><dt>PEG</dt><dd>3562</dd><dt>SRE</dt><dd>3562</dd><dt>TMUS</dt><dd>3562</dd><dt>DVA</dt><dd>3562</dd><dt>MOH</dt><dd>3562</dd><dt>L</dt><dd>3562</dd><dt>C</dt><dd>3562</dd><dt>SLB</dt><dd>3562</dd><dt>CHD</dt><dd>3562</dd><dt>MET</dt><dd>3562</dd><dt>NI</dt><dd>3562</dd><dt>CMA</dt><dd>3562</dd><dt>EL</dt><dd>3562</dd><dt>MMM</dt><dd>3562</dd><dt>KDP</dt><dd>3562</dd><dt>MLM</dt><dd>3562</dd><dt>ZBH</dt><dd>3562</dd><dt>MTCH</dt><dd>3562</dd><dt>CSX</dt><dd>3562</dd><dt>HBAN</dt><dd>3562</dd><dt>PXD</dt><dd>3562</dd><dt>AIZ</dt><dd>3562</dd><dt>D</dt><dd>3562</dd><dt>CPRT</dt><dd>3562</dd><dt>BIO</dt><dd>3562</dd><dt>BBWI</dt><dd>3562</dd><dt>AJG</dt><dd>3562</dd><dt>MO</dt><dd>3562</dd><dt>APA</dt><dd>3562</dd><dt>BG</dt><dd>3562</dd><dt>OXY</dt><dd>3562</dd><dt>REGN</dt><dd>3562</dd><dt>VRSK</dt><dd>3562</dd><dt>V</dt><dd>3562</dd><dt>TXN</dt><dd>3562</dd><dt>TDY</dt><dd>3562</dd><dt>SPG</dt><dd>3562</dd><dt>LHX</dt><dd>3562</dd><dt>MNST</dt><dd>3562</dd><dt>WYNN</dt><dd>3562</dd><dt>KEY</dt><dd>3562</dd><dt>UHS</dt><dd>3562</dd><dt>MKTX</dt><dd>3562</dd><dt>TJX</dt><dd>3562</dd><dt>SBAC</dt><dd>3562</dd><dt>PAYX</dt><dd>3562</dd><dt>WBD</dt><dd>3562</dd><dt>FRT</dt><dd>3562</dd><dt>BBY</dt><dd>3562</dd><dt>ICE</dt><dd>3562</dd><dt>MCO</dt><dd>3562</dd><dt>SYK</dt><dd>3562</dd><dt>SWKS</dt><dd>3562</dd><dt>SYY</dt><dd>3562</dd><dt>PKG</dt><dd>3562</dd><dt>AME</dt><dd>3562</dd><dt>BEN</dt><dd>3562</dd><dt>JNJ</dt><dd>3562</dd><dt>TROW</dt><dd>3562</dd><dt>TFC</dt><dd>3562</dd><dt>MHK</dt><dd>3562</dd><dt>FAST</dt><dd>3562</dd><dt>REG</dt><dd>3562</dd><dt>HSIC</dt><dd>3562</dd><dt>CPT</dt><dd>3562</dd><dt>CBRE</dt><dd>3562</dd></dl>\n"
      ],
      "text/latex": [
       "\\begin{description*}\n",
       "\\item[XYL] 3113\n",
       "\\item[MPC] 3190\n",
       "\\item[HII] 3256\n",
       "\\item[HCA] 3264\n",
       "\\item[KMI] 3282\n",
       "\\item[TRGP] 3328\n",
       "\\item[GM] 3340\n",
       "\\item[NXPI] 3413\n",
       "\\item[TSLA] 3440\n",
       "\\item[CBOE] 3450\n",
       "\\item[GNRC] 3535\n",
       "\\item[UDR] 3562\n",
       "\\item[CPB] 3562\n",
       "\\item[MTB] 3562\n",
       "\\item[BMY] 3562\n",
       "\\item[EFX] 3562\n",
       "\\item[CHRW] 3562\n",
       "\\item[TYL] 3562\n",
       "\\item[TEL] 3562\n",
       "\\item[PGR] 3562\n",
       "\\item[DXCM] 3562\n",
       "\\item[ROK] 3562\n",
       "\\item[PPG] 3562\n",
       "\\item[CMS] 3562\n",
       "\\item[RHI] 3562\n",
       "\\item[VFC] 3562\n",
       "\\item[TER] 3562\n",
       "\\item[BLDR] 3562\n",
       "\\item[EMR] 3562\n",
       "\\item[EMN] 3562\n",
       "\\item[PWR] 3562\n",
       "\\item[FIS] 3562\n",
       "\\item[BSX] 3562\n",
       "\\item[BLK] 3562\n",
       "\\item[GE] 3562\n",
       "\\item[PNR] 3562\n",
       "\\item[ODFL] 3562\n",
       "\\item[PH] 3562\n",
       "\\item[GLW] 3562\n",
       "\\item[CB] 3562\n",
       "\\item[OMC] 3562\n",
       "\\item[FFIV] 3562\n",
       "\\item[ROST] 3562\n",
       "\\item[AVB] 3562\n",
       "\\item[DIS] 3562\n",
       "\\item[BKR] 3562\n",
       "\\item[FDS] 3562\n",
       "\\item[IT] 3562\n",
       "\\item[STLD] 3562\n",
       "\\item[DGX] 3562\n",
       "\\item[BRO] 3562\n",
       "\\item[ED] 3562\n",
       "\\item[EIX] 3562\n",
       "\\item[A] 3562\n",
       "\\item[TPR] 3562\n",
       "\\item[SJM] 3562\n",
       "\\item[BKNG] 3562\n",
       "\\item[IEX] 3562\n",
       "\\item[ETN] 3562\n",
       "\\item[KLAC] 3562\n",
       "\\item[ON] 3562\n",
       "\\item[XRAY] 3562\n",
       "\\item[MSI] 3562\n",
       "\\item[AMAT] 3562\n",
       "\\item[NDAQ] 3562\n",
       "\\item[LDOS] 3562\n",
       "\\item[CMCSA] 3562\n",
       "\\item[CAG] 3562\n",
       "\\item[YUM] 3562\n",
       "\\item[CRL] 3562\n",
       "\\item[EXPE] 3562\n",
       "\\item[GWW] 3562\n",
       "\\item[MOS] 3562\n",
       "\\item[TSCO] 3562\n",
       "\\item[LEN] 3562\n",
       "\\item[FSLR] 3562\n",
       "\\item[STE] 3562\n",
       "\\item[MSCI] 3562\n",
       "\\item[COST] 3562\n",
       "\\item[AZO] 3562\n",
       "\\item[KO] 3562\n",
       "\\item[DHR] 3562\n",
       "\\item[DTE] 3562\n",
       "\\item[CAT] 3562\n",
       "\\item[TRMB] 3562\n",
       "\\item[LLY] 3562\n",
       "\\item[CL] 3562\n",
       "\\item[CINF] 3562\n",
       "\\item[IVZ] 3562\n",
       "\\item[DG] 3562\n",
       "\\item[ETR] 3562\n",
       "\\item[APH] 3562\n",
       "\\item[ADM] 3562\n",
       "\\item[K] 3562\n",
       "\\item[CMI] 3562\n",
       "\\item[ILMN] 3562\n",
       "\\item[LULU] 3562\n",
       "\\item[AEE] 3562\n",
       "\\item[HPQ] 3562\n",
       "\\item[HUM] 3562\n",
       "\\item[JKHY] 3562\n",
       "\\item[BXP] 3562\n",
       "\\item[HST] 3562\n",
       "\\item[MRK] 3562\n",
       "\\item[SO] 3562\n",
       "\\item[BK] 3562\n",
       "\\item[WTW] 3562\n",
       "\\item[J] 3562\n",
       "\\item[SNA] 3562\n",
       "\\item[CNC] 3562\n",
       "\\item[MCHP] 3562\n",
       "\\item[AWK] 3562\n",
       "\\item[WMT] 3562\n",
       "\\item[ORLY] 3562\n",
       "\\item[NTAP] 3562\n",
       "\\item[CCI] 3562\n",
       "\\item[DVN] 3562\n",
       "\\item[DLR] 3562\n",
       "\\item[MCK] 3562\n",
       "\\item[WRB] 3562\n",
       "\\item[STZ] 3562\n",
       "\\item[NSC] 3562\n",
       "\\item[FTNT] 3562\n",
       "\\item[PRU] 3562\n",
       "\\item[ES] 3562\n",
       "\\item[FCX] 3562\n",
       "\\item[DOC] 3562\n",
       "\\item[EXPD] 3562\n",
       "\\item[USB] 3562\n",
       "\\item[AOS] 3562\n",
       "\\item[VTRS] 3562\n",
       "\\item[CAH] 3562\n",
       "\\item[FI] 3562\n",
       "\\item[UNH] 3562\n",
       "\\item[TFX] 3562\n",
       "\\item[PSA] 3562\n",
       "\\item[SHW] 3562\n",
       "\\item[DPZ] 3562\n",
       "\\item[CNP] 3562\n",
       "\\item[COP] 3562\n",
       "\\item[LOW] 3562\n",
       "\\item[FMC] 3562\n",
       "\\item[TDG] 3562\n",
       "\\item[BALL] 3562\n",
       "\\item[HES] 3562\n",
       "\\item[BAC] 3562\n",
       "\\item[HD] 3562\n",
       "\\item[ALGN] 3562\n",
       "\\item[COO] 3562\n",
       "\\item[KIM] 3562\n",
       "\\item[WDC] 3562\n",
       "\\item[ORCL] 3562\n",
       "\\item[AMT] 3562\n",
       "\\item[LYV] 3562\n",
       "\\item[ACGL] 3562\n",
       "\\item[HAL] 3562\n",
       "\\item[APD] 3562\n",
       "\\item[AAPL] 3562\n",
       "\\item[HON] 3562\n",
       "\\item[MSFT] 3562\n",
       "\\item[INCY] 3562\n",
       "\\item[LNT] 3562\n",
       "\\item[VTR] 3562\n",
       "\\item[PCG] 3562\n",
       "\\item[CSCO] 3562\n",
       "\\item[TTWO] 3562\n",
       "\\item[TMO] 3562\n",
       "\\item[NVR] 3562\n",
       "\\item[GILD] 3562\n",
       "\\item[CI] 3562\n",
       "\\item[BA] 3562\n",
       "\\item[DOV] 3562\n",
       "\\item[RCL] 3562\n",
       "\\item[GD] 3562\n",
       "\\item[VLO] 3562\n",
       "\\item[ISRG] 3562\n",
       "\\item[COF] 3562\n",
       "\\item[ATO] 3562\n",
       "\\item[LH] 3562\n",
       "\\item[NEE] 3562\n",
       "\\item[ROL] 3562\n",
       "\\item[F] 3562\n",
       "\\item[ESS] 3562\n",
       "\\item[CTRA] 3562\n",
       "\\item[PEG] 3562\n",
       "\\item[SRE] 3562\n",
       "\\item[TMUS] 3562\n",
       "\\item[DVA] 3562\n",
       "\\item[MOH] 3562\n",
       "\\item[L] 3562\n",
       "\\item[C] 3562\n",
       "\\item[SLB] 3562\n",
       "\\item[CHD] 3562\n",
       "\\item[MET] 3562\n",
       "\\item[NI] 3562\n",
       "\\item[CMA] 3562\n",
       "\\item[EL] 3562\n",
       "\\item[MMM] 3562\n",
       "\\item[KDP] 3562\n",
       "\\item[MLM] 3562\n",
       "\\item[ZBH] 3562\n",
       "\\item[MTCH] 3562\n",
       "\\item[CSX] 3562\n",
       "\\item[HBAN] 3562\n",
       "\\item[PXD] 3562\n",
       "\\item[AIZ] 3562\n",
       "\\item[D] 3562\n",
       "\\item[CPRT] 3562\n",
       "\\item[BIO] 3562\n",
       "\\item[BBWI] 3562\n",
       "\\item[AJG] 3562\n",
       "\\item[MO] 3562\n",
       "\\item[APA] 3562\n",
       "\\item[BG] 3562\n",
       "\\item[OXY] 3562\n",
       "\\item[REGN] 3562\n",
       "\\item[VRSK] 3562\n",
       "\\item[V] 3562\n",
       "\\item[TXN] 3562\n",
       "\\item[TDY] 3562\n",
       "\\item[SPG] 3562\n",
       "\\item[LHX] 3562\n",
       "\\item[MNST] 3562\n",
       "\\item[WYNN] 3562\n",
       "\\item[KEY] 3562\n",
       "\\item[UHS] 3562\n",
       "\\item[MKTX] 3562\n",
       "\\item[TJX] 3562\n",
       "\\item[SBAC] 3562\n",
       "\\item[PAYX] 3562\n",
       "\\item[WBD] 3562\n",
       "\\item[FRT] 3562\n",
       "\\item[BBY] 3562\n",
       "\\item[ICE] 3562\n",
       "\\item[MCO] 3562\n",
       "\\item[SYK] 3562\n",
       "\\item[SWKS] 3562\n",
       "\\item[SYY] 3562\n",
       "\\item[PKG] 3562\n",
       "\\item[AME] 3562\n",
       "\\item[BEN] 3562\n",
       "\\item[JNJ] 3562\n",
       "\\item[TROW] 3562\n",
       "\\item[TFC] 3562\n",
       "\\item[MHK] 3562\n",
       "\\item[FAST] 3562\n",
       "\\item[REG] 3562\n",
       "\\item[HSIC] 3562\n",
       "\\item[CPT] 3562\n",
       "\\item[CBRE] 3562\n",
       "\\end{description*}\n"
      ],
      "text/markdown": [
       "XYL\n",
       ":   3113MPC\n",
       ":   3190HII\n",
       ":   3256HCA\n",
       ":   3264KMI\n",
       ":   3282TRGP\n",
       ":   3328GM\n",
       ":   3340NXPI\n",
       ":   3413TSLA\n",
       ":   3440CBOE\n",
       ":   3450GNRC\n",
       ":   3535UDR\n",
       ":   3562CPB\n",
       ":   3562MTB\n",
       ":   3562BMY\n",
       ":   3562EFX\n",
       ":   3562CHRW\n",
       ":   3562TYL\n",
       ":   3562TEL\n",
       ":   3562PGR\n",
       ":   3562DXCM\n",
       ":   3562ROK\n",
       ":   3562PPG\n",
       ":   3562CMS\n",
       ":   3562RHI\n",
       ":   3562VFC\n",
       ":   3562TER\n",
       ":   3562BLDR\n",
       ":   3562EMR\n",
       ":   3562EMN\n",
       ":   3562PWR\n",
       ":   3562FIS\n",
       ":   3562BSX\n",
       ":   3562BLK\n",
       ":   3562GE\n",
       ":   3562PNR\n",
       ":   3562ODFL\n",
       ":   3562PH\n",
       ":   3562GLW\n",
       ":   3562CB\n",
       ":   3562OMC\n",
       ":   3562FFIV\n",
       ":   3562ROST\n",
       ":   3562AVB\n",
       ":   3562DIS\n",
       ":   3562BKR\n",
       ":   3562FDS\n",
       ":   3562IT\n",
       ":   3562STLD\n",
       ":   3562DGX\n",
       ":   3562BRO\n",
       ":   3562ED\n",
       ":   3562EIX\n",
       ":   3562A\n",
       ":   3562TPR\n",
       ":   3562SJM\n",
       ":   3562BKNG\n",
       ":   3562IEX\n",
       ":   3562ETN\n",
       ":   3562KLAC\n",
       ":   3562ON\n",
       ":   3562XRAY\n",
       ":   3562MSI\n",
       ":   3562AMAT\n",
       ":   3562NDAQ\n",
       ":   3562LDOS\n",
       ":   3562CMCSA\n",
       ":   3562CAG\n",
       ":   3562YUM\n",
       ":   3562CRL\n",
       ":   3562EXPE\n",
       ":   3562GWW\n",
       ":   3562MOS\n",
       ":   3562TSCO\n",
       ":   3562LEN\n",
       ":   3562FSLR\n",
       ":   3562STE\n",
       ":   3562MSCI\n",
       ":   3562COST\n",
       ":   3562AZO\n",
       ":   3562KO\n",
       ":   3562DHR\n",
       ":   3562DTE\n",
       ":   3562CAT\n",
       ":   3562TRMB\n",
       ":   3562LLY\n",
       ":   3562CL\n",
       ":   3562CINF\n",
       ":   3562IVZ\n",
       ":   3562DG\n",
       ":   3562ETR\n",
       ":   3562APH\n",
       ":   3562ADM\n",
       ":   3562K\n",
       ":   3562CMI\n",
       ":   3562ILMN\n",
       ":   3562LULU\n",
       ":   3562AEE\n",
       ":   3562HPQ\n",
       ":   3562HUM\n",
       ":   3562JKHY\n",
       ":   3562BXP\n",
       ":   3562HST\n",
       ":   3562MRK\n",
       ":   3562SO\n",
       ":   3562BK\n",
       ":   3562WTW\n",
       ":   3562J\n",
       ":   3562SNA\n",
       ":   3562CNC\n",
       ":   3562MCHP\n",
       ":   3562AWK\n",
       ":   3562WMT\n",
       ":   3562ORLY\n",
       ":   3562NTAP\n",
       ":   3562CCI\n",
       ":   3562DVN\n",
       ":   3562DLR\n",
       ":   3562MCK\n",
       ":   3562WRB\n",
       ":   3562STZ\n",
       ":   3562NSC\n",
       ":   3562FTNT\n",
       ":   3562PRU\n",
       ":   3562ES\n",
       ":   3562FCX\n",
       ":   3562DOC\n",
       ":   3562EXPD\n",
       ":   3562USB\n",
       ":   3562AOS\n",
       ":   3562VTRS\n",
       ":   3562CAH\n",
       ":   3562FI\n",
       ":   3562UNH\n",
       ":   3562TFX\n",
       ":   3562PSA\n",
       ":   3562SHW\n",
       ":   3562DPZ\n",
       ":   3562CNP\n",
       ":   3562COP\n",
       ":   3562LOW\n",
       ":   3562FMC\n",
       ":   3562TDG\n",
       ":   3562BALL\n",
       ":   3562HES\n",
       ":   3562BAC\n",
       ":   3562HD\n",
       ":   3562ALGN\n",
       ":   3562COO\n",
       ":   3562KIM\n",
       ":   3562WDC\n",
       ":   3562ORCL\n",
       ":   3562AMT\n",
       ":   3562LYV\n",
       ":   3562ACGL\n",
       ":   3562HAL\n",
       ":   3562APD\n",
       ":   3562AAPL\n",
       ":   3562HON\n",
       ":   3562MSFT\n",
       ":   3562INCY\n",
       ":   3562LNT\n",
       ":   3562VTR\n",
       ":   3562PCG\n",
       ":   3562CSCO\n",
       ":   3562TTWO\n",
       ":   3562TMO\n",
       ":   3562NVR\n",
       ":   3562GILD\n",
       ":   3562CI\n",
       ":   3562BA\n",
       ":   3562DOV\n",
       ":   3562RCL\n",
       ":   3562GD\n",
       ":   3562VLO\n",
       ":   3562ISRG\n",
       ":   3562COF\n",
       ":   3562ATO\n",
       ":   3562LH\n",
       ":   3562NEE\n",
       ":   3562ROL\n",
       ":   3562F\n",
       ":   3562ESS\n",
       ":   3562CTRA\n",
       ":   3562PEG\n",
       ":   3562SRE\n",
       ":   3562TMUS\n",
       ":   3562DVA\n",
       ":   3562MOH\n",
       ":   3562L\n",
       ":   3562C\n",
       ":   3562SLB\n",
       ":   3562CHD\n",
       ":   3562MET\n",
       ":   3562NI\n",
       ":   3562CMA\n",
       ":   3562EL\n",
       ":   3562MMM\n",
       ":   3562KDP\n",
       ":   3562MLM\n",
       ":   3562ZBH\n",
       ":   3562MTCH\n",
       ":   3562CSX\n",
       ":   3562HBAN\n",
       ":   3562PXD\n",
       ":   3562AIZ\n",
       ":   3562D\n",
       ":   3562CPRT\n",
       ":   3562BIO\n",
       ":   3562BBWI\n",
       ":   3562AJG\n",
       ":   3562MO\n",
       ":   3562APA\n",
       ":   3562BG\n",
       ":   3562OXY\n",
       ":   3562REGN\n",
       ":   3562VRSK\n",
       ":   3562V\n",
       ":   3562TXN\n",
       ":   3562TDY\n",
       ":   3562SPG\n",
       ":   3562LHX\n",
       ":   3562MNST\n",
       ":   3562WYNN\n",
       ":   3562KEY\n",
       ":   3562UHS\n",
       ":   3562MKTX\n",
       ":   3562TJX\n",
       ":   3562SBAC\n",
       ":   3562PAYX\n",
       ":   3562WBD\n",
       ":   3562FRT\n",
       ":   3562BBY\n",
       ":   3562ICE\n",
       ":   3562MCO\n",
       ":   3562SYK\n",
       ":   3562SWKS\n",
       ":   3562SYY\n",
       ":   3562PKG\n",
       ":   3562AME\n",
       ":   3562BEN\n",
       ":   3562JNJ\n",
       ":   3562TROW\n",
       ":   3562TFC\n",
       ":   3562MHK\n",
       ":   3562FAST\n",
       ":   3562REG\n",
       ":   3562HSIC\n",
       ":   3562CPT\n",
       ":   3562CBRE\n",
       ":   3562\n",
       "\n"
      ],
      "text/plain": [
       "  XYL   MPC   HII   HCA   KMI  TRGP    GM  NXPI  TSLA  CBOE  GNRC   UDR   CPB \n",
       " 3113  3190  3256  3264  3282  3328  3340  3413  3440  3450  3535  3562  3562 \n",
       "  MTB   BMY   EFX  CHRW   TYL   TEL   PGR  DXCM   ROK   PPG   CMS   RHI   VFC \n",
       " 3562  3562  3562  3562  3562  3562  3562  3562  3562  3562  3562  3562  3562 \n",
       "  TER  BLDR   EMR   EMN   PWR   FIS   BSX   BLK    GE   PNR  ODFL    PH   GLW \n",
       " 3562  3562  3562  3562  3562  3562  3562  3562  3562  3562  3562  3562  3562 \n",
       "   CB   OMC  FFIV  ROST   AVB   DIS   BKR   FDS    IT  STLD   DGX   BRO    ED \n",
       " 3562  3562  3562  3562  3562  3562  3562  3562  3562  3562  3562  3562  3562 \n",
       "  EIX     A   TPR   SJM  BKNG   IEX   ETN  KLAC    ON  XRAY   MSI  AMAT  NDAQ \n",
       " 3562  3562  3562  3562  3562  3562  3562  3562  3562  3562  3562  3562  3562 \n",
       " LDOS CMCSA   CAG   YUM   CRL  EXPE   GWW   MOS  TSCO   LEN  FSLR   STE  MSCI \n",
       " 3562  3562  3562  3562  3562  3562  3562  3562  3562  3562  3562  3562  3562 \n",
       " COST   AZO    KO   DHR   DTE   CAT  TRMB   LLY    CL  CINF   IVZ    DG   ETR \n",
       " 3562  3562  3562  3562  3562  3562  3562  3562  3562  3562  3562  3562  3562 \n",
       "  APH   ADM     K   CMI  ILMN  LULU   AEE   HPQ   HUM  JKHY   BXP   HST   MRK \n",
       " 3562  3562  3562  3562  3562  3562  3562  3562  3562  3562  3562  3562  3562 \n",
       "   SO    BK   WTW     J   SNA   CNC  MCHP   AWK   WMT  ORLY  NTAP   CCI   DVN \n",
       " 3562  3562  3562  3562  3562  3562  3562  3562  3562  3562  3562  3562  3562 \n",
       "  DLR   MCK   WRB   STZ   NSC  FTNT   PRU    ES   FCX   DOC  EXPD   USB   AOS \n",
       " 3562  3562  3562  3562  3562  3562  3562  3562  3562  3562  3562  3562  3562 \n",
       " VTRS   CAH    FI   UNH   TFX   PSA   SHW   DPZ   CNP   COP   LOW   FMC   TDG \n",
       " 3562  3562  3562  3562  3562  3562  3562  3562  3562  3562  3562  3562  3562 \n",
       " BALL   HES   BAC    HD  ALGN   COO   KIM   WDC  ORCL   AMT   LYV  ACGL   HAL \n",
       " 3562  3562  3562  3562  3562  3562  3562  3562  3562  3562  3562  3562  3562 \n",
       "  APD  AAPL   HON  MSFT  INCY   LNT   VTR   PCG  CSCO  TTWO   TMO   NVR  GILD \n",
       " 3562  3562  3562  3562  3562  3562  3562  3562  3562  3562  3562  3562  3562 \n",
       "   CI    BA   DOV   RCL    GD   VLO  ISRG   COF   ATO    LH   NEE   ROL     F \n",
       " 3562  3562  3562  3562  3562  3562  3562  3562  3562  3562  3562  3562  3562 \n",
       "  ESS  CTRA   PEG   SRE  TMUS   DVA   MOH     L     C   SLB   CHD   MET    NI \n",
       " 3562  3562  3562  3562  3562  3562  3562  3562  3562  3562  3562  3562  3562 \n",
       "  CMA    EL   MMM   KDP   MLM   ZBH  MTCH   CSX  HBAN   PXD   AIZ     D  CPRT \n",
       " 3562  3562  3562  3562  3562  3562  3562  3562  3562  3562  3562  3562  3562 \n",
       "  BIO  BBWI   AJG    MO   APA    BG   OXY  REGN  VRSK     V   TXN   TDY   SPG \n",
       " 3562  3562  3562  3562  3562  3562  3562  3562  3562  3562  3562  3562  3562 \n",
       "  LHX  MNST  WYNN   KEY   UHS  MKTX   TJX  SBAC  PAYX   WBD   FRT   BBY   ICE \n",
       " 3562  3562  3562  3562  3562  3562  3562  3562  3562  3562  3562  3562  3562 \n",
       "  MCO   SYK  SWKS   SYY   PKG   AME   BEN   JNJ  TROW   TFC   MHK  FAST   REG \n",
       " 3562  3562  3562  3562  3562  3562  3562  3562  3562  3562  3562  3562  3562 \n",
       " HSIC   CPT  CBRE \n",
       " 3562  3562  3562 "
      ]
     },
     "metadata": {},
     "output_type": "display_data"
    },
    {
     "data": {
      "text/html": [
       "250"
      ],
      "text/latex": [
       "250"
      ],
      "text/markdown": [
       "250"
      ],
      "text/plain": [
       "[1] 250"
      ]
     },
     "metadata": {},
     "output_type": "display_data"
    }
   ],
   "source": [
    "sort(sapply(tickers_data, nrow))\n",
    "length(tickers_data) # 250 stocks"
   ]
  },
  {
   "cell_type": "code",
   "execution_count": 22,
   "id": "972870d0-425a-4e36-a402-2f66935036eb",
   "metadata": {
    "vscode": {
     "languageId": "r"
    }
   },
   "outputs": [
    {
     "data": {
      "text/plain": [
       "           BRO.Adjusted BRO.Volume\n",
       "2010-01-04     7.657358    1437600\n",
       "2010-01-05     7.602082    1702000\n",
       "2010-01-06     7.534053    2378800\n",
       "2010-01-07     7.538306    2139000\n",
       "2010-01-08     7.500042    1130600\n",
       "2010-01-11     7.529802    1508000"
      ]
     },
     "metadata": {},
     "output_type": "display_data"
    },
    {
     "data": {
      "text/plain": [
       "           BRO.Adjusted BRO.Volume\n",
       "2024-02-21        82.84     964100\n",
       "2024-02-22        84.12     888600\n",
       "2024-02-23        84.24     860100\n",
       "2024-02-26        84.05     808400\n",
       "2024-02-27        84.11     944200\n",
       "2024-02-28        84.78     815300"
      ]
     },
     "metadata": {},
     "output_type": "display_data"
    }
   ],
   "source": [
    "# subsetting -  daily adjusted close price and volume data\n",
    "price_volume_xts = list()\n",
    "\n",
    "for(ticker in names(tickers_data)) {\n",
    "  price_volume_xts[[ticker]] = tickers_data[[ticker]][, c(paste0(ticker, \".Adjusted\"), paste0(ticker, \".Volume\"))]\n",
    "}\n",
    "head(price_volume_xts$BRO) # example\n",
    "tail(price_volume_xts$BRO) # example"
   ]
  },
  {
   "cell_type": "markdown",
   "id": "ff1a21b7",
   "metadata": {},
   "source": [
    "Download the data for Task 2"
   ]
  },
  {
   "cell_type": "code",
   "execution_count": 104,
   "id": "54852045",
   "metadata": {
    "vscode": {
     "languageId": "r"
    }
   },
   "outputs": [],
   "source": [
    "saveRDS(price_volume_xts, \"price_volume_xts.rds\")"
   ]
  },
  {
   "cell_type": "markdown",
   "id": "02761573-8d3d-4e08-9acc-8d03d3d53948",
   "metadata": {},
   "source": [
    "### (2) Book Value per Share"
   ]
  },
  {
   "cell_type": "markdown",
   "id": "47141ad6-f264-4fd9-b2b1-c6938ab1e52a",
   "metadata": {},
   "source": [
    "First, we will scrape the data for one stock and then generalize the procedure for all 250. The result is again a list (*`book_value_xts_sub`*) of book values per share, one element of the list is an xts object for one firm."
   ]
  },
  {
   "cell_type": "markdown",
   "id": "ad0f8246-6fcc-4a83-a6c2-2247592a8133",
   "metadata": {},
   "source": [
    "From trying the links we figured the name of the company was not needed as the second ticker in the link gets replaced by the company name automatically during the processing of the request. Hence, we use the link in the form `https://www.macrotrends.net/stocks/charts/{ticker}/{ticker}/price-book`, and the second `{ticker}` gets replaced by the company name automatically.\n",
    "\n",
    "We set the *user_agent* to some number for the GET request to work properly."
   ]
  },
  {
   "cell_type": "markdown",
   "id": "41778364-b7c5-4266-ba88-9e997378d2e6",
   "metadata": {},
   "source": [
    "By *right-click -> Inspect* on the website, we found out that the relevant data is contained within a `<table>` element that has the class attribute set to \"table\"."
   ]
  },
  {
   "cell_type": "code",
   "execution_count": 23,
   "id": "7d92add8",
   "metadata": {
    "vscode": {
     "languageId": "r"
    }
   },
   "outputs": [
    {
     "data": {
      "text/plain": [
       "Response [https://www.macrotrends.net/stocks/charts/HII/huntington-ingalls-industries/price-book]\n",
       "  Date: 2024-04-15 07:34\n",
       "  Status: 200\n",
       "  Content-Type: text/html; charset=UTF-8\n",
       "  Size: 62.2 kB\n",
       "\r\n",
       "<!DOCTYPE html>\r\n",
       "<!--[if lt IE 7]>      <html class=\"no-js lt-ie9 lt-ie8 lt-ie7\"> <![endif]-->\r\n",
       "<!--[if IE 7]>         <html class=\"no-js lt-ie9 lt-ie8\"> <![endif]-->\r\n",
       "<!--[if IE 8]>         <html class=\"no-js lt-ie9\"> <![endif]-->\r\n",
       "<!--[if gt IE 8]><!--> <html class=\"no-js\"> <!--<![endif]-->\r\n",
       "    <head>\r\n",
       "        <meta charset=\"utf-8\">\r\n",
       "        <meta http-equiv=\"X-UA-Compatible\" content=\"IE=edge,chrome=1\">\r\n",
       "\t\t<link rel=\"canonical\" href=\"https://www.macrotrends.net/stocks/charts/HII/h...\n",
       "..."
      ]
     },
     "metadata": {},
     "output_type": "display_data"
    }
   ],
   "source": [
    "temp=GET(\"https://www.macrotrends.net/stocks/charts/HII/HII/price-book\",user_agent(\"2351356\")) # set user_agent to some number\n",
    "temp"
   ]
  },
  {
   "cell_type": "code",
   "execution_count": 24,
   "id": "76d322e5-b1ba-4d3a-a42f-81b6ee89d23a",
   "metadata": {
    "vscode": {
     "languageId": "r"
    }
   },
   "outputs": [
    {
     "data": {
      "text/html": [
       "TRUE"
      ],
      "text/latex": [
       "TRUE"
      ],
      "text/markdown": [
       "TRUE"
      ],
      "text/plain": [
       "[1] TRUE"
      ]
     },
     "metadata": {},
     "output_type": "display_data"
    }
   ],
   "source": [
    "# do we need to obtain company names?\n",
    "\n",
    "# request not using the company name\n",
    "temp=GET(\"https://www.macrotrends.net/stocks/charts/HII/HII/price-book\",user_agent(\"2351356\")) # set user_agent to some number\n",
    "html_content = content(temp, \"text\") # get html content\n",
    "html_data = read_html(html_content) # read the content\n",
    "table = html_data %>% html_node(\"table.table\") %>% html_table(fill = TRUE) \n",
    "\n",
    "Sys.sleep(34)\n",
    "\n",
    "# request using the company name\n",
    "temp2=GET(\"https://www.macrotrends.net/stocks/charts/HII/huntington-ingalls-industries/price-book\",user_agent(\"25135213\")) # set user_agent to some number\n",
    "html_content2 = content(temp2, \"text\") # get html content\n",
    "html_data2 = read_html(html_content2) # read the content\n",
    "table2 = html_data2 %>% html_node(\"table.table\") %>% html_table(fill = TRUE) \n",
    "\n",
    "identical(table, table2) # they are identical, we do not need the company names"
   ]
  },
  {
   "cell_type": "code",
   "execution_count": 15,
   "id": "d9179d54-1438-4fe1-abc5-13c5fa64a25e",
   "metadata": {
    "vscode": {
     "languageId": "r"
    }
   },
   "outputs": [
    {
     "data": {
      "text/html": [
       "<table class=\"dataframe\">\n",
       "<caption>A tibble: 6 × 4</caption>\n",
       "<thead>\n",
       "\t<tr><th scope=col>Huntington Ingalls Industries Price/Book Ratio Historical Data</th><th scope=col>Huntington Ingalls Industries Price/Book Ratio Historical Data</th><th scope=col>Huntington Ingalls Industries Price/Book Ratio Historical Data</th><th scope=col>Huntington Ingalls Industries Price/Book Ratio Historical Data</th></tr>\n",
       "\t<tr><th scope=col>&lt;chr&gt;</th><th scope=col>&lt;chr&gt;</th><th scope=col>&lt;chr&gt;</th><th scope=col>&lt;chr&gt;</th></tr>\n",
       "</thead>\n",
       "<tbody>\n",
       "\t<tr><td>Date      </td><td>Stock Price</td><td>Book Value per Share</td><td>Price to Book Ratio</td></tr>\n",
       "\t<tr><td>2024-04-12</td><td>275.72     </td><td>                    </td><td>2.67               </td></tr>\n",
       "\t<tr><td>2023-12-31</td><td>258.47     </td><td>$103.31             </td><td>2.50               </td></tr>\n",
       "\t<tr><td>2023-09-30</td><td>202.55     </td><td>$93.84              </td><td>2.16               </td></tr>\n",
       "\t<tr><td>2023-06-30</td><td>224.07     </td><td>$91.38              </td><td>2.45               </td></tr>\n",
       "\t<tr><td>2023-03-31</td><td>202.54     </td><td>$89.30              </td><td>2.27               </td></tr>\n",
       "</tbody>\n",
       "</table>\n"
      ],
      "text/latex": [
       "A tibble: 6 × 4\n",
       "\\begin{tabular}{llll}\n",
       " Huntington Ingalls Industries Price/Book Ratio Historical Data & Huntington Ingalls Industries Price/Book Ratio Historical Data & Huntington Ingalls Industries Price/Book Ratio Historical Data & Huntington Ingalls Industries Price/Book Ratio Historical Data\\\\\n",
       " <chr> & <chr> & <chr> & <chr>\\\\\n",
       "\\hline\n",
       "\t Date       & Stock Price & Book Value per Share & Price to Book Ratio\\\\\n",
       "\t 2024-04-12 & 275.72      &                      & 2.67               \\\\\n",
       "\t 2023-12-31 & 258.47      & \\$103.31              & 2.50               \\\\\n",
       "\t 2023-09-30 & 202.55      & \\$93.84               & 2.16               \\\\\n",
       "\t 2023-06-30 & 224.07      & \\$91.38               & 2.45               \\\\\n",
       "\t 2023-03-31 & 202.54      & \\$89.30               & 2.27               \\\\\n",
       "\\end{tabular}\n"
      ],
      "text/markdown": [
       "\n",
       "A tibble: 6 × 4\n",
       "\n",
       "| Huntington Ingalls Industries Price/Book Ratio Historical Data &lt;chr&gt; | Huntington Ingalls Industries Price/Book Ratio Historical Data &lt;chr&gt; | Huntington Ingalls Industries Price/Book Ratio Historical Data &lt;chr&gt; | Huntington Ingalls Industries Price/Book Ratio Historical Data &lt;chr&gt; |\n",
       "|---|---|---|---|\n",
       "| Date       | Stock Price | Book Value per Share | Price to Book Ratio |\n",
       "| 2024-04-12 | 275.72      | <!----> | 2.67                |\n",
       "| 2023-12-31 | 258.47      | $103.31              | 2.50                |\n",
       "| 2023-09-30 | 202.55      | $93.84               | 2.16                |\n",
       "| 2023-06-30 | 224.07      | $91.38               | 2.45                |\n",
       "| 2023-03-31 | 202.54      | $89.30               | 2.27                |\n",
       "\n"
      ],
      "text/plain": [
       "  Huntington Ingalls Industries Price/Book Ratio Historical Data\n",
       "1 Date                                                          \n",
       "2 2024-04-12                                                    \n",
       "3 2023-12-31                                                    \n",
       "4 2023-09-30                                                    \n",
       "5 2023-06-30                                                    \n",
       "6 2023-03-31                                                    \n",
       "  Huntington Ingalls Industries Price/Book Ratio Historical Data\n",
       "1 Stock Price                                                   \n",
       "2 275.72                                                        \n",
       "3 258.47                                                        \n",
       "4 202.55                                                        \n",
       "5 224.07                                                        \n",
       "6 202.54                                                        \n",
       "  Huntington Ingalls Industries Price/Book Ratio Historical Data\n",
       "1 Book Value per Share                                          \n",
       "2                                                               \n",
       "3 $103.31                                                       \n",
       "4 $93.84                                                        \n",
       "5 $91.38                                                        \n",
       "6 $89.30                                                        \n",
       "  Huntington Ingalls Industries Price/Book Ratio Historical Data\n",
       "1 Price to Book Ratio                                           \n",
       "2 2.67                                                          \n",
       "3 2.50                                                          \n",
       "4 2.16                                                          \n",
       "5 2.45                                                          \n",
       "6 2.27                                                          "
      ]
     },
     "metadata": {},
     "output_type": "display_data"
    }
   ],
   "source": [
    "head(table)"
   ]
  },
  {
   "cell_type": "markdown",
   "id": "2d5fbef8-5206-4d2e-9ee4-51029505d7d4",
   "metadata": {},
   "source": [
    "Now this is exactly the table we want, only the first row should actually be the column names. &rarr; We overwrite the colnames and delete the first row."
   ]
  },
  {
   "cell_type": "code",
   "execution_count": 25,
   "id": "e4c15f06-764d-4b0b-8993-567d734380f4",
   "metadata": {
    "vscode": {
     "languageId": "r"
    }
   },
   "outputs": [
    {
     "data": {
      "text/html": [
       "<table class=\"dataframe\">\n",
       "<caption>A tibble: 6 × 4</caption>\n",
       "<thead>\n",
       "\t<tr><th scope=col>Date</th><th scope=col>Stock Price</th><th scope=col>Book Value per Share</th><th scope=col>Price to Book Ratio</th></tr>\n",
       "\t<tr><th scope=col>&lt;chr&gt;</th><th scope=col>&lt;chr&gt;</th><th scope=col>&lt;chr&gt;</th><th scope=col>&lt;chr&gt;</th></tr>\n",
       "</thead>\n",
       "<tbody>\n",
       "\t<tr><td>2024-04-12</td><td>275.72</td><td>       </td><td>2.67</td></tr>\n",
       "\t<tr><td>2023-12-31</td><td>258.47</td><td>$103.31</td><td>2.50</td></tr>\n",
       "\t<tr><td>2023-09-30</td><td>202.55</td><td>$93.84 </td><td>2.16</td></tr>\n",
       "\t<tr><td>2023-06-30</td><td>224.07</td><td>$91.38 </td><td>2.45</td></tr>\n",
       "\t<tr><td>2023-03-31</td><td>202.54</td><td>$89.30 </td><td>2.27</td></tr>\n",
       "\t<tr><td>2022-12-31</td><td>224.41</td><td>$87.52 </td><td>2.56</td></tr>\n",
       "</tbody>\n",
       "</table>\n"
      ],
      "text/latex": [
       "A tibble: 6 × 4\n",
       "\\begin{tabular}{llll}\n",
       " Date & Stock Price & Book Value per Share & Price to Book Ratio\\\\\n",
       " <chr> & <chr> & <chr> & <chr>\\\\\n",
       "\\hline\n",
       "\t 2024-04-12 & 275.72 &         & 2.67\\\\\n",
       "\t 2023-12-31 & 258.47 & \\$103.31 & 2.50\\\\\n",
       "\t 2023-09-30 & 202.55 & \\$93.84  & 2.16\\\\\n",
       "\t 2023-06-30 & 224.07 & \\$91.38  & 2.45\\\\\n",
       "\t 2023-03-31 & 202.54 & \\$89.30  & 2.27\\\\\n",
       "\t 2022-12-31 & 224.41 & \\$87.52  & 2.56\\\\\n",
       "\\end{tabular}\n"
      ],
      "text/markdown": [
       "\n",
       "A tibble: 6 × 4\n",
       "\n",
       "| Date &lt;chr&gt; | Stock Price &lt;chr&gt; | Book Value per Share &lt;chr&gt; | Price to Book Ratio &lt;chr&gt; |\n",
       "|---|---|---|---|\n",
       "| 2024-04-12 | 275.72 | <!----> | 2.67 |\n",
       "| 2023-12-31 | 258.47 | $103.31 | 2.50 |\n",
       "| 2023-09-30 | 202.55 | $93.84  | 2.16 |\n",
       "| 2023-06-30 | 224.07 | $91.38  | 2.45 |\n",
       "| 2023-03-31 | 202.54 | $89.30  | 2.27 |\n",
       "| 2022-12-31 | 224.41 | $87.52  | 2.56 |\n",
       "\n"
      ],
      "text/plain": [
       "  Date       Stock Price Book Value per Share Price to Book Ratio\n",
       "1 2024-04-12 275.72                           2.67               \n",
       "2 2023-12-31 258.47      $103.31              2.50               \n",
       "3 2023-09-30 202.55      $93.84               2.16               \n",
       "4 2023-06-30 224.07      $91.38               2.45               \n",
       "5 2023-03-31 202.54      $89.30               2.27               \n",
       "6 2022-12-31 224.41      $87.52               2.56               "
      ]
     },
     "metadata": {},
     "output_type": "display_data"
    }
   ],
   "source": [
    "colnames(table) = as.character(unlist(table[1,])) # the first row is the colnames\n",
    "table = table[-1, ] # without the first row\n",
    "\n",
    "head(table) # that's it"
   ]
  },
  {
   "cell_type": "markdown",
   "id": "72660259-1ffb-45bb-80e1-795cee5809b0",
   "metadata": {},
   "source": [
    "Changing the data types to date and numeric, since they are by default set to strings for all columns."
   ]
  },
  {
   "cell_type": "code",
   "execution_count": 26,
   "id": "f01b2783-4483-4a7d-a80f-22621980d3c2",
   "metadata": {
    "vscode": {
     "languageId": "r"
    }
   },
   "outputs": [
    {
     "data": {
      "text/plain": [
       "      Date             Stock Price     Book Value per Share Price to Book Ratio\n",
       " Min.   :2011-03-31   Min.   : 20.32   Min.   : 13.45       Min.   :0.860      \n",
       " 1st Qu.:2014-06-30   1st Qu.: 86.47   1st Qu.: 30.38       1st Qu.:2.530      \n",
       " Median :2017-09-30   Median :161.19   Median : 36.22       Median :3.130      \n",
       " Mean   :2017-09-29   Mean   :142.40   Mean   : 42.09       Mean   :3.345      \n",
       " 3rd Qu.:2020-12-31   3rd Qu.:199.90   3rd Qu.: 46.55       3rd Qu.:4.250      \n",
       " Max.   :2024-04-12   Max.   :275.72   Max.   :103.31       Max.   :5.940      \n",
       "                                       NA's   :1                               "
      ]
     },
     "metadata": {},
     "output_type": "display_data"
    },
    {
     "data": {
      "text/html": [
       "<table class=\"dataframe\">\n",
       "<caption>A tibble: 6 × 4</caption>\n",
       "<thead>\n",
       "\t<tr><th scope=col>Date</th><th scope=col>Stock Price</th><th scope=col>Book Value per Share</th><th scope=col>Price to Book Ratio</th></tr>\n",
       "\t<tr><th scope=col>&lt;date&gt;</th><th scope=col>&lt;dbl&gt;</th><th scope=col>&lt;dbl&gt;</th><th scope=col>&lt;dbl&gt;</th></tr>\n",
       "</thead>\n",
       "<tbody>\n",
       "\t<tr><td>2024-04-12</td><td>275.72</td><td>    NA</td><td>2.67</td></tr>\n",
       "\t<tr><td>2023-12-31</td><td>258.47</td><td>103.31</td><td>2.50</td></tr>\n",
       "\t<tr><td>2023-09-30</td><td>202.55</td><td> 93.84</td><td>2.16</td></tr>\n",
       "\t<tr><td>2023-06-30</td><td>224.07</td><td> 91.38</td><td>2.45</td></tr>\n",
       "\t<tr><td>2023-03-31</td><td>202.54</td><td> 89.30</td><td>2.27</td></tr>\n",
       "\t<tr><td>2022-12-31</td><td>224.41</td><td> 87.52</td><td>2.56</td></tr>\n",
       "</tbody>\n",
       "</table>\n"
      ],
      "text/latex": [
       "A tibble: 6 × 4\n",
       "\\begin{tabular}{llll}\n",
       " Date & Stock Price & Book Value per Share & Price to Book Ratio\\\\\n",
       " <date> & <dbl> & <dbl> & <dbl>\\\\\n",
       "\\hline\n",
       "\t 2024-04-12 & 275.72 &     NA & 2.67\\\\\n",
       "\t 2023-12-31 & 258.47 & 103.31 & 2.50\\\\\n",
       "\t 2023-09-30 & 202.55 &  93.84 & 2.16\\\\\n",
       "\t 2023-06-30 & 224.07 &  91.38 & 2.45\\\\\n",
       "\t 2023-03-31 & 202.54 &  89.30 & 2.27\\\\\n",
       "\t 2022-12-31 & 224.41 &  87.52 & 2.56\\\\\n",
       "\\end{tabular}\n"
      ],
      "text/markdown": [
       "\n",
       "A tibble: 6 × 4\n",
       "\n",
       "| Date &lt;date&gt; | Stock Price &lt;dbl&gt; | Book Value per Share &lt;dbl&gt; | Price to Book Ratio &lt;dbl&gt; |\n",
       "|---|---|---|---|\n",
       "| 2024-04-12 | 275.72 |     NA | 2.67 |\n",
       "| 2023-12-31 | 258.47 | 103.31 | 2.50 |\n",
       "| 2023-09-30 | 202.55 |  93.84 | 2.16 |\n",
       "| 2023-06-30 | 224.07 |  91.38 | 2.45 |\n",
       "| 2023-03-31 | 202.54 |  89.30 | 2.27 |\n",
       "| 2022-12-31 | 224.41 |  87.52 | 2.56 |\n",
       "\n"
      ],
      "text/plain": [
       "  Date       Stock Price Book Value per Share Price to Book Ratio\n",
       "1 2024-04-12 275.72          NA               2.67               \n",
       "2 2023-12-31 258.47      103.31               2.50               \n",
       "3 2023-09-30 202.55       93.84               2.16               \n",
       "4 2023-06-30 224.07       91.38               2.45               \n",
       "5 2023-03-31 202.54       89.30               2.27               \n",
       "6 2022-12-31 224.41       87.52               2.56               "
      ]
     },
     "metadata": {},
     "output_type": "display_data"
    },
    {
     "data": {
      "text/plain": [
       "           Stock Price Book Value per Share Price to Book Ratio\n",
       "2011-03-31       34.66                27.93                1.24\n",
       "2011-06-30       28.81                28.91                1.00\n",
       "2011-09-30       20.32                23.66                0.86\n",
       "2011-12-31       26.12                17.60                1.48\n",
       "2012-03-31       33.61                18.57                1.81\n",
       "2012-06-30       33.61                20.08                1.67"
      ]
     },
     "metadata": {},
     "output_type": "display_data"
    }
   ],
   "source": [
    "# just some cleaning up, setting to correct data types\n",
    "table$Date = as.Date(table$Date)\n",
    "table$`Stock Price` = as.numeric(table$`Stock Price`)\n",
    "table$`Book Value per Share` = as.numeric(gsub(\",\", \"\", gsub(\"\\\\$\", \"\", table$`Book Value per Share`)))  # get rid of '$'\n",
    "table$`Price to Book Ratio` = as.numeric(table$`Price to Book Ratio`)\n",
    "summary(table)\n",
    "head(table)\n",
    "xts_table = xts(table[, -1], order.by = table$Date) # time series - work with xts objects\n",
    "head(xts_table)"
   ]
  },
  {
   "cell_type": "markdown",
   "id": "db088e26-d2ae-4f71-b257-c7fc65fd0dd4",
   "metadata": {},
   "source": [
    "Now the for-loop for 250 stocks. Since the scraping takes around 3hrs, we save the data locally, so that the scraping does not have to be done every time."
   ]
  },
  {
   "cell_type": "code",
   "execution_count": 27,
   "id": "b19a5ca0-b423-4784-87f9-962af67c5357",
   "metadata": {
    "vscode": {
     "languageId": "r"
    }
   },
   "outputs": [],
   "source": [
    "# function to download HTML content for a given ticker\n",
    "get_html_content = function(ticker, user_agent) {\n",
    "  temp = GET(paste0(\"https://www.macrotrends.net/stocks/charts/\", ticker, \"/\", ticker, \"/price-book\"), user_agent(user_agent))\n",
    "  if (temp$status_code == 200) { # if successful GET\n",
    "    html_content = content(temp, \"text\")\n",
    "    return(html_content)\n",
    "  } else {\n",
    "    cat(\"Failed to download data for\", ticker, \"status code:\", temp$status_code, \"\\n\") # print if error\n",
    "    return(NULL)\n",
    "  }\n",
    "}"
   ]
  },
  {
   "cell_type": "code",
   "execution_count": 28,
   "id": "e832249e-5329-4ccf-b951-0af00f639faf",
   "metadata": {
    "vscode": {
     "languageId": "r"
    }
   },
   "outputs": [],
   "source": [
    "# function for data processing - converting retrieved data to xts\n",
    "convert_to_xts = function(html_content) {\n",
    "  html_data = read_html(html_content)\n",
    "\n",
    "  table = html_data %>%\n",
    "    html_node(\"table.table\") %>%\n",
    "    html_table(fill = TRUE)\n",
    "  \n",
    "  colnames(table) = as.character(unlist(table[1,])) # first row is the colnames\n",
    "  table = table[-1, ]\n",
    "  colnames(table) = gsub(\" \", \"_\", colnames(table)) # change spaces in colnames to underscores\n",
    "\n",
    "  # set the correct data types    \n",
    "  table$Date = as.Date(table$Date)\n",
    "  table$Stock_Price = as.numeric(table$Stock_Price)\n",
    "  table$Book_Value_per_Share = as.numeric(gsub(\",\", \"\", gsub(\"\\\\$\", \"\", table$Book_Value_per_Share))) # get rid of '$'\n",
    "  table$Price_to_Book_Ratio = as.numeric(table$Price_to_Book_Ratio)\n",
    "  \n",
    "  xts_table = xts(table[, -1], order.by = table$Date) # to xts\n",
    "  \n",
    "  return(xts_table)\n",
    "}\n"
   ]
  },
  {
   "cell_type": "code",
   "execution_count": 23,
   "id": "c9a3a7d3-8d63-4048-8b76-cbaba261b274",
   "metadata": {
    "vscode": {
     "languageId": "r"
    }
   },
   "outputs": [],
   "source": [
    "# scrape or load data\n",
    "scrape_now_BookVal = FALSE"
   ]
  },
  {
   "cell_type": "code",
   "execution_count": 29,
   "id": "fc8f1a54",
   "metadata": {
    "vscode": {
     "languageId": "r"
    }
   },
   "outputs": [],
   "source": [
    "# Run the code below only for the first time to scrape the data\n",
    "\n",
    "# --> Load the downloaded files:\n",
    "book_value_xts = readRDS(\"book_value_xts.rds\")"
   ]
  },
  {
   "cell_type": "code",
   "execution_count": 14,
   "id": "8041b575-e36d-4aab-bf17-6d2fd2230202",
   "metadata": {
    "vscode": {
     "languageId": "r"
    }
   },
   "outputs": [
    {
     "name": "stdout",
     "output_type": "stream",
     "text": [
      "1, 2, 3, 4, 5, 6, 7, 8, 9, 10, 11, 12, 13, 14, 15, 16, 17, 18, 19, 20, 21, 22, 23, 24, 25, 26, 27, 28, 29, 30, 31, 32, 33, 34, 35, 36, 37, 38, 39, 40, 41, 42, 43, 44, 45, 46, 47, 48, 49, 50, 51, 52, 53, 54, 55, 56, 57, 58, 59, 60, 61, 62, 63, 64, 65, 66, 67, 68, 69, 70, 71, 72, 73, 74, 75, 76, 77, 78, 79, 80, 81, 82, 83, 84, 85, 86, 87, 88, 89, 90, 91, 92, 93, 94, 95, 96, 97, 98, 99, 100, 101, 102, 103, 104, 105, 106, 107, 108, 109, 110, 111, 112, 113, 114, 115, 116, 117, 118, 119, 120, 121, 122, 123, 124, 125, 126, 127, 128, 129, 130, 131, 132, 133, 134, 135, 136, 137, 138, 139, 140, 141, 142, 143, 144, 145, 146, 147, 148, 149, 150, 151, 152, 153, 154, 155, 156, 157, 158, 159, 160, 161, 162, 163, 164, 165, 166, 167, 168, 169, 170, 171, 172, 173, 174, 175, 176, 177, 178, 179, 180, 181, 182, 183, 184, 185, 186, 187, 188, 189, 190, 191, 192, 193, 194, 195, 196, 197, 198, 199, 200, 201, 202, 203, 204, 205, 206, 207, 208, 209, 210, 211, 212, 213, 214, 215, 216, 217, 218, 219, 220, 221, 222, 223, 224, 225, 226, 227, 228, 229, 230, 231, 232, 233, 234, 235, 236, 237, 238, 239, 240, 241, 242, 243, 244, 245, 246, 247, 248, 249, 250, "
     ]
    }
   ],
   "source": [
    "# Optional: Scrape for the first time\n",
    "if (scrape_now_BookVal) {\n",
    "    html_data_list = list()\n",
    "    \n",
    "    i = 1 # for monitoring progress\n",
    "    book_value_xts = list()\n",
    "    for(ticker in tickers$x) {\n",
    "      tryCatch({\n",
    "        cat(i, \", \", sep = \"\") # print 'index' of stock that is now scraped, monitor progress\n",
    "      }, finally = {\n",
    "        flush.console() # to make sure it prints\n",
    "      }) \n",
    "        \n",
    "      # generate a random user agent\n",
    "      user_agent_string = paste0(sample(100:99999999, 1), \"\", sample(1:9, 1))\n",
    "      \n",
    "      # store the HTML content in the list as well as the xts, uses the functions above\n",
    "      html_data_list[[ticker]] = get_html_content(ticker, user_agent_string)\n",
    "      book_value_xts[[ticker]] = convert_to_xts(html_data_list[[ticker]])\n",
    "        \n",
    "      # sleep for a random amount of time between 30 and 60 seconds\n",
    "      Sys.sleep(round(runif(1, 30, 60)))\n",
    "      i = i + 1 # next stock\n",
    "    }\n",
    "     # the code above takes several hours to run. So we save the result to not have to run it every time\n",
    "    saveRDS(html_data_list, \"book_value_html.rds\")\n",
    "    saveRDS(book_value_xts, \"book_value_xts.rds\")\n",
    "    } else {\n",
    "    # if scraping done before: just load the data\n",
    "    book_value_xts = readRDS(\"book_value_xts.rds\")\n",
    "}"
   ]
  },
  {
   "cell_type": "code",
   "execution_count": 101,
   "id": "d4038d99-8545-43f3-ad9d-ab449b4d19cf",
   "metadata": {
    "vscode": {
     "languageId": "r"
    }
   },
   "outputs": [
    {
     "data": {
      "text/plain": [
       "           Stock_Price Book_Value_per_Share Price_to_Book_Ratio\n",
       "2009-03-31        4.85                10.32                0.47\n",
       "2009-06-30        6.04                10.00                0.60\n",
       "2009-09-30        9.38                 9.40                1.00\n",
       "2009-12-31        9.91                 9.00                1.10\n",
       "2010-03-31       10.76                 8.75                1.23\n",
       "2010-06-30       11.78                 8.42                1.40"
      ]
     },
     "metadata": {},
     "output_type": "display_data"
    },
    {
     "data": {
      "text/plain": [
       "           Stock_Price Book_Value_per_Share Price_to_Book_Ratio\n",
       "2022-12-31      237.28                24.59                9.65\n",
       "2023-03-31      285.96                26.18               10.92\n",
       "2023-06-30      338.51                27.75               12.20\n",
       "2023-09-30      314.53                29.70               10.59\n",
       "2023-12-31      375.35                32.06               11.71\n",
       "2024-03-28      420.72                   NA               13.12"
      ]
     },
     "metadata": {},
     "output_type": "display_data"
    }
   ],
   "source": [
    "head(book_value_xts$UDR) # example\n",
    "tail(book_value_xts$MSFT) # example"
   ]
  },
  {
   "cell_type": "markdown",
   "id": "967e2aa7-2406-4c30-a98a-e094d93825ca",
   "metadata": {},
   "source": [
    "The data was scraped for the entire period available, but we should work with only data from 01/01/2010 to 28/02/2024."
   ]
  },
  {
   "cell_type": "code",
   "execution_count": 30,
   "id": "7a4629c0-db46-435f-bfaa-8ca2cc19d7c4",
   "metadata": {
    "vscode": {
     "languageId": "r"
    }
   },
   "outputs": [],
   "source": [
    "# Subsetting according to date\n",
    "where_to_start = as.Date(\"2010-01-01\")\n",
    "where_to_end = as.Date(\"2024-02-28\")\n",
    "\n",
    "# function to adjust and subset each xts object\n",
    "adjust_and_subset_xts = function(xts_object) {\n",
    "  actual_start = start(xts_object)\n",
    "  actual_end = end(xts_object)\n",
    "\n",
    "  # some tables might start later or end earlier\n",
    "  # so to subset properly we take the 'later' start - 2010-01-01 or start date of the stock\n",
    "  # and earlier end: either the 2024-02-28  or the end date of the stock\n",
    "  adj_start = max(where_to_start, actual_start)\n",
    "  adj_end = min(where_to_end, actual_end)\n",
    "\n",
    "  # subset the table  \n",
    "  adj_xts_table = xts_object[paste(adj_start, adj_end, sep = '/')]\n",
    "  return(adj_xts_table)\n",
    "}\n",
    "\n",
    "# Apply to all stocks - they are in a list\n",
    "book_value_xts_sub = lapply(book_value_xts, adjust_and_subset_xts)"
   ]
  },
  {
   "cell_type": "code",
   "execution_count": 29,
   "id": "c732febd-66f5-492c-b217-f4c9fe025e91",
   "metadata": {
    "vscode": {
     "languageId": "r"
    }
   },
   "outputs": [
    {
     "data": {
      "text/plain": [
       "           Stock_Price Book_Value_per_Share Price_to_Book_Ratio\n",
       "2010-03-31       10.76                 8.75                1.23\n",
       "2010-06-30       11.78                 8.42                1.40\n",
       "2010-09-30       13.12                 9.20                1.43\n",
       "2010-12-31       14.74                 8.82                1.67\n",
       "2011-03-31       15.40                 8.74                1.76\n",
       "2011-06-30       15.64                 9.31                1.68"
      ]
     },
     "metadata": {},
     "output_type": "display_data"
    },
    {
     "data": {
      "text/plain": [
       "           Stock_Price Book_Value_per_Share Price_to_Book_Ratio\n",
       "2022-09-30      229.78                23.28                9.87\n",
       "2022-12-31      237.28                24.59                9.65\n",
       "2023-03-31      285.96                26.18               10.92\n",
       "2023-06-30      338.51                27.75               12.20\n",
       "2023-09-30      314.53                29.70               10.59\n",
       "2023-12-31      375.35                32.06               11.71"
      ]
     },
     "metadata": {},
     "output_type": "display_data"
    }
   ],
   "source": [
    "head(book_value_xts_sub$UDR) # example\n",
    "tail(book_value_xts_sub$MSFT) # example\n",
    "\n",
    "# now they start and end correctly"
   ]
  },
  {
   "cell_type": "markdown",
   "id": "d2ff3685-8ca9-4c76-94bb-f0ab6ce33096",
   "metadata": {},
   "source": [
    "### (3) Market capitalization"
   ]
  },
  {
   "cell_type": "markdown",
   "id": "4f965bc8-383e-45e2-bfb1-a59dd84804e1",
   "metadata": {},
   "source": [
    "Let's first figure it out on a sigle stock again, and then we will create a for loop for all 250. The resulting list of xts objects is *`market_cap_xts_sub`*."
   ]
  },
  {
   "cell_type": "code",
   "execution_count": 5,
   "id": "51f4a063-c01f-4e3c-925f-9ccce7fef4c2",
   "metadata": {
    "vscode": {
     "languageId": "r"
    }
   },
   "outputs": [],
   "source": [
    "# analogously to before\n",
    "temp = GET(\"https://www.macrotrends.net/assets/php/market_cap.php?t=UDR\", user_agent(\"3525145234\"))\n",
    "content_from_get = content(temp, \"text\")\n",
    "#content # to inspect the structure"
   ]
  },
  {
   "cell_type": "code",
   "execution_count": 6,
   "id": "7e79fa80-a67b-4370-afa6-d2c40cf43c85",
   "metadata": {
    "vscode": {
     "languageId": "r"
    }
   },
   "outputs": [],
   "source": [
    "html_content = read_html(content_from_get)"
   ]
  },
  {
   "cell_type": "code",
   "execution_count": 7,
   "id": "c984a5c9-3d04-4748-a0e3-b7e5a6db8f08",
   "metadata": {
    "vscode": {
     "languageId": "r"
    }
   },
   "outputs": [],
   "source": [
    "# get the body\n",
    "html_bod = html_node(html_content, xpath = \"//body\") %>% \n",
    "  html_children() %>% \n",
    "  html_text()"
   ]
  },
  {
   "cell_type": "code",
   "execution_count": 21,
   "id": "9b8af347-1e15-4e67-9876-7cb3cda36297",
   "metadata": {
    "scrolled": true,
    "vscode": {
     "languageId": "r"
    }
   },
   "outputs": [],
   "source": [
    "# print the body\n",
    "#html_bod\n",
    "#html_bod[2] # we can see that the data are in the second element and we can also see the structure"
   ]
  },
  {
   "cell_type": "code",
   "execution_count": 8,
   "id": "34200375-c008-4140-86ca-99f0f5bbfebb",
   "metadata": {
    "vscode": {
     "languageId": "r"
    }
   },
   "outputs": [],
   "source": [
    "html_bod_data = html_bod[2]\n",
    "pattern_data = \"\\\\[\\\\{.*?\\\\}\\\\]\" # from printing: the data are in a json-like structure inside square brackets\n",
    "json_data_str = str_match(html_bod_data, pattern_data)[,1] # match the pattern"
   ]
  },
  {
   "cell_type": "code",
   "execution_count": 9,
   "id": "238ca855-8ca8-4e1a-b066-d6577ad664ac",
   "metadata": {
    "vscode": {
     "languageId": "r"
    }
   },
   "outputs": [
    {
     "data": {
      "text/html": [
       "<table class=\"dataframe\">\n",
       "<caption>A data.frame: 6 × 2</caption>\n",
       "<thead>\n",
       "\t<tr><th></th><th scope=col>date</th><th scope=col>v1</th></tr>\n",
       "\t<tr><th></th><th scope=col>&lt;chr&gt;</th><th scope=col>&lt;dbl&gt;</th></tr>\n",
       "</thead>\n",
       "<tbody>\n",
       "\t<tr><th scope=row>1</th><td>2009-04-01</td><td>1.21</td></tr>\n",
       "\t<tr><th scope=row>2</th><td>2009-04-02</td><td>1.28</td></tr>\n",
       "\t<tr><th scope=row>3</th><td>2009-04-03</td><td>1.40</td></tr>\n",
       "\t<tr><th scope=row>4</th><td>2009-04-06</td><td>1.34</td></tr>\n",
       "\t<tr><th scope=row>5</th><td>2009-04-07</td><td>1.21</td></tr>\n",
       "\t<tr><th scope=row>6</th><td>2009-04-08</td><td>1.25</td></tr>\n",
       "</tbody>\n",
       "</table>\n"
      ],
      "text/latex": [
       "A data.frame: 6 × 2\n",
       "\\begin{tabular}{r|ll}\n",
       "  & date & v1\\\\\n",
       "  & <chr> & <dbl>\\\\\n",
       "\\hline\n",
       "\t1 & 2009-04-01 & 1.21\\\\\n",
       "\t2 & 2009-04-02 & 1.28\\\\\n",
       "\t3 & 2009-04-03 & 1.40\\\\\n",
       "\t4 & 2009-04-06 & 1.34\\\\\n",
       "\t5 & 2009-04-07 & 1.21\\\\\n",
       "\t6 & 2009-04-08 & 1.25\\\\\n",
       "\\end{tabular}\n"
      ],
      "text/markdown": [
       "\n",
       "A data.frame: 6 × 2\n",
       "\n",
       "| <!--/--> | date &lt;chr&gt; | v1 &lt;dbl&gt; |\n",
       "|---|---|---|\n",
       "| 1 | 2009-04-01 | 1.21 |\n",
       "| 2 | 2009-04-02 | 1.28 |\n",
       "| 3 | 2009-04-03 | 1.40 |\n",
       "| 4 | 2009-04-06 | 1.34 |\n",
       "| 5 | 2009-04-07 | 1.21 |\n",
       "| 6 | 2009-04-08 | 1.25 |\n",
       "\n"
      ],
      "text/plain": [
       "  date       v1  \n",
       "1 2009-04-01 1.21\n",
       "2 2009-04-02 1.28\n",
       "3 2009-04-03 1.40\n",
       "4 2009-04-06 1.34\n",
       "5 2009-04-07 1.21\n",
       "6 2009-04-08 1.25"
      ]
     },
     "metadata": {},
     "output_type": "display_data"
    }
   ],
   "source": [
    "data_market_cap = fromJSON(json_data_str) # get the data from JSON\n",
    "market_cap_df = as.data.frame(data_market_cap) # convert to df type\n",
    "head(market_cap_df)"
   ]
  },
  {
   "cell_type": "markdown",
   "id": "a7351f34-2999-4f9d-a4de-f99f325d0f84",
   "metadata": {},
   "source": [
    "From checking a few of the companies on the website, it seems the values in the graph are reported in billions, but to be sure we use the title of the figure as column name."
   ]
  },
  {
   "cell_type": "code",
   "execution_count": 10,
   "id": "b834f213-cd81-4109-8884-1d68a66b0fd4",
   "metadata": {
    "vscode": {
     "languageId": "r"
    }
   },
   "outputs": [
    {
     "data": {
      "text/html": [
       "<table class=\"dataframe\">\n",
       "<caption>A matrix: 1 × 2 of type chr</caption>\n",
       "<tbody>\n",
       "\t<tr><td>\"title\": \"Market Capitalization (Billions of Dollars)\"</td><td>Market Capitalization (Billions of Dollars)</td></tr>\n",
       "</tbody>\n",
       "</table>\n"
      ],
      "text/latex": [
       "A matrix: 1 × 2 of type chr\n",
       "\\begin{tabular}{ll}\n",
       "\t \"title\": \"Market Capitalization (Billions of Dollars)\" & Market Capitalization (Billions of Dollars)\\\\\n",
       "\\end{tabular}\n"
      ],
      "text/markdown": [
       "\n",
       "A matrix: 1 × 2 of type chr\n",
       "\n",
       "| \"title\": \"Market Capitalization (Billions of Dollars)\" | Market Capitalization (Billions of Dollars) |\n",
       "\n"
      ],
      "text/plain": [
       "     [,1]                                                  \n",
       "[1,] \"title\": \"Market Capitalization (Billions of Dollars)\"\n",
       "     [,2]                                       \n",
       "[1,] Market Capitalization (Billions of Dollars)"
      ]
     },
     "metadata": {},
     "output_type": "display_data"
    },
    {
     "data": {
      "text/html": [
       "'Market Capitalization (Billions of Dollars)'"
      ],
      "text/latex": [
       "'Market Capitalization (Billions of Dollars)'"
      ],
      "text/markdown": [
       "'Market Capitalization (Billions of Dollars)'"
      ],
      "text/plain": [
       "[1] \"Market Capitalization (Billions of Dollars)\""
      ]
     },
     "metadata": {},
     "output_type": "display_data"
    }
   ],
   "source": [
    "# set correct column name from title of the graph\n",
    "pattern_title = \"\\\"title\\\": \\\"([^\\\"]+)\\\"\" # from printing the content\n",
    "title_matches = str_match(html_bod_data, pattern_title)\n",
    "title_matches\n",
    "title_matches[1,2]"
   ]
  },
  {
   "cell_type": "code",
   "execution_count": 11,
   "id": "271403c4-cbd8-4c17-8289-3379d156bb58",
   "metadata": {
    "vscode": {
     "languageId": "r"
    }
   },
   "outputs": [
    {
     "data": {
      "text/html": [
       "'Market_Capitalization_Billions_of_Dollars'"
      ],
      "text/latex": [
       "'Market\\_Capitalization\\_Billions\\_of\\_Dollars'"
      ],
      "text/markdown": [
       "'Market_Capitalization_Billions_of_Dollars'"
      ],
      "text/plain": [
       "[1] \"Market_Capitalization_Billions_of_Dollars\""
      ]
     },
     "metadata": {},
     "output_type": "display_data"
    }
   ],
   "source": [
    "# to make it a valid colname - replace spaces and round brackets\n",
    "columnname = gsub(\" \", \"_\", title_matches[1,2])\n",
    "columnname = gsub(\"\\\\(\", \"\", columnname)\n",
    "columnname = gsub(\"\\\\)\", \"\", columnname)\n",
    "columnname"
   ]
  },
  {
   "cell_type": "code",
   "execution_count": 12,
   "id": "39e4266b-b749-4c73-a191-511df726e99d",
   "metadata": {
    "vscode": {
     "languageId": "r"
    }
   },
   "outputs": [
    {
     "data": {
      "text/plain": [
       "           Market_Capitalization_Billions_of_Dollars\n",
       "2009-04-01                                      1.21\n",
       "2009-04-02                                      1.28\n",
       "2009-04-03                                      1.40\n",
       "2009-04-06                                      1.34\n",
       "2009-04-07                                      1.21\n",
       "2009-04-08                                      1.25"
      ]
     },
     "metadata": {},
     "output_type": "display_data"
    },
    {
     "data": {
      "text/plain": [
       "           Market_Capitalization_Billions_of_Dollars\n",
       "2024-04-05                                     12.00\n",
       "2024-04-08                                     12.37\n",
       "2024-04-09                                     12.45\n",
       "2024-04-10                                     12.24\n",
       "2024-04-11                                     12.22\n",
       "2024-04-12                                     12.05"
      ]
     },
     "metadata": {},
     "output_type": "display_data"
    }
   ],
   "source": [
    "market_cap_df$date = as.Date(market_cap_df$date)\n",
    "market_cap_df$v1 = as.numeric(market_cap_df$v1)\n",
    "xts_table = xts(market_cap_df[, -1], order.by = market_cap_df$date) # work with xts\n",
    "colnames(xts_table) = columnname\n",
    "\n",
    "head(xts_table)\n",
    "tail(xts_table)"
   ]
  },
  {
   "cell_type": "markdown",
   "id": "652195ad-60bd-49db-85be-337538687c64",
   "metadata": {},
   "source": [
    "Now let's do the for loop analogically to before."
   ]
  },
  {
   "cell_type": "code",
   "execution_count": 14,
   "id": "e263ea7d-0b0d-43c7-93ee-5cc5d3b8954e",
   "metadata": {
    "vscode": {
     "languageId": "r"
    }
   },
   "outputs": [],
   "source": [
    "# this function gets the data and also passes the script for the colname\n",
    "# it tries to check for possible errors as well\n",
    "\n",
    "get_json_data = function(ticker, user_agent_string) {\n",
    "  url = paste0(\"https://www.macrotrends.net/assets/php/market_cap.php?t=\", ticker)  # pass the ticker to the URL\n",
    "  temp = GET(url, user_agent(user_agent_string))\n",
    "  \n",
    "  if (temp$status_code == 200) {\n",
    "    content_dat = content(temp, \"text\")\n",
    "    html_content = read_html(content_dat) # get html content\n",
    "    scripts = html_node(html_content, xpath = \"//body\") %>%  # get body\n",
    "      html_children() %>%\n",
    "      html_text()\n",
    "    \n",
    "    if (length(scripts) >= 2) {  # previously from printing: data should be in the second element\n",
    "      script_with_data = scripts[2]\n",
    "      pattern = \"\\\\[\\\\{.*?\\\\}\\\\]\"  # it is in square brackets and in json-like structure\n",
    "      \n",
    "      json_data_str = str_match(script_with_data, pattern)[,1] # match the 'pattern'\n",
    "      \n",
    "      if (!is.null(json_data_str) && nzchar(json_data_str)) { # if the data processing worked\n",
    "        return(list(json_data_str = json_data_str, script_with_data = script_with_data))\n",
    "      } else {\n",
    "        cat(\"Failed to extract JSON data for\", ticker, \"\\n\")\n",
    "        return(NULL)\n",
    "      }\n",
    "    } else {\n",
    "      cat(\"No script for\", ticker, \"\\n\")\n",
    "      return(NULL)\n",
    "    }\n",
    "  } else {\n",
    "    cat(\"Failed to download data for\", ticker, \"Status code:\", temp$status_code, \"\\n\")\n",
    "    return(NULL)\n",
    "  }\n",
    "}\n"
   ]
  },
  {
   "cell_type": "code",
   "execution_count": 15,
   "id": "af9689f5-4861-43bd-bcd2-402c36372abf",
   "metadata": {
    "vscode": {
     "languageId": "r"
    }
   },
   "outputs": [],
   "source": [
    "# this function takes the retrieved data and converts them to xts. \n",
    "# column name is taken from the original title of the graph\n",
    "\n",
    "convert_json_to_xts = function(json_data_str, script_with_data, ticker) {\n",
    "  data_mark_cap = fromJSON(json_data_str)\n",
    "  df_mark_cap = as.data.frame(data_mark_cap)\n",
    "    \n",
    "  #  set appropriate data types and create the xts object\n",
    "  df_mark_cap$date = as.Date(df_mark_cap$date)\n",
    "  df_mark_cap$v1 = as.numeric(df_mark_cap$v1)\n",
    "  xts_table = xts(df_mark_cap[, -1], order.by = df_mark_cap$date)\n",
    "  \n",
    "  # extract title of the graph for column name\n",
    "  pattern_title = \"\\\"title\\\": \\\"([^\\\"]+)\\\"\"\n",
    "  title_matches = str_match(script_with_data, pattern_title)\n",
    "  columnname = gsub(\" \", \"_\", title_matches[1,2])\n",
    "  columnname = gsub(\"\\\\(\", \"\", columnname)\n",
    "  columnname = gsub(\"\\\\)\", \"\", columnname)\n",
    "  if (columnname == 'Market_Capitalization_Billions_of_Dollars') {\n",
    "      columnname = 'MarketCap_Billions' } else { # shorter name\n",
    "      warning(\"Some stock is not in bln.\")}\n",
    "  \n",
    "  colnames(xts_table) = columnname\n",
    "  return(xts_table)\n",
    "}\n"
   ]
  },
  {
   "cell_type": "code",
   "execution_count": 40,
   "id": "2be83e37-ba1e-43ca-ba37-d9203bc27481",
   "metadata": {
    "vscode": {
     "languageId": "r"
    }
   },
   "outputs": [],
   "source": [
    "# scrape or load data\n",
    "scrape_now_MarketCap = FALSE\n",
    "# scrape_now_MarketCap = FALSE # if just loading"
   ]
  },
  {
   "cell_type": "code",
   "execution_count": 80,
   "id": "0c804bd9",
   "metadata": {
    "vscode": {
     "languageId": "r"
    }
   },
   "outputs": [],
   "source": [
    "# Run the code below for the first time to scrape the data\n",
    "# --> Load the save files:\n",
    "market_cap_xts = readRDS(\"market_cap_xts.rds\")"
   ]
  },
  {
   "cell_type": "code",
   "execution_count": 30,
   "id": "1ea13f3c-97c6-410a-98f2-8f094c98ac89",
   "metadata": {
    "vscode": {
     "languageId": "r"
    }
   },
   "outputs": [
    {
     "name": "stdout",
     "output_type": "stream",
     "text": [
      "1, 2, 3, 4, 5, 6, 7, 8, 9, 10, 11, 12, 13, 14, 15, 16, 17, 18, 19, 20, 21, 22, 23, 24, 25, 26, 27, 28, 29, 30, 31, 32, 33, 34, 35, 36, 37, 38, 39, 40, 41, 42, 43, 44, 45, 46, 47, 48, 49, 50, 51, 52, 53, 54, 55, 56, 57, 58, 59, 60, 61, 62, 63, 64, 65, 66, 67, 68, 69, 70, 71, 72, 73, 74, 75, 76, 77, 78, 79, 80, 81, 82, 83, 84, 85, 86, 87, 88, 89, 90, 91, 92, 93, 94, 95, 96, 97, 98, 99, 100, 101, 102, 103, 104, 105, 106, 107, 108, 109, 110, 111, 112, 113, 114, 115, 116, 117, 118, 119, 120, 121, 122, 123, 124, 125, 126, 127, 128, 129, 130, 131, 132, 133, 134, 135, 136, 137, 138, 139, 140, 141, 142, 143, 144, 145, 146, 147, 148, 149, 150, 151, 152, 153, 154, 155, 156, 157, 158, 159, 160, 161, 162, 163, 164, 165, 166, 167, 168, 169, 170, 171, 172, 173, 174, 175, 176, 177, 178, 179, 180, 181, 182, 183, 184, 185, 186, 187, 188, 189, 190, 191, 192, 193, 194, 195, 196, 197, 198, 199, 200, 201, 202, 203, 204, 205, 206, 207, 208, 209, 210, 211, 212, 213, 214, 215, 216, 217, 218, 219, 220, 221, 222, 223, 224, 225, 226, 227, 228, 229, 230, 231, 232, 233, 234, 235, 236, 237, 238, 239, 240, 241, 242, 243, 244, 245, 246, 247, 248, 249, 250, "
     ]
    }
   ],
   "source": [
    "# Optional: Scrape for the first time\n",
    "if (scrape_now_MarketCap) {\n",
    "  market_cap_xts = list()\n",
    "  i = 1 # for progress monitor\n",
    "\n",
    "  for (ticker in tickers$x) {\n",
    "    # monitor progress\n",
    "    tryCatch({\n",
    "        cat(i, \", \", sep = \"\") # print the 'index' of stock that is now scraped, monitor progress\n",
    "    }, finally = {\n",
    "        flush.console() # to make sure it prints\n",
    "    }) \n",
    "\n",
    "    # generate a random user agent\n",
    "    user_agent_string = paste0(sample(1:99, 1), sample(100:999, 1), sample(100:999, 1))\n",
    "\n",
    "    # get and process market cap data - functions defined above\n",
    "    data_result = get_json_data(ticker, user_agent_string)\n",
    "      \n",
    "    # put the xts to the list under the name of the stock      \n",
    "    market_cap_xts[[ticker]] = convert_json_to_xts(data_result$json_data_str, data_result$script_with_data, ticker)\n",
    "\n",
    "    # sleep for a random amount of time between 30 and 60 seconds\n",
    "    Sys.sleep(round(runif(1, 30, 60)))\n",
    "    i = i + 1 # Next stock\n",
    "  }\n",
    "  saveRDS(market_cap_xts, \"market_cap_xts.rds\") # save after scraping\n",
    "} else {\n",
    "  market_cap_xts = readRDS(\"market_cap_xts.rds\") # load if scraped previously\n",
    "}\n"
   ]
  },
  {
   "cell_type": "code",
   "execution_count": 42,
   "id": "1dea6626-5962-4e95-aeff-739fec986cf9",
   "metadata": {
    "vscode": {
     "languageId": "r"
    }
   },
   "outputs": [
    {
     "data": {
      "text/plain": [
       "           MarketCap_Billions\n",
       "2009-04-01               1.21\n",
       "2009-04-02               1.28\n",
       "2009-04-03               1.40\n",
       "2009-04-06               1.34\n",
       "2009-04-07               1.21\n",
       "2009-04-08               1.25"
      ]
     },
     "metadata": {},
     "output_type": "display_data"
    },
    {
     "data": {
      "text/plain": [
       "           MarketCap_Billions\n",
       "2024-03-21              31.79\n",
       "2024-03-22              32.38\n",
       "2024-03-25              32.53\n",
       "2024-03-26              32.62\n",
       "2024-03-27              33.19\n",
       "2024-03-28              33.26"
      ]
     },
     "metadata": {},
     "output_type": "display_data"
    }
   ],
   "source": [
    "head(market_cap_xts$UDR)\n",
    "tail(market_cap_xts$PEG)"
   ]
  },
  {
   "cell_type": "code",
   "execution_count": 81,
   "id": "a9a95989-f493-4108-ac87-ad86ce6cb6bd",
   "metadata": {
    "vscode": {
     "languageId": "r"
    }
   },
   "outputs": [
    {
     "data": {
      "text/plain": [
       "           MarketCap_Billions\n",
       "2016-03-11               1.10\n",
       "2016-03-14               1.10\n",
       "2016-03-15               1.07\n",
       "2016-03-16               1.10\n",
       "2016-03-17               1.11\n",
       "2016-03-18               1.10"
      ]
     },
     "metadata": {},
     "output_type": "display_data"
    }
   ],
   "source": [
    "head(market_cap_xts$UDR)"
   ]
  },
  {
   "cell_type": "markdown",
   "id": "f4ce45ab-4662-4546-a379-d0152994ee53",
   "metadata": {},
   "source": [
    "Same as with the book value - we downloaded entire periods available, but we should work with only data from 01/01/2010 to 28/02/2024."
   ]
  },
  {
   "cell_type": "code",
   "execution_count": 31,
   "id": "7f642f19-d0ee-49bf-a16a-ee7de013e8d9",
   "metadata": {
    "vscode": {
     "languageId": "r"
    }
   },
   "outputs": [],
   "source": [
    "# Subsetting:\n",
    "market_cap_xts_sub = lapply(market_cap_xts, adjust_and_subset_xts)\n",
    "saveRDS(market_cap_xts_sub, \"task3_market_cap.rds\")"
   ]
  },
  {
   "cell_type": "code",
   "execution_count": 45,
   "id": "5526c504-b9d8-4161-962b-e408ca321b88",
   "metadata": {
    "vscode": {
     "languageId": "r"
    }
   },
   "outputs": [
    {
     "data": {
      "text/plain": [
       "           MarketCap_Billions\n",
       "2010-01-04               2.53\n",
       "2010-01-05               2.53\n",
       "2010-01-06               2.51\n",
       "2010-01-07               2.53\n",
       "2010-01-08               2.48\n",
       "2010-01-11               2.50"
      ]
     },
     "metadata": {},
     "output_type": "display_data"
    },
    {
     "data": {
      "text/plain": [
       "           MarketCap_Billions\n",
       "2024-02-21              30.45\n",
       "2024-02-22              30.06\n",
       "2024-02-23              30.25\n",
       "2024-02-26              29.70\n",
       "2024-02-27              30.67\n",
       "2024-02-28              31.19"
      ]
     },
     "metadata": {},
     "output_type": "display_data"
    }
   ],
   "source": [
    "# check\n",
    "head(market_cap_xts_sub$UDR)\n",
    "tail(market_cap_xts_sub$PEG)"
   ]
  },
  {
   "cell_type": "markdown",
   "id": "85e36019-92c6-46e7-a006-a1b6cdd38354",
   "metadata": {},
   "source": [
    "## Task 2"
   ]
  },
  {
   "cell_type": "code",
   "execution_count": null,
   "id": "1ea21861-f943-4db4-8cd6-eb4549b47497",
   "metadata": {
    "vscode": {
     "languageId": "r"
    }
   },
   "outputs": [],
   "source": [
    "# Names of stocks are in \"tickers$x\"\n",
    "\n",
    "# data for all 250 stocks are in:\n",
    "# - daily adjusted closing prices and volume are in \"price_volume_xts\"\n",
    "# - Book value per share is in \"book_value_xts_sub\"\n",
    "# - Market Capitalization is in \"market_cap_xts_sub\"\n"
   ]
  },
  {
   "cell_type": "code",
   "execution_count": 2,
   "id": "f807a58f-728b-4f0d-b52d-7fdc92ec901b",
   "metadata": {
    "vscode": {
     "languageId": "r"
    }
   },
   "outputs": [],
   "source": [
    "shhh = suppressPackageStartupMessages #load quietly\n",
    "shhh(library(quantmod))\n",
    "shhh(library(PortfolioAnalytics))\n",
    "shhh(library(xts))"
   ]
  },
  {
   "cell_type": "markdown",
   "id": "0ac2eaf2",
   "metadata": {},
   "source": [
    "Load the data"
   ]
  },
  {
   "cell_type": "code",
   "execution_count": 3,
   "id": "94c9713a",
   "metadata": {
    "vscode": {
     "languageId": "r"
    }
   },
   "outputs": [],
   "source": [
    "price_volume_xts <- readRDS(\"price_volume_xts.rds\")"
   ]
  },
  {
   "cell_type": "markdown",
   "id": "bad90447",
   "metadata": {},
   "source": [
    "Load the tickers"
   ]
  },
  {
   "cell_type": "code",
   "execution_count": 4,
   "id": "6878ba38",
   "metadata": {
    "vscode": {
     "languageId": "r"
    }
   },
   "outputs": [],
   "source": [
    "# Load the tickers\n",
    "zip_path = \"data_HW1.zip\"\n",
    "csv_file = \"98698413_rand_download.csv\" # Pavlina's student number\n",
    "temp = tempfile() # temporary file path for unzipping\n",
    "unzip(zip_path, files = csv_file, exdir = temp) # unzip into the temp directory\n",
    "csv_path = file.path(temp, csv_file)\n",
    "tickers = read.csv(csv_path)\n",
    "unlink(temp, recursive = TRUE) # just a clean-up: delete temp directory"
   ]
  },
  {
   "cell_type": "markdown",
   "id": "4187108b",
   "metadata": {},
   "source": [
    "Divide stocks into 2 portfolios"
   ]
  },
  {
   "cell_type": "code",
   "execution_count": 5,
   "id": "2e1a7e43",
   "metadata": {
    "vscode": {
     "languageId": "r"
    }
   },
   "outputs": [],
   "source": [
    "portfolio_A_tickers <- tickers$x[1:10]\n",
    "portfolio_B_tickers <- tickers$x[11:20]"
   ]
  },
  {
   "cell_type": "markdown",
   "id": "a7b431b2",
   "metadata": {},
   "source": [
    "Create portfolios A and B"
   ]
  },
  {
   "cell_type": "code",
   "execution_count": 6,
   "id": "e825b190",
   "metadata": {
    "vscode": {
     "languageId": "r"
    }
   },
   "outputs": [],
   "source": [
    "get_portfolio <- function(xts_data, tickers, start, end) {\n",
    "  portfolio <- list()\n",
    "  date_range <- paste(start, end, sep = \"/\")\n",
    "  \n",
    "  for(ticker in tickers) {\n",
    "    # Subset\n",
    "    portfolio[[ticker]] = xts_data[[ticker]][date_range, c(paste0(ticker, \".Adjusted\"))]\n",
    "    # Convert to monthly\n",
    "    portfolio[[ticker]] = to.monthly(portfolio[[ticker]], OHLC=FALSE)\n",
    "    } \n",
    "  return(portfolio)\n",
    "}"
   ]
  },
  {
   "cell_type": "code",
   "execution_count": 7,
   "id": "7d983dbd",
   "metadata": {
    "vscode": {
     "languageId": "r"
    }
   },
   "outputs": [],
   "source": [
    "start = as.Date(\"2015-01-01\")\n",
    "end = as.Date(\"2024-02-29\")\n",
    "\n",
    "portfolio_A_data <- get_portfolio(price_volume_xts, portfolio_A_tickers, start, end)\n",
    "portfolio_B_data <- get_portfolio(price_volume_xts, portfolio_B_tickers, start, end)"
   ]
  },
  {
   "cell_type": "code",
   "execution_count": 8,
   "id": "7539c6e7",
   "metadata": {
    "vscode": {
     "languageId": "r"
    }
   },
   "outputs": [
    {
     "data": {
      "text/plain": [
       "         NI.Adjusted\n",
       "Jan 2015    12.66333\n",
       "Feb 2015    12.63461\n",
       "Mar 2015    13.00266\n",
       "Apr 2015    12.86009\n",
       "May 2015    13.97371\n",
       "Jun 2015    13.50279"
      ]
     },
     "metadata": {},
     "output_type": "display_data"
    }
   ],
   "source": [
    "head(portfolio_A_data$NI)"
   ]
  },
  {
   "cell_type": "markdown",
   "id": "af3142ff",
   "metadata": {},
   "source": [
    "Merge the dataset"
   ]
  },
  {
   "cell_type": "code",
   "execution_count": 8,
   "id": "2ed52fb7",
   "metadata": {
    "vscode": {
     "languageId": "r"
    }
   },
   "outputs": [],
   "source": [
    "# Merge the data\n",
    "portfolio_A_prices <- do.call(merge, portfolio_A_data)\n",
    "portfolio_B_prices <- do.call(merge, portfolio_B_data)"
   ]
  },
  {
   "cell_type": "markdown",
   "id": "425c1c92",
   "metadata": {},
   "source": [
    "Save adjusted prices for Task 3"
   ]
  },
  {
   "cell_type": "code",
   "execution_count": 34,
   "id": "e66b1e63",
   "metadata": {
    "vscode": {
     "languageId": "r"
    }
   },
   "outputs": [],
   "source": [
    "saveRDS(portfolio_A_prices, \"task3_A.rds\")\n",
    "saveRDS(portfolio_B_prices, \"task3_B.rds\")"
   ]
  },
  {
   "cell_type": "code",
   "execution_count": 11,
   "id": "27f559b4",
   "metadata": {
    "vscode": {
     "languageId": "r"
    }
   },
   "outputs": [
    {
     "data": {
      "text/html": [
       "TRUE"
      ],
      "text/latex": [
       "TRUE"
      ],
      "text/markdown": [
       "TRUE"
      ],
      "text/plain": [
       "[1] TRUE"
      ]
     },
     "metadata": {},
     "output_type": "display_data"
    }
   ],
   "source": [
    "# Check of xts format \n",
    "is.xts(portfolio_B_prices)"
   ]
  },
  {
   "cell_type": "markdown",
   "id": "d9eaac98",
   "metadata": {},
   "source": [
    "Calculate monthly simple returns"
   ]
  },
  {
   "cell_type": "code",
   "execution_count": 9,
   "id": "034633b6",
   "metadata": {
    "vscode": {
     "languageId": "r"
    }
   },
   "outputs": [],
   "source": [
    "returns_A <- Return.calculate(portfolio_A_prices, method = \"discrete\")\n",
    "returns_B <- Return.calculate(portfolio_B_prices, method = \"discrete\")\n",
    "\n",
    "colnames(returns_A) <- gsub(\"\\\\.Adjusted\", \"\", colnames(returns_A))\n",
    "colnames(returns_B) <- gsub(\"\\\\.Adjusted\", \"\", colnames(returns_B))\n",
    "\n",
    "returns_A <- na.omit(returns_A)\n",
    "returns_B <- na.omit(returns_B)"
   ]
  },
  {
   "cell_type": "code",
   "execution_count": 10,
   "id": "17a2858d",
   "metadata": {
    "vscode": {
     "languageId": "r"
    }
   },
   "outputs": [
    {
     "data": {
      "text/plain": [
       "                   NI          BEN         VRSK          ETR         PXD\n",
       "Feb 2015 -0.002267733  0.044633955  0.115928731 -0.082046543  0.01321963\n",
       "Mar 2015  0.029130422 -0.043856426 -0.005709829 -0.025405635  0.07231787\n",
       "Apr 2015 -0.010965156  0.004676112  0.050980348 -0.004000265  0.05669356\n",
       "May 2015  0.086595648 -0.012606601 -0.032782144  0.001727702 -0.14440290\n",
       "Jun 2015 -0.033700802 -0.034047631  0.002479985 -0.078069833 -0.06182793\n",
       "Jul 2015 -0.016476514 -0.070977199  0.073529112  0.007375955 -0.08594711\n",
       "                  MTCH           CPB           SYK         CAH         MRK\n",
       "Feb 2015  0.1061525493  0.0185830549  0.0406368566  0.05769910 -0.02886516\n",
       "Mar 2015  0.0007416766 -0.0008585322 -0.0227014329  0.02983264 -0.01016200\n",
       "Apr 2015  0.0348302606 -0.0330011320 -0.0001086308 -0.06569143  0.03618656\n",
       "May 2015  0.0751932913  0.0811899028  0.0421725644  0.04541122  0.02233028\n",
       "Jun 2015  0.0611429518 -0.0142738936 -0.0022561362 -0.04697726 -0.05792345\n",
       "Jul 2015 -0.0301279774  0.0416694291  0.0701054577  0.01589949  0.03565795"
      ]
     },
     "metadata": {},
     "output_type": "display_data"
    },
    {
     "data": {
      "image/png": "[encoded data removed]",
      "text/plain": [
       "plot without title"
      ]
     },
     "metadata": {
      "image/png": {
       "height": 420,
       "width": 420
      }
     },
     "output_type": "display_data"
    }
   ],
   "source": [
    "# Test\n",
    "head(returns_A)\n",
    "plot.ts(returns_A$NI)"
   ]
  },
  {
   "cell_type": "markdown",
   "id": "26a16640",
   "metadata": {},
   "source": [
    "Using the code above, we simply prepared the data for 2 portfolios based on the defined time intervals, stock tickers, and variables needed for further analysis. Finally, simple returns instead of prices are assumed. We could also use the logarithmic returns for the analysis in other scenario.\n",
    "\n",
    "We proceed with the porfolio specification and analysis using the PortfolioAnalytics package tools."
   ]
  },
  {
   "cell_type": "markdown",
   "id": "367ad69f",
   "metadata": {},
   "source": [
    "Portfolio specification"
   ]
  },
  {
   "cell_type": "code",
   "execution_count": 12,
   "id": "781113be",
   "metadata": {
    "vscode": {
     "languageId": "r"
    }
   },
   "outputs": [],
   "source": [
    "# Portfolio specification\n",
    "portfolio_A <- portfolio.spec(assets=names(returns_A))\n",
    "portfolio_B <- portfolio.spec(assets=names(returns_B))"
   ]
  },
  {
   "cell_type": "code",
   "execution_count": 13,
   "id": "149a5c24",
   "metadata": {
    "vscode": {
     "languageId": "r"
    }
   },
   "outputs": [
    {
     "name": "stdout",
     "output_type": "stream",
     "text": [
      "$assets\n",
      "  NI  BEN VRSK  ETR  PXD MTCH  CPB  SYK  CAH  MRK \n",
      " 0.1  0.1  0.1  0.1  0.1  0.1  0.1  0.1  0.1  0.1 \n",
      "\n",
      "$category_labels\n",
      "NULL\n",
      "\n",
      "$weight_seq\n",
      "NULL\n",
      "\n",
      "$constraints\n",
      "list()\n",
      "\n",
      "$objectives\n",
      "list()\n",
      "\n",
      "$call\n",
      "portfolio.spec(assets = names(returns_A))\n",
      "\n",
      "attr(,\"class\")\n",
      "[1] \"portfolio.spec\" \"portfolio\"     \n"
     ]
    }
   ],
   "source": [
    "# Check portfolio\n",
    "print.default(portfolio_A) # Equal weights are assumed at the beginning"
   ]
  },
  {
   "cell_type": "markdown",
   "id": "4d0693b9",
   "metadata": {},
   "source": [
    "Portfolio constraints"
   ]
  },
  {
   "cell_type": "code",
   "execution_count": 16,
   "id": "acc3b423",
   "metadata": {
    "vscode": {
     "languageId": "r"
    }
   },
   "outputs": [],
   "source": [
    "constraints <- function(portfolio) {\n",
    "    portfolio <- add.constraint(\n",
    "    portfolio = portfolio,\n",
    "    type = \"leverage\",\n",
    "    min_sum = 0.99,\n",
    "    max_sum = 1.01\n",
    "    )\n",
    "    portfolio <- add.constraint(\n",
    "        portfolio = portfolio,\n",
    "        type = \"full_investment\"\n",
    "    )\n",
    "    portfolio <- add.constraint(\n",
    "        portfolio = portfolio,\n",
    "        type = \"box\",\n",
    "        min = 0.05,\n",
    "        max = 0.4\n",
    "    )\n",
    "    return(portfolio)\n",
    "}\n",
    "\n",
    "objective <- function(portfolio) {\n",
    "    portfolio <- add.objective(\n",
    "        portfolio, \n",
    "        type=\"risk\", \n",
    "        name=\"var\"\n",
    "    )\n",
    "}"
   ]
  },
  {
   "cell_type": "code",
   "execution_count": 17,
   "id": "647b049e",
   "metadata": {
    "vscode": {
     "languageId": "r"
    }
   },
   "outputs": [],
   "source": [
    "portfolio_A <- constraints(portfolio_A)\n",
    "portfolio_B <- constraints(portfolio_B)\n",
    "\n",
    "portfolio_A <- objective(portfolio_A)\n",
    "portfolio_B <- objective(portfolio_B)"
   ]
  },
  {
   "cell_type": "markdown",
   "id": "c3766754",
   "metadata": {},
   "source": [
    "After the portfolio specification, we defined the constraints and objective for the optimization. We used the \"leverage\" constraint to optimize companies shares assuming their leverage boundaries, \"full investment\" to use the whole portfolio and \"box\" constraint to keep all companies at least with some minimal share involved while not distorting the portfolio by too high share. Moreover, the objective of type \"risk\" is set since we aim to minimize the volatility and thus the level of riskiness given the returns. "
   ]
  },
  {
   "cell_type": "code",
   "execution_count": 18,
   "id": "3eaa941e",
   "metadata": {
    "vscode": {
     "languageId": "r"
    }
   },
   "outputs": [
    {
     "name": "stderr",
     "output_type": "stream",
     "text": [
      "Registered S3 method overwritten by 'ROI':\n",
      "  method           from              \n",
      "  print.constraint PortfolioAnalytics\n",
      "\n"
     ]
    },
    {
     "data": {
      "text/plain": [
       "***********************************\n",
       "PortfolioAnalytics Optimization\n",
       "***********************************\n",
       "\n",
       "Call:\n",
       "optimize.portfolio(R = returns_A, portfolio = portfolio_A, optimize_method = \"ROI\", \n",
       "    trace = TRUE)\n",
       "\n",
       "Optimal Weights:\n",
       "    NI    BEN   VRSK    ETR    PXD   MTCH    CPB    SYK    CAH    MRK \n",
       "0.1976 0.0500 0.1127 0.0500 0.0500 0.0540 0.1761 0.0500 0.0500 0.2096 \n",
       "\n",
       "Objective Measure:\n",
       " StdDev \n",
       "0.03653 \n",
       "\n",
       "\n"
      ]
     },
     "metadata": {},
     "output_type": "display_data"
    }
   ],
   "source": [
    "opt_portfolio_A <- optimize.portfolio(\n",
    "    R = returns_A,\n",
    "    portfolio = portfolio_A,\n",
    "    optimize_method = \"ROI\",\n",
    "    trace = TRUE\n",
    ")\n",
    "opt_portfolio_A"
   ]
  },
  {
   "cell_type": "code",
   "execution_count": 19,
   "id": "48f0c27b",
   "metadata": {
    "vscode": {
     "languageId": "r"
    }
   },
   "outputs": [
    {
     "data": {
      "image/png": "[encoded data removed]",
      "text/plain": [
       "Plot with title \"\""
      ]
     },
     "metadata": {
      "image/png": {
       "height": 420,
       "width": 420
      }
     },
     "output_type": "display_data"
    }
   ],
   "source": [
    "plot(\n",
    "    opt_portfolio_A,\n",
    "    risk.col = \"StdDev\",\n",
    "    return.col = \"mean\",\n",
    "    main = \"Minimum Variance Optimization A\",\n",
    "    chart.assets = TRUE,\n",
    ")"
   ]
  },
  {
   "cell_type": "code",
   "execution_count": 20,
   "id": "ccf51ba8",
   "metadata": {
    "vscode": {
     "languageId": "r"
    }
   },
   "outputs": [
    {
     "data": {
      "text/plain": [
       "***********************************\n",
       "PortfolioAnalytics Optimization\n",
       "***********************************\n",
       "\n",
       "Call:\n",
       "optimize.portfolio(R = returns_B, portfolio = portfolio_B, optimize_method = \"ROI\", \n",
       "    trace = TRUE)\n",
       "\n",
       "Optimal Weights:\n",
       "  CINF    AOS   TROW    OMC    HAL     CL    MTB    CSX    SJM    NEE \n",
       "0.0553 0.0500 0.0500 0.0500 0.0500 0.2133 0.0500 0.0500 0.2071 0.2242 \n",
       "\n",
       "Objective Measure:\n",
       " StdDev \n",
       "0.03817 \n",
       "\n",
       "\n"
      ]
     },
     "metadata": {},
     "output_type": "display_data"
    }
   ],
   "source": [
    "opt_portfolio_B <- optimize.portfolio(\n",
    "    R = returns_B,\n",
    "    portfolio = portfolio_B,\n",
    "    optimize_method = \"ROI\",\n",
    "    trace = TRUE\n",
    ")\n",
    "opt_portfolio_B"
   ]
  },
  {
   "cell_type": "code",
   "execution_count": 21,
   "id": "a0343c07",
   "metadata": {
    "vscode": {
     "languageId": "r"
    }
   },
   "outputs": [
    {
     "data": {
      "image/png": "[encoded data removed]",
      "text/plain": [
       "Plot with title \"\""
      ]
     },
     "metadata": {
      "image/png": {
       "height": 420,
       "width": 420
      }
     },
     "output_type": "display_data"
    }
   ],
   "source": [
    "plot(\n",
    "    opt_portfolio_B,\n",
    "    risk.col = \"StdDev\",\n",
    "    return.col = \"mean\",\n",
    "    main = \"Minimum Variance Optimization B\",\n",
    "    chart.assets = TRUE,\n",
    ")"
   ]
  },
  {
   "cell_type": "markdown",
   "id": "39080fa1",
   "metadata": {},
   "source": [
    "The optimizations methods basically aim to find the stocks that minimize the total portfolio variance given their returns (resulting from the teory that assumes diversification can lower the idiosyncratic risk while keeping only the systematic risk). The results find the important stocks for portfolio A (NI, VRSK, CPB, MRK) and portfolio B (CL, SJM, NEE). These stocks seem to be the best in terms of returns given their riskiness.\n",
    "\n",
    "With the same logic, we can use the Sharp ratio (reward-to-volatility) to compare our 2 portfolios."
   ]
  },
  {
   "cell_type": "code",
   "execution_count": 23,
   "id": "2fece39a",
   "metadata": {
    "vscode": {
     "languageId": "r"
    }
   },
   "outputs": [],
   "source": [
    "# Create efficient frontiers\n",
    "EF_A <- create.EfficientFrontier(R = returns_A, portfolio = portfolio_A, type = 'mean-var')\n",
    "EF_B <- create.EfficientFrontier(R = returns_B, portfolio = portfolio_B, type = 'mean-var')"
   ]
  },
  {
   "cell_type": "code",
   "execution_count": 29,
   "id": "f1d54ae3",
   "metadata": {
    "vscode": {
     "languageId": "r"
    }
   },
   "outputs": [
    {
     "data": {
      "image/png": "[encoded data removed]",
      "text/plain": [
       "Plot with title \"Efficient Frontier\""
      ]
     },
     "metadata": {
      "image/png": {
       "height": 420,
       "width": 420
      }
     },
     "output_type": "display_data"
    },
    {
     "data": {
      "image/png": "[encoded data removed]",
      "text/plain": [
       "Plot with title \"Efficient Frontier\""
      ]
     },
     "metadata": {
      "image/png": {
       "height": 420,
       "width": 420
      }
     },
     "output_type": "display_data"
    }
   ],
   "source": [
    "# Plot the efficient frontier A\n",
    "chart.EfficientFrontier(EF_A, match.col = 'StdDev', type = 'l', pch = 4, RAR.text = 'Sharpe Ratio')\n",
    "\n",
    "# Plot the efficient frontier B\n",
    "chart.EfficientFrontier(EF_B, match.col = 'StdDev', type = 'l', pch = 4, RAR.text = 'Sharpe Ratio')"
   ]
  },
  {
   "cell_type": "markdown",
   "id": "1e56213e",
   "metadata": {},
   "source": [
    "Based on these results, we would choose the portfolio A given its higher Sharp ratio. However, there other also metrics to compare the portfolio performance (portfolio drawdown, benchmarking, M^2 measure, Treynor ratio) but it depends on the investing objective."
   ]
  },
  {
   "cell_type": "markdown",
   "id": "927ff6cf",
   "metadata": {},
   "source": [
    "## Task 3"
   ]
  },
  {
   "cell_type": "code",
   "execution_count": 1,
   "id": "424d17c2",
   "metadata": {
    "vscode": {
     "languageId": "r"
    }
   },
   "outputs": [],
   "source": [
    "shhh = suppressPackageStartupMessages #load quietly\n",
    "shhh(library(xts))\n",
    "shhh(library(dplyr))\n",
    "shhh(library(ggplot2))\n",
    "shhh(library(quantmod))"
   ]
  },
  {
   "cell_type": "markdown",
   "id": "0652411e",
   "metadata": {},
   "source": [
    "Load the data"
   ]
  },
  {
   "cell_type": "code",
   "execution_count": 2,
   "id": "13639cbb",
   "metadata": {
    "vscode": {
     "languageId": "r"
    }
   },
   "outputs": [],
   "source": [
    "portfolio_A_prices <- readRDS(\"task3_A.rds\")\n",
    "portfolio_B_prices <- readRDS(\"task3_B.rds\")\n",
    "market_cap_xts_sub <- readRDS(\"task3_market_cap.rds\") "
   ]
  },
  {
   "cell_type": "markdown",
   "id": "51866aba",
   "metadata": {},
   "source": [
    "Load the tickers "
   ]
  },
  {
   "cell_type": "code",
   "execution_count": 3,
   "id": "36109c21",
   "metadata": {
    "vscode": {
     "languageId": "r"
    }
   },
   "outputs": [],
   "source": [
    "# Load the tickers\n",
    "zip_path = \"data_HW1.zip\"\n",
    "csv_file = \"98698413_rand_download.csv\" # Pavlina's student number\n",
    "temp = tempfile() # temporary file path for unzipping\n",
    "unzip(zip_path, files = csv_file, exdir = temp) # unzip into the temp directory\n",
    "csv_path = file.path(temp, csv_file)\n",
    "tickers = read.csv(csv_path)\n",
    "unlink(temp, recursive = TRUE) # just a clean-up: delete temp directory"
   ]
  },
  {
   "cell_type": "markdown",
   "id": "12987480",
   "metadata": {},
   "source": [
    "Prepare adjusted prices"
   ]
  },
  {
   "cell_type": "code",
   "execution_count": 5,
   "id": "11d420ea",
   "metadata": {
    "vscode": {
     "languageId": "r"
    }
   },
   "outputs": [
    {
     "data": {
      "text/plain": [
       "         NI.Adjusted BEN.Adjusted VRSK.Adjusted ETR.Adjusted PXD.Adjusted\n",
       "Jan 2015    12.66333     34.71178      62.18811     59.75258     116.5771\n",
       "Feb 2015    12.63461     36.26110      69.39750     54.85009     118.1183\n",
       "Mar 2015    13.00266     34.67082      69.00125     53.45658     126.6603\n",
       "Apr 2015    12.86009     34.83295      72.51896     53.24274     133.8411\n",
       "May 2015    13.97371     34.39382      70.14163     53.33473     114.5141\n",
       "Jun 2015    13.50279     33.22279      70.31558     49.17090     107.4339\n",
       "         MTCH.Adjusted CPB.Adjusted SYK.Adjusted CAH.Adjusted MRK.Adjusted\n",
       "Jan 2015      16.56477     34.67088     81.48782     63.14388     43.28312\n",
       "Feb 2015      18.32316     35.31517     84.79923     66.78722     42.03375\n",
       "Mar 2015      18.33675     35.28485     82.87417     68.77966     41.60660\n",
       "Apr 2015      18.97542     34.12041     82.86517     64.26143     43.11220\n",
       "May 2015      20.40225     36.89065     86.35980     67.17962     44.07491\n",
       "Jun 2015      21.64970     36.36407     86.16496     64.02370     41.52194\n",
       "         CINF.Adjusted AOS.Adjusted TROW.Adjusted OMC.Adjusted HAL.Adjusted\n",
       "Jan 2015      38.64347     25.71950      56.69418     53.53339     33.88884\n",
       "Feb 2015      40.36485     27.37206      59.48854     58.48967     36.38875\n",
       "Mar 2015      41.11875     28.51420      58.69550     57.70736     37.34188\n",
       "Apr 2015      39.08133     27.82991      60.30925     56.06451     41.65645\n",
       "May 2015      39.03503     31.08763      59.94522     55.15428     38.63538\n",
       "Jun 2015      39.07729     31.34894      58.12948     51.78013     36.79847\n",
       "         CL.Adjusted MTB.Adjusted CSX.Adjusted SJM.Adjusted NEE.Adjusted\n",
       "Jan 2015    54.62383     87.78986     9.599965     79.75334     21.56997\n",
       "Feb 2015    57.29355     94.41581     9.935831     89.69346     20.57805\n",
       "Mar 2015    56.09620     99.09757     9.591219     89.98895     20.69540\n",
       "Apr 2015    54.73346     93.37803    10.451295     90.13667     20.07483\n",
       "May 2015    54.33486     94.86530     9.920566     92.69110     20.51162\n",
       "Jun 2015    53.21222     98.04369     9.504298     84.76290     19.64778"
      ]
     },
     "metadata": {},
     "output_type": "display_data"
    }
   ],
   "source": [
    "adjusted_prices <- merge(portfolio_A_prices, portfolio_B_prices)\n",
    "head(adjusted_prices)"
   ]
  },
  {
   "cell_type": "code",
   "execution_count": 6,
   "id": "8ee10515",
   "metadata": {
    "vscode": {
     "languageId": "r"
    }
   },
   "outputs": [
    {
     "data": {
      "text/html": [
       "TRUE"
      ],
      "text/latex": [
       "TRUE"
      ],
      "text/markdown": [
       "TRUE"
      ],
      "text/plain": [
       "[1] TRUE"
      ]
     },
     "metadata": {},
     "output_type": "display_data"
    }
   ],
   "source": [
    "is.xts(adjusted_prices)"
   ]
  },
  {
   "cell_type": "markdown",
   "id": "a1caf0fd",
   "metadata": {},
   "source": [
    "Using the adjusted stocks prices is intentional to take care of all the stock splits and received dividents since they are reflected inside these prices. Using the close prices, on the other hand, we would have to take care of stock splits to not distort our index."
   ]
  },
  {
   "cell_type": "markdown",
   "id": "a9adb584",
   "metadata": {},
   "source": [
    "Prepare market capitalizations"
   ]
  },
  {
   "cell_type": "code",
   "execution_count": 7,
   "id": "06ac0471",
   "metadata": {
    "vscode": {
     "languageId": "r"
    }
   },
   "outputs": [],
   "source": [
    "subset_market_cap <- function(xts_data, tickers, start, end) {\n",
    "  subset <- list()\n",
    "  date_range <- paste(start, end, sep = \"/\")\n",
    "  \n",
    "  for(ticker in tickers) {\n",
    "    # Subset\n",
    "    subset[[ticker]] = xts_data[[ticker]][date_range, ]\n",
    "    # Convert to monthly\n",
    "    subset[[ticker]] = to.monthly(subset[[ticker]], OHLC=FALSE)\n",
    "    } \n",
    "  return(subset)\n",
    "}"
   ]
  },
  {
   "cell_type": "code",
   "execution_count": 9,
   "id": "31f8faac",
   "metadata": {
    "vscode": {
     "languageId": "r"
    }
   },
   "outputs": [],
   "source": [
    "# Keep the same time interval, frequency and stocks as for adjusted prices\n",
    "start = as.Date(\"2015-01-01\")\n",
    "end = as.Date(\"2024-02-29\")\n",
    "\n",
    "market_cap_list <- subset_market_cap(market_cap_xts_sub, tickers$x, start, end)"
   ]
  },
  {
   "cell_type": "code",
   "execution_count": 10,
   "id": "33faeaab",
   "metadata": {
    "vscode": {
     "languageId": "r"
    }
   },
   "outputs": [
    {
     "data": {
      "text/plain": [
       "            NI   BEN  VRSK   ETR   PXD MTCH   CPB   SYK   CAH    MRK CINF  AOS\n",
       "Jan 2015 13.70 31.82 10.17 15.72 22.43   NA 14.32 34.50 27.45 170.89 8.28 5.31\n",
       "Feb 2015 13.59 33.25 11.35 14.28 22.73   NA 14.49 35.90 29.04 165.96 8.65 5.64\n",
       "Mar 2015 13.98 31.70 11.29 13.92 24.36   NA 14.48 34.95 29.79 162.96 8.74 5.87\n",
       "Apr 2015 13.79 31.66 12.32 13.86 25.74   NA 13.90 34.77 28.00 168.32 8.31 5.70\n",
       "May 2015 14.98 31.26 11.91 13.73 22.03   NA 15.08 36.24 29.27 172.08 8.30 6.36\n",
       "Jun 2015 14.47 30.11 11.94 12.66 20.66   NA 14.87 36.03 27.77 160.88 8.23 6.42\n",
       "          TROW   OMC   HAL    CL   MTB   CSX   SJM   NEE\n",
       "Jan 2015 20.36 17.94 33.99 61.29 14.94 33.00 10.44 48.32\n",
       "Feb 2015 21.37 19.60 36.50 64.28 15.98 34.00 11.89 45.76\n",
       "Mar 2015 20.95 19.21 37.30 62.94 16.77 32.82 11.92 46.02\n",
       "Apr 2015 20.92 18.52 41.71 60.86 15.84 35.66 11.94 44.96\n",
       "May 2015 20.79 18.22 38.68 60.42 16.00 33.67 14.12 45.59\n",
       "Jun 2015 20.03 16.99 36.70 59.17 16.54 32.26 12.91 43.67"
      ]
     },
     "metadata": {},
     "output_type": "display_data"
    }
   ],
   "source": [
    "market_cap <- do.call(merge, market_cap_list)\n",
    "colnames(market_cap) <- tickers$x\n",
    "head(market_cap)"
   ]
  },
  {
   "cell_type": "markdown",
   "id": "dbecec04",
   "metadata": {},
   "source": [
    "#### a) Simple price-weighted index"
   ]
  },
  {
   "cell_type": "code",
   "execution_count": 28,
   "id": "1a3b5f65",
   "metadata": {
    "vscode": {
     "languageId": "r"
    }
   },
   "outputs": [
    {
     "data": {
      "text/html": [
       "<style>\n",
       ".list-inline {list-style: none; margin:0; padding: 0}\n",
       ".list-inline>li {display: inline-block}\n",
       ".list-inline>li:not(:last-child)::after {content: \"\\00b7\"; padding: 0 .5ex}\n",
       "</style>\n",
       "<ol class=list-inline><li>49.3429880142212</li><li>51.6270330905914</li><li>52.1260350704193</li><li>52.21731300354</li><li>51.8723098278046</li><li>50.2837773323059</li></ol>\n"
      ],
      "text/latex": [
       "\\begin{enumerate*}\n",
       "\\item 49.3429880142212\n",
       "\\item 51.6270330905914\n",
       "\\item 52.1260350704193\n",
       "\\item 52.21731300354\n",
       "\\item 51.8723098278046\n",
       "\\item 50.2837773323059\n",
       "\\end{enumerate*}\n"
      ],
      "text/markdown": [
       "1. 49.3429880142212\n",
       "2. 51.6270330905914\n",
       "3. 52.1260350704193\n",
       "4. 52.21731300354\n",
       "5. 51.8723098278046\n",
       "6. 50.2837773323059\n",
       "\n",
       "\n"
      ],
      "text/plain": [
       "[1] 49.34299 51.62703 52.12604 52.21731 51.87231 50.28378"
      ]
     },
     "metadata": {},
     "output_type": "display_data"
    }
   ],
   "source": [
    "total_price <- rowSums(adjusted_prices, na.rm = TRUE)\n",
    "# Number of stocks present in the index for a given period (not NA price)\n",
    "stocks_amount <- as.vector(apply(adjusted_prices, 1, function(row) sum(!is.na(row))))\n",
    "\n",
    "price_index <- total_price / stocks_amount\n",
    "head(price_index)"
   ]
  },
  {
   "cell_type": "code",
   "execution_count": 29,
   "id": "9f377287",
   "metadata": {
    "vscode": {
     "languageId": "r"
    }
   },
   "outputs": [
    {
     "data": {
      "image/png": "[encoded data removed]",
      "text/plain": [
       "plot without title"
      ]
     },
     "metadata": {
      "image/png": {
       "height": 420,
       "width": 420
      }
     },
     "output_type": "display_data"
    }
   ],
   "source": [
    "plot.ts(price_index)"
   ]
  },
  {
   "cell_type": "markdown",
   "id": "0ac3b749",
   "metadata": {},
   "source": [
    "The price-weighted index is a simple way for computing an index, however, bears several disadvantages. For example, company size is not taking into account at all so that smaller companies can gain higher weight in the index that intended and thus affect its total value more significantly. Example of this method can be the DJIA index. "
   ]
  },
  {
   "cell_type": "markdown",
   "id": "da5b7809",
   "metadata": {},
   "source": [
    "#### b) Market-capitalization weighted index"
   ]
  },
  {
   "cell_type": "code",
   "execution_count": 31,
   "id": "1cf390ce",
   "metadata": {
    "vscode": {
     "languageId": "r"
    }
   },
   "outputs": [
    {
     "data": {
      "text/html": [
       "<style>\n",
       ".list-inline {list-style: none; margin:0; padding: 0}\n",
       ".list-inline>li {display: inline-block}\n",
       ".list-inline>li:not(:last-child)::after {content: \"\\00b7\"; padding: 0 .5ex}\n",
       "</style>\n",
       "<ol class=list-inline><li>47.8703533072057</li><li>49.467905751281</li><li>49.8628511481129</li><li>50.1839370727696</li><li>49.7061842113179</li><li>47.9593321956358</li></ol>\n"
      ],
      "text/latex": [
       "\\begin{enumerate*}\n",
       "\\item 47.8703533072057\n",
       "\\item 49.467905751281\n",
       "\\item 49.8628511481129\n",
       "\\item 50.1839370727696\n",
       "\\item 49.7061842113179\n",
       "\\item 47.9593321956358\n",
       "\\end{enumerate*}\n"
      ],
      "text/markdown": [
       "1. 47.8703533072057\n",
       "2. 49.467905751281\n",
       "3. 49.8628511481129\n",
       "4. 50.1839370727696\n",
       "5. 49.7061842113179\n",
       "6. 47.9593321956358\n",
       "\n",
       "\n"
      ],
      "text/plain": [
       "[1] 47.87035 49.46791 49.86285 50.18394 49.70618 47.95933"
      ]
     },
     "metadata": {},
     "output_type": "display_data"
    }
   ],
   "source": [
    "total_market_cap <- rowSums(market_cap, na.rm = TRUE)\n",
    "weights_market <- market_cap / total_market_cap\n",
    "\n",
    "market_index <- rowSums(weights_market * adjusted_prices, na.rm=TRUE)\n",
    "head(market_index)"
   ]
  },
  {
   "cell_type": "code",
   "execution_count": 92,
   "id": "1a362627",
   "metadata": {
    "vscode": {
     "languageId": "r"
    }
   },
   "outputs": [
    {
     "data": {
      "image/png": "[encoded data removed]",
      "text/plain": [
       "plot without title"
      ]
     },
     "metadata": {
      "image/png": {
       "height": 420,
       "width": 420
      }
     },
     "output_type": "display_data"
    }
   ],
   "source": [
    "plot.ts(market_index)"
   ]
  },
  {
   "cell_type": "markdown",
   "id": "6d43908b",
   "metadata": {},
   "source": [
    "The market-cap-weighted index allows us to take into account individual companies size. Moreoover, it does not have to be adjusted for stock splits and dividends since the market capitalization is not affected by these processes. In this way, the index more closely represents the total market and changes in market wealth given the companies sizes weights. On the other hand, the overvalued stocks can have disproportionally higher weights in the index as their price rises. Example of this method can be the S&P500 index."
   ]
  },
  {
   "cell_type": "markdown",
   "id": "03fdd011",
   "metadata": {},
   "source": [
    "#### c) Equally-weighted index"
   ]
  },
  {
   "cell_type": "code",
   "execution_count": 32,
   "metadata": {
    "vscode": {
     "languageId": "r"
    }
   },
   "outputs": [
    {
     "data": {
      "text/html": [
       "<style>\n",
       ".list-inline {list-style: none; margin:0; padding: 0}\n",
       ".list-inline>li {display: inline-block}\n",
       ".list-inline>li:not(:last-child)::after {content: \"\\00b7\"; padding: 0 .5ex}\n",
       "</style>\n",
       "<ol class=list-inline><li>49.3429880142212</li><li>51.6270330905914</li><li>52.1260350704193</li><li>52.21731300354</li><li>51.8723098278046</li><li>50.2837773323059</li></ol>\n"
      ],
      "text/latex": [
       "\\begin{enumerate*}\n",
       "\\item 49.3429880142212\n",
       "\\item 51.6270330905914\n",
       "\\item 52.1260350704193\n",
       "\\item 52.21731300354\n",
       "\\item 51.8723098278046\n",
       "\\item 50.2837773323059\n",
       "\\end{enumerate*}\n"
      ],
      "text/markdown": [
       "1. 49.3429880142212\n",
       "2. 51.6270330905914\n",
       "3. 52.1260350704193\n",
       "4. 52.21731300354\n",
       "5. 51.8723098278046\n",
       "6. 50.2837773323059\n",
       "\n",
       "\n"
      ],
      "text/plain": [
       "[1] 49.34299 51.62703 52.12604 52.21731 51.87231 50.28378"
      ]
     },
     "metadata": {},
     "output_type": "display_data"
    }
   ],
   "source": [
    "weights_equal <- 1 / length(tickers$x)\n",
    "\n",
    "equal_index <- rowSums(weights_equal * adjusted_prices, na.rm=TRUE)\n",
    "head(equal_index)"
   ]
  },
  {
   "cell_type": "code",
   "execution_count": 102,
   "id": "9a9b45d3",
   "metadata": {
    "vscode": {
     "languageId": "r"
    }
   },
   "outputs": [
    {
     "data": {
      "image/png": "[encoded data removed]",
      "text/plain": [
       "plot without title"
      ]
     },
     "metadata": {
      "image/png": {
       "height": 420,
       "width": 420
      }
     },
     "output_type": "display_data"
    }
   ],
   "source": [
    "plot.ts(equal_index)"
   ]
  },
  {
   "cell_type": "markdown",
   "id": "af4898f7",
   "metadata": {},
   "source": [
    "Calculating the equal-weighted index using companies prices allows us to include all companies equally not affected by their size or other specifications. The disproportionate proxy for a size of a firm can, however, once again result in small companies affecting the whole index. Example of this method can be the Value Line Composite index."
   ]
  },
  {
   "cell_type": "code",
   "execution_count": 35,
   "id": "99188645",
   "metadata": {
    "vscode": {
     "languageId": "r"
    }
   },
   "outputs": [
    {
     "data": {
      "text/html": [
       "<table class=\"dataframe\">\n",
       "<caption>A data.frame: 6 × 4</caption>\n",
       "<thead>\n",
       "\t<tr><th></th><th scope=col>Date</th><th scope=col>price_index</th><th scope=col>market_index</th><th scope=col>equal_index</th></tr>\n",
       "\t<tr><th></th><th scope=col>&lt;yearmon&gt;</th><th scope=col>&lt;dbl&gt;</th><th scope=col>&lt;dbl&gt;</th><th scope=col>&lt;dbl&gt;</th></tr>\n",
       "</thead>\n",
       "<tbody>\n",
       "\t<tr><th scope=row>1</th><td>Jan 2015</td><td>49.34299</td><td>47.87035</td><td>49.34299</td></tr>\n",
       "\t<tr><th scope=row>2</th><td>Feb 2015</td><td>51.62703</td><td>49.46791</td><td>51.62703</td></tr>\n",
       "\t<tr><th scope=row>3</th><td>Mar 2015</td><td>52.12604</td><td>49.86285</td><td>52.12604</td></tr>\n",
       "\t<tr><th scope=row>4</th><td>Apr 2015</td><td>52.21731</td><td>50.18394</td><td>52.21731</td></tr>\n",
       "\t<tr><th scope=row>5</th><td>May 2015</td><td>51.87231</td><td>49.70618</td><td>51.87231</td></tr>\n",
       "\t<tr><th scope=row>6</th><td>Jun 2015</td><td>50.28378</td><td>47.95933</td><td>50.28378</td></tr>\n",
       "</tbody>\n",
       "</table>\n"
      ],
      "text/latex": [
       "A data.frame: 6 × 4\n",
       "\\begin{tabular}{r|llll}\n",
       "  & Date & price\\_index & market\\_index & equal\\_index\\\\\n",
       "  & <yearmon> & <dbl> & <dbl> & <dbl>\\\\\n",
       "\\hline\n",
       "\t1 & Jan 2015 & 49.34299 & 47.87035 & 49.34299\\\\\n",
       "\t2 & Feb 2015 & 51.62703 & 49.46791 & 51.62703\\\\\n",
       "\t3 & Mar 2015 & 52.12604 & 49.86285 & 52.12604\\\\\n",
       "\t4 & Apr 2015 & 52.21731 & 50.18394 & 52.21731\\\\\n",
       "\t5 & May 2015 & 51.87231 & 49.70618 & 51.87231\\\\\n",
       "\t6 & Jun 2015 & 50.28378 & 47.95933 & 50.28378\\\\\n",
       "\\end{tabular}\n"
      ],
      "text/markdown": [
       "\n",
       "A data.frame: 6 × 4\n",
       "\n",
       "| <!--/--> | Date &lt;yearmon&gt; | price_index &lt;dbl&gt; | market_index &lt;dbl&gt; | equal_index &lt;dbl&gt; |\n",
       "|---|---|---|---|---|\n",
       "| 1 | Jan 2015 | 49.34299 | 47.87035 | 49.34299 |\n",
       "| 2 | Feb 2015 | 51.62703 | 49.46791 | 51.62703 |\n",
       "| 3 | Mar 2015 | 52.12604 | 49.86285 | 52.12604 |\n",
       "| 4 | Apr 2015 | 52.21731 | 50.18394 | 52.21731 |\n",
       "| 5 | May 2015 | 51.87231 | 49.70618 | 51.87231 |\n",
       "| 6 | Jun 2015 | 50.28378 | 47.95933 | 50.28378 |\n",
       "\n"
      ],
      "text/plain": [
       "  Date     price_index market_index equal_index\n",
       "1 Jan 2015 49.34299    47.87035     49.34299   \n",
       "2 Feb 2015 51.62703    49.46791     51.62703   \n",
       "3 Mar 2015 52.12604    49.86285     52.12604   \n",
       "4 Apr 2015 52.21731    50.18394     52.21731   \n",
       "5 May 2015 51.87231    49.70618     51.87231   \n",
       "6 Jun 2015 50.28378    47.95933     50.28378   "
      ]
     },
     "metadata": {},
     "output_type": "display_data"
    },
    {
     "data": {
      "image/png": "[encoded data removed]",
      "text/plain": [
       "plot without title"
      ]
     },
     "metadata": {
      "image/png": {
       "height": 420,
       "width": 420
      }
     },
     "output_type": "display_data"
    }
   ],
   "source": [
    "# Data frame\n",
    "indices_df <- data.frame(Date=index(adjusted_prices), \n",
    "                        price_index=price_index,\n",
    "                        market_index=market_index,\n",
    "                        equal_index=equal_index)\n",
    "head(indices_df)\n",
    "\n",
    "# Plotting\n",
    "ggplot(indices_df, aes(x=Date)) +\n",
    "  geom_line(aes(y=price_index, colour=\"Price Weighted\")) +\n",
    "  geom_line(aes(y=market_index, colour=\"Market Cap Weighted\")) +\n",
    "  geom_line(aes(y=equal_index, colour=\"Equally Weighted\")) +\n",
    "  labs(title=\"Index comparison\", y=\"Index Value\")"
   ]
  },
  {
   "cell_type": "markdown",
   "id": "1fc1bafb",
   "metadata": {},
   "source": [
    "The results show that the market-weighted index achieves higher values most of the times. It can be given by the larger firms in terms of market capitalization strongly affecting the overall index and thus pushing its price higher. The price-weighted and equally-weighted indexes seem to be identical given their proportional equal shares of all included stocks. "
   ]
  }
 ],
 "metadata": {
  "kernelspec": {
   "display_name": "R",
   "language": "R",
   "name": "ir"
  },
  "language_info": {
   "codemirror_mode": "r",
   "file_extension": ".r",
   "mimetype": "text/x-r-source",
   "name": "R",
   "pygments_lexer": "r",
   "version": "4.3.2"
  }
 },
 "nbformat": 4,
 "nbformat_minor": 5
}
