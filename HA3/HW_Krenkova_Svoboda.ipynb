{
 "cells": [
  {
   "cell_type": "markdown",
   "id": "14b78bb2-7cb2-4611-96f5-757e8bb9219f",
   "metadata": {},
   "source": [
    "# JEM092 - Asset Pricing HW3 - Pavlína Křenková & Tomáš Svoboda"
   ]
  },
  {
   "cell_type": "code",
   "execution_count": 1,
   "id": "f1d69704-7fa4-45e8-acb0-9797a4ab35c9",
   "metadata": {},
   "outputs": [],
   "source": [
    "# libraries\n",
    "shhh = suppressPackageStartupMessages\n",
    "shhh(library(quantmod))\n",
    "shhh(library(sandwich))\n",
    "shhh(library(xts))\n",
    "shhh(library(lubridate))\n",
    "shhh(library(moments))"
   ]
  },
  {
   "cell_type": "markdown",
   "id": "0495cb5a-113e-4969-a8e6-fa2c2bb59102",
   "metadata": {},
   "source": [
    "# 1. Introduction"
   ]
  },
  {
   "cell_type": "markdown",
   "id": "cfce562a-97f2-48dc-8833-f78253a0ca31",
   "metadata": {},
   "source": [
    "This paper uses independent bivariate portfolio analysis and the Fama-MacBeth regression model to assess the cross-sectional relation between future stock returns and variables: size, volatility, and skewness. The bivariate portfolios are created as *size-volatility* and *size-skewness*. During interpretation, emphasis is given to the effect of volatility and skewness, and how controlling for size affects the results. \n",
    "\n",
    "First, we load all the necessary data from external sources and previous home assignments. Then, we split the data according to the sorting variables into 3x3 portfolios, using the 30th and 70th percentiles as breakpoints. Then we prepare the code for the calculations and present the results. The paper aims to evaluate the cross-sectional relations between the sort variables and the returns. We create the difference long-short portfolios. We discuss whether our results align with theory and confirm the assumptions, or whether we observe any major differences. "
   ]
  },
  {
   "cell_type": "markdown",
   "id": "843caba6-142f-4097-814c-35c633c2d119",
   "metadata": {},
   "source": [
    "# 2. Data"
   ]
  },
  {
   "cell_type": "markdown",
   "id": "64ca5723-79bb-4edc-b993-96677c43db8c",
   "metadata": {},
   "source": [
    "The data needed for this analysis are: daily adjusted closing prices of the individual stocks, market capitalization, market risk premium (MKT), the risk-free rate, small-minus-big factor (SMB), high-minus-low factor (HML), momentum factor (MOM) and the liquidity factor (LIQ).\n",
    "\n",
    "The underlying adjusted closing prices and market capitalizations were downloaded in the previous homework and we load them here. Other needed variables, namely the market risk premium, small-minus-big factor, high-minus-low factor, and momentum factors are downloaded from the http://mba.tuck.dartmouth.edu and then loaded in the notebook. Moreover, the liquidity factor is needed, which is downloaded from https://faculty.chicagobooth.edu. The loading process is done for each series individually due to the unique structure of the data.\n",
    "\n",
    "As mentioned, this paper concerns bivariate sorts, where the sort variables are size and two additional variables. We were assigned variables *volatility* and *skewness*, hence no more data is downloaded since these are calculated directly from the returns. \n",
    "\n",
    "The data preparation process is mostly analogous to our HW2 with only a few differences (the book-to-market ratio is not needed, while skewnesses need to be calculated)."
   ]
  },
  {
   "cell_type": "code",
   "execution_count": 2,
   "id": "ae04cb06-53f9-40cf-9e02-94612236f935",
   "metadata": {},
   "outputs": [
    {
     "data": {
      "text/html": [
       "<table class=\"dataframe\">\n",
       "<caption>A data.frame: 6 × 3</caption>\n",
       "<thead>\n",
       "\t<tr><th></th><th scope=col>X</th><th scope=col>Group.Number</th><th scope=col>Assigned.Factor</th></tr>\n",
       "\t<tr><th></th><th scope=col>&lt;int&gt;</th><th scope=col>&lt;int&gt;</th><th scope=col>&lt;chr&gt;</th></tr>\n",
       "</thead>\n",
       "<tbody>\n",
       "\t<tr><th scope=row>1</th><td>1</td><td>36654797</td><td>MOM  </td></tr>\n",
       "\t<tr><th scope=row>2</th><td>2</td><td>40354250</td><td>VOL  </td></tr>\n",
       "\t<tr><th scope=row>3</th><td>3</td><td>78853749</td><td>SKEW </td></tr>\n",
       "\t<tr><th scope=row>4</th><td>4</td><td>62727848</td><td>SKEW </td></tr>\n",
       "\t<tr><th scope=row>5</th><td>5</td><td>44081550</td><td>STR  </td></tr>\n",
       "\t<tr><th scope=row>6</th><td>6</td><td>31690322</td><td>ILLIQ</td></tr>\n",
       "</tbody>\n",
       "</table>\n"
      ],
      "text/latex": [
       "A data.frame: 6 × 3\n",
       "\\begin{tabular}{r|lll}\n",
       "  & X & Group.Number & Assigned.Factor\\\\\n",
       "  & <int> & <int> & <chr>\\\\\n",
       "\\hline\n",
       "\t1 & 1 & 36654797 & MOM  \\\\\n",
       "\t2 & 2 & 40354250 & VOL  \\\\\n",
       "\t3 & 3 & 78853749 & SKEW \\\\\n",
       "\t4 & 4 & 62727848 & SKEW \\\\\n",
       "\t5 & 5 & 44081550 & STR  \\\\\n",
       "\t6 & 6 & 31690322 & ILLIQ\\\\\n",
       "\\end{tabular}\n"
      ],
      "text/markdown": [
       "\n",
       "A data.frame: 6 × 3\n",
       "\n",
       "| <!--/--> | X &lt;int&gt; | Group.Number &lt;int&gt; | Assigned.Factor &lt;chr&gt; |\n",
       "|---|---|---|---|\n",
       "| 1 | 1 | 36654797 | MOM   |\n",
       "| 2 | 2 | 40354250 | VOL   |\n",
       "| 3 | 3 | 78853749 | SKEW  |\n",
       "| 4 | 4 | 62727848 | SKEW  |\n",
       "| 5 | 5 | 44081550 | STR   |\n",
       "| 6 | 6 | 31690322 | ILLIQ |\n",
       "\n"
      ],
      "text/plain": [
       "  X Group.Number Assigned.Factor\n",
       "1 1 36654797     MOM            \n",
       "2 2 40354250     VOL            \n",
       "3 3 78853749     SKEW           \n",
       "4 4 62727848     SKEW           \n",
       "5 5 44081550     STR            \n",
       "6 6 31690322     ILLIQ          "
      ]
     },
     "metadata": {},
     "output_type": "display_data"
    },
    {
     "data": {
      "text/html": [
       "<table class=\"dataframe\">\n",
       "<caption>A data.frame: 1 × 3</caption>\n",
       "<thead>\n",
       "\t<tr><th></th><th scope=col>X</th><th scope=col>Group.Number</th><th scope=col>Assigned.Factor</th></tr>\n",
       "\t<tr><th></th><th scope=col>&lt;int&gt;</th><th scope=col>&lt;int&gt;</th><th scope=col>&lt;chr&gt;</th></tr>\n",
       "</thead>\n",
       "<tbody>\n",
       "\t<tr><th scope=row>18</th><td>18</td><td>98698413</td><td>SKEW</td></tr>\n",
       "</tbody>\n",
       "</table>\n"
      ],
      "text/latex": [
       "A data.frame: 1 × 3\n",
       "\\begin{tabular}{r|lll}\n",
       "  & X & Group.Number & Assigned.Factor\\\\\n",
       "  & <int> & <int> & <chr>\\\\\n",
       "\\hline\n",
       "\t18 & 18 & 98698413 & SKEW\\\\\n",
       "\\end{tabular}\n"
      ],
      "text/markdown": [
       "\n",
       "A data.frame: 1 × 3\n",
       "\n",
       "| <!--/--> | X &lt;int&gt; | Group.Number &lt;int&gt; | Assigned.Factor &lt;chr&gt; |\n",
       "|---|---|---|---|\n",
       "| 18 | 18 | 98698413 | SKEW |\n",
       "\n"
      ],
      "text/plain": [
       "   X  Group.Number Assigned.Factor\n",
       "18 18 98698413     SKEW           "
      ]
     },
     "metadata": {},
     "output_type": "display_data"
    },
    {
     "data": {
      "text/html": [
       "<table class=\"dataframe\">\n",
       "<caption>A data.frame: 1 × 3</caption>\n",
       "<thead>\n",
       "\t<tr><th></th><th scope=col>X</th><th scope=col>Group.Number</th><th scope=col>Assigned.Factor</th></tr>\n",
       "\t<tr><th></th><th scope=col>&lt;int&gt;</th><th scope=col>&lt;int&gt;</th><th scope=col>&lt;chr&gt;</th></tr>\n",
       "</thead>\n",
       "<tbody>\n",
       "\t<tr><th scope=row>42</th><td>42</td><td>60115410</td><td>VOL</td></tr>\n",
       "</tbody>\n",
       "</table>\n"
      ],
      "text/latex": [
       "A data.frame: 1 × 3\n",
       "\\begin{tabular}{r|lll}\n",
       "  & X & Group.Number & Assigned.Factor\\\\\n",
       "  & <int> & <int> & <chr>\\\\\n",
       "\\hline\n",
       "\t42 & 42 & 60115410 & VOL\\\\\n",
       "\\end{tabular}\n"
      ],
      "text/markdown": [
       "\n",
       "A data.frame: 1 × 3\n",
       "\n",
       "| <!--/--> | X &lt;int&gt; | Group.Number &lt;int&gt; | Assigned.Factor &lt;chr&gt; |\n",
       "|---|---|---|---|\n",
       "| 42 | 42 | 60115410 | VOL |\n",
       "\n"
      ],
      "text/plain": [
       "   X  Group.Number Assigned.Factor\n",
       "42 42 60115410     VOL            "
      ]
     },
     "metadata": {},
     "output_type": "display_data"
    }
   ],
   "source": [
    "# See assigned factors\n",
    "factors_all = read.csv('second_third_factor_rand.csv')\n",
    "head(factors_all)\n",
    "factors_all[factors_all$Group.Number == '98698413',] # 1st assigned Factor (Pavlina's number)\n",
    "factors_all[factors_all$Group.Number == '60115410',] # 2nd assigned Factor (Tomas' number)"
   ]
  },
  {
   "cell_type": "markdown",
   "id": "166ca42a-1c6f-407c-a4ba-3627c239a4e8",
   "metadata": {},
   "source": [
    "## a) Data Load"
   ]
  },
  {
   "cell_type": "code",
   "execution_count": 3,
   "id": "07afc53b-30e6-4f27-ba01-5f73dde61011",
   "metadata": {},
   "outputs": [
    {
     "data": {
      "text/plain": [
       "$UDR\n",
       "           UDR.Adjusted UDR.Volume\n",
       "2010-01-04     9.739022    1835200\n",
       "2010-01-05     9.727006    1665600\n",
       "2010-01-06     9.660918    1889000\n",
       "2010-01-07     9.733015    1792000\n",
       "2010-01-08     9.540755    1099800\n",
       "2010-01-11     9.606844    1531200\n"
      ]
     },
     "metadata": {},
     "output_type": "display_data"
    }
   ],
   "source": [
    "# Load data from HW1\n",
    "price_volume_xts <- readRDS(\"price_volume_xts.rds\")\n",
    "market_cap_xts <- readRDS(\"market_cap_xts.rds\") # Lists of xts objects\n",
    "lapply(price_volume_xts, head)[1]"
   ]
  },
  {
   "cell_type": "code",
   "execution_count": 4,
   "id": "cee1255b-841b-43d5-b9d7-63d21286319f",
   "metadata": {},
   "outputs": [],
   "source": [
    "# Download needed factors\n",
    "download.file(\n",
    "    \"http://mba.tuck.dartmouth.edu/pages/faculty/ken.french/ftp/F-F_Research_Data_Factors_TXT.zip\",\n",
    "    destfile = \"F-F_Research_Data_Factors.zip\"\n",
    ")\n",
    "# Daily FF5 factors - used for daily excess returns\n",
    "download.file(\n",
    "    'http://mba.tuck.dartmouth.edu/pages/faculty/ken.french/ftp/F-F_Research_Data_5_Factors_2x3_daily_TXT.zip',\n",
    "    destfile = 'F-F_Research_Data_5_Factors_2x3_daily_TXT.zip'\n",
    ")\n",
    "# Momentum\n",
    "download.file(\n",
    "    \"http://mba.tuck.dartmouth.edu/pages/faculty/ken.french/ftp/F-F_Momentum_Factor_TXT.zip\",\n",
    "    destfile = \"F-F_Momentum_Factor.zip\"\n",
    ")\n",
    "unzip(\"F-F_Research_Data_Factors.zip\")\n",
    "unzip('F-F_Research_Data_5_Factors_2x3_daily_TXT.zip')\n",
    "unzip(\"F-F_Momentum_Factor.zip\")"
   ]
  },
  {
   "cell_type": "markdown",
   "id": "15a02132-55cb-475e-852e-574688a2cee7",
   "metadata": {},
   "source": [
    "Load monthly FF3 factors"
   ]
  },
  {
   "cell_type": "code",
   "execution_count": 5,
   "id": "e22857ee-38e9-4b16-9c49-997e26a3d9d3",
   "metadata": {},
   "outputs": [
    {
     "data": {
      "text/html": [
       "<table class=\"dataframe\">\n",
       "<caption>A data.frame: 6 × 5</caption>\n",
       "<thead>\n",
       "\t<tr><th></th><th scope=col>t</th><th scope=col>mkt.rf</th><th scope=col>smb</th><th scope=col>hml</th><th scope=col>rf</th></tr>\n",
       "\t<tr><th></th><th scope=col>&lt;int&gt;</th><th scope=col>&lt;dbl&gt;</th><th scope=col>&lt;dbl&gt;</th><th scope=col>&lt;dbl&gt;</th><th scope=col>&lt;dbl&gt;</th></tr>\n",
       "</thead>\n",
       "<tbody>\n",
       "\t<tr><th scope=row>1</th><td>192607</td><td> 2.96</td><td>-2.56</td><td>-2.43</td><td>0.22</td></tr>\n",
       "\t<tr><th scope=row>2</th><td>192608</td><td> 2.64</td><td>-1.17</td><td> 3.82</td><td>0.25</td></tr>\n",
       "\t<tr><th scope=row>3</th><td>192609</td><td> 0.36</td><td>-1.40</td><td> 0.13</td><td>0.23</td></tr>\n",
       "\t<tr><th scope=row>4</th><td>192610</td><td>-3.24</td><td>-0.09</td><td> 0.70</td><td>0.32</td></tr>\n",
       "\t<tr><th scope=row>5</th><td>192611</td><td> 2.53</td><td>-0.10</td><td>-0.51</td><td>0.31</td></tr>\n",
       "\t<tr><th scope=row>6</th><td>192612</td><td> 2.62</td><td>-0.03</td><td>-0.05</td><td>0.28</td></tr>\n",
       "</tbody>\n",
       "</table>\n"
      ],
      "text/latex": [
       "A data.frame: 6 × 5\n",
       "\\begin{tabular}{r|lllll}\n",
       "  & t & mkt.rf & smb & hml & rf\\\\\n",
       "  & <int> & <dbl> & <dbl> & <dbl> & <dbl>\\\\\n",
       "\\hline\n",
       "\t1 & 192607 &  2.96 & -2.56 & -2.43 & 0.22\\\\\n",
       "\t2 & 192608 &  2.64 & -1.17 &  3.82 & 0.25\\\\\n",
       "\t3 & 192609 &  0.36 & -1.40 &  0.13 & 0.23\\\\\n",
       "\t4 & 192610 & -3.24 & -0.09 &  0.70 & 0.32\\\\\n",
       "\t5 & 192611 &  2.53 & -0.10 & -0.51 & 0.31\\\\\n",
       "\t6 & 192612 &  2.62 & -0.03 & -0.05 & 0.28\\\\\n",
       "\\end{tabular}\n"
      ],
      "text/markdown": [
       "\n",
       "A data.frame: 6 × 5\n",
       "\n",
       "| <!--/--> | t &lt;int&gt; | mkt.rf &lt;dbl&gt; | smb &lt;dbl&gt; | hml &lt;dbl&gt; | rf &lt;dbl&gt; |\n",
       "|---|---|---|---|---|---|\n",
       "| 1 | 192607 |  2.96 | -2.56 | -2.43 | 0.22 |\n",
       "| 2 | 192608 |  2.64 | -1.17 |  3.82 | 0.25 |\n",
       "| 3 | 192609 |  0.36 | -1.40 |  0.13 | 0.23 |\n",
       "| 4 | 192610 | -3.24 | -0.09 |  0.70 | 0.32 |\n",
       "| 5 | 192611 |  2.53 | -0.10 | -0.51 | 0.31 |\n",
       "| 6 | 192612 |  2.62 | -0.03 | -0.05 | 0.28 |\n",
       "\n"
      ],
      "text/plain": [
       "  t      mkt.rf smb   hml   rf  \n",
       "1 192607  2.96  -2.56 -2.43 0.22\n",
       "2 192608  2.64  -1.17  3.82 0.25\n",
       "3 192609  0.36  -1.40  0.13 0.23\n",
       "4 192610 -3.24  -0.09  0.70 0.32\n",
       "5 192611  2.53  -0.10 -0.51 0.31\n",
       "6 192612  2.62  -0.03 -0.05 0.28"
      ]
     },
     "metadata": {},
     "output_type": "display_data"
    },
    {
     "data": {
      "text/html": [
       "<table class=\"dataframe\">\n",
       "<caption>A data.frame: 6 × 5</caption>\n",
       "<thead>\n",
       "\t<tr><th></th><th scope=col>t</th><th scope=col>mkt.rf</th><th scope=col>smb</th><th scope=col>hml</th><th scope=col>rf</th></tr>\n",
       "\t<tr><th></th><th scope=col>&lt;int&gt;</th><th scope=col>&lt;dbl&gt;</th><th scope=col>&lt;dbl&gt;</th><th scope=col>&lt;dbl&gt;</th><th scope=col>&lt;dbl&gt;</th></tr>\n",
       "</thead>\n",
       "<tbody>\n",
       "\t<tr><th scope=row>1165</th><td>202307</td><td> 3.21</td><td> 2.08</td><td> 4.11</td><td>0.45</td></tr>\n",
       "\t<tr><th scope=row>1166</th><td>202308</td><td>-2.39</td><td>-3.16</td><td>-1.06</td><td>0.45</td></tr>\n",
       "\t<tr><th scope=row>1167</th><td>202309</td><td>-5.24</td><td>-2.51</td><td> 1.52</td><td>0.43</td></tr>\n",
       "\t<tr><th scope=row>1168</th><td>202310</td><td>-3.19</td><td>-3.88</td><td> 0.18</td><td>0.47</td></tr>\n",
       "\t<tr><th scope=row>1169</th><td>202311</td><td> 8.84</td><td>-0.02</td><td> 1.64</td><td>0.44</td></tr>\n",
       "\t<tr><th scope=row>1170</th><td>202312</td><td> 4.87</td><td> 6.34</td><td> 4.93</td><td>0.43</td></tr>\n",
       "</tbody>\n",
       "</table>\n"
      ],
      "text/latex": [
       "A data.frame: 6 × 5\n",
       "\\begin{tabular}{r|lllll}\n",
       "  & t & mkt.rf & smb & hml & rf\\\\\n",
       "  & <int> & <dbl> & <dbl> & <dbl> & <dbl>\\\\\n",
       "\\hline\n",
       "\t1165 & 202307 &  3.21 &  2.08 &  4.11 & 0.45\\\\\n",
       "\t1166 & 202308 & -2.39 & -3.16 & -1.06 & 0.45\\\\\n",
       "\t1167 & 202309 & -5.24 & -2.51 &  1.52 & 0.43\\\\\n",
       "\t1168 & 202310 & -3.19 & -3.88 &  0.18 & 0.47\\\\\n",
       "\t1169 & 202311 &  8.84 & -0.02 &  1.64 & 0.44\\\\\n",
       "\t1170 & 202312 &  4.87 &  6.34 &  4.93 & 0.43\\\\\n",
       "\\end{tabular}\n"
      ],
      "text/markdown": [
       "\n",
       "A data.frame: 6 × 5\n",
       "\n",
       "| <!--/--> | t &lt;int&gt; | mkt.rf &lt;dbl&gt; | smb &lt;dbl&gt; | hml &lt;dbl&gt; | rf &lt;dbl&gt; |\n",
       "|---|---|---|---|---|---|\n",
       "| 1165 | 202307 |  3.21 |  2.08 |  4.11 | 0.45 |\n",
       "| 1166 | 202308 | -2.39 | -3.16 | -1.06 | 0.45 |\n",
       "| 1167 | 202309 | -5.24 | -2.51 |  1.52 | 0.43 |\n",
       "| 1168 | 202310 | -3.19 | -3.88 |  0.18 | 0.47 |\n",
       "| 1169 | 202311 |  8.84 | -0.02 |  1.64 | 0.44 |\n",
       "| 1170 | 202312 |  4.87 |  6.34 |  4.93 | 0.43 |\n",
       "\n"
      ],
      "text/plain": [
       "     t      mkt.rf smb   hml   rf  \n",
       "1165 202307  3.21   2.08  4.11 0.45\n",
       "1166 202308 -2.39  -3.16 -1.06 0.45\n",
       "1167 202309 -5.24  -2.51  1.52 0.43\n",
       "1168 202310 -3.19  -3.88  0.18 0.47\n",
       "1169 202311  8.84  -0.02  1.64 0.44\n",
       "1170 202312  4.87   6.34  4.93 0.43"
      ]
     },
     "metadata": {},
     "output_type": "display_data"
    }
   ],
   "source": [
    "# Load factors - monthly\n",
    "FF3factors <- read.delim(\n",
    "    'F-F_Research_Data_Factors.txt',\n",
    "    col.names = c('t', 'mkt.rf', 'smb', 'hml', 'rf'),\n",
    "    sep = '',\n",
    "    nrows = 1170,\n",
    "    header = FALSE,\n",
    "    skip = 4,\n",
    "    stringsAsFactors = FALSE\n",
    ")\n",
    "head(FF3factors)\n",
    "tail(FF3factors)"
   ]
  },
  {
   "cell_type": "code",
   "execution_count": 6,
   "id": "177df82a-d50d-42e7-9e89-68460dde8545",
   "metadata": {},
   "outputs": [
    {
     "data": {
      "text/html": [
       "<table class=\"dataframe\">\n",
       "<caption>A data.frame: 6 × 5</caption>\n",
       "<thead>\n",
       "\t<tr><th></th><th scope=col>t</th><th scope=col>mkt.rf</th><th scope=col>smb</th><th scope=col>hml</th><th scope=col>rf</th></tr>\n",
       "\t<tr><th></th><th scope=col>&lt;date&gt;</th><th scope=col>&lt;dbl&gt;</th><th scope=col>&lt;dbl&gt;</th><th scope=col>&lt;dbl&gt;</th><th scope=col>&lt;dbl&gt;</th></tr>\n",
       "</thead>\n",
       "<tbody>\n",
       "\t<tr><th scope=row>1</th><td>1926-07-31</td><td> 2.96</td><td>-2.56</td><td>-2.43</td><td>0.22</td></tr>\n",
       "\t<tr><th scope=row>2</th><td>1926-08-31</td><td> 2.64</td><td>-1.17</td><td> 3.82</td><td>0.25</td></tr>\n",
       "\t<tr><th scope=row>3</th><td>1926-09-30</td><td> 0.36</td><td>-1.40</td><td> 0.13</td><td>0.23</td></tr>\n",
       "\t<tr><th scope=row>4</th><td>1926-10-31</td><td>-3.24</td><td>-0.09</td><td> 0.70</td><td>0.32</td></tr>\n",
       "\t<tr><th scope=row>5</th><td>1926-11-30</td><td> 2.53</td><td>-0.10</td><td>-0.51</td><td>0.31</td></tr>\n",
       "\t<tr><th scope=row>6</th><td>1926-12-31</td><td> 2.62</td><td>-0.03</td><td>-0.05</td><td>0.28</td></tr>\n",
       "</tbody>\n",
       "</table>\n"
      ],
      "text/latex": [
       "A data.frame: 6 × 5\n",
       "\\begin{tabular}{r|lllll}\n",
       "  & t & mkt.rf & smb & hml & rf\\\\\n",
       "  & <date> & <dbl> & <dbl> & <dbl> & <dbl>\\\\\n",
       "\\hline\n",
       "\t1 & 1926-07-31 &  2.96 & -2.56 & -2.43 & 0.22\\\\\n",
       "\t2 & 1926-08-31 &  2.64 & -1.17 &  3.82 & 0.25\\\\\n",
       "\t3 & 1926-09-30 &  0.36 & -1.40 &  0.13 & 0.23\\\\\n",
       "\t4 & 1926-10-31 & -3.24 & -0.09 &  0.70 & 0.32\\\\\n",
       "\t5 & 1926-11-30 &  2.53 & -0.10 & -0.51 & 0.31\\\\\n",
       "\t6 & 1926-12-31 &  2.62 & -0.03 & -0.05 & 0.28\\\\\n",
       "\\end{tabular}\n"
      ],
      "text/markdown": [
       "\n",
       "A data.frame: 6 × 5\n",
       "\n",
       "| <!--/--> | t &lt;date&gt; | mkt.rf &lt;dbl&gt; | smb &lt;dbl&gt; | hml &lt;dbl&gt; | rf &lt;dbl&gt; |\n",
       "|---|---|---|---|---|---|\n",
       "| 1 | 1926-07-31 |  2.96 | -2.56 | -2.43 | 0.22 |\n",
       "| 2 | 1926-08-31 |  2.64 | -1.17 |  3.82 | 0.25 |\n",
       "| 3 | 1926-09-30 |  0.36 | -1.40 |  0.13 | 0.23 |\n",
       "| 4 | 1926-10-31 | -3.24 | -0.09 |  0.70 | 0.32 |\n",
       "| 5 | 1926-11-30 |  2.53 | -0.10 | -0.51 | 0.31 |\n",
       "| 6 | 1926-12-31 |  2.62 | -0.03 | -0.05 | 0.28 |\n",
       "\n"
      ],
      "text/plain": [
       "  t          mkt.rf smb   hml   rf  \n",
       "1 1926-07-31  2.96  -2.56 -2.43 0.22\n",
       "2 1926-08-31  2.64  -1.17  3.82 0.25\n",
       "3 1926-09-30  0.36  -1.40  0.13 0.23\n",
       "4 1926-10-31 -3.24  -0.09  0.70 0.32\n",
       "5 1926-11-30  2.53  -0.10 -0.51 0.31\n",
       "6 1926-12-31  2.62  -0.03 -0.05 0.28"
      ]
     },
     "metadata": {},
     "output_type": "display_data"
    }
   ],
   "source": [
    "FF3factors$t <- as.Date(as.yearmon(as.character(FF3factors$t), format = \"%Y%m\"), frac = 1) # transform to valid time\n",
    "FF3factors_xts <- xts(FF3factors[, -1], order.by = FF3factors$t)\n",
    "head(FF3factors)"
   ]
  },
  {
   "cell_type": "markdown",
   "id": "9b9ecb6f-3edf-4bb6-9ac3-2adc0eab2cec",
   "metadata": {},
   "source": [
    "Load daily FF factors"
   ]
  },
  {
   "cell_type": "code",
   "execution_count": 7,
   "id": "a38b5f91-de58-47d9-b942-7e7bd9946cd0",
   "metadata": {},
   "outputs": [
    {
     "data": {
      "text/html": [
       "<table class=\"dataframe\">\n",
       "<caption>A data.frame: 6 × 7</caption>\n",
       "<thead>\n",
       "\t<tr><th></th><th scope=col>t</th><th scope=col>mkt_rf</th><th scope=col>smb</th><th scope=col>hml</th><th scope=col>rmw</th><th scope=col>cma</th><th scope=col>rf</th></tr>\n",
       "\t<tr><th></th><th scope=col>&lt;date&gt;</th><th scope=col>&lt;dbl&gt;</th><th scope=col>&lt;dbl&gt;</th><th scope=col>&lt;dbl&gt;</th><th scope=col>&lt;dbl&gt;</th><th scope=col>&lt;dbl&gt;</th><th scope=col>&lt;dbl&gt;</th></tr>\n",
       "</thead>\n",
       "<tbody>\n",
       "\t<tr><th scope=row>1</th><td>1963-07-02</td><td> 0.79</td><td>-0.28</td><td> 0.28</td><td>-0.08</td><td>-0.21</td><td>0.012</td></tr>\n",
       "\t<tr><th scope=row>2</th><td>1963-07-03</td><td> 0.63</td><td>-0.18</td><td>-0.10</td><td> 0.13</td><td>-0.25</td><td>0.012</td></tr>\n",
       "\t<tr><th scope=row>3</th><td>1963-07-05</td><td> 0.40</td><td> 0.09</td><td>-0.28</td><td> 0.07</td><td>-0.30</td><td>0.012</td></tr>\n",
       "\t<tr><th scope=row>4</th><td>1963-07-08</td><td>-0.63</td><td> 0.07</td><td>-0.20</td><td>-0.27</td><td> 0.06</td><td>0.012</td></tr>\n",
       "\t<tr><th scope=row>5</th><td>1963-07-09</td><td> 0.45</td><td> 0.00</td><td> 0.09</td><td> 0.15</td><td>-0.01</td><td>0.012</td></tr>\n",
       "\t<tr><th scope=row>6</th><td>1963-07-10</td><td>-0.18</td><td> 0.20</td><td> 0.00</td><td> 0.05</td><td>-0.09</td><td>0.012</td></tr>\n",
       "</tbody>\n",
       "</table>\n"
      ],
      "text/latex": [
       "A data.frame: 6 × 7\n",
       "\\begin{tabular}{r|lllllll}\n",
       "  & t & mkt\\_rf & smb & hml & rmw & cma & rf\\\\\n",
       "  & <date> & <dbl> & <dbl> & <dbl> & <dbl> & <dbl> & <dbl>\\\\\n",
       "\\hline\n",
       "\t1 & 1963-07-02 &  0.79 & -0.28 &  0.28 & -0.08 & -0.21 & 0.012\\\\\n",
       "\t2 & 1963-07-03 &  0.63 & -0.18 & -0.10 &  0.13 & -0.25 & 0.012\\\\\n",
       "\t3 & 1963-07-05 &  0.40 &  0.09 & -0.28 &  0.07 & -0.30 & 0.012\\\\\n",
       "\t4 & 1963-07-08 & -0.63 &  0.07 & -0.20 & -0.27 &  0.06 & 0.012\\\\\n",
       "\t5 & 1963-07-09 &  0.45 &  0.00 &  0.09 &  0.15 & -0.01 & 0.012\\\\\n",
       "\t6 & 1963-07-10 & -0.18 &  0.20 &  0.00 &  0.05 & -0.09 & 0.012\\\\\n",
       "\\end{tabular}\n"
      ],
      "text/markdown": [
       "\n",
       "A data.frame: 6 × 7\n",
       "\n",
       "| <!--/--> | t &lt;date&gt; | mkt_rf &lt;dbl&gt; | smb &lt;dbl&gt; | hml &lt;dbl&gt; | rmw &lt;dbl&gt; | cma &lt;dbl&gt; | rf &lt;dbl&gt; |\n",
       "|---|---|---|---|---|---|---|---|\n",
       "| 1 | 1963-07-02 |  0.79 | -0.28 |  0.28 | -0.08 | -0.21 | 0.012 |\n",
       "| 2 | 1963-07-03 |  0.63 | -0.18 | -0.10 |  0.13 | -0.25 | 0.012 |\n",
       "| 3 | 1963-07-05 |  0.40 |  0.09 | -0.28 |  0.07 | -0.30 | 0.012 |\n",
       "| 4 | 1963-07-08 | -0.63 |  0.07 | -0.20 | -0.27 |  0.06 | 0.012 |\n",
       "| 5 | 1963-07-09 |  0.45 |  0.00 |  0.09 |  0.15 | -0.01 | 0.012 |\n",
       "| 6 | 1963-07-10 | -0.18 |  0.20 |  0.00 |  0.05 | -0.09 | 0.012 |\n",
       "\n"
      ],
      "text/plain": [
       "  t          mkt_rf smb   hml   rmw   cma   rf   \n",
       "1 1963-07-02  0.79  -0.28  0.28 -0.08 -0.21 0.012\n",
       "2 1963-07-03  0.63  -0.18 -0.10  0.13 -0.25 0.012\n",
       "3 1963-07-05  0.40   0.09 -0.28  0.07 -0.30 0.012\n",
       "4 1963-07-08 -0.63   0.07 -0.20 -0.27  0.06 0.012\n",
       "5 1963-07-09  0.45   0.00  0.09  0.15 -0.01 0.012\n",
       "6 1963-07-10 -0.18   0.20  0.00  0.05 -0.09 0.012"
      ]
     },
     "metadata": {},
     "output_type": "display_data"
    }
   ],
   "source": [
    "# Daily 5 factors data -> used for calculating daily excess returns - contains daily rf\n",
    "FF5_factors <- read.delim(\n",
    "    'F-F_Research_Data_5_Factors_2x3_daily.txt',\n",
    "    col.names = c('t', 'mkt_rf', 'smb', 'hml', 'rmw', 'cma', 'rf'),\n",
    "    sep = '',\n",
    "    nrows = 25438,\n",
    "    header = FALSE,\n",
    "    skip = 5,\n",
    "    stringsAsFactors = FALSE\n",
    ")\n",
    "FF5_factors$t <- as.Date(as.character(FF5_factors$t), format='%Y%m%d')\n",
    "FF5_factors_xts <- as.xts(FF5_factors[, 2:7], order.by = FF5_factors$t)\n",
    "head(FF5_factors)"
   ]
  },
  {
   "cell_type": "markdown",
   "id": "a6ef8487-0306-495f-a04f-aea9d41ef6b3",
   "metadata": {},
   "source": [
    "Momentum"
   ]
  },
  {
   "cell_type": "code",
   "execution_count": 8,
   "id": "aecfa651-bda6-40e3-81fa-221dc22eab31",
   "metadata": {},
   "outputs": [
    {
     "name": "stderr",
     "output_type": "stream",
     "text": [
      "Warning message in read.table(file = file, header = header, sep = sep, quote = quote, :\n",
      "“header and 'col.names' are of different lengths”\n"
     ]
    },
    {
     "data": {
      "text/html": [
       "<table class=\"dataframe\">\n",
       "<caption>A data.frame: 6 × 2</caption>\n",
       "<thead>\n",
       "\t<tr><th></th><th scope=col>t</th><th scope=col>mom</th></tr>\n",
       "\t<tr><th></th><th scope=col>&lt;date&gt;</th><th scope=col>&lt;dbl&gt;</th></tr>\n",
       "</thead>\n",
       "<tbody>\n",
       "\t<tr><th scope=row>1159</th><td>2023-07-31</td><td>-3.98</td></tr>\n",
       "\t<tr><th scope=row>1160</th><td>2023-08-31</td><td> 3.77</td></tr>\n",
       "\t<tr><th scope=row>1161</th><td>2023-09-30</td><td> 0.26</td></tr>\n",
       "\t<tr><th scope=row>1162</th><td>2023-10-31</td><td> 1.72</td></tr>\n",
       "\t<tr><th scope=row>1163</th><td>2023-11-30</td><td> 2.75</td></tr>\n",
       "\t<tr><th scope=row>1164</th><td>2023-12-31</td><td>-5.51</td></tr>\n",
       "</tbody>\n",
       "</table>\n"
      ],
      "text/latex": [
       "A data.frame: 6 × 2\n",
       "\\begin{tabular}{r|ll}\n",
       "  & t & mom\\\\\n",
       "  & <date> & <dbl>\\\\\n",
       "\\hline\n",
       "\t1159 & 2023-07-31 & -3.98\\\\\n",
       "\t1160 & 2023-08-31 &  3.77\\\\\n",
       "\t1161 & 2023-09-30 &  0.26\\\\\n",
       "\t1162 & 2023-10-31 &  1.72\\\\\n",
       "\t1163 & 2023-11-30 &  2.75\\\\\n",
       "\t1164 & 2023-12-31 & -5.51\\\\\n",
       "\\end{tabular}\n"
      ],
      "text/markdown": [
       "\n",
       "A data.frame: 6 × 2\n",
       "\n",
       "| <!--/--> | t &lt;date&gt; | mom &lt;dbl&gt; |\n",
       "|---|---|---|\n",
       "| 1159 | 2023-07-31 | -3.98 |\n",
       "| 1160 | 2023-08-31 |  3.77 |\n",
       "| 1161 | 2023-09-30 |  0.26 |\n",
       "| 1162 | 2023-10-31 |  1.72 |\n",
       "| 1163 | 2023-11-30 |  2.75 |\n",
       "| 1164 | 2023-12-31 | -5.51 |\n",
       "\n"
      ],
      "text/plain": [
       "     t          mom  \n",
       "1159 2023-07-31 -3.98\n",
       "1160 2023-08-31  3.77\n",
       "1161 2023-09-30  0.26\n",
       "1162 2023-10-31  1.72\n",
       "1163 2023-11-30  2.75\n",
       "1164 2023-12-31 -5.51"
      ]
     },
     "metadata": {},
     "output_type": "display_data"
    }
   ],
   "source": [
    "# Momentum\n",
    "FFmom <- read.delim(\n",
    "    'F-F_Momentum_Factor.txt',\n",
    "    col.names = c('t', 'mom'), \n",
    "    sep = '',\n",
    "    nrows = 1164,\n",
    "    header = TRUE,\n",
    "    skip = 13,\n",
    "    stringsAsFactors = FALSE\n",
    ")\n",
    "# Set date as index\n",
    "FFmom$t <- as.Date(as.yearmon(as.character(FFmom$t), format = \"%Y%m\"), frac = 1)\n",
    "FFmom_xts <- xts(FFmom[, -1], order.by = FFmom$t)\n",
    "colnames(FFmom_xts) <- \"mom\"\n",
    "tail(FFmom)"
   ]
  },
  {
   "cell_type": "markdown",
   "id": "a099150f-09e4-41c7-9322-24653c7e7106",
   "metadata": {},
   "source": [
    "Liquidity"
   ]
  },
  {
   "cell_type": "code",
   "execution_count": 9,
   "id": "975a3b14-b370-48c1-9d10-e6921cbf86cf",
   "metadata": {},
   "outputs": [
    {
     "name": "stderr",
     "output_type": "stream",
     "text": [
      "Warning message in read.table(file = file, header = header, sep = sep, quote = quote, :\n",
      "“header and 'col.names' are of different lengths”\n"
     ]
    },
    {
     "data": {
      "text/plain": [
       "              Agg.Liq. Innov.Liq..eq8. Traded.Liq..LIQ_V.\n",
       "2023-07-31  0.03158360      0.05313238        -0.03521294\n",
       "2023-08-31 -0.02219315     -0.01384346        -0.04206628\n",
       "2023-09-30 -0.06412711     -0.03281943        -0.04053745\n",
       "2023-10-31  0.16340711      0.17621454         0.00078403\n",
       "2023-11-30  0.01836070     -0.10736516         0.05513213\n",
       "2023-12-31 -0.09925067     -0.12738569         0.03728561"
      ]
     },
     "metadata": {},
     "output_type": "display_data"
    }
   ],
   "source": [
    "# Liquidity\n",
    "data_url <- \"https://faculty.chicagobooth.edu/-/media/faculty/lubos-pastor/research/liq_data_1962_2023.txt\"\n",
    "\n",
    "# Reading data directly\n",
    "liq_factor <- read.delim(\n",
    "    file = url(data_url),\n",
    "    col.names = c('Month', 'Agg Liq.', 'Innov Liq (eq8)', 'Traded Liq (LIQ_V)'), \n",
    "    sep = '',\n",
    "    header = TRUE,\n",
    "    skip = 10,\n",
    "    stringsAsFactors = FALSE\n",
    ")\n",
    "\n",
    "# Processing dates\n",
    "liq_factor$Month <- as.Date(zoo::as.yearmon(as.character(liq_factor$Month), format = \"%Y%m\"), frac = 1)\n",
    "liq_factor_xts <- xts::xts(liq_factor[, -1], order.by = liq_factor$Month)\n",
    "\n",
    "# Viewing the last entries\n",
    "tail(liq_factor_xts)"
   ]
  },
  {
   "cell_type": "markdown",
   "id": "0ac1199e-2ee8-4647-8ff4-e0d529b7d803",
   "metadata": {},
   "source": [
    "## b) Data prep"
   ]
  },
  {
   "cell_type": "markdown",
   "id": "f2fbc024-a325-4d54-bfaf-66d202016637",
   "metadata": {},
   "source": [
    "We unify the time interval of each data frame to be between 2010 and 2023, following HW2 with the same restriction. Then we convert the data to the same format for easier handling."
   ]
  },
  {
   "cell_type": "code",
   "execution_count": 10,
   "id": "cbce16ba-782f-4c6b-ad4c-8894fe20890c",
   "metadata": {},
   "outputs": [],
   "source": [
    "start_date <- as.Date(\"2010-01-01\")\n",
    "end_date <- as.Date(\"2023-12-31\")\n",
    "\n",
    "adjust_sample_period <- function(xts_series) {\n",
    "    lapply(xts_series, function(stock){\n",
    "        stock[paste(start_date, \"/\", end_date, sep = \"\")]\n",
    "    })\n",
    "}\n",
    "\n",
    "price_volume <- adjust_sample_period(price_volume_xts)\n",
    "market_cap <- adjust_sample_period(market_cap_xts)\n",
    "three_factors <- adjust_sample_period(FF3factors_xts)\n",
    "five_factors <- adjust_sample_period(FF5_factors_xts)\n",
    "momentum_factor <- adjust_sample_period(FFmom_xts)\n",
    "liquidity_factor <- adjust_sample_period(liq_factor_xts)"
   ]
  },
  {
   "cell_type": "code",
   "execution_count": 11,
   "id": "9b20f2ef-c60f-418f-8d4c-d35df80f4a94",
   "metadata": {},
   "outputs": [],
   "source": [
    "# Extract the values\n",
    "price_list <- lapply(price_volume, function(x) x[,1])\n",
    "                     \n",
    "# Convert lists to dataframes\n",
    "prices <- do.call('cbind', price_list)\n",
    "nominals <- do.call('cbind', market_cap)\n",
    "\n",
    "three_fact <- do.call('cbind', three_factors)\n",
    "five_fact <- do.call('cbind', five_factors)\n",
    "momentum <- momentum_factor$mom\n",
    "liquidity <- liquidity_factor$Traded.Liq..LIQ_V. # Traded liquidity factor (LIQ_V)\n",
    "\n",
    "# Set column names\n",
    "colnames(prices) <- names(price_list)\n",
    "colnames(nominals) <- names(market_cap)\n",
    "\n",
    "colnames(liquidity) <- \"liquidity\""
   ]
  },
  {
   "cell_type": "markdown",
   "id": "721e6293-7395-4854-8093-33480a7df8ca",
   "metadata": {},
   "source": [
    "## c) Monthly returns, volatilities, skewnesses and market capitalizations  "
   ]
  },
  {
   "cell_type": "markdown",
   "id": "eb0209d4-fd57-431f-acac-c06ef1219fe9",
   "metadata": {},
   "source": [
    "We calculate the excess returns as $excess.returns_{i,t} = returns_{i,t} - risk.free.rate_{t}$, which will be used in further analysis. The approach is generally consistent with HW2; moreover, skewness is calculated. The monthly volatilities and skewnesses are calculated from the daily data we obtained previously. The volatility is annualized and scaled to be in percentages. Monthly nominals/market capitalizations are also calculated. "
   ]
  },
  {
   "cell_type": "code",
   "execution_count": 12,
   "id": "152790d5-af1d-4571-9367-7b77f9935063",
   "metadata": {},
   "outputs": [],
   "source": [
    "# Monthly & daily returns\n",
    "daily_returns <- lapply(prices, function(x) suppressWarnings(dailyReturn(x)))\n",
    "monthly_returns <- lapply(prices, function(x) suppressWarnings(quantmod::monthlyReturn(x)))\n",
    "daily_returns <- do.call('cbind', daily_returns)\n",
    "monthly_returns <- do.call('cbind', monthly_returns)\n",
    "colnames(daily_returns) <-names(price_list)\n",
    "colnames(monthly_returns) <- names(price_list)\n",
    "index(monthly_returns) <- as.Date(as.yearmon(index(monthly_returns), format = \"Q%q/%y\"), frac = 1)\n",
    "\n",
    "# Excess returns\n",
    "for (i in 1:ncol(monthly_returns)) {\n",
    "    daily_returns[, i] <- daily_returns[, i] - five_fact[, \"rf\"]\n",
    "    monthly_returns[, i] <- monthly_returns[, i] - three_fact[, \"rf\"]\n",
    "}\n",
    "\n",
    "# Monthly volatilities\n",
    "monthly_volatilities <- as.xts(aggregate(daily_returns, as.yearmon(time(daily_returns)), sd))*100*sqrt(12) # Extract time index from daily_returns, convert it to 'yearmon' format, then aggregate/group daily returns with month times, then calculates sd within each month, then convert to xts object\n",
    "index(monthly_volatilities) <- as.Date(as.yearmon(index(monthly_volatilities), format = \"Q%q/%y\"), frac = 1)\n",
    "colnames(monthly_volatilities) <- names(price_list)\n",
    "\n",
    "# Monthly skewnesses\n",
    "monthly_skewness <- as.xts(aggregate(daily_returns, as.yearmon(time(daily_returns)), FUN = skewness)) # Extract time index from daily_returns, convert it to 'yearmon' format, then aggregate/group daily returns with month times, then calculates skewness within each month, then convert to xts object\n",
    "index(monthly_skewness) <- as.Date(as.yearmon(index(monthly_skewness)), frac = 1)\n",
    "colnames(monthly_skewness) <- names(price_list)\n",
    "\n",
    "\n",
    "# Monthly nominals\n",
    "monthly_nominals <- as.xts(aggregate(nominals, as.yearmon(time(nominals)), sum))\n",
    "index(monthly_nominals) <- as.Date(as.yearmon(index(monthly_nominals), format = \"Q%q/%y\"), frac = 1)\n",
    "colnames(monthly_nominals) <- names(price_list)"
   ]
  },
  {
   "cell_type": "markdown",
   "id": "32648393-696e-4c6a-b222-afb229568621",
   "metadata": {},
   "source": [
    "Here we calculate the standard deviations of the volatility and skewness, which are then used to discuss economic importance of the factors. The SD is calculated for each mon of the cross-section, and then the time series mean is calculated."
   ]
  },
  {
   "cell_type": "code",
   "execution_count": 13,
   "id": "23da6837-a0ac-4957-86e0-f89465a8df34",
   "metadata": {},
   "outputs": [
    {
     "data": {
      "text/html": [
       "2.46289877175128"
      ],
      "text/latex": [
       "2.46289877175128"
      ],
      "text/markdown": [
       "2.46289877175128"
      ],
      "text/plain": [
       "[1] 2.462899"
      ]
     },
     "metadata": {},
     "output_type": "display_data"
    },
    {
     "data": {
      "text/html": [
       "0.818021497904597"
      ],
      "text/latex": [
       "0.818021497904597"
      ],
      "text/markdown": [
       "0.818021497904597"
      ],
      "text/plain": [
       "[1] 0.8180215"
      ]
     },
     "metadata": {},
     "output_type": "display_data"
    }
   ],
   "source": [
    "# used later to determine economic importance\n",
    "monthly_sd = apply(na.omit(monthly_volatilities), 1, sd)\n",
    "mean_monthly_sd_vol = mean(monthly_sd)\n",
    "mean_monthly_sd_vol\n",
    "\n",
    "monthly_sd = apply(na.omit(monthly_skewness), 1, sd)\n",
    "mean_monthly_sd_skew = mean(monthly_sd)\n",
    "mean_monthly_sd_skew\n"
   ]
  },
  {
   "cell_type": "markdown",
   "id": "99dec73d-6e0d-4373-b763-a34b53048203",
   "metadata": {},
   "source": [
    "## d) Sizes"
   ]
  },
  {
   "cell_type": "markdown",
   "id": "65a1b5f8-79c8-443e-9f18-4e9140b39ecf",
   "metadata": {},
   "source": [
    "The sizes are calculated as $$size_{i,t} = ln(market.cap_{i,t})$$"
   ]
  },
  {
   "cell_type": "code",
   "execution_count": 14,
   "id": "30ad2d0b-cc0e-456a-9d3a-647adbcb0d1d",
   "metadata": {},
   "outputs": [],
   "source": [
    "monthly_sizes <- log(monthly_nominals)\n",
    "colnames(monthly_sizes) <- names(price_list)\n",
    "\n",
    "# Replace -Inf and Inf in `monthly_sizes` with NAs.\n",
    "monthly_sizes <- as.xts(apply(monthly_sizes, 2, function(x) ifelse(is.finite(x), x, NA)))"
   ]
  },
  {
   "cell_type": "markdown",
   "id": "74ed3567-6c68-42c6-9648-32b007555e4d",
   "metadata": {},
   "source": [
    "## e) Overview"
   ]
  },
  {
   "cell_type": "markdown",
   "id": "c7cf21a4-f46b-4215-8dc8-46d252e3b0df",
   "metadata": {},
   "source": [
    "All FF-CPS factors we will be using are merged into the *factors* dataframe, the final montly data for returns, volatilities, skewnesses, nominals and sizes are prepared in their respective dataframes."
   ]
  },
  {
   "cell_type": "code",
   "execution_count": 15,
   "id": "7d3e5c17-7d7f-47cf-854e-e19cc0d6d120",
   "metadata": {},
   "outputs": [],
   "source": [
    "factors <- cbind(three_fact, momentum, liquidity)"
   ]
  },
  {
   "cell_type": "code",
   "execution_count": 16,
   "id": "9c3ce674-b0b4-468b-b7e8-d237dca06b46",
   "metadata": {},
   "outputs": [
    {
     "data": {
      "text/plain": [
       "           mkt.rf   smb   hml   rf   mom   liquidity\n",
       "2010-01-31  -3.36  0.40  0.43 0.00 -5.40 -0.01105698\n",
       "2010-02-28   3.40  1.19  3.23 0.00  3.74 -0.00755895\n",
       "2010-03-31   6.31  1.48  2.21 0.01  3.76 -0.06257515\n",
       "2010-04-30   2.00  4.87  2.89 0.01  3.16  0.01020015\n",
       "2010-05-31  -7.89  0.09 -2.44 0.01 -0.25 -0.02806075\n",
       "2010-06-30  -5.57 -1.82 -4.70 0.01 -2.76  0.00383754"
      ]
     },
     "metadata": {},
     "output_type": "display_data"
    }
   ],
   "source": [
    "head(factors)"
   ]
  },
  {
   "cell_type": "code",
   "execution_count": 17,
   "id": "4e75180e-78c2-43b3-9a4c-476d982d423b",
   "metadata": {},
   "outputs": [
    {
     "data": {
      "text/plain": [
       "                    UDR          CPB         MTB\n",
       "2010-01-31 -0.028893357 -0.022438759  0.10058214\n",
       "2010-02-28  0.079691093  0.006644808  0.05950287\n",
       "2010-03-31  0.039999893  0.058855367  0.01518418\n",
       "2010-04-30  0.152766732  0.004427361  0.09040268\n",
       "2010-05-31 -0.009015349 -0.011394121 -0.09486931"
      ]
     },
     "metadata": {},
     "output_type": "display_data"
    },
    {
     "data": {
      "text/plain": [
       "                 UDR      CPB      MTB\n",
       "2010-01-31  5.738571 3.371380 8.528075\n",
       "2010-02-28  6.842704 3.864216 6.891594\n",
       "2010-03-31  3.819788 2.454574 4.250656\n",
       "2010-04-30  8.196885 2.037019 6.960964\n",
       "2010-05-31 10.892669 4.374078 9.999670"
      ]
     },
     "metadata": {},
     "output_type": "display_data"
    },
    {
     "data": {
      "text/plain": [
       "                   UDR        CPB        MTB\n",
       "2011-09-30 -0.45863296 -0.1595637  0.6499374\n",
       "2011-10-31 -0.07348823  0.3209585 -0.2794157\n",
       "2011-11-30 -0.07251836 -1.1003162  0.3868717\n",
       "2011-12-31  0.19692047  0.1935681  0.5754282\n",
       "2012-01-31 -0.18128541 -0.3488545 -0.5611113"
      ]
     },
     "metadata": {},
     "output_type": "display_data"
    },
    {
     "data": {
      "text/plain": [
       "             UDR    CPB    MTB\n",
       "2010-01-31 46.58 214.98 164.96\n",
       "2010-02-28 47.10 214.49 166.65\n",
       "2010-03-31 62.52 270.62 217.82\n",
       "2010-04-30 66.23 253.27 211.25\n",
       "2010-05-31 65.74 241.72 200.58"
      ]
     },
     "metadata": {},
     "output_type": "display_data"
    },
    {
     "data": {
      "text/plain": [
       "                UDR      CPB      MTB\n",
       "2010-01-31 3.841171 5.370545 5.105703\n",
       "2010-02-28 3.852273 5.368263 5.115896\n",
       "2010-03-31 4.135487 5.600716 5.383669\n",
       "2010-04-30 4.193134 5.534456 5.353042\n",
       "2010-05-31 4.185708 5.487780 5.301213"
      ]
     },
     "metadata": {},
     "output_type": "display_data"
    }
   ],
   "source": [
    "monthly_returns[1:5, 1:3]\n",
    "monthly_volatilities[1:5, 1:3]\n",
    "monthly_skewness[21:25, 1:3]\n",
    "monthly_nominals[1:5, 1:3]\n",
    "monthly_sizes[1:5, 1:3]"
   ]
  },
  {
   "cell_type": "markdown",
   "id": "f70cf6a1-2380-4ab9-8602-c5be9f25d912",
   "metadata": {},
   "source": [
    "# 3. Methodology"
   ]
  },
  {
   "cell_type": "markdown",
   "id": "5decb739-6ce5-4477-ac75-2d83f8276e2c",
   "metadata": {},
   "source": [
    "In this section, we prepare the calculation of the bivariate sort and the Fama-MacBeth regression. \n",
    "\n",
    "First, we perform the bivariate independent sort based on pairs *size-volatility* and *size-skewness*. Both equal- and value-weighting schemes are prepared. Difference portfolios are prepared and the average next-month excess returns are calculated for each portfolio, as well as the alphas of the Fama-French-Carhart-Pastor-Stambaugh model and the CAPM model. T-statistics are prepared using the Newey-West method, which makes inference valid even in the case of autocorrelation or heteroskedasticity.\n",
    "\n",
    "Finally, the Fama-MacBeth regression is estimated. The code allows for the estimation of the regression both for the individual factors as well as for combinations of the factors."
   ]
  },
  {
   "cell_type": "markdown",
   "id": "91c550f9-75fb-41e2-95b9-e206636232c5",
   "metadata": {},
   "source": [
    "## a) Bivariate portfolio analysis"
   ]
  },
  {
   "cell_type": "markdown",
   "id": "98534654-6ac3-4f9b-9735-9aa7e4c38527",
   "metadata": {},
   "source": [
    "The bivariate sort is based on an independent sort analysis, where the 30th and 70th percentiles are the breakpoints. This means that the breakpoints are calculated independently of the each other, not taking the breakpoints of the other variable into account, and the order of the sort variables thus does not matter. \n",
    "\n",
    "The result is 9 base portfolios - all combinations of the 3 size portfolios with the 3 portfolios of the 2nd sort variables, and 6 difference portfolios - three for each sort variable.\n",
    "\n",
    "This is performed in the function *`portfolio_returns`*. To iterate through all the 9 portfolios we use nested for-loops, where the outer for-loop loops through the sort variable 1 (in our case *size*, index j), while the inner for-loop through the 2nd variable (*volatility*/*skewness*, index k). The difference portfolios are hence based on this observation: e.g. the '6-4' portfolio is the difference portfolio of the 2nd sort variable, in the 2nd portfolio of the 1st sort variable, etc. This can be observed from the table below, which corresponds to the indices from the code."
   ]
  },
  {
   "cell_type": "markdown",
   "id": "60a1e20d-fb87-4861-a75c-0bb026551e1c",
   "metadata": {},
   "source": [
    "| Portfolio |  1  |  2  |  3  |  4  |  5  |  6  |  7  |  8  |  9  |\n",
    "|-----------|-----|-----|-----|-----|-----|-----|-----|-----|-----|\n",
    "| **j, k**  |(1,1)|(1,2)|(1,3)|(2,1)|(2,2)|(2,3)|(3,1)|(3,2)|(3,3)|"
   ]
  },
  {
   "cell_type": "markdown",
   "id": "b69b863d-ea09-4746-bdcd-c155916a18ac",
   "metadata": {},
   "source": [
    "When the portfolios are created accordingly, the returns are averaged either with equal weights or weights proportional to company market capitalization (value-weighting). The function expects 2 data sets, 1 for each sort variable, and a specified weighting type. Monthly excess returns are passed and for each portfolio the one-month-ahead average excess return is calculated. The monthly market capitalisations are used for the value weighting."
   ]
  },
  {
   "cell_type": "code",
   "execution_count": 18,
   "id": "63143518-9f35-4eaf-9659-fa890d438385",
   "metadata": {},
   "outputs": [],
   "source": [
    "portfolio_returns <- function(monthly_sort_variable1, monthly_sort_variable2, type, num_portfolios=3, monthly_ret=monthly_returns, monthly_nom=monthly_nominals) {\n",
    "    n_portfolios <- num_portfolios*num_portfolios # number of portfolios\n",
    "    diff_portfolio <- c('3-1', '6-4', '9-7', '7-1', '8-2', '9-3') # long-short portfolios\n",
    "\n",
    "    # Initialize an xts object for storing portfolio returns.\n",
    "    portfolio_ret <- as.xts( \n",
    "        matrix(\n",
    "            nrow = nrow(monthly_sort_variable1) - 1,\n",
    "            ncol = n_portfolios + length(diff_portfolio)  # Last one for Diff portfolio\n",
    "        ),\n",
    "        order.by = index(monthly_sort_variable1[2:nrow(monthly_sort_variable1)]) # Order indexes\n",
    "    )\n",
    "    names(portfolio_ret) <- c(1:n_portfolios, diff_portfolio) # Add column names\n",
    "\n",
    "    # Iterate over rows, find breakpoints and compute month returns within the given nominal bounds.\n",
    "    for (i in 1:nrow(portfolio_ret)) { # For every month\n",
    "        current_month <- as.Date(format(index(portfolio_ret[i]), format=\"%Y-%m-%d\"))\n",
    "        next_month <- as.Date(as.yearmon(current_month %m+% months(1)), frac = 1)\n",
    "\n",
    "        if (!next_month %in% index(monthly_ret)) {\n",
    "            next\n",
    "        }\n",
    "        if (type == \"VW\") { # otherwise the missing market cap does not matter\n",
    "            if (!next_month %in% index(monthly_nom)) {\n",
    "                next\n",
    "            }        \n",
    "        }\n",
    "\n",
    "        # Avoid look-ahead bias by sorting the returns after the month used to compute breakpoints ends.\n",
    "        month_returns <- monthly_ret[next_month] # Returns in next month\n",
    "        month_market_caps <- monthly_nom[next_month] # Market caps in next month\n",
    "\n",
    "        # Replace NA market caps with 0s so that such observations have no weights.\n",
    "        month_market_caps[is.na(month_market_caps)] <- 0\n",
    "        month_sort_variable1 <- monthly_sort_variable1[current_month] # Sort variable for the respective month\n",
    "        month_sort_variable2 <- monthly_sort_variable2[current_month] \n",
    "\n",
    "        if (ncol(month_sort_variable1) == sum(is.na(month_sort_variable1))) {\n",
    "            next\n",
    "        }\n",
    "        # It may happen that we have empty row, which is not equal to have NA rows\n",
    "        if (ncol(month_sort_variable2) == 0 || nrow(month_sort_variable2) == 0) {\n",
    "        next\n",
    "        }\n",
    "        \n",
    "        # Breakpoints        \n",
    "        breakpoints_var1 <- quantile(month_sort_variable1, c(0, 0.3, 0.7, 1), na.rm = TRUE)\n",
    "        breakpoints_var1[1] <- breakpoints_var1[1] - 1\n",
    "        breakpoints_var1[length(breakpoints_var1)] <- breakpoints_var1[length(breakpoints_var1)] + 1\n",
    "        not_na_var1 <- !is.na(month_sort_variable1)\n",
    "        # Independently filter for Size\n",
    "        breakpoints_var2 <- quantile(month_sort_variable2, c(0, 0.3, 0.7, 1), na.rm = TRUE)\n",
    "        breakpoints_var2[1] <- breakpoints_var2[1] - 1\n",
    "        breakpoints_var2[length(breakpoints_var2)] <- breakpoints_var2[length(breakpoints_var2)] + 1\n",
    "        not_na_var2 <- !is.na(month_sort_variable2)\n",
    "\n",
    "        for (j in 1:num_portfolios) { # For every portfolio\n",
    "            filter_var1 <- (\n",
    "                (breakpoints_var1[[j]] <= month_sort_variable1)\n",
    "                & (month_sort_variable1 < breakpoints_var1[[j + 1]])\n",
    "                & not_na_var1\n",
    "            )\n",
    "            filter_var1 = data.frame(coredata(filter_var1))\n",
    "            for (k in 1:num_portfolios) {\n",
    "                filter_var2 <- (\n",
    "                    (breakpoints_var2[[k]] <= month_sort_variable2)\n",
    "                    & (month_sort_variable2 < breakpoints_var2[[k + 1]])\n",
    "                    & not_na_var2\n",
    "                )\n",
    "                filter_var2 = data.frame(coredata(filter_var2))\n",
    "                filtered_next_month_returns <- month_returns[, filter_var1 & filter_var2]\n",
    "                filtered_month_market_caps <- month_market_caps[, filter_var1 & filter_var2]\n",
    "            # Find stocks that have market cap between the breakpoints and are not NA \n",
    "                if (type == \"VW\") {\n",
    "                    portfolio_ret[i, k + (j - 1) * num_portfolios] <- weighted.mean(\n",
    "                        t(filtered_next_month_returns),\n",
    "                        t(filtered_month_market_caps), na.rm = TRUE) # Calculate the mean return of the stocks in a respective portfolio\n",
    "                } else if (type == \"EW\") {\n",
    "                    portfolio_ret[i, k + (j - 1) * num_portfolios] <- mean(filtered_next_month_returns, na.rm = TRUE)\n",
    "                } else {\n",
    "                    stop(\"Incorrect portfolio-weighting method\")\n",
    "                }\n",
    "        }\n",
    "    }\n",
    "    for (diff in diff_portfolio) {\n",
    "        # Parse the diff string to find out which columns to subtract\n",
    "        indices <- as.numeric(strsplit(diff, '-')[[1]])\n",
    "        if (length(indices) == 2) {\n",
    "            if (all(indices <= ncol(portfolio_ret))) {\n",
    "                portfolio_ret[i, diff] <- portfolio_ret[i, indices[1]] - portfolio_ret[i, indices[2]]\n",
    "            }}\n",
    "        } \n",
    "    }\n",
    "\n",
    "    return (portfolio_ret)\n",
    "}"
   ]
  },
  {
   "cell_type": "markdown",
   "id": "feeb2dd8-3719-4564-a58e-d29e6761c255",
   "metadata": {},
   "source": [
    "The results are average (EW/VW) monthly one month ahead excess returns. We create two independent equally weighted bivariate sorts and two value-weighted: size/volatility and size/skewness for each weighting scheme. An example of the output can be seen below."
   ]
  },
  {
   "cell_type": "markdown",
   "id": "a039c637-0456-4664-a6f0-50ba3fb1e9db",
   "metadata": {},
   "source": [
    "#### (i) Equally-weighted portfolio"
   ]
  },
  {
   "cell_type": "code",
   "execution_count": 19,
   "id": "49d12a46-8a68-4e7f-80ed-ea2145bd151c",
   "metadata": {},
   "outputs": [
    {
     "name": "stdout",
     "output_type": "stream",
     "text": [
      "[1] \"EW size and volatility example: \"\n"
     ]
    },
    {
     "data": {
      "text/plain": [
       "                     1           2           3           4           5\n",
       "2010-02-28  0.05851760  0.05579364  0.09367208  0.03350870  0.06271577\n",
       "2010-03-31  0.03070520  0.03280177  0.04029818  0.04078212  0.03160901\n",
       "2010-04-30 -0.08502417 -0.05257986 -0.06541818 -0.05446137 -0.05987476\n",
       "2010-05-31 -0.02416539 -0.03359947 -0.10710484 -0.03549397 -0.04771205\n",
       "2010-06-30  0.05011672  0.05188104  0.06437388  0.02135398  0.06432667\n",
       "2010-07-31 -0.01696202 -0.05914742 -0.07480750 -0.02565694 -0.05583016\n",
       "                     6           7           8           9          3-1\n",
       "2010-02-28  0.06999803  0.04132853  0.05707162  0.05754951  0.035154480\n",
       "2010-03-31  0.04109984  0.01842276  0.02355312 -0.01117631  0.009592981\n",
       "2010-04-30 -0.10021853 -0.08177637 -0.08884142 -0.12419828  0.019605984\n",
       "2010-05-31 -0.07687306 -0.01838055 -0.07847880 -0.06698075 -0.082939451\n",
       "2010-06-30  0.10290124  0.03208881  0.05078699  0.10024384  0.014257167\n",
       "2010-07-31 -0.04849929 -0.02519839 -0.07897220 -0.06784144 -0.057845478\n",
       "                     6-4         9-7          7-1          8-2          9-3\n",
       "2010-02-28  0.0364893293  0.01622098 -0.017189074  0.001277973 -0.036122573\n",
       "2010-03-31  0.0003177218 -0.02959908 -0.012282438 -0.009248646 -0.051474499\n",
       "2010-04-30 -0.0457571640 -0.04242192  0.003247804 -0.036261557 -0.058780100\n",
       "2010-05-31 -0.0413790911 -0.04860020  0.005784834 -0.044879328  0.040124085\n",
       "2010-06-30  0.0815472594  0.06815502 -0.018027904 -0.001094049  0.035869953\n",
       "2010-07-31 -0.0228423493 -0.04264305 -0.008236364 -0.019824772  0.006966066"
      ]
     },
     "metadata": {},
     "output_type": "display_data"
    },
    {
     "name": "stdout",
     "output_type": "stream",
     "text": [
      "[1] \"EW size and skewness example: \"\n"
     ]
    },
    {
     "data": {
      "text/plain": [
       "                      1           2             3            4           5\n",
       "2012-08-31  0.006617409 0.020380758  0.0240373313  0.013330401  0.02577724\n",
       "2012-09-30 -0.022316717 0.001620853 -0.0008095746 -0.022238926 -0.02370710\n",
       "2012-10-31  0.033121343 0.012194453  0.0123639295  0.027400471  0.01658840\n",
       "2012-11-30  0.004455067 0.012024229  0.0101474415  0.013208929  0.01083653\n",
       "2012-12-31  0.093321253 0.086032718  0.0705348088  0.058470025  0.06159053\n",
       "2013-01-31  0.054683198 0.021997544  0.0198002759  0.009445739  0.01509931\n",
       "                      6            7            8             9          3-1\n",
       "2012-08-31  0.005744949  0.002476961 -0.003816420  0.0262781860  0.017419923\n",
       "2012-09-30 -0.016697293 -0.011307165 -0.007060813 -0.0157723930  0.021507142\n",
       "2012-10-31 -0.003060904  0.001062034  0.001125969 -0.0006951077 -0.020757413\n",
       "2012-11-30  0.004880756  0.021181070  0.008812903 -0.0104227449  0.005692374\n",
       "2012-12-31  0.063620329  0.058257541  0.071481706  0.0507132200 -0.022786444\n",
       "2013-01-31  0.013132500  0.001102875  0.029570258 -0.0072643623 -0.034882922\n",
       "                    6-4          9-7          7-1          8-2          9-3\n",
       "2012-08-31 -0.007585452  0.023801225 -0.004140448 -0.024197178  0.002240855\n",
       "2012-09-30  0.005541632 -0.004465228  0.011009552 -0.008681666 -0.014962818\n",
       "2012-10-31 -0.030461374 -0.001757142 -0.032059309 -0.011068483 -0.013059037\n",
       "2012-11-30 -0.008328173 -0.031603815  0.016726003 -0.003211327 -0.020570186\n",
       "2012-12-31  0.005150304 -0.007544321 -0.035063712 -0.014551012 -0.019821589\n",
       "2013-01-31  0.003686761 -0.008367237 -0.053580323  0.007572714 -0.027064638"
      ]
     },
     "metadata": {},
     "output_type": "display_data"
    }
   ],
   "source": [
    "# Mean returns for each month per equally-weighted portfolio\n",
    "EW_portfolio_returns_size_vol = portfolio_returns(monthly_sizes, monthly_volatilities, type=\"EW\")\n",
    "EW_portfolio_returns_size_skew = portfolio_returns(monthly_sizes, monthly_skewness, type=\"EW\")\n",
    "\n",
    "print(\"EW size and volatility example: \")\n",
    "head(EW_portfolio_returns_size_vol)\n",
    "\n",
    "print(\"EW size and skewness example: \")\n",
    "EW_portfolio_returns_size_skew[31:36,]"
   ]
  },
  {
   "cell_type": "markdown",
   "id": "b334d2be-85fa-47bb-8015-cb377d8e9148",
   "metadata": {},
   "source": [
    "#### (ii) Value-weighted portfolio"
   ]
  },
  {
   "cell_type": "code",
   "execution_count": 20,
   "id": "c2865aa5-e3d4-483e-b742-9d62becf3af0",
   "metadata": {},
   "outputs": [
    {
     "name": "stdout",
     "output_type": "stream",
     "text": [
      "[1] \"VW size and volatility example: \"\n"
     ]
    },
    {
     "data": {
      "text/plain": [
       "                     1           2           3           4           5\n",
       "2010-02-28  0.06971537  0.08456039  0.04187677  0.05904144  0.05082554\n",
       "2010-03-31  0.03970187  0.03825496  0.02386638  0.04257751  0.03180116\n",
       "2010-04-30 -0.07406118 -0.05390701 -0.06587224 -0.06866628 -0.07325177\n",
       "2010-05-31 -0.04893724 -0.04929834 -0.08610258 -0.03056132 -0.05818627\n",
       "2010-06-30  0.07622587  0.05614670  0.05053646  0.06280773  0.06282712\n",
       "2010-07-31 -0.03138223 -0.05778875 -0.06644011 -0.05504624 -0.02248277\n",
       "                     6            7           8           9          3-1\n",
       "2010-02-28  0.06911684  0.062183676  0.05703043  0.04743123 -0.027838605\n",
       "2010-03-31  0.04026674  0.006638947  0.01559804  0.02437666 -0.015835485\n",
       "2010-04-30 -0.07106461 -0.114070670 -0.10414186 -0.07707597  0.008188937\n",
       "2010-05-31 -0.05761764 -0.023473222 -0.08193604 -0.06305043 -0.037165336\n",
       "2010-06-30  0.07257050  0.042001735  0.06089141  0.06873392 -0.025689413\n",
       "2010-07-31 -0.05502673 -0.079748659 -0.07345738 -0.04113476 -0.035057881\n",
       "                     6-4         9-7          7-1          8-2          9-3\n",
       "2010-02-28  1.007540e-02 -0.01475244 -0.007531694 -0.027529960  0.005554467\n",
       "2010-03-31 -2.310763e-03  0.01773771 -0.033062919 -0.022656927  0.000510275\n",
       "2010-04-30 -2.398330e-03  0.03699470 -0.040009494 -0.050234857 -0.011203727\n",
       "2010-05-31 -2.705632e-02 -0.03957721  0.025464020 -0.032637698  0.023052146\n",
       "2010-06-30  9.762773e-03  0.02673218 -0.034224140  0.004744713  0.018197456\n",
       "2010-07-31  1.951093e-05  0.03861390 -0.048366432 -0.015668634  0.025305344"
      ]
     },
     "metadata": {},
     "output_type": "display_data"
    },
    {
     "name": "stdout",
     "output_type": "stream",
     "text": [
      "[1] \"VW size and skewness example: \"\n"
     ]
    },
    {
     "data": {
      "text/plain": [
       "                       1            2            3           4            5\n",
       "2012-08-31  0.0066415489  0.006435532  0.025816794  0.01361620  0.027134551\n",
       "2012-09-30 -0.0226082552 -0.001962962 -0.008153928 -0.01775702 -0.022618931\n",
       "2012-10-31  0.0413792357  0.013468197  0.005658642  0.02501002  0.016062312\n",
       "2012-11-30  0.0006030526  0.013062321  0.015214700  0.01335440  0.009340076\n",
       "2012-12-31  0.0924861155  0.088558834  0.060372347  0.06320427  0.063431309\n",
       "2013-01-31  0.0506443180  0.025218867  0.022035377  0.01131614  0.019124385\n",
       "                      6             7            8            9         3-1\n",
       "2012-08-31  0.006343079  0.0104520157 -0.003823807  0.044255308  0.01917525\n",
       "2012-09-30 -0.017549501 -0.0490602682 -0.001162341 -0.023271321  0.01445433\n",
       "2012-10-31 -0.001171484  0.0002140192 -0.003420078 -0.009804994 -0.03572059\n",
       "2012-11-30  0.005798263  0.0142811945 -0.001508066 -0.035966287  0.01461165\n",
       "2012-12-31  0.064406465  0.0145653524  0.057750867  0.050375500 -0.03211377\n",
       "2013-01-31  0.016726996 -0.0054078327  0.024351272  0.003536339 -0.02860894\n",
       "                     6-4          9-7          7-1           8-2          9-3\n",
       "2012-08-31 -0.0072731223  0.033803292  0.003810467 -0.0102593396  0.018438513\n",
       "2012-09-30  0.0002075188  0.025788947 -0.026452013  0.0008006212 -0.015117393\n",
       "2012-10-31 -0.0261815045 -0.010019014 -0.041165216 -0.0168882757 -0.015463636\n",
       "2012-11-30 -0.0075561409 -0.050247481  0.013678142 -0.0145703873 -0.051180987\n",
       "2012-12-31  0.0012021979  0.035810147 -0.077920763 -0.0308079663 -0.009996847\n",
       "2013-01-31  0.0054108591  0.008944172 -0.056052151 -0.0008675949 -0.018499038"
      ]
     },
     "metadata": {},
     "output_type": "display_data"
    }
   ],
   "source": [
    "# Mean returns for each month per value-weighted portfolio\n",
    "VW_portfolio_returns_size_vol = portfolio_returns(monthly_sizes, monthly_volatilities, type=\"VW\")\n",
    "VW_portfolio_returns_size_skew = portfolio_returns(monthly_sizes, monthly_skewness, type=\"VW\")\n",
    "\n",
    "print(\"VW size and volatility example: \")\n",
    "head(VW_portfolio_returns_size_skew)\n",
    "\n",
    "print(\"VW size and skewness example: \")\n",
    "VW_portfolio_returns_size_skew[31:36,]"
   ]
  },
  {
   "cell_type": "code",
   "execution_count": 21,
   "id": "834be8d9-7526-485b-bf1e-dea19d6c215c",
   "metadata": {},
   "outputs": [
    {
     "data": {
      "text/html": [
       "<style>\n",
       ".dl-inline {width: auto; margin:0; padding: 0}\n",
       ".dl-inline>dt, .dl-inline>dd {float: none; width: auto; display: inline-block}\n",
       ".dl-inline>dt::after {content: \":\\0020\"; padding-right: .5ex}\n",
       ".dl-inline>dt:not(:first-of-type) {padding-left: .5ex}\n",
       "</style><dl class=dl-inline><dt>1</dt><dd>-0.0557184867895868</dd><dt>2</dt><dd>-0.0539594141564378</dd><dt>3</dt><dd>-0.0478882994132192</dd><dt>4</dt><dd>-0.0616677313089069</dd><dt>5</dt><dd>-0.057851595977679</dd><dt>6</dt><dd>-0.0568584745840697</dd><dt>7</dt><dd>-0.0601356807596446</dd><dt>8</dt><dd>-0.061093411044217</dd><dt>9</dt><dd>-0.0609370139983285</dd><dt>3-1</dt><dd>0.00783018737636768</dd><dt>6-4</dt><dd>0.00480925672483716</dd><dt>9-7</dt><dd>-0.000801333238683944</dd><dt>7-1</dt><dd>-0.00441719397005771</dd><dt>8-2</dt><dd>-0.00713399688777919</dd><dt>9-3</dt><dd>-0.0130487145851093</dd></dl>\n"
      ],
      "text/latex": [
       "\\begin{description*}\n",
       "\\item[1] -0.0557184867895868\n",
       "\\item[2] -0.0539594141564378\n",
       "\\item[3] -0.0478882994132192\n",
       "\\item[4] -0.0616677313089069\n",
       "\\item[5] -0.057851595977679\n",
       "\\item[6] -0.0568584745840697\n",
       "\\item[7] -0.0601356807596446\n",
       "\\item[8] -0.061093411044217\n",
       "\\item[9] -0.0609370139983285\n",
       "\\item[3-1] 0.00783018737636768\n",
       "\\item[6-4] 0.00480925672483716\n",
       "\\item[9-7] -0.000801333238683944\n",
       "\\item[7-1] -0.00441719397005771\n",
       "\\item[8-2] -0.00713399688777919\n",
       "\\item[9-3] -0.0130487145851093\n",
       "\\end{description*}\n"
      ],
      "text/markdown": [
       "1\n",
       ":   -0.05571848678958682\n",
       ":   -0.05395941415643783\n",
       ":   -0.04788829941321924\n",
       ":   -0.06166773130890695\n",
       ":   -0.0578515959776796\n",
       ":   -0.05685847458406977\n",
       ":   -0.06013568075964468\n",
       ":   -0.0610934110442179\n",
       ":   -0.06093701399832853-1\n",
       ":   0.007830187376367686-4\n",
       ":   0.004809256724837169-7\n",
       ":   -0.0008013332386839447-1\n",
       ":   -0.004417193970057718-2\n",
       ":   -0.007133996887779199-3\n",
       ":   -0.0130487145851093\n",
       "\n"
      ],
      "text/plain": [
       "            1             2             3             4             5 \n",
       "-0.0557184868 -0.0539594142 -0.0478882994 -0.0616677313 -0.0578515960 \n",
       "            6             7             8             9           3-1 \n",
       "-0.0568584746 -0.0601356808 -0.0610934110 -0.0609370140  0.0078301874 \n",
       "          6-4           9-7           7-1           8-2           9-3 \n",
       " 0.0048092567 -0.0008013332 -0.0044171940 -0.0071339969 -0.0130487146 "
      ]
     },
     "metadata": {},
     "output_type": "display_data"
    }
   ],
   "source": [
    "colMeans(na.omit(EW_portfolio_returns_size_vol))"
   ]
  },
  {
   "cell_type": "markdown",
   "id": "a1b12490-9a28-4054-afa0-3c0eed9a7b57",
   "metadata": {},
   "source": [
    "## b) Average values"
   ]
  },
  {
   "cell_type": "markdown",
   "id": "630c9f88-d61a-4685-a5e0-ebab57d5e588",
   "metadata": {},
   "source": [
    "The function `portfolio_results` serves for calculating the final table. It accepts the previously calculated returns shown above and a table of average returns for each portfolio is calculated. For the difference portfolios, the Newey West t-statistics are also calculated. The estimated CAPM alpha and Fama-French-Carhart-Pastor-Stambaugh alpha and their respective Newey West t-statistics are also reported. The mean return is obtained by doing a regression only with the intercept.\n",
    "\n",
    "To make the table readable, the function expects a string specifying the sort variables, used for row and column names."
   ]
  },
  {
   "cell_type": "markdown",
   "id": "eb7bbc3a-0965-4c4e-af70-6881ad69404e",
   "metadata": {},
   "source": [
    "The two alphas come from the estimated following models, using the previously prepared factors, for portfolio p:\n",
    "\n",
    "FF-CPS alpha: $r_{p, t}=\\alpha_p + \\beta_{MKT, p} MKT_t + \\beta_{SMB, p} SMB_t + \\beta_{HML, p} HML_t + \\beta_{MOM, p} MOM_t + \\beta_{LIQ, p} LIQ_t + \\epsilon_{p, t}$\n",
    "\n",
    "CAPM alpha: $r_{p, t}=\\alpha_p + \\beta_{MKT, p} MKT_t + \\epsilon_{p, t}$"
   ]
  },
  {
   "cell_type": "code",
   "execution_count": 22,
   "id": "f6dbfe4b-8762-4501-b905-cc2f6e3dc859",
   "metadata": {},
   "outputs": [],
   "source": [
    "portfolio_results <- function(portfolio_returns_df, num_portfolios=3, fact=factors, sort_var1 = 'size', sort_var2) { # sort_var1/2 needed for row/col names\n",
    "    n_portfolios <- num_portfolios*num_portfolios\n",
    "    results <- as.data.frame(\n",
    "        matrix(nrow = num_portfolios + 6, ncol = num_portfolios + 6),\n",
    "        # name columns and rows including the variable name for readability\n",
    "        row.names = c(\n",
    "            paste(sort_var2, 1:num_portfolios),\n",
    "            paste(sort_var2, num_portfolios, '- 1'),\n",
    "            paste(sort_var2, num_portfolios, '- 1 t-stat'),\n",
    "            paste(sort_var2, num_portfolios, '- 1 CAPM alpha'),\n",
    "            paste(sort_var2, num_portfolios, '- 1 CAPM alpha t-stat'),\n",
    "            paste(sort_var2, num_portfolios, '- 1 FF-CPS alpha'),\n",
    "            paste(sort_var2, num_portfolios, '- 1 FF-CPS alpha t-stat')\n",
    "        ))\n",
    "    names(results) <- c(\n",
    "            paste(sort_var1,1:num_portfolios),\n",
    "            paste(sort_var1, num_portfolios, '- 1'),\n",
    "            paste(sort_var1, num_portfolios, '- 1 t-stat'),\n",
    "            paste(sort_var1, num_portfolios, '- 1 CAPM alpha'),\n",
    "            paste(sort_var1, num_portfolios, '- 1 CAPM alpha t-stat'),\n",
    "            paste(sort_var1, num_portfolios, '- 1 FF-CPS alpha'),\n",
    "            paste(sort_var1, num_portfolios, '- 1 FF-CPS alpha t-stat')\n",
    "        )\n",
    "    # setting values to main table + difference portfolios and alphas for 2nd sort var\n",
    "    for (j in 1:num_portfolios) {\n",
    "        for (k in 1:num_portfolios) {\n",
    "            model <- lm(na.omit(portfolio_returns_df[, k + (j - 1) * num_portfolios]) ~ 1)\n",
    "            results[k, j] <- model$coefficients[[1]]\n",
    "        }\n",
    "        returns_diff <- portfolio_returns_df[, n_portfolios + j]\n",
    "        model_diff <- lm(na.omit(returns_diff) ~ 1)\n",
    "        results[num_portfolios + 1, j] <- model_diff$coefficients[[1]]\n",
    "        results[num_portfolios + 2, j] <- model_diff$coefficients[[1]] / sqrt(NeweyWest(model_diff, lag = 6)[[1]])\n",
    "        is_not_na_filter = rowSums(is.na(returns_diff)) == 0\n",
    "        dates = index(returns_diff[is_not_na_filter])\n",
    "        dates = as.Date(format(dates), format=\"%Y-%m-%d\")\n",
    "        model_diff_ff <- lm(\n",
    "            returns_diff[is_not_na_filter] ~ (\n",
    "                1\n",
    "                + fact[dates]$mkt.rf\n",
    "                + fact[dates]$smb\n",
    "                + fact[dates]$hml\n",
    "                + fact[dates]$mom\n",
    "                + fact[dates]$liquidity\n",
    "            ))\n",
    "        model_diff_capm <- lm(\n",
    "            returns_diff[is_not_na_filter] ~ (\n",
    "                1\n",
    "                + fact[dates]$mkt.rf\n",
    "            ))\n",
    "        results[num_portfolios + 3, j] <- model_diff_capm$coefficients[[1]]\n",
    "        results[num_portfolios + 4, j] <- (\n",
    "            model_diff_capm$coefficients[[1]] / sqrt(NeweyWest(model_diff_capm, lag = 6)[[1]]))\n",
    "        results[num_portfolios + 5, j] <- model_diff_ff$coefficients[[1]]\n",
    "        results[num_portfolios + 6, j] <- (\n",
    "            model_diff_ff$coefficients[[1]] / sqrt(NeweyWest(model_diff_ff, lag = 6)[[1]])\n",
    "        )\n",
    "    }\n",
    "     # setting values to main table + difference portfolios and alphas for 1st sort var\n",
    "    for (j in 1:num_portfolios) {\n",
    "        returns_diff <- portfolio_returns_df[, n_portfolios + j + num_portfolios]\n",
    "        model_diff <- lm(na.omit(returns_diff) ~ 1)\n",
    "        results[j, num_portfolios + 1] <- model_diff$coefficients[[1]]\n",
    "        results[j, num_portfolios + 2] <- model_diff$coefficients[[1]] / sqrt(NeweyWest(model_diff, lag = 6)[[1]])\n",
    "        is_not_na_filter = rowSums(is.na(returns_diff)) == 0\n",
    "        dates = index(returns_diff[is_not_na_filter])\n",
    "        dates = as.Date(format(dates), format=\"%Y-%m-%d\")\n",
    "        model_diff_ff <- lm(\n",
    "            returns_diff[is_not_na_filter] ~ (\n",
    "                1\n",
    "                + fact[dates]$mkt.rf\n",
    "                + fact[dates]$smb\n",
    "                + fact[dates]$hml\n",
    "                + fact[dates]$mom\n",
    "                + fact[dates]$liquidity\n",
    "            )\n",
    "        )\n",
    "        model_diff_capm <- lm(\n",
    "            returns_diff[is_not_na_filter] ~ (\n",
    "                1\n",
    "                + fact[dates]$mkt.rf\n",
    "            ))\n",
    "        results[j, num_portfolios + 3] <- model_diff_capm$coefficients[[1]]\n",
    "        results[j, num_portfolios + 4] <- (\n",
    "            model_diff_capm$coefficients[[1]] / sqrt(NeweyWest(model_diff_capm, lag = 6)[[1]])\n",
    "        )\n",
    "        results[j, num_portfolios + 5] <- model_diff_ff$coefficients[[1]]\n",
    "        results[j, num_portfolios + 6] <- (\n",
    "            model_diff_ff$coefficients[[1]] / sqrt(NeweyWest(model_diff_ff, lag = 6)[[1]])\n",
    "        )}\n",
    "\n",
    "    \n",
    "    return (results)}"
   ]
  },
  {
   "cell_type": "code",
   "execution_count": 23,
   "id": "477f7ad1-444f-4477-a4fe-31bfee3a4044",
   "metadata": {},
   "outputs": [],
   "source": [
    "EW_portfolio_results_size_vol = portfolio_results(EW_portfolio_returns_size_vol, sort_var2 = 'vol')\n",
    "EW_portfolio_results_size_skew = portfolio_results(EW_portfolio_returns_size_skew, sort_var2 = 'skew')"
   ]
  },
  {
   "cell_type": "code",
   "execution_count": 24,
   "id": "6e112254-424c-40fe-a2a2-d098ebb8ba40",
   "metadata": {},
   "outputs": [],
   "source": [
    "VW_portfolio_results_size_vol = portfolio_results(VW_portfolio_returns_size_vol, sort_var2 = 'vol')\n",
    "VW_portfolio_results_size_skew = portfolio_results(VW_portfolio_returns_size_skew, sort_var2 = 'skew')"
   ]
  },
  {
   "cell_type": "code",
   "execution_count": 25,
   "id": "5b3dd095-3640-46c4-adf0-cf78916e246b",
   "metadata": {},
   "outputs": [],
   "source": [
    "# function for printing readable amounts of decimals and don't show \"NA\"\n",
    "print_custom <- function(df, digits = 5) {\n",
    "  df[] <- lapply(df, function(x) if(is.numeric(x)) round(x, digits) else x)\n",
    "  df[is.na(df)] <- \"\"\n",
    "  df\n",
    "}"
   ]
  },
  {
   "cell_type": "markdown",
   "id": "51798ea0-6d85-420f-8325-fa80b4e4e305",
   "metadata": {},
   "source": [
    "## c) Fama-MacBeth regression"
   ]
  },
  {
   "cell_type": "markdown",
   "id": "08bac9ed-87fa-4212-9c64-972de4822d51",
   "metadata": {},
   "source": [
    "In the last part of the methodology section, the Fama-MacBeth regression is prepared and estimated. We mainly focus on the effects of volatility and size on future returns. Namely, we estimate separate regressions containing only the volatility/skewness variables, and regressions also controlling for size. The function `perform_fama_macbeth_regression` expects the returns and a list of data containing all the desired explanatory variables."
   ]
  },
  {
   "cell_type": "code",
   "execution_count": 26,
   "id": "cd194584-58fd-4a93-91d8-b0e73f6b29a1",
   "metadata": {},
   "outputs": [],
   "source": [
    "\n",
    "perform_fama_macbeth_regression <- function (data_explained, data_explanatory) {\n",
    "    # Initialize an xts object for storing regression results.\n",
    "    fm_results <- as.xts(\n",
    "        matrix(\n",
    "            nrow = nrow(data_explained) - 1,\n",
    "            ncol = 1 + length(data_explanatory)\n",
    "        ),\n",
    "        order.by = index(data_explained[2:nrow(data_explained)])\n",
    "    )\n",
    "    column_names <- c('Intercept')\n",
    "    column_names <- c(column_names, names(data_explanatory))\n",
    "    names(fm_results) <- column_names\n",
    "\n",
    "    # Iterate over rows and perform cross-sectional regressions.\n",
    "    for (i in 1:nrow(fm_results)) {\n",
    "        current_month <- index(fm_results[i])\n",
    "        next_month <- as.Date(as.yearmon(current_month %m+% months(1)), frac = 1)\n",
    "\n",
    "        if (!next_month %in% index(data_explained)) {\n",
    "            next\n",
    "        }\n",
    "\n",
    "        # Avoid look-ahead bias by selecting the explained variable data from the next month.\n",
    "        month_data_explained <- data_explained[next_month]\n",
    "        month_data_explanatory <- c()\n",
    "        move_to_next_month = FALSE\n",
    "        for (j in 1:length(data_explanatory)) {\n",
    "            if (!current_month %in% as.Date(format(index(data_explanatory[[j]])), format=\"%Y-%m-%d\")) {\n",
    "                move_to_next_month <- TRUE\n",
    "                break\n",
    "            }\n",
    "\n",
    "            colnames(month_data_explanatory)\n",
    "            cross_section <- t(data_explanatory[[j]][current_month])\n",
    "            colnames(cross_section) <- names(data_explanatory)[j]\n",
    "\n",
    "            cross_section[which(cross_section == -Inf)] = NA\n",
    "            cross_section[which(cross_section == Inf)] = NA\n",
    "\n",
    "            month_data_explanatory <- cbind(month_data_explanatory, cross_section)\n",
    "        }\n",
    "\n",
    "        if (move_to_next_month) {\n",
    "            next\n",
    "        }\n",
    "\n",
    "        transposed_explained <- t(month_data_explained)\n",
    "        colnames(transposed_explained) <- c('explained')\n",
    "        equation <- paste('explained ~ 1 + ', paste0(colnames(month_data_explanatory), collapse = ' + '))\n",
    "        all_data <- na.omit(as.data.frame(cbind(transposed_explained, month_data_explanatory)))\n",
    "\n",
    "        # Save regression coefficients and other statistics.\n",
    "        model <- lm(equation, data = all_data)\n",
    "        for (k in 1:ncol(fm_results)) {\n",
    "            fm_results[i, k] <- model$coefficients[[k]]\n",
    "        }\n",
    "    }\n",
    "\n",
    "    # Compute time series means, standard errors.\n",
    "    final_fm_results <- as.data.frame(matrix(nrow = 2, ncol = ncol(fm_results)))\n",
    "    names(final_fm_results) <- colnames(fm_results)\n",
    "\n",
    "    for (i in 1:ncol(final_fm_results)) {\n",
    "        model <- lm(na.omit(fm_results[, i]) ~ 1)\n",
    "        final_fm_results[1, i] <- model$coefficients[[1]]\n",
    "        final_fm_results[2, i] <- model$coefficients[[1]] / sqrt(NeweyWest(model, lag = 6)[[1]])\n",
    "    }\n",
    "    rownames(final_fm_results) = c('coefficient estimate', 'NW t-stat')\n",
    "\n",
    "    final_fm_results\n",
    "}"
   ]
  },
  {
   "cell_type": "markdown",
   "id": "37bafe57-b8e8-4500-9d0a-498f5f78fc9c",
   "metadata": {},
   "source": [
    "# 4. Results"
   ]
  },
  {
   "cell_type": "markdown",
   "id": "476e9fd5-78f3-4229-a7b2-2a65d13778a6",
   "metadata": {},
   "source": [
    "This section presents the results. First, we introduce the theory, and what effects we would expect according to what we have seen during the semester. Next, we go through the actual results of the bivariate sort including a comparison with said theory. Lastly, the Fama-MacBeth regression results are presented, together with an assessment of the economic performance of the variables we have utilized. The focus is primarily on the volatility and skewness factors, but size is also shortly discussed.\n",
    "\n",
    "According to the theory, the size effect is negative (smaller stocks have on average higher returns). The theory with regards to skewness suggests a possible negative effect of skewness, as investors might require compensation for negatively skewed stocks. We have seen in class that the significance of the results depended on the period used for the data as well as the weighting scheme, sometimes even suggesting a positive skewness effect. The negative effect for total skewness was evident from the Fama-MacBeth regression only after controlling for many other factors. This indicates that the skewness effect might not be as strong and robust, which is something we should keep in mind when evaluating our results.\n",
    "\n",
    "The empirical evidence of the volatility effect is mixed. Early research suggests a positive relation, while newer studies show a negative puzzling relation. In lectures we have seen this negative puzzling relationship, however, it did also depend on the weighting scheme."
   ]
  },
  {
   "cell_type": "markdown",
   "id": "2d694d21-75fe-4e80-8a27-7d25e748b64c",
   "metadata": {},
   "source": [
    "## (a) Bivariate sort results"
   ]
  },
  {
   "cell_type": "markdown",
   "id": "bd0bb966-1d7e-440a-ae9c-1fdf50177f34",
   "metadata": {},
   "source": [
    "### (i) Size-skewness"
   ]
  },
  {
   "cell_type": "markdown",
   "id": "dce6a006-276f-4b1a-ab8f-5c38c4946de3",
   "metadata": {},
   "source": [
    "The average one-month ahead excess returns are decreasing with increasing size, regardless of the weighting scheme, for all three skewness portfolios. Also, the CAPM and FF-CPS alphas are significant, meaning that this difference cannot be explained by the factors included in the models. Hence, we observe the negative size effect, in line with the theory.\n",
    "\n",
    "The wighting scheme in this case does not have a dramatic effect on the results. The size effects as well as the average returns within the portfolio are of similar magnitude in both cases. Hence, it is not the case that the very smallest stocks with very high returns would be driving the results of the equally-weighted portfolio in our data.\n",
    "\n",
    "As mentioned, during classes we have observed mixed results with respect to the effect of skewness, however, no significant skewness effect is observed here across portfolios of all sizes. It is important to note that we have used a long period for the calculation of the factors, so the results are in line with those of the lectures where the effect was also only statistically significant when the skewness was calculated on a few months of returns data. We have not used skewness for univariate portfolio analysis so it is difficult to say, what is the role of size in these results. But overall, we observe no significant skewness effect when we control for size, the lack of the skewness effect is thus consistent across the different size portfolios, this is also the case for the statistically insignificant alphas."
   ]
  },
  {
   "cell_type": "code",
   "execution_count": 27,
   "id": "28151808-3a17-4612-8993-50ffe035b76f",
   "metadata": {},
   "outputs": [
    {
     "name": "stdout",
     "output_type": "stream",
     "text": [
      "[1] \"Equally-weighted portfolio\"\n",
      "[1] \"EW: \"\n"
     ]
    },
    {
     "data": {
      "text/html": [
       "<table class=\"dataframe\">\n",
       "<caption>A data.frame: 9 × 9</caption>\n",
       "<thead>\n",
       "\t<tr><th></th><th scope=col>size 1</th><th scope=col>size 2</th><th scope=col>size 3</th><th scope=col>size 3 - 1</th><th scope=col>size 3 - 1 t-stat</th><th scope=col>size 3 - 1 CAPM alpha</th><th scope=col>size 3 - 1 CAPM alpha t-stat</th><th scope=col>size 3 - 1 FF-CPS alpha</th><th scope=col>size 3 - 1 FF-CPS alpha t-stat</th></tr>\n",
       "\t<tr><th></th><th scope=col>&lt;dbl&gt;</th><th scope=col>&lt;dbl&gt;</th><th scope=col>&lt;dbl&gt;</th><th scope=col>&lt;chr&gt;</th><th scope=col>&lt;chr&gt;</th><th scope=col>&lt;chr&gt;</th><th scope=col>&lt;chr&gt;</th><th scope=col>&lt;chr&gt;</th><th scope=col>&lt;chr&gt;</th></tr>\n",
       "</thead>\n",
       "<tbody>\n",
       "\t<tr><th scope=row>skew 1</th><td>-0.05052</td><td>-0.05791</td><td>-0.06092</td><td>-0.01041</td><td>-5.92179</td><td>-0.01138</td><td>-5.11391</td><td>-0.01051</td><td>-5.44067</td></tr>\n",
       "\t<tr><th scope=row>skew 2</th><td>-0.05328</td><td>-0.05989</td><td>-0.06174</td><td>-0.00847</td><td>-4.20561</td><td>-0.00882</td><td>-4.04022</td><td>-0.0085 </td><td>-3.52465</td></tr>\n",
       "\t<tr><th scope=row>skew 3</th><td>-0.05131</td><td>-0.05828</td><td>-0.06044</td><td>-0.00912</td><td>-3.89771</td><td>-0.00871</td><td>-3.45543</td><td>-0.00817</td><td>-2.98202</td></tr>\n",
       "\t<tr><th scope=row>skew 3 - 1</th><td>-0.00080</td><td>-0.00037</td><td> 0.00049</td><td>        </td><td>        </td><td>        </td><td>        </td><td>        </td><td>        </td></tr>\n",
       "\t<tr><th scope=row>skew 3 - 1 t-stat</th><td>-0.32798</td><td>-0.28341</td><td> 0.30242</td><td>        </td><td>        </td><td>        </td><td>        </td><td>        </td><td>        </td></tr>\n",
       "\t<tr><th scope=row>skew 3 - 1 CAPM alpha</th><td>-0.00218</td><td>-0.00040</td><td> 0.00049</td><td>        </td><td>        </td><td>        </td><td>        </td><td>        </td><td>        </td></tr>\n",
       "\t<tr><th scope=row>skew 3 - 1 CAPM alpha t-stat</th><td>-0.80847</td><td>-0.25878</td><td> 0.28476</td><td>        </td><td>        </td><td>        </td><td>        </td><td>        </td><td>        </td></tr>\n",
       "\t<tr><th scope=row>skew 3 - 1 FF-CPS alpha</th><td>-0.00216</td><td>-0.00013</td><td> 0.00019</td><td>        </td><td>        </td><td>        </td><td>        </td><td>        </td><td>        </td></tr>\n",
       "\t<tr><th scope=row>skew 3 - 1 FF-CPS alpha t-stat</th><td>-0.89814</td><td>-0.08531</td><td> 0.10990</td><td>        </td><td>        </td><td>        </td><td>        </td><td>        </td><td>        </td></tr>\n",
       "</tbody>\n",
       "</table>\n"
      ],
      "text/latex": [
       "A data.frame: 9 × 9\n",
       "\\begin{tabular}{r|lllllllll}\n",
       "  & size 1 & size 2 & size 3 & size 3 - 1 & size 3 - 1 t-stat & size 3 - 1 CAPM alpha & size 3 - 1 CAPM alpha t-stat & size 3 - 1 FF-CPS alpha & size 3 - 1 FF-CPS alpha t-stat\\\\\n",
       "  & <dbl> & <dbl> & <dbl> & <chr> & <chr> & <chr> & <chr> & <chr> & <chr>\\\\\n",
       "\\hline\n",
       "\tskew 1 & -0.05052 & -0.05791 & -0.06092 & -0.01041 & -5.92179 & -0.01138 & -5.11391 & -0.01051 & -5.44067\\\\\n",
       "\tskew 2 & -0.05328 & -0.05989 & -0.06174 & -0.00847 & -4.20561 & -0.00882 & -4.04022 & -0.0085  & -3.52465\\\\\n",
       "\tskew 3 & -0.05131 & -0.05828 & -0.06044 & -0.00912 & -3.89771 & -0.00871 & -3.45543 & -0.00817 & -2.98202\\\\\n",
       "\tskew 3 - 1 & -0.00080 & -0.00037 &  0.00049 &          &          &          &          &          &         \\\\\n",
       "\tskew 3 - 1 t-stat & -0.32798 & -0.28341 &  0.30242 &          &          &          &          &          &         \\\\\n",
       "\tskew 3 - 1 CAPM alpha & -0.00218 & -0.00040 &  0.00049 &          &          &          &          &          &         \\\\\n",
       "\tskew 3 - 1 CAPM alpha t-stat & -0.80847 & -0.25878 &  0.28476 &          &          &          &          &          &         \\\\\n",
       "\tskew 3 - 1 FF-CPS alpha & -0.00216 & -0.00013 &  0.00019 &          &          &          &          &          &         \\\\\n",
       "\tskew 3 - 1 FF-CPS alpha t-stat & -0.89814 & -0.08531 &  0.10990 &          &          &          &          &          &         \\\\\n",
       "\\end{tabular}\n"
      ],
      "text/markdown": [
       "\n",
       "A data.frame: 9 × 9\n",
       "\n",
       "| <!--/--> | size 1 &lt;dbl&gt; | size 2 &lt;dbl&gt; | size 3 &lt;dbl&gt; | size 3 - 1 &lt;chr&gt; | size 3 - 1 t-stat &lt;chr&gt; | size 3 - 1 CAPM alpha &lt;chr&gt; | size 3 - 1 CAPM alpha t-stat &lt;chr&gt; | size 3 - 1 FF-CPS alpha &lt;chr&gt; | size 3 - 1 FF-CPS alpha t-stat &lt;chr&gt; |\n",
       "|---|---|---|---|---|---|---|---|---|---|\n",
       "| skew 1 | -0.05052 | -0.05791 | -0.06092 | -0.01041 | -5.92179 | -0.01138 | -5.11391 | -0.01051 | -5.44067 |\n",
       "| skew 2 | -0.05328 | -0.05989 | -0.06174 | -0.00847 | -4.20561 | -0.00882 | -4.04022 | -0.0085  | -3.52465 |\n",
       "| skew 3 | -0.05131 | -0.05828 | -0.06044 | -0.00912 | -3.89771 | -0.00871 | -3.45543 | -0.00817 | -2.98202 |\n",
       "| skew 3 - 1 | -0.00080 | -0.00037 |  0.00049 | <!----> | <!----> | <!----> | <!----> | <!----> | <!----> |\n",
       "| skew 3 - 1 t-stat | -0.32798 | -0.28341 |  0.30242 | <!----> | <!----> | <!----> | <!----> | <!----> | <!----> |\n",
       "| skew 3 - 1 CAPM alpha | -0.00218 | -0.00040 |  0.00049 | <!----> | <!----> | <!----> | <!----> | <!----> | <!----> |\n",
       "| skew 3 - 1 CAPM alpha t-stat | -0.80847 | -0.25878 |  0.28476 | <!----> | <!----> | <!----> | <!----> | <!----> | <!----> |\n",
       "| skew 3 - 1 FF-CPS alpha | -0.00216 | -0.00013 |  0.00019 | <!----> | <!----> | <!----> | <!----> | <!----> | <!----> |\n",
       "| skew 3 - 1 FF-CPS alpha t-stat | -0.89814 | -0.08531 |  0.10990 | <!----> | <!----> | <!----> | <!----> | <!----> | <!----> |\n",
       "\n"
      ],
      "text/plain": [
       "                               size 1   size 2   size 3   size 3 - 1\n",
       "skew 1                         -0.05052 -0.05791 -0.06092 -0.01041  \n",
       "skew 2                         -0.05328 -0.05989 -0.06174 -0.00847  \n",
       "skew 3                         -0.05131 -0.05828 -0.06044 -0.00912  \n",
       "skew 3 - 1                     -0.00080 -0.00037  0.00049           \n",
       "skew 3 - 1 t-stat              -0.32798 -0.28341  0.30242           \n",
       "skew 3 - 1 CAPM alpha          -0.00218 -0.00040  0.00049           \n",
       "skew 3 - 1 CAPM alpha t-stat   -0.80847 -0.25878  0.28476           \n",
       "skew 3 - 1 FF-CPS alpha        -0.00216 -0.00013  0.00019           \n",
       "skew 3 - 1 FF-CPS alpha t-stat -0.89814 -0.08531  0.10990           \n",
       "                               size 3 - 1 t-stat size 3 - 1 CAPM alpha\n",
       "skew 1                         -5.92179          -0.01138             \n",
       "skew 2                         -4.20561          -0.00882             \n",
       "skew 3                         -3.89771          -0.00871             \n",
       "skew 3 - 1                                                            \n",
       "skew 3 - 1 t-stat                                                     \n",
       "skew 3 - 1 CAPM alpha                                                 \n",
       "skew 3 - 1 CAPM alpha t-stat                                          \n",
       "skew 3 - 1 FF-CPS alpha                                               \n",
       "skew 3 - 1 FF-CPS alpha t-stat                                        \n",
       "                               size 3 - 1 CAPM alpha t-stat\n",
       "skew 1                         -5.11391                    \n",
       "skew 2                         -4.04022                    \n",
       "skew 3                         -3.45543                    \n",
       "skew 3 - 1                                                 \n",
       "skew 3 - 1 t-stat                                          \n",
       "skew 3 - 1 CAPM alpha                                      \n",
       "skew 3 - 1 CAPM alpha t-stat                               \n",
       "skew 3 - 1 FF-CPS alpha                                    \n",
       "skew 3 - 1 FF-CPS alpha t-stat                             \n",
       "                               size 3 - 1 FF-CPS alpha\n",
       "skew 1                         -0.01051               \n",
       "skew 2                         -0.0085                \n",
       "skew 3                         -0.00817               \n",
       "skew 3 - 1                                            \n",
       "skew 3 - 1 t-stat                                     \n",
       "skew 3 - 1 CAPM alpha                                 \n",
       "skew 3 - 1 CAPM alpha t-stat                          \n",
       "skew 3 - 1 FF-CPS alpha                               \n",
       "skew 3 - 1 FF-CPS alpha t-stat                        \n",
       "                               size 3 - 1 FF-CPS alpha t-stat\n",
       "skew 1                         -5.44067                      \n",
       "skew 2                         -3.52465                      \n",
       "skew 3                         -2.98202                      \n",
       "skew 3 - 1                                                   \n",
       "skew 3 - 1 t-stat                                            \n",
       "skew 3 - 1 CAPM alpha                                        \n",
       "skew 3 - 1 CAPM alpha t-stat                                 \n",
       "skew 3 - 1 FF-CPS alpha                                      \n",
       "skew 3 - 1 FF-CPS alpha t-stat                               "
      ]
     },
     "metadata": {},
     "output_type": "display_data"
    },
    {
     "name": "stdout",
     "output_type": "stream",
     "text": [
      "[1] \"Value-weighted portfolio\"\n",
      "[1] \"VW: Betas\"\n"
     ]
    },
    {
     "data": {
      "text/html": [
       "<table class=\"dataframe\">\n",
       "<caption>A data.frame: 9 × 9</caption>\n",
       "<thead>\n",
       "\t<tr><th></th><th scope=col>size 1</th><th scope=col>size 2</th><th scope=col>size 3</th><th scope=col>size 3 - 1</th><th scope=col>size 3 - 1 t-stat</th><th scope=col>size 3 - 1 CAPM alpha</th><th scope=col>size 3 - 1 CAPM alpha t-stat</th><th scope=col>size 3 - 1 FF-CPS alpha</th><th scope=col>size 3 - 1 FF-CPS alpha t-stat</th></tr>\n",
       "\t<tr><th></th><th scope=col>&lt;dbl&gt;</th><th scope=col>&lt;dbl&gt;</th><th scope=col>&lt;dbl&gt;</th><th scope=col>&lt;chr&gt;</th><th scope=col>&lt;chr&gt;</th><th scope=col>&lt;chr&gt;</th><th scope=col>&lt;chr&gt;</th><th scope=col>&lt;chr&gt;</th><th scope=col>&lt;chr&gt;</th></tr>\n",
       "</thead>\n",
       "<tbody>\n",
       "\t<tr><th scope=row>skew 1</th><td>-0.04991</td><td>-0.05550</td><td>-0.05709</td><td>-0.00718</td><td>-3.83733</td><td>-0.00754</td><td>-3.54828</td><td>-0.00685</td><td>-2.94211</td></tr>\n",
       "\t<tr><th scope=row>skew 2</th><td>-0.05297</td><td>-0.05742</td><td>-0.05857</td><td>-0.0056 </td><td>-2.14323</td><td>-0.00584</td><td>-2.04555</td><td>-0.00529</td><td>-1.74791</td></tr>\n",
       "\t<tr><th scope=row>skew 3</th><td>-0.04973</td><td>-0.05596</td><td>-0.05764</td><td>-0.00791</td><td>-2.73467</td><td>-0.00767</td><td>-2.46428</td><td>-0.00713</td><td>-2.28925</td></tr>\n",
       "\t<tr><th scope=row>skew 3 - 1</th><td> 0.00019</td><td>-0.00045</td><td>-0.00054</td><td>        </td><td>        </td><td>        </td><td>        </td><td>        </td><td>        </td></tr>\n",
       "\t<tr><th scope=row>skew 3 - 1 t-stat</th><td> 0.09077</td><td>-0.31805</td><td>-0.22948</td><td>        </td><td>        </td><td>        </td><td>        </td><td>        </td><td>        </td></tr>\n",
       "\t<tr><th scope=row>skew 3 - 1 CAPM alpha</th><td>-0.00062</td><td>-0.00040</td><td>-0.00076</td><td>        </td><td>        </td><td>        </td><td>        </td><td>        </td><td>        </td></tr>\n",
       "\t<tr><th scope=row>skew 3 - 1 CAPM alpha t-stat</th><td>-0.29542</td><td>-0.24554</td><td>-0.27706</td><td>        </td><td>        </td><td>        </td><td>        </td><td>        </td><td>        </td></tr>\n",
       "\t<tr><th scope=row>skew 3 - 1 FF-CPS alpha</th><td>-0.00081</td><td>-0.00011</td><td>-0.00108</td><td>        </td><td>        </td><td>        </td><td>        </td><td>        </td><td>        </td></tr>\n",
       "\t<tr><th scope=row>skew 3 - 1 FF-CPS alpha t-stat</th><td>-0.41648</td><td>-0.06886</td><td>-0.40565</td><td>        </td><td>        </td><td>        </td><td>        </td><td>        </td><td>        </td></tr>\n",
       "</tbody>\n",
       "</table>\n"
      ],
      "text/latex": [
       "A data.frame: 9 × 9\n",
       "\\begin{tabular}{r|lllllllll}\n",
       "  & size 1 & size 2 & size 3 & size 3 - 1 & size 3 - 1 t-stat & size 3 - 1 CAPM alpha & size 3 - 1 CAPM alpha t-stat & size 3 - 1 FF-CPS alpha & size 3 - 1 FF-CPS alpha t-stat\\\\\n",
       "  & <dbl> & <dbl> & <dbl> & <chr> & <chr> & <chr> & <chr> & <chr> & <chr>\\\\\n",
       "\\hline\n",
       "\tskew 1 & -0.04991 & -0.05550 & -0.05709 & -0.00718 & -3.83733 & -0.00754 & -3.54828 & -0.00685 & -2.94211\\\\\n",
       "\tskew 2 & -0.05297 & -0.05742 & -0.05857 & -0.0056  & -2.14323 & -0.00584 & -2.04555 & -0.00529 & -1.74791\\\\\n",
       "\tskew 3 & -0.04973 & -0.05596 & -0.05764 & -0.00791 & -2.73467 & -0.00767 & -2.46428 & -0.00713 & -2.28925\\\\\n",
       "\tskew 3 - 1 &  0.00019 & -0.00045 & -0.00054 &          &          &          &          &          &         \\\\\n",
       "\tskew 3 - 1 t-stat &  0.09077 & -0.31805 & -0.22948 &          &          &          &          &          &         \\\\\n",
       "\tskew 3 - 1 CAPM alpha & -0.00062 & -0.00040 & -0.00076 &          &          &          &          &          &         \\\\\n",
       "\tskew 3 - 1 CAPM alpha t-stat & -0.29542 & -0.24554 & -0.27706 &          &          &          &          &          &         \\\\\n",
       "\tskew 3 - 1 FF-CPS alpha & -0.00081 & -0.00011 & -0.00108 &          &          &          &          &          &         \\\\\n",
       "\tskew 3 - 1 FF-CPS alpha t-stat & -0.41648 & -0.06886 & -0.40565 &          &          &          &          &          &         \\\\\n",
       "\\end{tabular}\n"
      ],
      "text/markdown": [
       "\n",
       "A data.frame: 9 × 9\n",
       "\n",
       "| <!--/--> | size 1 &lt;dbl&gt; | size 2 &lt;dbl&gt; | size 3 &lt;dbl&gt; | size 3 - 1 &lt;chr&gt; | size 3 - 1 t-stat &lt;chr&gt; | size 3 - 1 CAPM alpha &lt;chr&gt; | size 3 - 1 CAPM alpha t-stat &lt;chr&gt; | size 3 - 1 FF-CPS alpha &lt;chr&gt; | size 3 - 1 FF-CPS alpha t-stat &lt;chr&gt; |\n",
       "|---|---|---|---|---|---|---|---|---|---|\n",
       "| skew 1 | -0.04991 | -0.05550 | -0.05709 | -0.00718 | -3.83733 | -0.00754 | -3.54828 | -0.00685 | -2.94211 |\n",
       "| skew 2 | -0.05297 | -0.05742 | -0.05857 | -0.0056  | -2.14323 | -0.00584 | -2.04555 | -0.00529 | -1.74791 |\n",
       "| skew 3 | -0.04973 | -0.05596 | -0.05764 | -0.00791 | -2.73467 | -0.00767 | -2.46428 | -0.00713 | -2.28925 |\n",
       "| skew 3 - 1 |  0.00019 | -0.00045 | -0.00054 | <!----> | <!----> | <!----> | <!----> | <!----> | <!----> |\n",
       "| skew 3 - 1 t-stat |  0.09077 | -0.31805 | -0.22948 | <!----> | <!----> | <!----> | <!----> | <!----> | <!----> |\n",
       "| skew 3 - 1 CAPM alpha | -0.00062 | -0.00040 | -0.00076 | <!----> | <!----> | <!----> | <!----> | <!----> | <!----> |\n",
       "| skew 3 - 1 CAPM alpha t-stat | -0.29542 | -0.24554 | -0.27706 | <!----> | <!----> | <!----> | <!----> | <!----> | <!----> |\n",
       "| skew 3 - 1 FF-CPS alpha | -0.00081 | -0.00011 | -0.00108 | <!----> | <!----> | <!----> | <!----> | <!----> | <!----> |\n",
       "| skew 3 - 1 FF-CPS alpha t-stat | -0.41648 | -0.06886 | -0.40565 | <!----> | <!----> | <!----> | <!----> | <!----> | <!----> |\n",
       "\n"
      ],
      "text/plain": [
       "                               size 1   size 2   size 3   size 3 - 1\n",
       "skew 1                         -0.04991 -0.05550 -0.05709 -0.00718  \n",
       "skew 2                         -0.05297 -0.05742 -0.05857 -0.0056   \n",
       "skew 3                         -0.04973 -0.05596 -0.05764 -0.00791  \n",
       "skew 3 - 1                      0.00019 -0.00045 -0.00054           \n",
       "skew 3 - 1 t-stat               0.09077 -0.31805 -0.22948           \n",
       "skew 3 - 1 CAPM alpha          -0.00062 -0.00040 -0.00076           \n",
       "skew 3 - 1 CAPM alpha t-stat   -0.29542 -0.24554 -0.27706           \n",
       "skew 3 - 1 FF-CPS alpha        -0.00081 -0.00011 -0.00108           \n",
       "skew 3 - 1 FF-CPS alpha t-stat -0.41648 -0.06886 -0.40565           \n",
       "                               size 3 - 1 t-stat size 3 - 1 CAPM alpha\n",
       "skew 1                         -3.83733          -0.00754             \n",
       "skew 2                         -2.14323          -0.00584             \n",
       "skew 3                         -2.73467          -0.00767             \n",
       "skew 3 - 1                                                            \n",
       "skew 3 - 1 t-stat                                                     \n",
       "skew 3 - 1 CAPM alpha                                                 \n",
       "skew 3 - 1 CAPM alpha t-stat                                          \n",
       "skew 3 - 1 FF-CPS alpha                                               \n",
       "skew 3 - 1 FF-CPS alpha t-stat                                        \n",
       "                               size 3 - 1 CAPM alpha t-stat\n",
       "skew 1                         -3.54828                    \n",
       "skew 2                         -2.04555                    \n",
       "skew 3                         -2.46428                    \n",
       "skew 3 - 1                                                 \n",
       "skew 3 - 1 t-stat                                          \n",
       "skew 3 - 1 CAPM alpha                                      \n",
       "skew 3 - 1 CAPM alpha t-stat                               \n",
       "skew 3 - 1 FF-CPS alpha                                    \n",
       "skew 3 - 1 FF-CPS alpha t-stat                             \n",
       "                               size 3 - 1 FF-CPS alpha\n",
       "skew 1                         -0.00685               \n",
       "skew 2                         -0.00529               \n",
       "skew 3                         -0.00713               \n",
       "skew 3 - 1                                            \n",
       "skew 3 - 1 t-stat                                     \n",
       "skew 3 - 1 CAPM alpha                                 \n",
       "skew 3 - 1 CAPM alpha t-stat                          \n",
       "skew 3 - 1 FF-CPS alpha                               \n",
       "skew 3 - 1 FF-CPS alpha t-stat                        \n",
       "                               size 3 - 1 FF-CPS alpha t-stat\n",
       "skew 1                         -2.94211                      \n",
       "skew 2                         -1.74791                      \n",
       "skew 3                         -2.28925                      \n",
       "skew 3 - 1                                                   \n",
       "skew 3 - 1 t-stat                                            \n",
       "skew 3 - 1 CAPM alpha                                        \n",
       "skew 3 - 1 CAPM alpha t-stat                                 \n",
       "skew 3 - 1 FF-CPS alpha                                      \n",
       "skew 3 - 1 FF-CPS alpha t-stat                               "
      ]
     },
     "metadata": {},
     "output_type": "display_data"
    }
   ],
   "source": [
    "print(\"Equally-weighted portfolio\")\n",
    "print(\"EW: \")\n",
    "print_custom(EW_portfolio_results_size_skew)\n",
    "\n",
    "print(\"Value-weighted portfolio\")\n",
    "print(\"VW: Betas\")\n",
    "print_custom(VW_portfolio_results_size_skew)"
   ]
  },
  {
   "cell_type": "markdown",
   "id": "753ea277-34cb-4ba8-af38-6f15f3639696",
   "metadata": {},
   "source": [
    "### (i) Size-volatility"
   ]
  },
  {
   "cell_type": "markdown",
   "id": "5f62e020-9da0-4e26-96b8-5090102fae6f",
   "metadata": {},
   "source": [
    "The size effect remains significant when controlling for volatility instead of skewness, as well as the CAPM alpha and FF-CPS alpha. The weighting scheme does not make a significant difference in the case of the size effect; however, it does seem that it is slightly higher in high-volatility stocks, observed by value of larger magnitude in absolute value in the 3-1 size portfolio of the highest volatility portfolio.\n",
    "\n",
    "Looking at the long-short portfolio of volatility, we also observe a statistically significant and positive volatility effect in the first-size portfolio for the equally weighted stocks and a positive volatility effect in the first two size portfolios in the value-weighted portfolio. This suggests that we do observe that the returns are on average larger for more volatile stocks, but this only holds for small and moderately large companies, not the largest ones. Looking more at the weighting, we can see that the results are generally very similar and borderline significant (they are significant at the 90% level) even for the equally weighted Size 2 long-short volatility portfolio, hence the effect of the weights is moderate. \n",
    "\n",
    "When we contrast the results to what we have seen during the lectures we can note several differences: 1) we observe a positive relation between the volatility and returns. The average excess returns are higher for more volatile stocks 2) The effect exists among smaller stocks. In class we have observed mixed results, some specifications suggested negative relations among large stocks, but such an effect is not observed here.\n",
    "\n",
    "The significance of the alphas is consistent with the significance of the long-short portfolio for both size and volatility. Both CAPM Alpha and Fama-French CPS model corrections show statistically significant alphas, whenever the '3-1' portfolio is also significant, suggesting that the long-large/short-small (size or volatility) strategy generates abnormal returns over what CAPM and FF CPS-factor models would predict. This could indicate that the strategy successfully captures size and possibly some volatility effects that are not fully explained by these models."
   ]
  },
  {
   "cell_type": "code",
   "execution_count": 28,
   "id": "85d129c8-1079-4891-baee-f1d88373f7ba",
   "metadata": {},
   "outputs": [
    {
     "name": "stdout",
     "output_type": "stream",
     "text": [
      "[1] \"Equally-weighted portfolio\"\n",
      "[1] \"EW: \"\n"
     ]
    },
    {
     "data": {
      "text/html": [
       "<table class=\"dataframe\">\n",
       "<caption>A data.frame: 9 × 9</caption>\n",
       "<thead>\n",
       "\t<tr><th></th><th scope=col>size 1</th><th scope=col>size 2</th><th scope=col>size 3</th><th scope=col>size 3 - 1</th><th scope=col>size 3 - 1 t-stat</th><th scope=col>size 3 - 1 CAPM alpha</th><th scope=col>size 3 - 1 CAPM alpha t-stat</th><th scope=col>size 3 - 1 FF-CPS alpha</th><th scope=col>size 3 - 1 FF-CPS alpha t-stat</th></tr>\n",
       "\t<tr><th></th><th scope=col>&lt;dbl&gt;</th><th scope=col>&lt;dbl&gt;</th><th scope=col>&lt;dbl&gt;</th><th scope=col>&lt;chr&gt;</th><th scope=col>&lt;chr&gt;</th><th scope=col>&lt;chr&gt;</th><th scope=col>&lt;chr&gt;</th><th scope=col>&lt;chr&gt;</th><th scope=col>&lt;chr&gt;</th></tr>\n",
       "</thead>\n",
       "<tbody>\n",
       "\t<tr><th scope=row>vol 1</th><td>-0.05572</td><td>-0.06167</td><td>-0.06014</td><td>-0.00442</td><td>-3.74914</td><td>-0.00453</td><td>-3.71185</td><td>-0.00437</td><td>-3.07849</td></tr>\n",
       "\t<tr><th scope=row>vol 2</th><td>-0.05396</td><td>-0.05785</td><td>-0.06109</td><td>-0.00713</td><td>-4.36931</td><td>-0.00725</td><td>-3.74448</td><td>-0.00716</td><td>-3.53094</td></tr>\n",
       "\t<tr><th scope=row>vol 3</th><td>-0.04789</td><td>-0.05686</td><td>-0.06094</td><td>-0.01305</td><td>-5.88902</td><td>-0.01329</td><td>-5.14974</td><td>-0.01167</td><td>-4.21981</td></tr>\n",
       "\t<tr><th scope=row>vol 3 - 1</th><td> 0.00783</td><td> 0.00481</td><td>-0.00080</td><td>        </td><td>        </td><td>        </td><td>        </td><td>        </td><td>        </td></tr>\n",
       "\t<tr><th scope=row>vol 3 - 1 t-stat</th><td> 2.61528</td><td> 1.72703</td><td>-0.24569</td><td>        </td><td>        </td><td>        </td><td>        </td><td>        </td><td>        </td></tr>\n",
       "\t<tr><th scope=row>vol 3 - 1 CAPM alpha</th><td> 0.00890</td><td> 0.00545</td><td> 0.00014</td><td>        </td><td>        </td><td>        </td><td>        </td><td>        </td><td>        </td></tr>\n",
       "\t<tr><th scope=row>vol 3 - 1 CAPM alpha t-stat</th><td> 2.54852</td><td> 1.68733</td><td> 0.03896</td><td>        </td><td>        </td><td>        </td><td>        </td><td>        </td><td>        </td></tr>\n",
       "\t<tr><th scope=row>vol 3 - 1 FF-CPS alpha</th><td> 0.00799</td><td> 0.00540</td><td> 0.00069</td><td>        </td><td>        </td><td>        </td><td>        </td><td>        </td><td>        </td></tr>\n",
       "\t<tr><th scope=row>vol 3 - 1 FF-CPS alpha t-stat</th><td> 2.13389</td><td> 1.55768</td><td> 0.19027</td><td>        </td><td>        </td><td>        </td><td>        </td><td>        </td><td>        </td></tr>\n",
       "</tbody>\n",
       "</table>\n"
      ],
      "text/latex": [
       "A data.frame: 9 × 9\n",
       "\\begin{tabular}{r|lllllllll}\n",
       "  & size 1 & size 2 & size 3 & size 3 - 1 & size 3 - 1 t-stat & size 3 - 1 CAPM alpha & size 3 - 1 CAPM alpha t-stat & size 3 - 1 FF-CPS alpha & size 3 - 1 FF-CPS alpha t-stat\\\\\n",
       "  & <dbl> & <dbl> & <dbl> & <chr> & <chr> & <chr> & <chr> & <chr> & <chr>\\\\\n",
       "\\hline\n",
       "\tvol 1 & -0.05572 & -0.06167 & -0.06014 & -0.00442 & -3.74914 & -0.00453 & -3.71185 & -0.00437 & -3.07849\\\\\n",
       "\tvol 2 & -0.05396 & -0.05785 & -0.06109 & -0.00713 & -4.36931 & -0.00725 & -3.74448 & -0.00716 & -3.53094\\\\\n",
       "\tvol 3 & -0.04789 & -0.05686 & -0.06094 & -0.01305 & -5.88902 & -0.01329 & -5.14974 & -0.01167 & -4.21981\\\\\n",
       "\tvol 3 - 1 &  0.00783 &  0.00481 & -0.00080 &          &          &          &          &          &         \\\\\n",
       "\tvol 3 - 1 t-stat &  2.61528 &  1.72703 & -0.24569 &          &          &          &          &          &         \\\\\n",
       "\tvol 3 - 1 CAPM alpha &  0.00890 &  0.00545 &  0.00014 &          &          &          &          &          &         \\\\\n",
       "\tvol 3 - 1 CAPM alpha t-stat &  2.54852 &  1.68733 &  0.03896 &          &          &          &          &          &         \\\\\n",
       "\tvol 3 - 1 FF-CPS alpha &  0.00799 &  0.00540 &  0.00069 &          &          &          &          &          &         \\\\\n",
       "\tvol 3 - 1 FF-CPS alpha t-stat &  2.13389 &  1.55768 &  0.19027 &          &          &          &          &          &         \\\\\n",
       "\\end{tabular}\n"
      ],
      "text/markdown": [
       "\n",
       "A data.frame: 9 × 9\n",
       "\n",
       "| <!--/--> | size 1 &lt;dbl&gt; | size 2 &lt;dbl&gt; | size 3 &lt;dbl&gt; | size 3 - 1 &lt;chr&gt; | size 3 - 1 t-stat &lt;chr&gt; | size 3 - 1 CAPM alpha &lt;chr&gt; | size 3 - 1 CAPM alpha t-stat &lt;chr&gt; | size 3 - 1 FF-CPS alpha &lt;chr&gt; | size 3 - 1 FF-CPS alpha t-stat &lt;chr&gt; |\n",
       "|---|---|---|---|---|---|---|---|---|---|\n",
       "| vol 1 | -0.05572 | -0.06167 | -0.06014 | -0.00442 | -3.74914 | -0.00453 | -3.71185 | -0.00437 | -3.07849 |\n",
       "| vol 2 | -0.05396 | -0.05785 | -0.06109 | -0.00713 | -4.36931 | -0.00725 | -3.74448 | -0.00716 | -3.53094 |\n",
       "| vol 3 | -0.04789 | -0.05686 | -0.06094 | -0.01305 | -5.88902 | -0.01329 | -5.14974 | -0.01167 | -4.21981 |\n",
       "| vol 3 - 1 |  0.00783 |  0.00481 | -0.00080 | <!----> | <!----> | <!----> | <!----> | <!----> | <!----> |\n",
       "| vol 3 - 1 t-stat |  2.61528 |  1.72703 | -0.24569 | <!----> | <!----> | <!----> | <!----> | <!----> | <!----> |\n",
       "| vol 3 - 1 CAPM alpha |  0.00890 |  0.00545 |  0.00014 | <!----> | <!----> | <!----> | <!----> | <!----> | <!----> |\n",
       "| vol 3 - 1 CAPM alpha t-stat |  2.54852 |  1.68733 |  0.03896 | <!----> | <!----> | <!----> | <!----> | <!----> | <!----> |\n",
       "| vol 3 - 1 FF-CPS alpha |  0.00799 |  0.00540 |  0.00069 | <!----> | <!----> | <!----> | <!----> | <!----> | <!----> |\n",
       "| vol 3 - 1 FF-CPS alpha t-stat |  2.13389 |  1.55768 |  0.19027 | <!----> | <!----> | <!----> | <!----> | <!----> | <!----> |\n",
       "\n"
      ],
      "text/plain": [
       "                              size 1   size 2   size 3   size 3 - 1\n",
       "vol 1                         -0.05572 -0.06167 -0.06014 -0.00442  \n",
       "vol 2                         -0.05396 -0.05785 -0.06109 -0.00713  \n",
       "vol 3                         -0.04789 -0.05686 -0.06094 -0.01305  \n",
       "vol 3 - 1                      0.00783  0.00481 -0.00080           \n",
       "vol 3 - 1 t-stat               2.61528  1.72703 -0.24569           \n",
       "vol 3 - 1 CAPM alpha           0.00890  0.00545  0.00014           \n",
       "vol 3 - 1 CAPM alpha t-stat    2.54852  1.68733  0.03896           \n",
       "vol 3 - 1 FF-CPS alpha         0.00799  0.00540  0.00069           \n",
       "vol 3 - 1 FF-CPS alpha t-stat  2.13389  1.55768  0.19027           \n",
       "                              size 3 - 1 t-stat size 3 - 1 CAPM alpha\n",
       "vol 1                         -3.74914          -0.00453             \n",
       "vol 2                         -4.36931          -0.00725             \n",
       "vol 3                         -5.88902          -0.01329             \n",
       "vol 3 - 1                                                            \n",
       "vol 3 - 1 t-stat                                                     \n",
       "vol 3 - 1 CAPM alpha                                                 \n",
       "vol 3 - 1 CAPM alpha t-stat                                          \n",
       "vol 3 - 1 FF-CPS alpha                                               \n",
       "vol 3 - 1 FF-CPS alpha t-stat                                        \n",
       "                              size 3 - 1 CAPM alpha t-stat\n",
       "vol 1                         -3.71185                    \n",
       "vol 2                         -3.74448                    \n",
       "vol 3                         -5.14974                    \n",
       "vol 3 - 1                                                 \n",
       "vol 3 - 1 t-stat                                          \n",
       "vol 3 - 1 CAPM alpha                                      \n",
       "vol 3 - 1 CAPM alpha t-stat                               \n",
       "vol 3 - 1 FF-CPS alpha                                    \n",
       "vol 3 - 1 FF-CPS alpha t-stat                             \n",
       "                              size 3 - 1 FF-CPS alpha\n",
       "vol 1                         -0.00437               \n",
       "vol 2                         -0.00716               \n",
       "vol 3                         -0.01167               \n",
       "vol 3 - 1                                            \n",
       "vol 3 - 1 t-stat                                     \n",
       "vol 3 - 1 CAPM alpha                                 \n",
       "vol 3 - 1 CAPM alpha t-stat                          \n",
       "vol 3 - 1 FF-CPS alpha                               \n",
       "vol 3 - 1 FF-CPS alpha t-stat                        \n",
       "                              size 3 - 1 FF-CPS alpha t-stat\n",
       "vol 1                         -3.07849                      \n",
       "vol 2                         -3.53094                      \n",
       "vol 3                         -4.21981                      \n",
       "vol 3 - 1                                                   \n",
       "vol 3 - 1 t-stat                                            \n",
       "vol 3 - 1 CAPM alpha                                        \n",
       "vol 3 - 1 CAPM alpha t-stat                                 \n",
       "vol 3 - 1 FF-CPS alpha                                      \n",
       "vol 3 - 1 FF-CPS alpha t-stat                               "
      ]
     },
     "metadata": {},
     "output_type": "display_data"
    },
    {
     "name": "stdout",
     "output_type": "stream",
     "text": [
      "[1] \"Value-weighted portfolio\"\n",
      "[1] \"VW: Betas\"\n"
     ]
    },
    {
     "data": {
      "text/html": [
       "<table class=\"dataframe\">\n",
       "<caption>A data.frame: 9 × 9</caption>\n",
       "<thead>\n",
       "\t<tr><th></th><th scope=col>size 1</th><th scope=col>size 2</th><th scope=col>size 3</th><th scope=col>size 3 - 1</th><th scope=col>size 3 - 1 t-stat</th><th scope=col>size 3 - 1 CAPM alpha</th><th scope=col>size 3 - 1 CAPM alpha t-stat</th><th scope=col>size 3 - 1 FF-CPS alpha</th><th scope=col>size 3 - 1 FF-CPS alpha t-stat</th></tr>\n",
       "\t<tr><th></th><th scope=col>&lt;dbl&gt;</th><th scope=col>&lt;dbl&gt;</th><th scope=col>&lt;dbl&gt;</th><th scope=col>&lt;chr&gt;</th><th scope=col>&lt;chr&gt;</th><th scope=col>&lt;chr&gt;</th><th scope=col>&lt;chr&gt;</th><th scope=col>&lt;chr&gt;</th><th scope=col>&lt;chr&gt;</th></tr>\n",
       "</thead>\n",
       "<tbody>\n",
       "\t<tr><th scope=row>vol 1</th><td>-0.05512</td><td>-0.06023</td><td>-0.05754</td><td>-0.00243</td><td>-1.71594</td><td>-0.00266</td><td>-1.91668</td><td>-0.00249</td><td>-1.61851</td></tr>\n",
       "\t<tr><th scope=row>vol 2</th><td>-0.05360</td><td>-0.05598</td><td>-0.05748</td><td>-0.00388</td><td>-1.62935</td><td>-0.00355</td><td>-1.40895</td><td>-0.00345</td><td>-1.26951</td></tr>\n",
       "\t<tr><th scope=row>vol 3</th><td>-0.04615</td><td>-0.05303</td><td>-0.05734</td><td>-0.01119</td><td>-3.37954</td><td>-0.01147</td><td>-3.16515</td><td>-0.0099 </td><td>-2.74782</td></tr>\n",
       "\t<tr><th scope=row>vol 3 - 1</th><td> 0.00897</td><td> 0.00719</td><td> 0.00021</td><td>        </td><td>        </td><td>        </td><td>        </td><td>        </td><td>        </td></tr>\n",
       "\t<tr><th scope=row>vol 3 - 1 t-stat</th><td> 2.82789</td><td> 2.56621</td><td> 0.05457</td><td>        </td><td>        </td><td>        </td><td>        </td><td>        </td><td>        </td></tr>\n",
       "\t<tr><th scope=row>vol 3 - 1 CAPM alpha</th><td> 0.00993</td><td> 0.00801</td><td> 0.00112</td><td>        </td><td>        </td><td>        </td><td>        </td><td>        </td><td>        </td></tr>\n",
       "\t<tr><th scope=row>vol 3 - 1 CAPM alpha t-stat</th><td> 2.78758</td><td> 2.44340</td><td> 0.27206</td><td>        </td><td>        </td><td>        </td><td>        </td><td>        </td><td>        </td></tr>\n",
       "\t<tr><th scope=row>vol 3 - 1 FF-CPS alpha</th><td> 0.00930</td><td> 0.00800</td><td> 0.00189</td><td>        </td><td>        </td><td>        </td><td>        </td><td>        </td><td>        </td></tr>\n",
       "\t<tr><th scope=row>vol 3 - 1 FF-CPS alpha t-stat</th><td> 2.45274</td><td> 2.32292</td><td> 0.48785</td><td>        </td><td>        </td><td>        </td><td>        </td><td>        </td><td>        </td></tr>\n",
       "</tbody>\n",
       "</table>\n"
      ],
      "text/latex": [
       "A data.frame: 9 × 9\n",
       "\\begin{tabular}{r|lllllllll}\n",
       "  & size 1 & size 2 & size 3 & size 3 - 1 & size 3 - 1 t-stat & size 3 - 1 CAPM alpha & size 3 - 1 CAPM alpha t-stat & size 3 - 1 FF-CPS alpha & size 3 - 1 FF-CPS alpha t-stat\\\\\n",
       "  & <dbl> & <dbl> & <dbl> & <chr> & <chr> & <chr> & <chr> & <chr> & <chr>\\\\\n",
       "\\hline\n",
       "\tvol 1 & -0.05512 & -0.06023 & -0.05754 & -0.00243 & -1.71594 & -0.00266 & -1.91668 & -0.00249 & -1.61851\\\\\n",
       "\tvol 2 & -0.05360 & -0.05598 & -0.05748 & -0.00388 & -1.62935 & -0.00355 & -1.40895 & -0.00345 & -1.26951\\\\\n",
       "\tvol 3 & -0.04615 & -0.05303 & -0.05734 & -0.01119 & -3.37954 & -0.01147 & -3.16515 & -0.0099  & -2.74782\\\\\n",
       "\tvol 3 - 1 &  0.00897 &  0.00719 &  0.00021 &          &          &          &          &          &         \\\\\n",
       "\tvol 3 - 1 t-stat &  2.82789 &  2.56621 &  0.05457 &          &          &          &          &          &         \\\\\n",
       "\tvol 3 - 1 CAPM alpha &  0.00993 &  0.00801 &  0.00112 &          &          &          &          &          &         \\\\\n",
       "\tvol 3 - 1 CAPM alpha t-stat &  2.78758 &  2.44340 &  0.27206 &          &          &          &          &          &         \\\\\n",
       "\tvol 3 - 1 FF-CPS alpha &  0.00930 &  0.00800 &  0.00189 &          &          &          &          &          &         \\\\\n",
       "\tvol 3 - 1 FF-CPS alpha t-stat &  2.45274 &  2.32292 &  0.48785 &          &          &          &          &          &         \\\\\n",
       "\\end{tabular}\n"
      ],
      "text/markdown": [
       "\n",
       "A data.frame: 9 × 9\n",
       "\n",
       "| <!--/--> | size 1 &lt;dbl&gt; | size 2 &lt;dbl&gt; | size 3 &lt;dbl&gt; | size 3 - 1 &lt;chr&gt; | size 3 - 1 t-stat &lt;chr&gt; | size 3 - 1 CAPM alpha &lt;chr&gt; | size 3 - 1 CAPM alpha t-stat &lt;chr&gt; | size 3 - 1 FF-CPS alpha &lt;chr&gt; | size 3 - 1 FF-CPS alpha t-stat &lt;chr&gt; |\n",
       "|---|---|---|---|---|---|---|---|---|---|\n",
       "| vol 1 | -0.05512 | -0.06023 | -0.05754 | -0.00243 | -1.71594 | -0.00266 | -1.91668 | -0.00249 | -1.61851 |\n",
       "| vol 2 | -0.05360 | -0.05598 | -0.05748 | -0.00388 | -1.62935 | -0.00355 | -1.40895 | -0.00345 | -1.26951 |\n",
       "| vol 3 | -0.04615 | -0.05303 | -0.05734 | -0.01119 | -3.37954 | -0.01147 | -3.16515 | -0.0099  | -2.74782 |\n",
       "| vol 3 - 1 |  0.00897 |  0.00719 |  0.00021 | <!----> | <!----> | <!----> | <!----> | <!----> | <!----> |\n",
       "| vol 3 - 1 t-stat |  2.82789 |  2.56621 |  0.05457 | <!----> | <!----> | <!----> | <!----> | <!----> | <!----> |\n",
       "| vol 3 - 1 CAPM alpha |  0.00993 |  0.00801 |  0.00112 | <!----> | <!----> | <!----> | <!----> | <!----> | <!----> |\n",
       "| vol 3 - 1 CAPM alpha t-stat |  2.78758 |  2.44340 |  0.27206 | <!----> | <!----> | <!----> | <!----> | <!----> | <!----> |\n",
       "| vol 3 - 1 FF-CPS alpha |  0.00930 |  0.00800 |  0.00189 | <!----> | <!----> | <!----> | <!----> | <!----> | <!----> |\n",
       "| vol 3 - 1 FF-CPS alpha t-stat |  2.45274 |  2.32292 |  0.48785 | <!----> | <!----> | <!----> | <!----> | <!----> | <!----> |\n",
       "\n"
      ],
      "text/plain": [
       "                              size 1   size 2   size 3   size 3 - 1\n",
       "vol 1                         -0.05512 -0.06023 -0.05754 -0.00243  \n",
       "vol 2                         -0.05360 -0.05598 -0.05748 -0.00388  \n",
       "vol 3                         -0.04615 -0.05303 -0.05734 -0.01119  \n",
       "vol 3 - 1                      0.00897  0.00719  0.00021           \n",
       "vol 3 - 1 t-stat               2.82789  2.56621  0.05457           \n",
       "vol 3 - 1 CAPM alpha           0.00993  0.00801  0.00112           \n",
       "vol 3 - 1 CAPM alpha t-stat    2.78758  2.44340  0.27206           \n",
       "vol 3 - 1 FF-CPS alpha         0.00930  0.00800  0.00189           \n",
       "vol 3 - 1 FF-CPS alpha t-stat  2.45274  2.32292  0.48785           \n",
       "                              size 3 - 1 t-stat size 3 - 1 CAPM alpha\n",
       "vol 1                         -1.71594          -0.00266             \n",
       "vol 2                         -1.62935          -0.00355             \n",
       "vol 3                         -3.37954          -0.01147             \n",
       "vol 3 - 1                                                            \n",
       "vol 3 - 1 t-stat                                                     \n",
       "vol 3 - 1 CAPM alpha                                                 \n",
       "vol 3 - 1 CAPM alpha t-stat                                          \n",
       "vol 3 - 1 FF-CPS alpha                                               \n",
       "vol 3 - 1 FF-CPS alpha t-stat                                        \n",
       "                              size 3 - 1 CAPM alpha t-stat\n",
       "vol 1                         -1.91668                    \n",
       "vol 2                         -1.40895                    \n",
       "vol 3                         -3.16515                    \n",
       "vol 3 - 1                                                 \n",
       "vol 3 - 1 t-stat                                          \n",
       "vol 3 - 1 CAPM alpha                                      \n",
       "vol 3 - 1 CAPM alpha t-stat                               \n",
       "vol 3 - 1 FF-CPS alpha                                    \n",
       "vol 3 - 1 FF-CPS alpha t-stat                             \n",
       "                              size 3 - 1 FF-CPS alpha\n",
       "vol 1                         -0.00249               \n",
       "vol 2                         -0.00345               \n",
       "vol 3                         -0.0099                \n",
       "vol 3 - 1                                            \n",
       "vol 3 - 1 t-stat                                     \n",
       "vol 3 - 1 CAPM alpha                                 \n",
       "vol 3 - 1 CAPM alpha t-stat                          \n",
       "vol 3 - 1 FF-CPS alpha                               \n",
       "vol 3 - 1 FF-CPS alpha t-stat                        \n",
       "                              size 3 - 1 FF-CPS alpha t-stat\n",
       "vol 1                         -1.61851                      \n",
       "vol 2                         -1.26951                      \n",
       "vol 3                         -2.74782                      \n",
       "vol 3 - 1                                                   \n",
       "vol 3 - 1 t-stat                                            \n",
       "vol 3 - 1 CAPM alpha                                        \n",
       "vol 3 - 1 CAPM alpha t-stat                                 \n",
       "vol 3 - 1 FF-CPS alpha                                      \n",
       "vol 3 - 1 FF-CPS alpha t-stat                               "
      ]
     },
     "metadata": {},
     "output_type": "display_data"
    }
   ],
   "source": [
    "print(\"Equally-weighted portfolio\")\n",
    "print(\"EW: \")\n",
    "print_custom(EW_portfolio_results_size_vol)\n",
    "\n",
    "print(\"Value-weighted portfolio\")\n",
    "print(\"VW: Betas\")\n",
    "print_custom(VW_portfolio_results_size_vol)"
   ]
  },
  {
   "cell_type": "markdown",
   "id": "82ee76eb-230a-46a7-9491-c2edd0c92dea",
   "metadata": {},
   "source": [
    "## (b) Fama-MacBeth regression results"
   ]
  },
  {
   "cell_type": "markdown",
   "id": "580e3e1d-fc37-4afa-838f-7a7cfd9a7097",
   "metadata": {},
   "source": [
    "This section presents the results of the Fama-MacBeth regression. The effects are studied both independently and together. The results are discussed here, and are presented below. \n",
    "\n",
    "We do not observe statistically significant cross-sectional relation between skewness and $r_{t+1}$. We thus do not calculate economic significance for skewness, since the effect is not statistically different from zero. \n",
    "\n",
    "On the other hand, the cross-sectional relation between volatility and future stock returns is positive and statistically significant across specifications. The economic significance is calculated from the final regression containing all three regressors; however, the point estimate for the volatility variable coefficient is around 0.001 in all the regressions.\n",
    "\n",
    "Everything else equal, one standard deviation difference in volatility is associated with a $0.00104 \\times 2.4629 = 0.0026\\%$ per month change in expected returns. This means around 0.03% change per year. The relationship is thus statistically significant, yet not very economically important and definitely much less than what we have seen in other factors during the semester, such as momentum or value.\n",
    "\n",
    "The results are consistent across specifications and do not change significantly with more factors added. Generally, our analysis suggests that  size negatively correlates with returns, there is a positive relation with volatility, and skewness does not play a significant role. "
   ]
  },
  {
   "cell_type": "code",
   "execution_count": 29,
   "id": "909f848d-d862-47cf-81db-8a85c608166f",
   "metadata": {},
   "outputs": [
    {
     "data": {
      "text/html": [
       "2.46289877175128"
      ],
      "text/latex": [
       "2.46289877175128"
      ],
      "text/markdown": [
       "2.46289877175128"
      ],
      "text/plain": [
       "[1] 2.462899"
      ]
     },
     "metadata": {},
     "output_type": "display_data"
    }
   ],
   "source": [
    "# SD to determine economic importance of volatility\n",
    "mean_monthly_sd_vol"
   ]
  },
  {
   "cell_type": "markdown",
   "id": "d8ecdcdc-0b28-414f-8741-7b22f054af75",
   "metadata": {},
   "source": [
    "### (i) Skewness"
   ]
  },
  {
   "cell_type": "code",
   "execution_count": 30,
   "id": "98cd405b-13c9-4773-9e84-7798d1ea1cc6",
   "metadata": {},
   "outputs": [
    {
     "data": {
      "text/html": [
       "<table class=\"dataframe\">\n",
       "<caption>A data.frame: 2 × 2</caption>\n",
       "<thead>\n",
       "\t<tr><th></th><th scope=col>Intercept</th><th scope=col>skew</th></tr>\n",
       "\t<tr><th></th><th scope=col>&lt;dbl&gt;</th><th scope=col>&lt;dbl&gt;</th></tr>\n",
       "</thead>\n",
       "<tbody>\n",
       "\t<tr><th scope=row>coefficient estimate</th><td>-0.05750</td><td>0.00023</td></tr>\n",
       "\t<tr><th scope=row>NW t-stat</th><td>-1.92045</td><td>0.26437</td></tr>\n",
       "</tbody>\n",
       "</table>\n"
      ],
      "text/latex": [
       "A data.frame: 2 × 2\n",
       "\\begin{tabular}{r|ll}\n",
       "  & Intercept & skew\\\\\n",
       "  & <dbl> & <dbl>\\\\\n",
       "\\hline\n",
       "\tcoefficient estimate & -0.05750 & 0.00023\\\\\n",
       "\tNW t-stat & -1.92045 & 0.26437\\\\\n",
       "\\end{tabular}\n"
      ],
      "text/markdown": [
       "\n",
       "A data.frame: 2 × 2\n",
       "\n",
       "| <!--/--> | Intercept &lt;dbl&gt; | skew &lt;dbl&gt; |\n",
       "|---|---|---|\n",
       "| coefficient estimate | -0.05750 | 0.00023 |\n",
       "| NW t-stat | -1.92045 | 0.26437 |\n",
       "\n"
      ],
      "text/plain": [
       "                     Intercept skew   \n",
       "coefficient estimate -0.05750  0.00023\n",
       "NW t-stat            -1.92045  0.26437"
      ]
     },
     "metadata": {},
     "output_type": "display_data"
    }
   ],
   "source": [
    "data_explanatory = list(monthly_skewness)\n",
    "names(data_explanatory) = c(\"skew\")\n",
    "fm_skew = perform_fama_macbeth_regression(monthly_returns, data_explanatory)\n",
    "print_custom(fm_skew)"
   ]
  },
  {
   "cell_type": "markdown",
   "id": "e9f8c944-00b0-4e7a-b9f4-9da9cb61de4f",
   "metadata": {},
   "source": [
    "### (ii) Size-Skewness"
   ]
  },
  {
   "cell_type": "markdown",
   "id": "cda97e52-6d0e-4517-81eb-5cedcddd7a3b",
   "metadata": {},
   "source": [
    "Similarly to the bivariate sort, we do not find a statistically significant effect of skewness using the Fama-MacBeth regression approach."
   ]
  },
  {
   "cell_type": "code",
   "execution_count": 31,
   "id": "4b8e9076-c59d-4911-8651-7ad40081acf2",
   "metadata": {},
   "outputs": [
    {
     "data": {
      "text/html": [
       "<table class=\"dataframe\">\n",
       "<caption>A data.frame: 2 × 3</caption>\n",
       "<thead>\n",
       "\t<tr><th></th><th scope=col>Intercept</th><th scope=col>size</th><th scope=col>skew</th></tr>\n",
       "\t<tr><th></th><th scope=col>&lt;dbl&gt;</th><th scope=col>&lt;dbl&gt;</th><th scope=col>&lt;dbl&gt;</th></tr>\n",
       "</thead>\n",
       "<tbody>\n",
       "\t<tr><th scope=row>coefficient estimate</th><td>-0.03868</td><td>-0.00318</td><td>0.00007</td></tr>\n",
       "\t<tr><th scope=row>NW t-stat</th><td>-1.42692</td><td>-6.18217</td><td>0.08438</td></tr>\n",
       "</tbody>\n",
       "</table>\n"
      ],
      "text/latex": [
       "A data.frame: 2 × 3\n",
       "\\begin{tabular}{r|lll}\n",
       "  & Intercept & size & skew\\\\\n",
       "  & <dbl> & <dbl> & <dbl>\\\\\n",
       "\\hline\n",
       "\tcoefficient estimate & -0.03868 & -0.00318 & 0.00007\\\\\n",
       "\tNW t-stat & -1.42692 & -6.18217 & 0.08438\\\\\n",
       "\\end{tabular}\n"
      ],
      "text/markdown": [
       "\n",
       "A data.frame: 2 × 3\n",
       "\n",
       "| <!--/--> | Intercept &lt;dbl&gt; | size &lt;dbl&gt; | skew &lt;dbl&gt; |\n",
       "|---|---|---|---|\n",
       "| coefficient estimate | -0.03868 | -0.00318 | 0.00007 |\n",
       "| NW t-stat | -1.42692 | -6.18217 | 0.08438 |\n",
       "\n"
      ],
      "text/plain": [
       "                     Intercept size     skew   \n",
       "coefficient estimate -0.03868  -0.00318 0.00007\n",
       "NW t-stat            -1.42692  -6.18217 0.08438"
      ]
     },
     "metadata": {},
     "output_type": "display_data"
    }
   ],
   "source": [
    "data_explanatory = list(monthly_sizes, monthly_skewness)\n",
    "names(data_explanatory) = c(\"size\", \"skew\")\n",
    "fm_size_skew = perform_fama_macbeth_regression(monthly_returns, data_explanatory)\n",
    "print_custom(fm_size_skew)"
   ]
  },
  {
   "cell_type": "markdown",
   "id": "4cc4835a-707c-4697-8d65-674bc940716f",
   "metadata": {},
   "source": [
    "### (iii) volatility"
   ]
  },
  {
   "cell_type": "code",
   "execution_count": 32,
   "id": "5a09455b-4bfd-4690-9ff6-bcecd1adf168",
   "metadata": {},
   "outputs": [
    {
     "data": {
      "text/html": [
       "<table class=\"dataframe\">\n",
       "<caption>A data.frame: 2 × 2</caption>\n",
       "<thead>\n",
       "\t<tr><th></th><th scope=col>Intercept</th><th scope=col>volatility</th></tr>\n",
       "\t<tr><th></th><th scope=col>&lt;dbl&gt;</th><th scope=col>&lt;dbl&gt;</th></tr>\n",
       "</thead>\n",
       "<tbody>\n",
       "\t<tr><th scope=row>coefficient estimate</th><td>-0.06565</td><td>0.00121</td></tr>\n",
       "\t<tr><th scope=row>NW t-stat</th><td>-1.73712</td><td>2.63451</td></tr>\n",
       "</tbody>\n",
       "</table>\n"
      ],
      "text/latex": [
       "A data.frame: 2 × 2\n",
       "\\begin{tabular}{r|ll}\n",
       "  & Intercept & volatility\\\\\n",
       "  & <dbl> & <dbl>\\\\\n",
       "\\hline\n",
       "\tcoefficient estimate & -0.06565 & 0.00121\\\\\n",
       "\tNW t-stat & -1.73712 & 2.63451\\\\\n",
       "\\end{tabular}\n"
      ],
      "text/markdown": [
       "\n",
       "A data.frame: 2 × 2\n",
       "\n",
       "| <!--/--> | Intercept &lt;dbl&gt; | volatility &lt;dbl&gt; |\n",
       "|---|---|---|\n",
       "| coefficient estimate | -0.06565 | 0.00121 |\n",
       "| NW t-stat | -1.73712 | 2.63451 |\n",
       "\n"
      ],
      "text/plain": [
       "                     Intercept volatility\n",
       "coefficient estimate -0.06565  0.00121   \n",
       "NW t-stat            -1.73712  2.63451   "
      ]
     },
     "metadata": {},
     "output_type": "display_data"
    }
   ],
   "source": [
    "data_explanatory = list(monthly_volatilities)\n",
    "names(data_explanatory) = c(\"volatility\")\n",
    "fm_vol = perform_fama_macbeth_regression(monthly_returns, data_explanatory)\n",
    "print_custom(fm_vol)"
   ]
  },
  {
   "cell_type": "markdown",
   "id": "959bb832-f3a7-4faf-a526-980c8a9d3ab8",
   "metadata": {},
   "source": [
    "### (iv) Size-volatility"
   ]
  },
  {
   "cell_type": "code",
   "execution_count": 33,
   "id": "b35ae042-2dcb-4941-a771-b843c92e1a95",
   "metadata": {},
   "outputs": [
    {
     "data": {
      "text/html": [
       "<table class=\"dataframe\">\n",
       "<caption>A data.frame: 2 × 3</caption>\n",
       "<thead>\n",
       "\t<tr><th></th><th scope=col>Intercept</th><th scope=col>size</th><th scope=col>volatility</th></tr>\n",
       "\t<tr><th></th><th scope=col>&lt;dbl&gt;</th><th scope=col>&lt;dbl&gt;</th><th scope=col>&lt;dbl&gt;</th></tr>\n",
       "</thead>\n",
       "<tbody>\n",
       "\t<tr><th scope=row>coefficient estimate</th><td>-0.04994</td><td>-0.00250</td><td>0.00103</td></tr>\n",
       "\t<tr><th scope=row>NW t-stat</th><td>-1.62475</td><td>-4.95998</td><td>2.22596</td></tr>\n",
       "</tbody>\n",
       "</table>\n"
      ],
      "text/latex": [
       "A data.frame: 2 × 3\n",
       "\\begin{tabular}{r|lll}\n",
       "  & Intercept & size & volatility\\\\\n",
       "  & <dbl> & <dbl> & <dbl>\\\\\n",
       "\\hline\n",
       "\tcoefficient estimate & -0.04994 & -0.00250 & 0.00103\\\\\n",
       "\tNW t-stat & -1.62475 & -4.95998 & 2.22596\\\\\n",
       "\\end{tabular}\n"
      ],
      "text/markdown": [
       "\n",
       "A data.frame: 2 × 3\n",
       "\n",
       "| <!--/--> | Intercept &lt;dbl&gt; | size &lt;dbl&gt; | volatility &lt;dbl&gt; |\n",
       "|---|---|---|---|\n",
       "| coefficient estimate | -0.04994 | -0.00250 | 0.00103 |\n",
       "| NW t-stat | -1.62475 | -4.95998 | 2.22596 |\n",
       "\n"
      ],
      "text/plain": [
       "                     Intercept size     volatility\n",
       "coefficient estimate -0.04994  -0.00250 0.00103   \n",
       "NW t-stat            -1.62475  -4.95998 2.22596   "
      ]
     },
     "metadata": {},
     "output_type": "display_data"
    }
   ],
   "source": [
    "data_explanatory = list(monthly_sizes, monthly_volatilities)\n",
    "names(data_explanatory) = c(\"size\", \"volatility\")\n",
    "fm_size_vol = perform_fama_macbeth_regression(monthly_returns, data_explanatory)\n",
    "print_custom(fm_size_vol)"
   ]
  },
  {
   "cell_type": "markdown",
   "id": "01e9175f-1d0c-4192-8e67-02b55d0a8bd5",
   "metadata": {},
   "source": [
    "### (v) Skewness-volatility"
   ]
  },
  {
   "cell_type": "code",
   "execution_count": 34,
   "id": "954b11eb-0ba7-4dc2-b6e6-57970d1e1757",
   "metadata": {},
   "outputs": [
    {
     "data": {
      "text/html": [
       "<table class=\"dataframe\">\n",
       "<caption>A data.frame: 2 × 3</caption>\n",
       "<thead>\n",
       "\t<tr><th></th><th scope=col>Intercept</th><th scope=col>volatility</th><th scope=col>skew</th></tr>\n",
       "\t<tr><th></th><th scope=col>&lt;dbl&gt;</th><th scope=col>&lt;dbl&gt;</th><th scope=col>&lt;dbl&gt;</th></tr>\n",
       "</thead>\n",
       "<tbody>\n",
       "\t<tr><th scope=row>coefficient estimate</th><td>-0.06570</td><td>0.00123</td><td>0.00014</td></tr>\n",
       "\t<tr><th scope=row>NW t-stat</th><td>-1.73486</td><td>2.66232</td><td>0.22854</td></tr>\n",
       "</tbody>\n",
       "</table>\n"
      ],
      "text/latex": [
       "A data.frame: 2 × 3\n",
       "\\begin{tabular}{r|lll}\n",
       "  & Intercept & volatility & skew\\\\\n",
       "  & <dbl> & <dbl> & <dbl>\\\\\n",
       "\\hline\n",
       "\tcoefficient estimate & -0.06570 & 0.00123 & 0.00014\\\\\n",
       "\tNW t-stat & -1.73486 & 2.66232 & 0.22854\\\\\n",
       "\\end{tabular}\n"
      ],
      "text/markdown": [
       "\n",
       "A data.frame: 2 × 3\n",
       "\n",
       "| <!--/--> | Intercept &lt;dbl&gt; | volatility &lt;dbl&gt; | skew &lt;dbl&gt; |\n",
       "|---|---|---|---|\n",
       "| coefficient estimate | -0.06570 | 0.00123 | 0.00014 |\n",
       "| NW t-stat | -1.73486 | 2.66232 | 0.22854 |\n",
       "\n"
      ],
      "text/plain": [
       "                     Intercept volatility skew   \n",
       "coefficient estimate -0.06570  0.00123    0.00014\n",
       "NW t-stat            -1.73486  2.66232    0.22854"
      ]
     },
     "metadata": {},
     "output_type": "display_data"
    }
   ],
   "source": [
    "data_explanatory = list(monthly_volatilities, monthly_skewness)\n",
    "names(data_explanatory) = c(\"volatility\", \"skew\")\n",
    "fm_vol_skew = perform_fama_macbeth_regression(monthly_returns, data_explanatory)\n",
    "print_custom(fm_vol_skew)"
   ]
  },
  {
   "cell_type": "markdown",
   "id": "df27a2c1-a7f4-49a4-9ba8-66c39623f098",
   "metadata": {},
   "source": [
    "### (vi) all three variables "
   ]
  },
  {
   "cell_type": "code",
   "execution_count": 35,
   "id": "e33d64f1-bd55-4e98-827e-dddb5563b522",
   "metadata": {},
   "outputs": [
    {
     "data": {
      "text/html": [
       "<table class=\"dataframe\">\n",
       "<caption>A data.frame: 2 × 4</caption>\n",
       "<thead>\n",
       "\t<tr><th></th><th scope=col>Intercept</th><th scope=col>size</th><th scope=col>volatility</th><th scope=col>skew</th></tr>\n",
       "\t<tr><th></th><th scope=col>&lt;dbl&gt;</th><th scope=col>&lt;dbl&gt;</th><th scope=col>&lt;dbl&gt;</th><th scope=col>&lt;dbl&gt;</th></tr>\n",
       "</thead>\n",
       "<tbody>\n",
       "\t<tr><th scope=row>coefficient estimate</th><td>-0.05017</td><td>-0.00247</td><td>0.00104</td><td>0.00001</td></tr>\n",
       "\t<tr><th scope=row>NW t-stat</th><td>-1.63266</td><td>-4.85405</td><td>2.24806</td><td>0.01609</td></tr>\n",
       "</tbody>\n",
       "</table>\n"
      ],
      "text/latex": [
       "A data.frame: 2 × 4\n",
       "\\begin{tabular}{r|llll}\n",
       "  & Intercept & size & volatility & skew\\\\\n",
       "  & <dbl> & <dbl> & <dbl> & <dbl>\\\\\n",
       "\\hline\n",
       "\tcoefficient estimate & -0.05017 & -0.00247 & 0.00104 & 0.00001\\\\\n",
       "\tNW t-stat & -1.63266 & -4.85405 & 2.24806 & 0.01609\\\\\n",
       "\\end{tabular}\n"
      ],
      "text/markdown": [
       "\n",
       "A data.frame: 2 × 4\n",
       "\n",
       "| <!--/--> | Intercept &lt;dbl&gt; | size &lt;dbl&gt; | volatility &lt;dbl&gt; | skew &lt;dbl&gt; |\n",
       "|---|---|---|---|---|\n",
       "| coefficient estimate | -0.05017 | -0.00247 | 0.00104 | 0.00001 |\n",
       "| NW t-stat | -1.63266 | -4.85405 | 2.24806 | 0.01609 |\n",
       "\n"
      ],
      "text/plain": [
       "                     Intercept size     volatility skew   \n",
       "coefficient estimate -0.05017  -0.00247 0.00104    0.00001\n",
       "NW t-stat            -1.63266  -4.85405 2.24806    0.01609"
      ]
     },
     "metadata": {},
     "output_type": "display_data"
    }
   ],
   "source": [
    "data_explanatory = list(monthly_sizes, monthly_volatilities, monthly_skewness)\n",
    "names(data_explanatory) = c(\"size\", \"volatility\", \"skew\")\n",
    "fm_size_vol_skew = perform_fama_macbeth_regression(monthly_returns, data_explanatory)\n",
    "print_custom(fm_size_vol_skew)"
   ]
  },
  {
   "cell_type": "markdown",
   "id": "e5ecde64-5179-4249-b4d2-985c610f406e",
   "metadata": {},
   "source": [
    "# 4. Conclusion"
   ]
  },
  {
   "cell_type": "markdown",
   "id": "58683c09-1b8c-4980-ad73-7d1e0b1fb4be",
   "metadata": {},
   "source": [
    "We examine the cross-sectional relation between future stock returns and sort variables: size, skewness, and volatility, with a focus on the latter two. We use the bivariate independent sort analysis, creating 3x3 portfolios as well as estimating a Fama-MacBeth regression with the variables of interest.\n",
    "\n",
    "Our findings confirmed a statistically significant, though economically modest, positive correlation between volatility and future returns. Both the CAPM and Fama-French alphas remained significant in the long-short volatility portfolios in the bivariate sort, suggesting that the factors in those models cannot explain the relationship. Moreover, the bivariate sort revealed that the positive effect of volatility is not present in the largest stocks, as the difference portfolio did not show significant results within the last size portfolio. \n",
    "\n",
    "Contrary to volatility, skewness did not show a statistically significant relationship. Consequently, we confirm that the relationship is not as strong as that of the other variables. We have seen in class that the significant relationship might only appear after controlling for many other factors that we haven't used in the Fama-MacBeth regression. This is thus something that could be explored in the future."
   ]
  }
 ],
 "metadata": {
  "kernelspec": {
   "display_name": "R 4.3.2 glpk",
   "language": "R",
   "name": "r_4_3_2_glpk"
  },
  "language_info": {
   "codemirror_mode": "r",
   "file_extension": ".r",
   "mimetype": "text/x-r-source",
   "name": "R",
   "pygments_lexer": "r",
   "version": "4.3.2"
  }
 },
 "nbformat": 4,
 "nbformat_minor": 5
}
